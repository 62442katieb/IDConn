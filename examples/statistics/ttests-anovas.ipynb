{
 "cells": [
  {
   "cell_type": "code",
   "execution_count": 65,
   "metadata": {},
   "outputs": [],
   "source": [
    "import numpy as np\n",
    "import pandas as pd\n",
    "import statsmodels.api as sm\n",
    "import pingouin as pg\n",
    "from os.path import join\n",
    "import seaborn as sns\n",
    "from scipy.stats import ttest_ind, spearmanr, pearsonr, ttest_rel,  wilcoxon, mannwhitneyu, ttest_ind_from_stats, iqr"
   ]
  },
  {
   "cell_type": "code",
   "execution_count": 66,
   "metadata": {},
   "outputs": [],
   "source": [
    "def liji_sidak_mc(data, alpha):\n",
    "    import math\n",
    "    import numpy as np\n",
    "\n",
    "    mc_corrmat = data.corr()\n",
    "    mc_corrmat.fillna(0, inplace=True)\n",
    "    eigvals, eigvecs = np.linalg.eig(mc_corrmat)\n",
    "\n",
    "    M_eff = 0\n",
    "    for eigval in eigvals:\n",
    "        if abs(eigval) >= 0:\n",
    "            if abs(eigval) >= 1:\n",
    "                M_eff += 1\n",
    "            else:\n",
    "                M_eff += abs(eigval) - math.floor(abs(eigval))\n",
    "        else:\n",
    "            M_eff += 0\n",
    "    print('Number of effective comparisons: {0}'.format(M_eff))\n",
    "\n",
    "    #and now applying M_eff to the Sidak procedure\n",
    "    sidak_p = 1 - (1 - alpha)**(1/M_eff)\n",
    "    if sidak_p < 0.00001:\n",
    "        print('Critical value of {:.3f}'.format(alpha),'becomes {:2e} after corrections'.format(sidak_p))\n",
    "    else:\n",
    "        print('Critical value of {:.3f}'.format(alpha),'becomes {:.6f} after corrections'.format(sidak_p))\n",
    "    return sidak_p, M_eff"
   ]
  },
  {
   "cell_type": "code",
   "execution_count": 67,
   "metadata": {},
   "outputs": [],
   "source": [
    "subjects = ['101', '102', '103', '104', '106', '107', '108', '110', '212', '213',\n",
    "            '214', '215', '216', '217', '218', '219', '320', '321', '322', '323',\n",
    "            '324', '325', '327', '328', '329', '330', '331', '332', '333', '334',\n",
    "            '335', '336', '337', '338', '339', '340', '341', '342', '343', '344',\n",
    "            '345', '346', '347', '348', '349', '350', '451', '452', '453', '455',\n",
    "            '456', '457', '458', '459', '460', '462', '463', '464', '465', '467',\n",
    "            '468', '469', '470', '502', '503', '571', '572', '573', '574', '575',\n",
    "            '577', '578', '579', '580', '581', '582', '584', '585', '586', '587',\n",
    "            '588', '589', '590', '591', '592', '593', '594', '595', '596', '597',\n",
    "            '598', '604', '605', '606', '607', '608', '609', '610', '611', '612',\n",
    "            '613', '614', '615', '616', '617', '618', '619', '620', '621', '622',\n",
    "            '623', '624', '625', '626', '627', '628', '629', '630', '631', '633',\n",
    "            '634']\n",
    "#subjects = ['101', '102']\n",
    "\n",
    "sink_dir = '/Users/kbottenh/Dropbox/Projects/physics-retrieval/data/output'\n",
    "data_dir = '/Users/kbottenh/Dropbox/Projects/physics-retrieval/data'\n",
    "fig_dir = '/Users/kbottenh/Dropbox/Projects/physics-retrieval/figures/'\n",
    "\n",
    "masks = ['shen2015', 'craddock2012']\n",
    "\n",
    "tasks = {'retr': [{'conditions': ['Physics', 'General']},\n",
    "                  {'runs': [0,1]}], \n",
    "         'fci': [{'conditions': ['Physics', 'NonPhysics']},\n",
    "                  {'runs': [0,1,2]}]}\n",
    "\n",
    "sessions = [0,1]\n",
    "sesh = ['pre', 'post']\n",
    "conds = ['high-level', 'lower-level']\n",
    "\n",
    "pre_iq = ['VCI1', 'PRI1', 'WMI1', 'PSI1', 'FSIQ1']\n",
    "post_iq = ['VCI2', 'PRI2', 'WMI2', 'PSI2', 'FSIQ2']\n",
    "iq_vars = pre_iq + post_iq\n",
    "iqs = ['VCI', 'PRI', 'WMI', 'PSI', 'FSIQ']"
   ]
  },
  {
   "cell_type": "code",
   "execution_count": 68,
   "metadata": {},
   "outputs": [],
   "source": [
    "#load in all-data df\n",
    "all_df = pd.read_csv(join(data_dir, 'rescored', 'physics_learning-nonbrain.csv'), index_col=0)\n",
    "all_df['Subject'] = all_df.index"
   ]
  },
  {
   "cell_type": "markdown",
   "metadata": {},
   "source": [
    "## Are the WAIS score changes in this sample different from previously reported retest changes?\n",
    "\n",
    "Here, we compare with 3-month retest changes in the WAIS-IV, as reported by Estevis et al. 20??"
   ]
  },
  {
   "cell_type": "code",
   "execution_count": 69,
   "metadata": {},
   "outputs": [
    {
     "name": "stdout",
     "output_type": "stream",
     "text": [
      "Number of effective comparisons: 5.602006828731573\n",
      "Critical value of 0.050 becomes 0.009114 after corrections\n"
     ]
    }
   ],
   "source": [
    "mc_alpha,_ = liji_sidak_mc(all_df[['PRI1', 'WMI1',\n",
    "                                   'PSI1', 'FSIQ1',\n",
    "                                   'VCI2', 'PRI2',\n",
    "                                   'WMI2', 'PSI2', 'FSIQ2']], \n",
    "                           0.05)"
   ]
  },
  {
   "cell_type": "code",
   "execution_count": 70,
   "metadata": {},
   "outputs": [],
   "source": [
    "deltas = {}\n",
    "for iq in iqs:\n",
    "    deltas['{0}mean'.format(iq)] = np.mean(all_df['delta{0}'.format(iq)])\n",
    "    deltas['{0}sdev'.format(iq)] = np.std(all_df['delta{0}'.format(iq)])"
   ]
  },
  {
   "cell_type": "code",
   "execution_count": 71,
   "metadata": {},
   "outputs": [],
   "source": [
    "#3-month changes in WAIS-III\n",
    "#basso_deltas = {}\n",
    "#basso_deltas['VCImean'] = 115.8 - 111.5\n",
    "#basso_deltas['VCIsdev'] = np.sqrt(11.9**2 + 12.3**2 - 2*11.9*12.3*.85)\n",
    "\n",
    "#basso_deltas['PSImean'] = 116.4 - 109.3\n",
    "#basso_deltas['PSIsdev'] = np.sqrt(13.0**2 + 14.5**2 - 2*13.0*14.5*.80)\n",
    "\n",
    "#basso_deltas['WMImean'] = 108.6 - 106.9\n",
    "#basso_deltas['WMIsdev'] = np.sqrt(12.4**2 + 13.1**2 - 2*12.4*13.1*.84)\n",
    "\n",
    "#basso_deltas['PRImean'] = 114.4 - 106.1\n",
    "#basso_deltas['PRIsdev'] = np.sqrt(14.1**2 + 14.1**2 - 2*14.1*14.1*.86)\n",
    "\n",
    "#basso_deltas['FSIQmean'] = 115.04 - 109.4\n",
    "#basso_deltas['FSIQsdev'] = np.sqrt(11.6**2 + 12.1**2 - 2*11.6*12.1*.90)"
   ]
  },
  {
   "cell_type": "code",
   "execution_count": 72,
   "metadata": {},
   "outputs": [],
   "source": [
    "#3-month changes in WAIS-IV\n",
    "estevis_deltas = {}\n",
    "estevis_deltas['VCImean'] = 118.4 - 114.2\n",
    "estevis_deltas['VCIsdev'] = np.sqrt(12.8**2 + 14.4**2 - 2*12.8*14.4*.85)\n",
    "\n",
    "estevis_deltas['PSImean'] = 123.4 - 112.9\n",
    "estevis_deltas['PSIsdev'] = np.sqrt(10.7**2 + 13.6**2 - 2*10.7*13.6*.72)\n",
    "\n",
    "estevis_deltas['WMImean'] = 108.9 - 105.7\n",
    "estevis_deltas['WMIsdev'] = np.sqrt(11.4**2 + 12.2**2 - 2*11.4*12.2*.92)\n",
    "\n",
    "estevis_deltas['PRImean'] = 111. - 107.4\n",
    "estevis_deltas['PRIsdev'] = np.sqrt(10.**2 + 9.1**2 - 2*9.1*10.*.83)\n",
    "\n",
    "estevis_deltas['FSIQmean'] = 119.1 - 112.4\n",
    "estevis_deltas['FSIQsdev'] = np.sqrt(11.5**2 + 8.4**2 - 2*11.5*8.4*.91)"
   ]
  },
  {
   "cell_type": "code",
   "execution_count": 73,
   "metadata": {},
   "outputs": [
    {
     "data": {
      "text/plain": [
       "{'VCImean': 4.200000000000003,\n",
       " 'VCIsdev': 7.606313167363016,\n",
       " 'PSImean': 10.5,\n",
       " 'PSIsdev': 9.481624333414606,\n",
       " 'WMImean': 3.200000000000003,\n",
       " 'WMIsdev': 4.784642097377814,\n",
       " 'PRImean': 3.5999999999999943,\n",
       " 'PRIsdev': 5.634713834792322,\n",
       " 'FSIQmean': 6.699999999999989,\n",
       " 'FSIQsdev': 5.195959969052878}"
      ]
     },
     "execution_count": 73,
     "metadata": {},
     "output_type": "execute_result"
    }
   ],
   "source": [
    "estevis_deltas"
   ]
  },
  {
   "cell_type": "code",
   "execution_count": 9,
   "metadata": {},
   "outputs": [
    {
     "name": "stdout",
     "output_type": "stream",
     "text": [
      "VCI significantly different from Estevis, p = 0.1526131266748517\n",
      "PRI significantly different from Estevis, p = 0.06569310755210452\n",
      "WMI significantly different from Estevis, p = 0.29353320709443576\n",
      "PSI significantly different from Estevis, p = 0.48449121827512365\n",
      "FSIQ significantly different from Estevis, p = 0.9992618463311265\n"
     ]
    }
   ],
   "source": [
    "#are WAIS score changes in our sample different from previous research?\n",
    "diff_from_basso = {}\n",
    "diff_from_estevis = {}\n",
    "for iq in iqs:\n",
    "    #diff_from_basso[iq] = ttest_ind_from_stats(deltas['{0}mean'.format(iq)], \n",
    "    #                                           deltas['{0}sdev'.format(iq)], len(subjects),\n",
    "    #                                           basso_deltas['{0}mean'.format(iq)], \n",
    "    #                                           basso_deltas['{0}sdev'.format(iq)], 51,\n",
    "    #                                           equal_var=False)\n",
    "    diff_from_estevis[iq] = ttest_ind_from_stats(deltas['{0}mean'.format(iq)], \n",
    "                                               deltas['{0}sdev'.format(iq)], len(subjects),\n",
    "                                               estevis_deltas['{0}mean'.format(iq)], \n",
    "                                               estevis_deltas['{0}sdev'.format(iq)], 51,\n",
    "                                               equal_var=False)\n",
    "    if diff_from_estevis[iq][1] < mc_alpha:\n",
    "        print(iq, 'significantly different from Estevis, p =', diff_from_estevis[iq][1])\n",
    "    else:\n",
    "        print(iq, 'not significantly different from Estevis')"
   ]
  },
  {
   "cell_type": "code",
   "execution_count": 11,
   "metadata": {},
   "outputs": [
    {
     "data": {
      "text/plain": [
       "{'VCI': Ttest_indResult(statistic=-1.4398010846130203, pvalue=0.1526131266748517),\n",
       " 'PRI': Ttest_indResult(statistic=1.8535152635573084, pvalue=0.06569310755210452),\n",
       " 'WMI': Ttest_indResult(statistic=-1.053762462613446, pvalue=0.29353320709443576),\n",
       " 'PSI': Ttest_indResult(statistic=0.7007123926118671, pvalue=0.48449121827512365),\n",
       " 'FSIQ': Ttest_indResult(statistic=0.0009268368479731841, pvalue=0.9992618463311265)}"
      ]
     },
     "execution_count": 11,
     "metadata": {},
     "output_type": "execute_result"
    }
   ],
   "source": [
    "diff_from_estevis"
   ]
  },
  {
   "cell_type": "markdown",
   "metadata": {},
   "source": [
    "## Are there significant changes in WAIS score from pre- to post-instruction?\n",
    "Across the whole sample? Within classes? Within each sex?"
   ]
  },
  {
   "cell_type": "code",
   "execution_count": 16,
   "metadata": {},
   "outputs": [
    {
     "name": "stdout",
     "output_type": "stream",
     "text": [
      "Number of effective comparisons: 3.6840250415842424\n",
      "Critical value of 0.050 becomes 0.013827 after corrections\n"
     ]
    }
   ],
   "source": [
    "mc_alpha,_ = liji_sidak_mc(all_df[['deltaVCI', 'deltaPRI',\n",
    "                                   'deltaWMI', 'deltaPSI', 'deltaFSIQ']], \n",
    "                           0.05)"
   ]
  },
  {
   "cell_type": "code",
   "execution_count": 17,
   "metadata": {},
   "outputs": [],
   "source": [
    "coursetype = ['All', 'Modeling', 'Lecture']\n",
    "\n",
    "delta_tests = pd.DataFrame(index=pd.MultiIndex.from_product((iqs, coursetype)), \n",
    "                           columns=['delta', 'sdev(delta)', 't(delta)', 'p(t)', 'w+', 'p(w+)'])\n",
    "for i in iqs:\n",
    "    delta_iq = ttest_rel(all_df['{0}2'.format(i)], all_df['{0}1'.format(i)], nan_policy='omit')\n",
    "    delta_tests.at[(i, 'All'), 'delta'] = np.average(all_df['{0}2'.format(i)].dropna())-np.average(all_df['{0}1'.format(i)].dropna())\n",
    "    delta_tests.at[(i, 'All'), 't(delta)'] = delta_iq.statistic\n",
    "    delta_tests.at[(i, 'All'), 'p(t)'] = delta_iq.pvalue\n",
    "\n",
    "    delta_tests.at[(i, 'All'), 'sdev(delta)'] = np.std(all_df['delta{0}'.format(i)])\n",
    "    delta_tests.at[(i, 'Modeling'), 'sdev(delta)'] = np.std(all_df[all_df['Class.Type'] == 'Mod']['delta{0}'.format(i)])\n",
    "    delta_tests.at[(i, 'Lecture'), 'sdev(delta)'] = np.std(all_df[all_df['Class.Type'] == 'Lec']['delta{0}'.format(i)])\n",
    "\n",
    "    \n",
    "    delta_iq = wilcoxon(all_df['{0}2'.format(i)], all_df['{0}1'.format(i)])\n",
    "    delta_tests.at[(i, 'All'), 'w+'] = delta_iq.statistic\n",
    "    delta_tests.at[(i, 'All'), 'p(w+)'] = delta_iq.pvalue\n",
    "    \n",
    "        \n",
    "delta_tests.to_csv(join(sink_dir, 'ttests', 'change-in-iq.csv'))"
   ]
  },
  {
   "cell_type": "code",
   "execution_count": 18,
   "metadata": {},
   "outputs": [
    {
     "data": {
      "text/html": [
       "<div>\n",
       "<style scoped>\n",
       "    .dataframe tbody tr th:only-of-type {\n",
       "        vertical-align: middle;\n",
       "    }\n",
       "\n",
       "    .dataframe tbody tr th {\n",
       "        vertical-align: top;\n",
       "    }\n",
       "\n",
       "    .dataframe thead th {\n",
       "        text-align: right;\n",
       "    }\n",
       "</style>\n",
       "<table border=\"1\" class=\"dataframe\">\n",
       "  <thead>\n",
       "    <tr style=\"text-align: right;\">\n",
       "      <th></th>\n",
       "      <th></th>\n",
       "      <th>delta</th>\n",
       "      <th>sdev(delta)</th>\n",
       "      <th>t(delta)</th>\n",
       "      <th>p(t)</th>\n",
       "      <th>w+</th>\n",
       "      <th>p(w+)</th>\n",
       "    </tr>\n",
       "  </thead>\n",
       "  <tbody>\n",
       "    <tr>\n",
       "      <th rowspan=\"3\" valign=\"top\">VCI</th>\n",
       "      <th>All</th>\n",
       "      <td>2.90331</td>\n",
       "      <td>9.48075</td>\n",
       "      <td>2.4527</td>\n",
       "      <td>0.015765</td>\n",
       "      <td>1564.5</td>\n",
       "      <td>1.71351e-07</td>\n",
       "    </tr>\n",
       "    <tr>\n",
       "      <th>Modeling</th>\n",
       "      <td>2.90267</td>\n",
       "      <td>8.12726</td>\n",
       "      <td>2.43923</td>\n",
       "      <td>0.0179128</td>\n",
       "      <td>411</td>\n",
       "      <td>0.000205396</td>\n",
       "    </tr>\n",
       "    <tr>\n",
       "      <th>Lecture</th>\n",
       "      <td>3.04087</td>\n",
       "      <td>10.737</td>\n",
       "      <td>1.04885</td>\n",
       "      <td>0.299192</td>\n",
       "      <td>370.5</td>\n",
       "      <td>0.000289663</td>\n",
       "    </tr>\n",
       "    <tr>\n",
       "      <th rowspan=\"3\" valign=\"top\">PRI</th>\n",
       "      <th>All</th>\n",
       "      <td>6.90004</td>\n",
       "      <td>10.0171</td>\n",
       "      <td>6.02374</td>\n",
       "      <td>2.44702e-08</td>\n",
       "      <td>978.5</td>\n",
       "      <td>8.16995e-13</td>\n",
       "    </tr>\n",
       "    <tr>\n",
       "      <th>Modeling</th>\n",
       "      <td>6.92736</td>\n",
       "      <td>9.33906</td>\n",
       "      <td>4.90644</td>\n",
       "      <td>8.63444e-06</td>\n",
       "      <td>249</td>\n",
       "      <td>3.29841e-07</td>\n",
       "    </tr>\n",
       "    <tr>\n",
       "      <th>Lecture</th>\n",
       "      <td>6.66117</td>\n",
       "      <td>10.7234</td>\n",
       "      <td>3.49096</td>\n",
       "      <td>0.0010153</td>\n",
       "      <td>245</td>\n",
       "      <td>8.0447e-07</td>\n",
       "    </tr>\n",
       "    <tr>\n",
       "      <th rowspan=\"3\" valign=\"top\">WMI</th>\n",
       "      <th>All</th>\n",
       "      <td>1.84063</td>\n",
       "      <td>9.53062</td>\n",
       "      <td>2.23084</td>\n",
       "      <td>0.0277583</td>\n",
       "      <td>1718.5</td>\n",
       "      <td>2.39679e-06</td>\n",
       "    </tr>\n",
       "    <tr>\n",
       "      <th>Modeling</th>\n",
       "      <td>1.35984</td>\n",
       "      <td>9.55272</td>\n",
       "      <td>1.34685</td>\n",
       "      <td>0.183455</td>\n",
       "      <td>415.5</td>\n",
       "      <td>0.00482869</td>\n",
       "    </tr>\n",
       "    <tr>\n",
       "      <th>Lecture</th>\n",
       "      <td>2.27045</td>\n",
       "      <td>9.55335</td>\n",
       "      <td>1.69803</td>\n",
       "      <td>0.0957184</td>\n",
       "      <td>460.5</td>\n",
       "      <td>0.000294521</td>\n",
       "    </tr>\n",
       "    <tr>\n",
       "      <th rowspan=\"3\" valign=\"top\">PSI</th>\n",
       "      <th>All</th>\n",
       "      <td>12.2099</td>\n",
       "      <td>17.9223</td>\n",
       "      <td>6.9745</td>\n",
       "      <td>2.48637e-10</td>\n",
       "      <td>783</td>\n",
       "      <td>8.84455e-14</td>\n",
       "    </tr>\n",
       "    <tr>\n",
       "      <th>Modeling</th>\n",
       "      <td>16.4644</td>\n",
       "      <td>17.9716</td>\n",
       "      <td>6.69158</td>\n",
       "      <td>1.11753e-08</td>\n",
       "      <td>112</td>\n",
       "      <td>2.12813e-09</td>\n",
       "    </tr>\n",
       "    <tr>\n",
       "      <th>Lecture</th>\n",
       "      <td>7.34736</td>\n",
       "      <td>16.7916</td>\n",
       "      <td>3.08341</td>\n",
       "      <td>0.0032992</td>\n",
       "      <td>278</td>\n",
       "      <td>7.73906e-06</td>\n",
       "    </tr>\n",
       "    <tr>\n",
       "      <th rowspan=\"3\" valign=\"top\">FSIQ</th>\n",
       "      <th>All</th>\n",
       "      <td>7.43904</td>\n",
       "      <td>7.67958</td>\n",
       "      <td>8.98361</td>\n",
       "      <td>1.08438e-14</td>\n",
       "      <td>584</td>\n",
       "      <td>5.48415e-17</td>\n",
       "    </tr>\n",
       "    <tr>\n",
       "      <th>Modeling</th>\n",
       "      <td>8.62408</td>\n",
       "      <td>6.49841</td>\n",
       "      <td>9.06873</td>\n",
       "      <td>1.64102e-12</td>\n",
       "      <td>36</td>\n",
       "      <td>4.19401e-11</td>\n",
       "    </tr>\n",
       "    <tr>\n",
       "      <th>Lecture</th>\n",
       "      <td>6.0031</td>\n",
       "      <td>8.41893</td>\n",
       "      <td>4.19056</td>\n",
       "      <td>0.000115793</td>\n",
       "      <td>259</td>\n",
       "      <td>1.74388e-07</td>\n",
       "    </tr>\n",
       "  </tbody>\n",
       "</table>\n",
       "</div>"
      ],
      "text/plain": [
       "                 delta sdev(delta) t(delta)         p(t)      w+        p(w+)\n",
       "VCI  All       2.90331     9.48075   2.4527     0.015765  1564.5  1.71351e-07\n",
       "     Modeling  2.90267     8.12726  2.43923    0.0179128     411  0.000205396\n",
       "     Lecture   3.04087      10.737  1.04885     0.299192   370.5  0.000289663\n",
       "PRI  All       6.90004     10.0171  6.02374  2.44702e-08   978.5  8.16995e-13\n",
       "     Modeling  6.92736     9.33906  4.90644  8.63444e-06     249  3.29841e-07\n",
       "     Lecture   6.66117     10.7234  3.49096    0.0010153     245   8.0447e-07\n",
       "WMI  All       1.84063     9.53062  2.23084    0.0277583  1718.5  2.39679e-06\n",
       "     Modeling  1.35984     9.55272  1.34685     0.183455   415.5   0.00482869\n",
       "     Lecture   2.27045     9.55335  1.69803    0.0957184   460.5  0.000294521\n",
       "PSI  All       12.2099     17.9223   6.9745  2.48637e-10     783  8.84455e-14\n",
       "     Modeling  16.4644     17.9716  6.69158  1.11753e-08     112  2.12813e-09\n",
       "     Lecture   7.34736     16.7916  3.08341    0.0032992     278  7.73906e-06\n",
       "FSIQ All       7.43904     7.67958  8.98361  1.08438e-14     584  5.48415e-17\n",
       "     Modeling  8.62408     6.49841  9.06873  1.64102e-12      36  4.19401e-11\n",
       "     Lecture    6.0031     8.41893  4.19056  0.000115793     259  1.74388e-07"
      ]
     },
     "execution_count": 18,
     "metadata": {},
     "output_type": "execute_result"
    }
   ],
   "source": [
    "delta_tests"
   ]
  },
  {
   "cell_type": "markdown",
   "metadata": {},
   "source": [
    "## Are those changes different based on class or sex? \n",
    "### It's ANOVA time!\n",
    "Repeated measures ANOVAs for class & sex will be done in R, as there are currently no Python packages that will do a 3-way repeated-measures ANOVA. Setting up data in long form below."
   ]
  },
  {
   "cell_type": "code",
   "execution_count": 61,
   "metadata": {},
   "outputs": [],
   "source": [
    "iq = iqs[0]\n",
    "\n",
    "iq_long = all_df.dropna(how='any').melt(id_vars=['Sex', 'Class.Type', 'Subject'],\n",
    "                      value_vars=iq_vars,\n",
    "                      value_name='IQ', var_name='Measure')\n",
    "for subject in iq_long.index:\n",
    "    iq_long.loc[subject, 'Time'] = iq_long.at[subject, 'Measure'][-1]\n",
    "    iq_long.at[subject, 'Measure'] = iq_long.loc[subject, 'Measure'][:-1]"
   ]
  },
  {
   "cell_type": "code",
   "execution_count": 64,
   "metadata": {},
   "outputs": [],
   "source": [
    "iq_long.to_csv(join(data_dir, 'rescored/all_iq_sex_class-long.csv'))"
   ]
  }
 ],
 "metadata": {
  "kernelspec": {
   "display_name": "Python 3",
   "language": "python",
   "name": "python3"
  },
  "language_info": {
   "codemirror_mode": {
    "name": "ipython",
    "version": 3
   },
   "file_extension": ".py",
   "mimetype": "text/x-python",
   "name": "python",
   "nbconvert_exporter": "python",
   "pygments_lexer": "ipython3",
   "version": "3.7.8"
  }
 },
 "nbformat": 4,
 "nbformat_minor": 4
}
