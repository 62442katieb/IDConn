{
 "cells": [
  {
   "cell_type": "code",
   "execution_count": 1,
   "metadata": {
    "ExecuteTime": {
     "end_time": "2020-02-27T03:52:26.334147Z",
     "start_time": "2020-02-27T03:52:11.814852Z"
    }
   },
   "outputs": [],
   "source": [
    "import numpy as np\n",
    "import pandas as pd\n",
    "import seaborn as sns\n",
    "from os import makedirs\n",
    "from os.path import join, exists\n",
    "from nilearn.plotting import plot_connectome, plot_roi, find_parcellation_cut_coords\n",
    "import bct\n",
    "import datetime\n",
    "from nilearn.mass_univariate import permuted_ols\n",
    "from scipy.stats import pearsonr, spearmanr\n",
    "from sklearn.impute import KNNImputer\n",
    "\n",
    "sns.set(context='poster', style='ticks')"
   ]
  },
  {
   "cell_type": "code",
   "execution_count": 2,
   "metadata": {
    "ExecuteTime": {
     "end_time": "2020-02-27T03:52:26.352336Z",
     "start_time": "2020-02-27T03:52:26.339369Z"
    }
   },
   "outputs": [],
   "source": [
    "crayons_l = sns.crayon_palette(['Vivid Tangerine', 'Cornflower'])\n",
    "crayons_d = sns.crayon_palette(['Brick Red', 'Midnight Blue'])\n",
    "grays = sns.light_palette('#999999', n_colors=3, reverse=True)\n",
    "\n",
    "f_2 = sns.crayon_palette(['Red Orange', 'Vivid Tangerine'])\n",
    "m_2 = sns.crayon_palette(['Cornflower', 'Cerulean'])"
   ]
  },
  {
   "cell_type": "code",
   "execution_count": 3,
   "metadata": {
    "ExecuteTime": {
     "end_time": "2020-02-27T03:52:26.404212Z",
     "start_time": "2020-02-27T03:52:26.356911Z"
    }
   },
   "outputs": [],
   "source": [
    "def jili_sidak_mc(data, alpha):\n",
    "    import math\n",
    "    import numpy as np\n",
    "\n",
    "    mc_corrmat = data.corr()\n",
    "    mc_corrmat.fillna(0, inplace=True)\n",
    "    eigvals, eigvecs = np.linalg.eig(mc_corrmat)\n",
    "\n",
    "    M_eff = 0\n",
    "    for eigval in eigvals:\n",
    "        if abs(eigval) >= 0:\n",
    "            if abs(eigval) >= 1:\n",
    "                M_eff += 1\n",
    "            else:\n",
    "                M_eff += abs(eigval) - math.floor(abs(eigval))\n",
    "        else:\n",
    "            M_eff += 0\n",
    "    print('Number of effective comparisons: {0}'.format(M_eff))\n",
    "\n",
    "    # and now applying M_eff to the Sidak procedure\n",
    "    sidak_p = 1 - (1 - alpha)**(1/M_eff)\n",
    "    if sidak_p < 0.00001:\n",
    "        print('Critical value of {:.3f}'.format(\n",
    "            alpha), 'becomes {:2e} after corrections'.format(sidak_p))\n",
    "    else:\n",
    "        print('Critical value of {:.3f}'.format(\n",
    "            alpha), 'becomes {:.6f} after corrections'.format(sidak_p))\n",
    "    return sidak_p, M_eff"
   ]
  },
  {
   "cell_type": "code",
   "execution_count": 4,
   "metadata": {
    "ExecuteTime": {
     "end_time": "2020-02-27T03:52:26.448286Z",
     "start_time": "2020-02-27T03:52:26.410170Z"
    }
   },
   "outputs": [],
   "source": [
    "subjects = ['101', '102', '103', '104', '106', '107', '108', '110', '212', '213',\n",
    "            '214', '215', '216', '217', '218', '219', '320', '321', '322', '323',\n",
    "            '324', '325', '327', '328', '329', '330', '331', '332', '333', '334',\n",
    "            '335', '336', '337', '338', '339', '340', '341', '342', '343', '344',\n",
    "            '345', '346', '347', '348', '349', '350', '451', '452', '453', '455',\n",
    "            '456', '457', '458', '459', '460', '462', '463', '464', '465', '467',\n",
    "            '468', '469', '470', '502', '503', '571', '572', '573', '574', '575',\n",
    "            '577', '578', '579', '580', '581', '582', '584', '585', '586', '587',\n",
    "            '588', '589', '590', '591', '592', '593', '594', '595', '596', '597',\n",
    "            '598', '604', '605', '606', '607', '608', '609', '610', '611', '612',\n",
    "            '613', '614', '615', '616', '617', '618', '619', '620', '621', '622',\n",
    "            '623', '624', '625', '626', '627', '628', '629', '630', '631', '633',\n",
    "            '634']\n",
    "#subjects = ['101', '102']\n",
    "\n",
    "sink_dir = '/Users/kbottenh/Dropbox/Projects/physics-retrieval/data/output'\n",
    "fig_dir = '/Users/kbottenh/Dropbox/Projects/physics-retrieval/figures/'\n",
    "\n",
    "shen = '/Users/kbottenh/Dropbox/Projects/physics-retrieval/shen2015_2mm_268_parcellation.nii.gz'\n",
    "craddock = '/Users/kbottenh/Dropbox/Projects/physics-retrieval/craddock2012_tcorr05_2level_270_2mm.nii.gz'\n",
    "masks = ['shen2015', 'craddock2012']\n",
    "\n",
    "tasks = {'retr': [{'conditions': ['Physics', 'General']},\n",
    "                  {'runs': [0, 1]}],\n",
    "         'fci': [{'conditions': ['Physics', 'NonPhysics']},\n",
    "                 {'runs': [0, 1, 2]}]}\n",
    "\n",
    "sessions = [0, 1]\n",
    "sesh = ['pre', 'post']\n",
    "conds = ['high-level', 'lower-level']\n",
    "iqs = ['VCI', 'WMI', 'PRI', 'PSI', 'FSIQ']\n",
    "\n",
    "index = pd.MultiIndex.from_product([subjects, sessions, tasks, conds, masks],\n",
    "                                   names=['subject', 'session', 'task', 'condition', 'mask'])"
   ]
  },
  {
   "cell_type": "code",
   "execution_count": 5,
   "metadata": {
    "ExecuteTime": {
     "end_time": "2020-02-27T03:52:26.564240Z",
     "start_time": "2020-02-27T03:52:26.452299Z"
    }
   },
   "outputs": [],
   "source": [
    "data_dir = '/Users/kbottenh/Dropbox/Projects/physics-retrieval/data'\n",
    "b_df = pd.read_csv(\n",
    "    join(data_dir, 'rescored', 'physics_learning-nonbrain_OLS-imputed.csv'), index_col=0, header=0)"
   ]
  },
  {
   "cell_type": "code",
   "execution_count": 6,
   "metadata": {},
   "outputs": [],
   "source": [
    "b_df['SexXClass'] = b_df['F'] * b_df['Mod']\n",
    "for iq in iqs:\n",
    "    b_df['{0}2XSex'.format(iq)] = b_df['F'] * b_df['{0}2'.format(iq)]\n",
    "    b_df['{0}2XClass'.format(iq)] = b_df['Mod'] * b_df['{0}2'.format(iq)]\n",
    "    b_df['{0}2XClassXSex'.format(iq)] = b_df['F'] * b_df['Mod'] * b_df['{0}2'.format(iq)]\n",
    "    b_df['delta{0}XSex'.format(iq)] = b_df['F'] * b_df['delta{0}'.format(iq)]\n",
    "    b_df['delta{0}XClass'.format(iq)] = b_df['Mod'] * b_df['delta{0}'.format(iq)]\n",
    "    b_df['delta{0}XClassXSex'.format(iq)] = b_df['F'] * b_df['Mod'] * b_df['delta{0}'.format(iq)]\n"
   ]
  },
  {
   "cell_type": "code",
   "execution_count": 7,
   "metadata": {
    "ExecuteTime": {
     "end_time": "2020-02-27T03:52:26.642853Z",
     "start_time": "2020-02-27T03:52:26.568055Z"
    }
   },
   "outputs": [],
   "source": [
    "head_size = pd.read_csv(join(\n",
    "    data_dir, 'head-size_2019-05-29 15:19:53.287525.csv'), index_col=0, header=0)\n",
    "head_size['normalized head size'] = (head_size['average_head_size']-np.mean(\n",
    "    head_size['average_head_size']))/np.std(head_size['average_head_size'])"
   ]
  },
  {
   "cell_type": "code",
   "execution_count": 8,
   "metadata": {
    "ExecuteTime": {
     "end_time": "2020-02-27T03:52:26.765163Z",
     "start_time": "2020-02-27T03:52:26.650695Z"
    }
   },
   "outputs": [],
   "source": [
    "fd = pd.read_csv(join(\n",
    "    data_dir, 'avg-fd-per-condition-per-run_2019-05-29.csv'), index_col=0, header=0)\n",
    "fd['normalized fd'] = (\n",
    "    fd['average fd']-np.mean(fd['average fd']))/np.std(fd['average fd'])\n",
    "retr_fd = fd[fd['task'] == 'retr']\n",
    "fci_fd = fd[fd['task'] == 'fci']\n",
    "\n",
    "df_pivot = retr_fd[retr_fd['condition'] == 'high-level'].reset_index()\n",
    "retr_phys_fd = df_pivot.pivot(\n",
    "    index='subject', columns='session', values='average fd')\n",
    "retr_phys_fd.rename(\n",
    "    {'pre': 'pre phys retr fd', 'post': 'post phys retr fd'}, axis=1, inplace=True)\n",
    "\n",
    "df_pivot = retr_fd[retr_fd['condition'] == 'lower-level'].reset_index()\n",
    "retr_genr_fd = df_pivot.pivot(\n",
    "    index='subject', columns='session', values='average fd')\n",
    "retr_genr_fd.rename(\n",
    "    {'pre': 'pre gen retr fd', 'post': 'post gen retr fd'}, axis=1, inplace=True)\n",
    "\n",
    "df_pivot = fci_fd[fci_fd['condition'] == 'high-level'].reset_index()\n",
    "fci_phys_fd = df_pivot.pivot(\n",
    "    index='subject', columns='session', values='average fd')\n",
    "fci_phys_fd.rename(\n",
    "    {'pre': 'pre phys fci fd', 'post': 'post phys fci fd'}, axis=1, inplace=True)\n",
    "\n",
    "df_pivot = fci_fd[fci_fd['condition'] == 'lower-level'].reset_index()\n",
    "fci_ctrl_fd = df_pivot.pivot(\n",
    "    index='subject', columns='session', values='average fd')\n",
    "fci_ctrl_fd.rename(\n",
    "    {'pre': 'pre ctrl fci fd', 'post': 'post ctrl fci fd'}, axis=1, inplace=True)"
   ]
  },
  {
   "cell_type": "markdown",
   "metadata": {
    "ExecuteTime": {
     "end_time": "2020-02-27T03:52:26.853485Z",
     "start_time": "2020-02-27T03:52:26.769538Z"
    }
   },
   "source": [
    "rest_fd = pd.read_csv(\n",
    "    join(data_dir, 'avg-fd-per-run-rest_2019-05-31.csv'), index_col=0, header=0)\n",
    "rest_fd['normalized fd'] = (\n",
    "    rest_fd['average fd']-np.mean(rest_fd['average fd']))/np.std(rest_fd['average fd'])\n",
    "\n",
    "df_pivot = rest_fd.reset_index()\n",
    "rest_fd = df_pivot.pivot(\n",
    "    index='subject', columns='session', values='normalized fd')\n",
    "rest_fd.rename({'pre': 'pre rest fd', 'post': 'post rest fd'},\n",
    "               axis=1, inplace=True)"
   ]
  },
  {
   "cell_type": "code",
   "execution_count": 9,
   "metadata": {
    "ExecuteTime": {
     "end_time": "2020-02-27T03:52:26.889114Z",
     "start_time": "2020-02-27T03:52:26.872175Z"
    }
   },
   "outputs": [],
   "source": [
    "big_df = pd.concat([b_df, retr_phys_fd, retr_genr_fd,\n",
    "                    fci_phys_fd, fci_ctrl_fd], axis=1)"
   ]
  },
  {
   "cell_type": "markdown",
   "metadata": {},
   "source": [
    "## First, we'll test connectivity during the physics knowledge task\n",
    "We'll run the permuted OLS regressions with few permutations for a first pass look at how brain connectivity explains variance in different subscores of the WAIS. Significant regressions at this step will be re-run later with more permutations, for more accurate <i>p</i>- and <i>t</i>-values. This is a more efficient use of computational resources than running all possible regressions with many permutations right off the bat."
   ]
  },
  {
   "cell_type": "code",
   "execution_count": 10,
   "metadata": {
    "ExecuteTime": {
     "end_time": "2020-02-27T03:54:28.305381Z",
     "start_time": "2020-02-27T03:52:26.894036Z"
    },
    "scrolled": true
   },
   "outputs": [
    {
     "name": "stdout",
     "output_type": "stream",
     "text": [
      "213 /Users/kbottenh/Dropbox/Projects/physics-retrieval/data/output/corrmats/213-session-1_retr-Physics_shen2015-corrmat.csv not found.\n",
      "217 /Users/kbottenh/Dropbox/Projects/physics-retrieval/data/output/corrmats/217-session-1_retr-Physics_shen2015-corrmat.csv not found.\n",
      "322 /Users/kbottenh/Dropbox/Projects/physics-retrieval/data/output/corrmats/322-session-1_retr-Physics_shen2015-corrmat.csv not found.\n",
      "329 /Users/kbottenh/Dropbox/Projects/physics-retrieval/data/output/corrmats/329-session-1_retr-Physics_shen2015-corrmat.csv not found.\n",
      "332 /Users/kbottenh/Dropbox/Projects/physics-retrieval/data/output/corrmats/332-session-1_retr-Physics_shen2015-corrmat.csv not found.\n",
      "452 /Users/kbottenh/Dropbox/Projects/physics-retrieval/data/output/corrmats/452-session-1_retr-Physics_shen2015-corrmat.csv not found.\n",
      "456 /Users/kbottenh/Dropbox/Projects/physics-retrieval/data/output/corrmats/456-session-1_retr-Physics_shen2015-corrmat.csv not found.\n",
      "457 /Users/kbottenh/Dropbox/Projects/physics-retrieval/data/output/corrmats/457-session-1_retr-Physics_shen2015-corrmat.csv not found.\n",
      "502 /Users/kbottenh/Dropbox/Projects/physics-retrieval/data/output/corrmats/502-session-1_retr-Physics_shen2015-corrmat.csv not found.\n",
      "575 /Users/kbottenh/Dropbox/Projects/physics-retrieval/data/output/corrmats/575-session-1_retr-Physics_shen2015-corrmat.csv not found.\n",
      "579 /Users/kbottenh/Dropbox/Projects/physics-retrieval/data/output/corrmats/579-session-1_retr-Physics_shen2015-corrmat.csv not found.\n",
      "580 /Users/kbottenh/Dropbox/Projects/physics-retrieval/data/output/corrmats/580-session-1_retr-Physics_shen2015-corrmat.csv not found.\n",
      "582 /Users/kbottenh/Dropbox/Projects/physics-retrieval/data/output/corrmats/582-session-1_retr-Physics_shen2015-corrmat.csv not found.\n",
      "590 /Users/kbottenh/Dropbox/Projects/physics-retrieval/data/output/corrmats/590-session-1_retr-Physics_shen2015-corrmat.csv not found.\n",
      "611 /Users/kbottenh/Dropbox/Projects/physics-retrieval/data/output/corrmats/611-session-1_retr-Physics_shen2015-corrmat.csv not found.\n",
      "616 /Users/kbottenh/Dropbox/Projects/physics-retrieval/data/output/corrmats/616-session-1_retr-Physics_shen2015-corrmat.csv not found.\n",
      "628 /Users/kbottenh/Dropbox/Projects/physics-retrieval/data/output/corrmats/628-session-1_retr-Physics_shen2015-corrmat.csv not found.\n"
     ]
    }
   ],
   "source": [
    "# read in every person's connectivity matrix (yikes)\n",
    "# one task & condition at a time, I think. otherwise it becomes a memory issue\n",
    "post_retr_conn = pd.DataFrame(columns=np.arange(0, 268**2))\n",
    "\n",
    "for subject in subjects:\n",
    "    try:\n",
    "        corrmat = np.genfromtxt(join(sink_dir, 'corrmats', '{0}-session-1_retr-Physics_shen2015-corrmat.csv'.format(subject)),\n",
    "                                delimiter=' ')\n",
    "        post_retr_conn.at[subject] = np.ravel(corrmat, order='F')\n",
    "    except Exception as e:\n",
    "        print(subject, e)"
   ]
  },
  {
   "cell_type": "code",
   "execution_count": 11,
   "metadata": {},
   "outputs": [],
   "source": [
    "brain_impute = KNNImputer(n_neighbors=5, weights='distance')\n",
    "imp_conns = brain_impute.fit_transform(post_retr_conn)\n",
    "imp_conn_df = pd.DataFrame(data=imp_conns, \n",
    "                           columns=post_retr_conn.columns, \n",
    "                           index=post_retr_conn.index)"
   ]
  },
  {
   "cell_type": "code",
   "execution_count": 12,
   "metadata": {
    "ExecuteTime": {
     "end_time": "2020-02-27T03:54:35.076842Z",
     "start_time": "2020-02-27T03:54:28.308692Z"
    }
   },
   "outputs": [],
   "source": [
    "for column in imp_conn_df.columns:\n",
    "    num = np.nonzero(imp_conn_df[column].values)[0].shape\n",
    "    if num[0] <= 5:\n",
    "        imp_conn_df.drop(column, axis=1, inplace=True)"
   ]
  },
  {
   "cell_type": "code",
   "execution_count": 13,
   "metadata": {
    "ExecuteTime": {
     "end_time": "2020-02-27T03:54:36.420513Z",
     "start_time": "2020-02-27T03:54:35.079909Z"
    },
    "scrolled": false
   },
   "outputs": [],
   "source": [
    "big_df.index = big_df.index.astype(int)\n",
    "imp_conn_df.index = post_retr_conn.index.astype(int)\n",
    "imp_conn_df = imp_conn_df.astype('float')\n",
    "\n",
    "all_data = pd.concat([big_df, imp_conn_df], axis=1)\n",
    "all_data.dropna(how='any', axis=0, inplace=True)\n",
    "conns = list(set(imp_conn_df.columns))"
   ]
  },
  {
   "cell_type": "code",
   "execution_count": 14,
   "metadata": {
    "ExecuteTime": {
     "end_time": "2020-02-27T04:16:18.417488Z",
     "start_time": "2020-02-27T03:54:36.423689Z"
    }
   },
   "outputs": [],
   "source": [
    "sig = {}\n",
    "n_perm = 10000\n",
    "retr_iqs = ['VCI2', 'WMI2', 'FSIQ2', 'deltaWMI']\n",
    "\n",
    "for iq in retr_iqs:\n",
    "    p, t, _ = permuted_ols(all_data['{0}'.format(iq)].values,\n",
    "                           all_data[conns].values,\n",
    "                           all_data[['{0}XSex'.format(iq),\n",
    "                                     '{0}XClass'.format(iq),\n",
    "                                     '{0}XClassXSex'.format(iq),\n",
    "                                     'F', 'StrtLvl', 'SexXClass',\n",
    "                                     'Age', 'Mod', 'post phys retr fd']].values,\n",
    "                           n_perm=n_perm)\n",
    "    sig['post (IQ): {0}'.format(iq)] = np.max(p[0])\n",
    "    # if np.max(p) > 1:\n",
    "    #    nodaleff_sig['{0}2 {1} p'.format(iq, key)] = p.T\n",
    "    #    nodaleff_sig['{0}2 {1} t'.format(iq, key)] = t.T\n",
    "\n",
    "    p, t, _ = permuted_ols(all_data['{0}XSex'.format(iq)].values,\n",
    "                           all_data[conns].values,\n",
    "                           all_data[['{0}'.format(iq),\n",
    "                                     '{0}XClass'.format(iq),\n",
    "                                     '{0}XClassXSex'.format(iq),\n",
    "                                     'F', 'StrtLvl', 'SexXClass',\n",
    "                                     'Age', 'Mod', 'post phys retr fd']].values,\n",
    "                           n_perm=n_perm)\n",
    "    sig['post (IQXSex): {0}'.format(iq)] = np.max(p[0])\n",
    "\n",
    "    p, t, _ = permuted_ols(all_data['{0}XClass'.format(iq)].values,\n",
    "                           all_data[conns].values,\n",
    "                           all_data[['{0}'.format(iq),\n",
    "                                     '{0}XSex'.format(iq),\n",
    "                                     '{0}XClassXSex'.format(iq),\n",
    "                                     'F', 'StrtLvl', 'SexXClass',\n",
    "                                     'Age', 'Mod', 'post phys retr fd']].values,\n",
    "                           n_perm=n_perm)\n",
    "\n",
    "    sig['post (IQXClass): {0}'.format(iq)] = np.max(p[0])\n",
    "    p, t, _ = permuted_ols(all_data['{0}XClassXSex'.format(iq)].values,\n",
    "                           all_data[conns].values,\n",
    "                           all_data[['{0}'.format(iq),\n",
    "                                     '{0}XSex'.format(iq),\n",
    "                                     '{0}XClass'.format(iq),\n",
    "                                     'F', 'StrtLvl', 'SexXClass',\n",
    "                                     'Age', 'Mod', 'post phys retr fd']].values,\n",
    "                           n_perm=n_perm)\n",
    "    sig['post (IQXSexXClass): {0}'.format(iq)] = np.max(p[0])"
   ]
  },
  {
   "cell_type": "code",
   "execution_count": 15,
   "metadata": {},
   "outputs": [
    {
     "data": {
      "text/plain": [
       "{'post (IQ): VCI2': 0.5807487055234022,\n",
       " 'post (IQXSex): VCI2': 0.3483778233539271,\n",
       " 'post (IQXClass): VCI2': 1.007489909444727,\n",
       " 'post (IQXSexXClass): VCI2': 0.16371931157011096,\n",
       " 'post (IQ): WMI2': 1.0128241973688579,\n",
       " 'post (IQXSex): WMI2': 0.8532954136462229,\n",
       " 'post (IQXClass): WMI2': 0.7994665005220145,\n",
       " 'post (IQXSexXClass): WMI2': 0.9504378146818895,\n",
       " 'post (IQ): FSIQ2': 0.6010623606187315,\n",
       " 'post (IQXSex): FSIQ2': 0.6273154863912672,\n",
       " 'post (IQXClass): FSIQ2': 0.4759070506842941,\n",
       " 'post (IQXSexXClass): FSIQ2': 2.107948824586382,\n",
       " 'post (IQ): deltaWMI': 0.9423773233670334,\n",
       " 'post (IQXSex): deltaWMI': 0.5698070738653522,\n",
       " 'post (IQXClass): deltaWMI': 1.0570438339108221,\n",
       " 'post (IQXSexXClass): deltaWMI': 0.3052627912648011}"
      ]
     },
     "execution_count": 15,
     "metadata": {},
     "output_type": "execute_result"
    }
   ],
   "source": [
    "sig"
   ]
  },
  {
   "cell_type": "markdown",
   "metadata": {},
   "source": [
    "### For all significant OLS regressions, max p-value goes in a dataframe"
   ]
  },
  {
   "cell_type": "code",
   "execution_count": 16,
   "metadata": {
    "ExecuteTime": {
     "end_time": "2020-02-27T04:16:18.468041Z",
     "start_time": "2020-02-27T04:16:18.421130Z"
    }
   },
   "outputs": [],
   "source": [
    "sessions = ['post', 'delta']\n",
    "variables = ['IQ', 'IQXSex', 'IQXClass', 'IQXClassXSex']\n",
    "index = pd.MultiIndex.from_product([sessions, iqs])\n",
    "significant = pd.DataFrame(index=index)\n",
    "for key in sig.keys():\n",
    "    if sig[key] >= 1.5:\n",
    "        #print(key, sig[key])\n",
    "        sig_keys = key.split(' ')\n",
    "        sesh = sig_keys[0]\n",
    "        iq = sig_keys[-1]\n",
    "        variable = sig_keys[1].strip('():')\n",
    "        significant.at[(sesh, iq), variable] = sig[key]"
   ]
  },
  {
   "cell_type": "code",
   "execution_count": 17,
   "metadata": {
    "ExecuteTime": {
     "end_time": "2020-02-27T04:16:18.778769Z",
     "start_time": "2020-02-27T04:16:18.483052Z"
    }
   },
   "outputs": [
    {
     "name": "stdout",
     "output_type": "stream",
     "text": [
      "MultiIndex([('post', 'FSIQ2')],\n",
      "           )\n"
     ]
    }
   ],
   "source": [
    "significant.to_csv(\n",
    "    join(sink_dir, 'whole_brain-retr-permuted_ols-most_sig_pval.csv'))\n",
    "sig_keys = significant.dropna(how='all').index\n",
    "print(sig_keys)"
   ]
  },
  {
   "cell_type": "code",
   "execution_count": 18,
   "metadata": {
    "ExecuteTime": {
     "end_time": "2020-02-27T04:16:18.792654Z",
     "start_time": "2020-02-27T04:16:18.782770Z"
    }
   },
   "outputs": [],
   "source": [
    "keys = []\n",
    "for i in np.arange(0, len(sig_keys)):\n",
    "    if sig_keys[i][0] == 'post':\n",
    "        keys.append(str(sig_keys[i][1] + '2'))\n",
    "    if sig_keys[i][0] == 'delta':\n",
    "        keys.append(str(sig_keys[i][0] + sig_keys[i][1]))"
   ]
  },
  {
   "cell_type": "code",
   "execution_count": 19,
   "metadata": {
    "ExecuteTime": {
     "end_time": "2020-02-27T04:16:42.853734Z",
     "start_time": "2020-02-27T04:16:18.797555Z"
    }
   },
   "outputs": [],
   "source": [
    "shen_nii = '/Users/kbottenh/Dropbox/Projects/physics-retrieval/shen2015_2mm_268_parcellation.nii.gz'\n",
    "coordinates = find_parcellation_cut_coords(labels_img=shen_nii)"
   ]
  },
  {
   "cell_type": "code",
   "execution_count": 20,
   "metadata": {
    "ExecuteTime": {
     "end_time": "2020-02-27T04:16:42.870522Z",
     "start_time": "2020-02-27T04:16:42.857731Z"
    }
   },
   "outputs": [
    {
     "data": {
      "text/plain": [
       "'17:04:16'"
      ]
     },
     "execution_count": 20,
     "metadata": {},
     "output_type": "execute_result"
    }
   ],
   "source": [
    "datetime.datetime.now().strftime(\"%H:%M:%S\")"
   ]
  },
  {
   "cell_type": "code",
   "execution_count": 21,
   "metadata": {
    "ExecuteTime": {
     "end_time": "2020-02-27T04:59:02.510477Z",
     "start_time": "2020-02-27T04:59:02.475284Z"
    }
   },
   "outputs": [],
   "source": [
    "post_retr_conn = None"
   ]
  },
  {
   "cell_type": "markdown",
   "metadata": {},
   "source": [
    "## And now we do it all over again for FCI"
   ]
  },
  {
   "cell_type": "code",
   "execution_count": 36,
   "metadata": {
    "ExecuteTime": {
     "end_time": "2020-02-27T05:00:04.443401Z",
     "start_time": "2020-02-27T04:59:02.528041Z"
    }
   },
   "outputs": [
    {
     "name": "stdout",
     "output_type": "stream",
     "text": [
      "213 /Users/kbottenh/Dropbox/Projects/physics-retrieval/data/output/corrmats/213-session-1_fci-Physics_shen2015-corrmat.csv not found.\n",
      "217 /Users/kbottenh/Dropbox/Projects/physics-retrieval/data/output/corrmats/217-session-1_fci-Physics_shen2015-corrmat.csv not found.\n",
      "322 /Users/kbottenh/Dropbox/Projects/physics-retrieval/data/output/corrmats/322-session-1_fci-Physics_shen2015-corrmat.csv not found.\n",
      "329 /Users/kbottenh/Dropbox/Projects/physics-retrieval/data/output/corrmats/329-session-1_fci-Physics_shen2015-corrmat.csv not found.\n",
      "332 /Users/kbottenh/Dropbox/Projects/physics-retrieval/data/output/corrmats/332-session-1_fci-Physics_shen2015-corrmat.csv not found.\n",
      "348 /Users/kbottenh/Dropbox/Projects/physics-retrieval/data/output/corrmats/348-session-1_fci-Physics_shen2015-corrmat.csv not found.\n",
      "452 /Users/kbottenh/Dropbox/Projects/physics-retrieval/data/output/corrmats/452-session-1_fci-Physics_shen2015-corrmat.csv not found.\n",
      "456 /Users/kbottenh/Dropbox/Projects/physics-retrieval/data/output/corrmats/456-session-1_fci-Physics_shen2015-corrmat.csv not found.\n",
      "457 /Users/kbottenh/Dropbox/Projects/physics-retrieval/data/output/corrmats/457-session-1_fci-Physics_shen2015-corrmat.csv not found.\n",
      "463 /Users/kbottenh/Dropbox/Projects/physics-retrieval/data/output/corrmats/463-session-1_fci-Physics_shen2015-corrmat.csv not found.\n",
      "502 /Users/kbottenh/Dropbox/Projects/physics-retrieval/data/output/corrmats/502-session-1_fci-Physics_shen2015-corrmat.csv not found.\n",
      "575 /Users/kbottenh/Dropbox/Projects/physics-retrieval/data/output/corrmats/575-session-1_fci-Physics_shen2015-corrmat.csv not found.\n",
      "579 /Users/kbottenh/Dropbox/Projects/physics-retrieval/data/output/corrmats/579-session-1_fci-Physics_shen2015-corrmat.csv not found.\n",
      "580 /Users/kbottenh/Dropbox/Projects/physics-retrieval/data/output/corrmats/580-session-1_fci-Physics_shen2015-corrmat.csv not found.\n",
      "582 /Users/kbottenh/Dropbox/Projects/physics-retrieval/data/output/corrmats/582-session-1_fci-Physics_shen2015-corrmat.csv not found.\n",
      "590 /Users/kbottenh/Dropbox/Projects/physics-retrieval/data/output/corrmats/590-session-1_fci-Physics_shen2015-corrmat.csv not found.\n",
      "611 /Users/kbottenh/Dropbox/Projects/physics-retrieval/data/output/corrmats/611-session-1_fci-Physics_shen2015-corrmat.csv not found.\n",
      "616 /Users/kbottenh/Dropbox/Projects/physics-retrieval/data/output/corrmats/616-session-1_fci-Physics_shen2015-corrmat.csv not found.\n",
      "628 /Users/kbottenh/Dropbox/Projects/physics-retrieval/data/output/corrmats/628-session-1_fci-Physics_shen2015-corrmat.csv not found.\n"
     ]
    }
   ],
   "source": [
    "# read in every person's connectivity matrix (yikes)\n",
    "# one task & condition at a time, I think. otherwise it becomes a memory issue\n",
    "post_fci_conn = pd.DataFrame(columns=np.arange(0, 268**2))\n",
    "\n",
    "for subject in subjects:\n",
    "    try:\n",
    "        corrmat = np.genfromtxt(join(sink_dir, 'corrmats', '{0}-session-1_fci-Physics_shen2015-corrmat.csv'.format(subject)),\n",
    "                                delimiter=' ')\n",
    "        post_fci_conn.at[subject] = np.ravel(corrmat, order='F')\n",
    "    except Exception as e:\n",
    "        print(subject, e)"
   ]
  },
  {
   "cell_type": "code",
   "execution_count": 37,
   "metadata": {},
   "outputs": [],
   "source": [
    "brain_impute = KNNImputer(n_neighbors=5, weights='distance')\n",
    "imp_conns = brain_impute.fit_transform(post_fci_conn)\n",
    "imp_conn_df = pd.DataFrame(data=imp_conns, \n",
    "                           columns=post_fci_conn.columns, \n",
    "                           index=post_fci_conn.index)"
   ]
  },
  {
   "cell_type": "code",
   "execution_count": 38,
   "metadata": {
    "ExecuteTime": {
     "end_time": "2020-02-27T05:00:11.661933Z",
     "start_time": "2020-02-27T05:00:04.446998Z"
    }
   },
   "outputs": [],
   "source": [
    "for column in imp_conn_df.columns:\n",
    "    num = np.nonzero(imp_conn_df[column].values)[0].shape\n",
    "    if num[0] <= 5:\n",
    "        imp_conn_df.drop(column, axis=1, inplace=True)"
   ]
  },
  {
   "cell_type": "code",
   "execution_count": 30,
   "metadata": {
    "ExecuteTime": {
     "end_time": "2020-02-27T05:00:12.967638Z",
     "start_time": "2020-02-27T05:00:11.664907Z"
    }
   },
   "outputs": [],
   "source": [
    "big_df.index = big_df.index.astype(int)\n",
    "imp_conn_df.index = post_fci_conn.index.astype(int)\n",
    "imp_conn_df = imp_conn_df.astype('float')\n",
    "\n",
    "all_data = pd.concat([big_df, imp_conn_df], axis=1)\n",
    "all_data.dropna(how='any', axis=0, inplace=True)\n",
    "conns = list(set(imp_conn_df.columns))"
   ]
  },
  {
   "cell_type": "code",
   "execution_count": 39,
   "metadata": {
    "ExecuteTime": {
     "end_time": "2020-02-27T05:21:45.018274Z",
     "start_time": "2020-02-27T05:00:12.972080Z"
    }
   },
   "outputs": [
    {
     "name": "stderr",
     "output_type": "stream",
     "text": [
      "[Parallel(n_jobs=2)]: Using backend LokyBackend with 2 concurrent workers.\n",
      "[Parallel(n_jobs=2)]: Done   2 out of   2 | elapsed:  4.7min finished\n",
      "[Parallel(n_jobs=1)]: Using backend SequentialBackend with 1 concurrent workers.\n",
      "[Parallel(n_jobs=1)]: Done   1 out of   1 | elapsed:  1.8min remaining:    0.0s\n",
      "[Parallel(n_jobs=1)]: Done   1 out of   1 | elapsed:  1.8min finished\n",
      "[Parallel(n_jobs=1)]: Using backend SequentialBackend with 1 concurrent workers.\n",
      "[Parallel(n_jobs=1)]: Done   1 out of   1 | elapsed:  1.8min remaining:    0.0s\n",
      "[Parallel(n_jobs=1)]: Done   1 out of   1 | elapsed:  1.8min finished\n",
      "[Parallel(n_jobs=1)]: Using backend SequentialBackend with 1 concurrent workers.\n",
      "[Parallel(n_jobs=1)]: Done   1 out of   1 | elapsed:  1.8min remaining:    0.0s\n",
      "[Parallel(n_jobs=1)]: Done   1 out of   1 | elapsed:  1.8min finished\n",
      "[Parallel(n_jobs=2)]: Using backend LokyBackend with 2 concurrent workers.\n",
      "[Parallel(n_jobs=2)]: Done   2 out of   2 | elapsed:  5.5min finished\n",
      "[Parallel(n_jobs=1)]: Using backend SequentialBackend with 1 concurrent workers.\n"
     ]
    },
    {
     "ename": "KeyboardInterrupt",
     "evalue": "",
     "output_type": "error",
     "traceback": [
      "\u001b[0;31m---------------------------------------------------------------------------\u001b[0m",
      "\u001b[0;31mKeyboardInterrupt\u001b[0m                         Traceback (most recent call last)",
      "\u001b[0;32m<ipython-input-39-5518883c91ce>\u001b[0m in \u001b[0;36m<module>\u001b[0;34m\u001b[0m\n\u001b[1;32m     24\u001b[0m                                      \u001b[0;34m'F'\u001b[0m\u001b[0;34m,\u001b[0m \u001b[0;34m'StrtLvl'\u001b[0m\u001b[0;34m,\u001b[0m \u001b[0;34m'SexXClass'\u001b[0m\u001b[0;34m,\u001b[0m\u001b[0;34m\u001b[0m\u001b[0;34m\u001b[0m\u001b[0m\n\u001b[1;32m     25\u001b[0m                                      'Age', 'Mod', 'post phys fci fd']].values,\n\u001b[0;32m---> 26\u001b[0;31m                            n_perm=n_perm, verbose=2)\n\u001b[0m\u001b[1;32m     27\u001b[0m     \u001b[0msig\u001b[0m\u001b[0;34m[\u001b[0m\u001b[0;34m'post (IQXSex): {0}'\u001b[0m\u001b[0;34m.\u001b[0m\u001b[0mformat\u001b[0m\u001b[0;34m(\u001b[0m\u001b[0miq\u001b[0m\u001b[0;34m)\u001b[0m\u001b[0;34m]\u001b[0m \u001b[0;34m=\u001b[0m \u001b[0mnp\u001b[0m\u001b[0;34m.\u001b[0m\u001b[0mmax\u001b[0m\u001b[0;34m(\u001b[0m\u001b[0mp\u001b[0m\u001b[0;34m[\u001b[0m\u001b[0;36m0\u001b[0m\u001b[0;34m]\u001b[0m\u001b[0;34m)\u001b[0m\u001b[0;34m\u001b[0m\u001b[0;34m\u001b[0m\u001b[0m\n\u001b[1;32m     28\u001b[0m \u001b[0;34m\u001b[0m\u001b[0m\n",
      "\u001b[0;32m~/Library/Python/3.7/lib/python/site-packages/nilearn/mass_univariate/permuted_least_squares.py\u001b[0m in \u001b[0;36mpermuted_ols\u001b[0;34m(tested_vars, target_vars, confounding_vars, model_intercept, n_perm, two_sided_test, random_state, n_jobs, verbose)\u001b[0m\n\u001b[1;32m    451\u001b[0m             \u001b[0mtwo_sided_test\u001b[0m\u001b[0;34m=\u001b[0m\u001b[0mtwo_sided_test\u001b[0m\u001b[0;34m,\u001b[0m\u001b[0;34m\u001b[0m\u001b[0;34m\u001b[0m\u001b[0m\n\u001b[1;32m    452\u001b[0m             random_state=rng.random_integers(np.iinfo(np.int32).max - 1))\n\u001b[0;32m--> 453\u001b[0;31m         for n_perm_chunk in n_perm_chunks)\n\u001b[0m\u001b[1;32m    454\u001b[0m     \u001b[0;31m# reduce results\u001b[0m\u001b[0;34m\u001b[0m\u001b[0;34m\u001b[0m\u001b[0;34m\u001b[0m\u001b[0m\n\u001b[1;32m    455\u001b[0m     \u001b[0mscores_as_ranks_parts\u001b[0m\u001b[0;34m,\u001b[0m \u001b[0mh0_fmax_parts\u001b[0m \u001b[0;34m=\u001b[0m \u001b[0mzip\u001b[0m\u001b[0;34m(\u001b[0m\u001b[0;34m*\u001b[0m\u001b[0mret\u001b[0m\u001b[0;34m)\u001b[0m\u001b[0;34m\u001b[0m\u001b[0;34m\u001b[0m\u001b[0m\n",
      "\u001b[0;32m~/Library/Python/3.7/lib/python/site-packages/joblib/parallel.py\u001b[0m in \u001b[0;36m__call__\u001b[0;34m(self, iterable)\u001b[0m\n\u001b[1;32m   1027\u001b[0m             \u001b[0;31m# remaining jobs.\u001b[0m\u001b[0;34m\u001b[0m\u001b[0;34m\u001b[0m\u001b[0;34m\u001b[0m\u001b[0m\n\u001b[1;32m   1028\u001b[0m             \u001b[0mself\u001b[0m\u001b[0;34m.\u001b[0m\u001b[0m_iterating\u001b[0m \u001b[0;34m=\u001b[0m \u001b[0;32mFalse\u001b[0m\u001b[0;34m\u001b[0m\u001b[0;34m\u001b[0m\u001b[0m\n\u001b[0;32m-> 1029\u001b[0;31m             \u001b[0;32mif\u001b[0m \u001b[0mself\u001b[0m\u001b[0;34m.\u001b[0m\u001b[0mdispatch_one_batch\u001b[0m\u001b[0;34m(\u001b[0m\u001b[0miterator\u001b[0m\u001b[0;34m)\u001b[0m\u001b[0;34m:\u001b[0m\u001b[0;34m\u001b[0m\u001b[0;34m\u001b[0m\u001b[0m\n\u001b[0m\u001b[1;32m   1030\u001b[0m                 \u001b[0mself\u001b[0m\u001b[0;34m.\u001b[0m\u001b[0m_iterating\u001b[0m \u001b[0;34m=\u001b[0m \u001b[0mself\u001b[0m\u001b[0;34m.\u001b[0m\u001b[0m_original_iterator\u001b[0m \u001b[0;32mis\u001b[0m \u001b[0;32mnot\u001b[0m \u001b[0;32mNone\u001b[0m\u001b[0;34m\u001b[0m\u001b[0;34m\u001b[0m\u001b[0m\n\u001b[1;32m   1031\u001b[0m \u001b[0;34m\u001b[0m\u001b[0m\n",
      "\u001b[0;32m~/Library/Python/3.7/lib/python/site-packages/joblib/parallel.py\u001b[0m in \u001b[0;36mdispatch_one_batch\u001b[0;34m(self, iterator)\u001b[0m\n\u001b[1;32m    845\u001b[0m                 \u001b[0;32mreturn\u001b[0m \u001b[0;32mFalse\u001b[0m\u001b[0;34m\u001b[0m\u001b[0;34m\u001b[0m\u001b[0m\n\u001b[1;32m    846\u001b[0m             \u001b[0;32melse\u001b[0m\u001b[0;34m:\u001b[0m\u001b[0;34m\u001b[0m\u001b[0;34m\u001b[0m\u001b[0m\n\u001b[0;32m--> 847\u001b[0;31m                 \u001b[0mself\u001b[0m\u001b[0;34m.\u001b[0m\u001b[0m_dispatch\u001b[0m\u001b[0;34m(\u001b[0m\u001b[0mtasks\u001b[0m\u001b[0;34m)\u001b[0m\u001b[0;34m\u001b[0m\u001b[0;34m\u001b[0m\u001b[0m\n\u001b[0m\u001b[1;32m    848\u001b[0m                 \u001b[0;32mreturn\u001b[0m \u001b[0;32mTrue\u001b[0m\u001b[0;34m\u001b[0m\u001b[0;34m\u001b[0m\u001b[0m\n\u001b[1;32m    849\u001b[0m \u001b[0;34m\u001b[0m\u001b[0m\n",
      "\u001b[0;32m~/Library/Python/3.7/lib/python/site-packages/joblib/parallel.py\u001b[0m in \u001b[0;36m_dispatch\u001b[0;34m(self, batch)\u001b[0m\n\u001b[1;32m    763\u001b[0m         \u001b[0;32mwith\u001b[0m \u001b[0mself\u001b[0m\u001b[0;34m.\u001b[0m\u001b[0m_lock\u001b[0m\u001b[0;34m:\u001b[0m\u001b[0;34m\u001b[0m\u001b[0;34m\u001b[0m\u001b[0m\n\u001b[1;32m    764\u001b[0m             \u001b[0mjob_idx\u001b[0m \u001b[0;34m=\u001b[0m \u001b[0mlen\u001b[0m\u001b[0;34m(\u001b[0m\u001b[0mself\u001b[0m\u001b[0;34m.\u001b[0m\u001b[0m_jobs\u001b[0m\u001b[0;34m)\u001b[0m\u001b[0;34m\u001b[0m\u001b[0;34m\u001b[0m\u001b[0m\n\u001b[0;32m--> 765\u001b[0;31m             \u001b[0mjob\u001b[0m \u001b[0;34m=\u001b[0m \u001b[0mself\u001b[0m\u001b[0;34m.\u001b[0m\u001b[0m_backend\u001b[0m\u001b[0;34m.\u001b[0m\u001b[0mapply_async\u001b[0m\u001b[0;34m(\u001b[0m\u001b[0mbatch\u001b[0m\u001b[0;34m,\u001b[0m \u001b[0mcallback\u001b[0m\u001b[0;34m=\u001b[0m\u001b[0mcb\u001b[0m\u001b[0;34m)\u001b[0m\u001b[0;34m\u001b[0m\u001b[0;34m\u001b[0m\u001b[0m\n\u001b[0m\u001b[1;32m    766\u001b[0m             \u001b[0;31m# A job can complete so quickly than its callback is\u001b[0m\u001b[0;34m\u001b[0m\u001b[0;34m\u001b[0m\u001b[0;34m\u001b[0m\u001b[0m\n\u001b[1;32m    767\u001b[0m             \u001b[0;31m# called before we get here, causing self._jobs to\u001b[0m\u001b[0;34m\u001b[0m\u001b[0;34m\u001b[0m\u001b[0;34m\u001b[0m\u001b[0m\n",
      "\u001b[0;32m~/Library/Python/3.7/lib/python/site-packages/joblib/_parallel_backends.py\u001b[0m in \u001b[0;36mapply_async\u001b[0;34m(self, func, callback)\u001b[0m\n\u001b[1;32m    206\u001b[0m     \u001b[0;32mdef\u001b[0m \u001b[0mapply_async\u001b[0m\u001b[0;34m(\u001b[0m\u001b[0mself\u001b[0m\u001b[0;34m,\u001b[0m \u001b[0mfunc\u001b[0m\u001b[0;34m,\u001b[0m \u001b[0mcallback\u001b[0m\u001b[0;34m=\u001b[0m\u001b[0;32mNone\u001b[0m\u001b[0;34m)\u001b[0m\u001b[0;34m:\u001b[0m\u001b[0;34m\u001b[0m\u001b[0;34m\u001b[0m\u001b[0m\n\u001b[1;32m    207\u001b[0m         \u001b[0;34m\"\"\"Schedule a func to be run\"\"\"\u001b[0m\u001b[0;34m\u001b[0m\u001b[0;34m\u001b[0m\u001b[0m\n\u001b[0;32m--> 208\u001b[0;31m         \u001b[0mresult\u001b[0m \u001b[0;34m=\u001b[0m \u001b[0mImmediateResult\u001b[0m\u001b[0;34m(\u001b[0m\u001b[0mfunc\u001b[0m\u001b[0;34m)\u001b[0m\u001b[0;34m\u001b[0m\u001b[0;34m\u001b[0m\u001b[0m\n\u001b[0m\u001b[1;32m    209\u001b[0m         \u001b[0;32mif\u001b[0m \u001b[0mcallback\u001b[0m\u001b[0;34m:\u001b[0m\u001b[0;34m\u001b[0m\u001b[0;34m\u001b[0m\u001b[0m\n\u001b[1;32m    210\u001b[0m             \u001b[0mcallback\u001b[0m\u001b[0;34m(\u001b[0m\u001b[0mresult\u001b[0m\u001b[0;34m)\u001b[0m\u001b[0;34m\u001b[0m\u001b[0;34m\u001b[0m\u001b[0m\n",
      "\u001b[0;32m~/Library/Python/3.7/lib/python/site-packages/joblib/_parallel_backends.py\u001b[0m in \u001b[0;36m__init__\u001b[0;34m(self, batch)\u001b[0m\n\u001b[1;32m    570\u001b[0m         \u001b[0;31m# Don't delay the application, to avoid keeping the input\u001b[0m\u001b[0;34m\u001b[0m\u001b[0;34m\u001b[0m\u001b[0;34m\u001b[0m\u001b[0m\n\u001b[1;32m    571\u001b[0m         \u001b[0;31m# arguments in memory\u001b[0m\u001b[0;34m\u001b[0m\u001b[0;34m\u001b[0m\u001b[0;34m\u001b[0m\u001b[0m\n\u001b[0;32m--> 572\u001b[0;31m         \u001b[0mself\u001b[0m\u001b[0;34m.\u001b[0m\u001b[0mresults\u001b[0m \u001b[0;34m=\u001b[0m \u001b[0mbatch\u001b[0m\u001b[0;34m(\u001b[0m\u001b[0;34m)\u001b[0m\u001b[0;34m\u001b[0m\u001b[0;34m\u001b[0m\u001b[0m\n\u001b[0m\u001b[1;32m    573\u001b[0m \u001b[0;34m\u001b[0m\u001b[0m\n\u001b[1;32m    574\u001b[0m     \u001b[0;32mdef\u001b[0m \u001b[0mget\u001b[0m\u001b[0;34m(\u001b[0m\u001b[0mself\u001b[0m\u001b[0;34m)\u001b[0m\u001b[0;34m:\u001b[0m\u001b[0;34m\u001b[0m\u001b[0;34m\u001b[0m\u001b[0m\n",
      "\u001b[0;32m~/Library/Python/3.7/lib/python/site-packages/joblib/parallel.py\u001b[0m in \u001b[0;36m__call__\u001b[0;34m(self)\u001b[0m\n\u001b[1;32m    251\u001b[0m         \u001b[0;32mwith\u001b[0m \u001b[0mparallel_backend\u001b[0m\u001b[0;34m(\u001b[0m\u001b[0mself\u001b[0m\u001b[0;34m.\u001b[0m\u001b[0m_backend\u001b[0m\u001b[0;34m,\u001b[0m \u001b[0mn_jobs\u001b[0m\u001b[0;34m=\u001b[0m\u001b[0mself\u001b[0m\u001b[0;34m.\u001b[0m\u001b[0m_n_jobs\u001b[0m\u001b[0;34m)\u001b[0m\u001b[0;34m:\u001b[0m\u001b[0;34m\u001b[0m\u001b[0;34m\u001b[0m\u001b[0m\n\u001b[1;32m    252\u001b[0m             return [func(*args, **kwargs)\n\u001b[0;32m--> 253\u001b[0;31m                     for func, args, kwargs in self.items]\n\u001b[0m\u001b[1;32m    254\u001b[0m \u001b[0;34m\u001b[0m\u001b[0m\n\u001b[1;32m    255\u001b[0m     \u001b[0;32mdef\u001b[0m \u001b[0m__reduce__\u001b[0m\u001b[0;34m(\u001b[0m\u001b[0mself\u001b[0m\u001b[0;34m)\u001b[0m\u001b[0;34m:\u001b[0m\u001b[0;34m\u001b[0m\u001b[0;34m\u001b[0m\u001b[0m\n",
      "\u001b[0;32m~/Library/Python/3.7/lib/python/site-packages/joblib/parallel.py\u001b[0m in \u001b[0;36m<listcomp>\u001b[0;34m(.0)\u001b[0m\n\u001b[1;32m    251\u001b[0m         \u001b[0;32mwith\u001b[0m \u001b[0mparallel_backend\u001b[0m\u001b[0;34m(\u001b[0m\u001b[0mself\u001b[0m\u001b[0;34m.\u001b[0m\u001b[0m_backend\u001b[0m\u001b[0;34m,\u001b[0m \u001b[0mn_jobs\u001b[0m\u001b[0;34m=\u001b[0m\u001b[0mself\u001b[0m\u001b[0;34m.\u001b[0m\u001b[0m_n_jobs\u001b[0m\u001b[0;34m)\u001b[0m\u001b[0;34m:\u001b[0m\u001b[0;34m\u001b[0m\u001b[0;34m\u001b[0m\u001b[0m\n\u001b[1;32m    252\u001b[0m             return [func(*args, **kwargs)\n\u001b[0;32m--> 253\u001b[0;31m                     for func, args, kwargs in self.items]\n\u001b[0m\u001b[1;32m    254\u001b[0m \u001b[0;34m\u001b[0m\u001b[0m\n\u001b[1;32m    255\u001b[0m     \u001b[0;32mdef\u001b[0m \u001b[0m__reduce__\u001b[0m\u001b[0;34m(\u001b[0m\u001b[0mself\u001b[0m\u001b[0;34m)\u001b[0m\u001b[0;34m:\u001b[0m\u001b[0;34m\u001b[0m\u001b[0;34m\u001b[0m\u001b[0m\n",
      "\u001b[0;32m~/Library/Python/3.7/lib/python/site-packages/nilearn/mass_univariate/permuted_least_squares.py\u001b[0m in \u001b[0;36m_permuted_ols_on_chunk\u001b[0;34m(scores_original_data, tested_vars, target_vars, confounding_vars, n_perm_chunk, intercept_test, two_sided_test, random_state)\u001b[0m\n\u001b[1;32m    218\u001b[0m             _t_score_with_covars_and_normalized_design(tested_vars,\n\u001b[1;32m    219\u001b[0m                                                        \u001b[0mtarget_vars\u001b[0m\u001b[0;34m,\u001b[0m\u001b[0;34m\u001b[0m\u001b[0;34m\u001b[0m\u001b[0m\n\u001b[0;32m--> 220\u001b[0;31m                                                        confounding_vars))\n\u001b[0m\u001b[1;32m    221\u001b[0m         \u001b[0;32mif\u001b[0m \u001b[0mtwo_sided_test\u001b[0m\u001b[0;34m:\u001b[0m\u001b[0;34m\u001b[0m\u001b[0;34m\u001b[0m\u001b[0m\n\u001b[1;32m    222\u001b[0m             \u001b[0mperm_scores\u001b[0m \u001b[0;34m=\u001b[0m \u001b[0mnp\u001b[0m\u001b[0;34m.\u001b[0m\u001b[0mfabs\u001b[0m\u001b[0;34m(\u001b[0m\u001b[0mperm_scores\u001b[0m\u001b[0;34m)\u001b[0m\u001b[0;34m\u001b[0m\u001b[0;34m\u001b[0m\u001b[0m\n",
      "\u001b[0;32m~/Library/Python/3.7/lib/python/site-packages/nilearn/mass_univariate/permuted_least_squares.py\u001b[0m in \u001b[0;36m_t_score_with_covars_and_normalized_design\u001b[0;34m(tested_vars, target_vars, covars_orthonormalized)\u001b[0m\n\u001b[1;32m    129\u001b[0m     \u001b[0;31m# so lost_dof is unrelated to n_tested_vars.\u001b[0m\u001b[0;34m\u001b[0m\u001b[0;34m\u001b[0m\u001b[0;34m\u001b[0m\u001b[0m\n\u001b[1;32m    130\u001b[0m     \u001b[0mdof\u001b[0m \u001b[0;34m=\u001b[0m \u001b[0mtarget_vars\u001b[0m\u001b[0;34m.\u001b[0m\u001b[0mshape\u001b[0m\u001b[0;34m[\u001b[0m\u001b[0;36m0\u001b[0m\u001b[0;34m]\u001b[0m \u001b[0;34m-\u001b[0m \u001b[0mlost_dof\u001b[0m\u001b[0;34m\u001b[0m\u001b[0;34m\u001b[0m\u001b[0m\n\u001b[0;32m--> 131\u001b[0;31m     \u001b[0mbeta_targetvars_testedvars\u001b[0m \u001b[0;34m=\u001b[0m \u001b[0mnp\u001b[0m\u001b[0;34m.\u001b[0m\u001b[0mdot\u001b[0m\u001b[0;34m(\u001b[0m\u001b[0mtarget_vars\u001b[0m\u001b[0;34m.\u001b[0m\u001b[0mT\u001b[0m\u001b[0;34m,\u001b[0m \u001b[0mtested_vars\u001b[0m\u001b[0;34m)\u001b[0m\u001b[0;34m\u001b[0m\u001b[0;34m\u001b[0m\u001b[0m\n\u001b[0m\u001b[1;32m    132\u001b[0m     \u001b[0;32mif\u001b[0m \u001b[0mcovars_orthonormalized\u001b[0m \u001b[0;32mis\u001b[0m \u001b[0;32mNone\u001b[0m\u001b[0;34m:\u001b[0m\u001b[0;34m\u001b[0m\u001b[0;34m\u001b[0m\u001b[0m\n\u001b[1;32m    133\u001b[0m         \u001b[0mrss\u001b[0m \u001b[0;34m=\u001b[0m \u001b[0;34m(\u001b[0m\u001b[0;36m1\u001b[0m \u001b[0;34m-\u001b[0m \u001b[0mbeta_targetvars_testedvars\u001b[0m \u001b[0;34m**\u001b[0m \u001b[0;36m2\u001b[0m\u001b[0;34m)\u001b[0m\u001b[0;34m\u001b[0m\u001b[0;34m\u001b[0m\u001b[0m\n",
      "\u001b[0;32m<__array_function__ internals>\u001b[0m in \u001b[0;36mdot\u001b[0;34m(*args, **kwargs)\u001b[0m\n",
      "\u001b[0;31mKeyboardInterrupt\u001b[0m: "
     ]
    }
   ],
   "source": [
    "sig = {}\n",
    "n_perm = 10000\n",
    "fci_iqs = ['VCI2', 'deltaPRI', 'deltaFSIQ']\n",
    "\n",
    "for iq in fci_iqs:\n",
    "    p, t, _ = permuted_ols(all_data['{0}'.format(iq)].values,\n",
    "                           all_data[conns].values,\n",
    "                           all_data[['{0}XSex'.format(iq),\n",
    "                                     '{0}XClass'.format(iq),\n",
    "                                     '{0}XClassXSex'.format(iq),\n",
    "                                     'F', 'StrtLvl', 'SexXClass',\n",
    "                                     'Age', 'Mod', 'post phys fci fd']].values,\n",
    "                           n_perm=n_perm, verbose=2, n_jobs=2)\n",
    "    sig['post (IQ): {0}'.format(iq)] = np.max(p[0])\n",
    "    # if np.max(p) > 1:\n",
    "    #    nodaleff_sig['{0}2 {1} p'.format(iq, key)] = p.T\n",
    "    #    nodaleff_sig['{0}2 {1} t'.format(iq, key)] = t.T\n",
    "\n",
    "    p, t, _ = permuted_ols(all_data['{0}XSex'.format(iq)].values,\n",
    "                           all_data[conns].values,\n",
    "                           all_data[['{0}'.format(iq),\n",
    "                                     '{0}XClass'.format(iq),\n",
    "                                     '{0}XClassXSex'.format(iq),\n",
    "                                     'F', 'StrtLvl', 'SexXClass',\n",
    "                                     'Age', 'Mod', 'post phys fci fd']].values,\n",
    "                           n_perm=n_perm, verbose=2)\n",
    "    sig['post (IQXSex): {0}'.format(iq)] = np.max(p[0])\n",
    "\n",
    "    p, t, _ = permuted_ols(all_data['{0}XClass'.format(iq)].values,\n",
    "                           all_data[conns].values,\n",
    "                           all_data[['{0}'.format(iq),\n",
    "                                     '{0}XSex'.format(iq),\n",
    "                                     '{0}XClassXSex'.format(iq),\n",
    "                                     'F', 'StrtLvl', 'SexXClass',\n",
    "                                     'Age', 'Mod', 'post phys fci fd']].values,\n",
    "                           n_perm=n_perm, verbose=2)\n",
    "\n",
    "    sig['post (IQXClass): {0}'.format(iq)] = np.max(p[0])\n",
    "    p, t, _ = permuted_ols(all_data['{0}XClassXSex'.format(iq)].values,\n",
    "                           all_data[conns].values,\n",
    "                           all_data[['{0}'.format(iq),\n",
    "                                     '{0}XSex'.format(iq),\n",
    "                                     '{0}XClass'.format(iq),\n",
    "                                     'F', 'StrtLvl', 'SexXClass',\n",
    "                                     'Age', 'Mod', 'post phys fci fd']].values,\n",
    "                           n_perm=n_perm, verbose=2)\n",
    "    sig['post (IQXSexXClass): {0}'.format(iq)] = np.max(p[0])"
   ]
  },
  {
   "cell_type": "code",
   "execution_count": 41,
   "metadata": {},
   "outputs": [
    {
     "data": {
      "text/plain": [
       "{'post (IQ): VCI2': 0.5473372007658337,\n",
       " 'post (IQXSex): VCI2': 0.2745401584175471,\n",
       " 'post (IQXClass): VCI2': 0.03952508449615473,\n",
       " 'post (IQXSexXClass): VCI2': 0.07118689369495199,\n",
       " 'post (IQ): deltaPRI': 1.793217551245013}"
      ]
     },
     "execution_count": 41,
     "metadata": {},
     "output_type": "execute_result"
    }
   ],
   "source": [
    "sig"
   ]
  },
  {
   "cell_type": "code",
   "execution_count": null,
   "metadata": {
    "ExecuteTime": {
     "end_time": "2020-02-27T05:21:45.062122Z",
     "start_time": "2020-02-27T05:21:45.022107Z"
    }
   },
   "outputs": [],
   "source": [
    "sessions = ['post', 'delta']\n",
    "variables = ['IQ', 'IQXSex', 'IQXClass', 'IQXClassXSex']\n",
    "index = pd.MultiIndex.from_product([sessions, iqs])\n",
    "significant = pd.DataFrame(index=index)\n",
    "for key in sig.keys():\n",
    "    if sig[key] >= 1.5:\n",
    "        #print(key, sig[key])\n",
    "        sig_keys = key.split(' ')\n",
    "        sesh = sig_keys[0]\n",
    "        iq = sig_keys[-1]\n",
    "        variable = sig_keys[1].strip('():')\n",
    "        significant.at[(sesh, iq), variable] = sig[key]"
   ]
  },
  {
   "cell_type": "code",
   "execution_count": null,
   "metadata": {
    "ExecuteTime": {
     "end_time": "2020-02-27T05:21:45.359259Z",
     "start_time": "2020-02-27T05:21:45.067251Z"
    }
   },
   "outputs": [],
   "source": [
    "significant.to_csv(\n",
    "    join(sink_dir, 'whole_brain-fci-permuted_ols-most_sig_pval.csv'))\n",
    "sig_keys = significant.dropna(how='all').index\n",
    "print(sig_keys)"
   ]
  },
  {
   "cell_type": "code",
   "execution_count": null,
   "metadata": {
    "ExecuteTime": {
     "end_time": "2020-02-27T05:21:45.375505Z",
     "start_time": "2020-02-27T05:21:45.363849Z"
    }
   },
   "outputs": [],
   "source": [
    "keys = []\n",
    "for i in np.arange(0, len(sig_keys)):\n",
    "    if sig_keys[i][0] == 'post':\n",
    "        keys.append(str(sig_keys[i][1] + '2'))\n",
    "    if sig_keys[i][0] == 'delta':\n",
    "        keys.append(str(sig_keys[i][0] + sig_keys[0][1]))"
   ]
  },
  {
   "cell_type": "code",
   "execution_count": null,
   "metadata": {},
   "outputs": [],
   "source": []
  }
 ],
 "metadata": {
  "jupytext": {
   "formats": "ipynb,py:light"
  },
  "kernelspec": {
   "display_name": "Python 3",
   "language": "python",
   "name": "python3"
  },
  "language_info": {
   "codemirror_mode": {
    "name": "ipython",
    "version": 3
   },
   "file_extension": ".py",
   "mimetype": "text/x-python",
   "name": "python",
   "nbconvert_exporter": "python",
   "pygments_lexer": "ipython3",
   "version": "3.7.8"
  }
 },
 "nbformat": 4,
 "nbformat_minor": 4
}
