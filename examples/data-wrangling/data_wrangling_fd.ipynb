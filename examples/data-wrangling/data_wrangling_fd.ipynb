{
 "cells": [
  {
   "cell_type": "code",
   "execution_count": 1,
   "metadata": {},
   "outputs": [],
   "source": [
    "import numpy as np\n",
    "import pandas as pd\n",
    "from os import makedirs\n",
    "from os.path import join, exists"
   ]
  },
  {
   "cell_type": "code",
   "execution_count": 2,
   "metadata": {},
   "outputs": [],
   "source": [
    "subjects = ['101', '102', '103', '104', '106', '107', '108', '110', '212', '213',\n",
    "            '214', '215', '216', '217', '218', '219', '320', '321', '322', '323',\n",
    "            '324', '325', '327', '328', '329', '330', '331', '332', '333', '334',\n",
    "            '335', '336', '337', '338', '339', '340', '341', '342', '343', '344',\n",
    "            '345', '346', '347', '348', '349', '350', '451', '452', '453', '455',\n",
    "            '456', '457', '458', '459', '460', '462', '463', '464', '465', '467',\n",
    "            '468', '469', '470', '502', '503', '571', '572', '573', '574', '575',\n",
    "            '577', '578', '579', '580', '581', '582', '584', '585', '586', '587',\n",
    "            '588', '589', '590', '591', '592', '593', '594', '595', '596', '597',\n",
    "            '598', '604', '605', '606', '607', '608', '609', '610', '611', '612',\n",
    "            '613', '614', '615', '616', '617', '618', '619', '620', '621', '622',\n",
    "            '623', '624', '625', '626', '627', '628', '629', '630', '631', '633',\n",
    "            '634']\n",
    "#subjects = ['101', '102']\n",
    "kappa_upper = 0.21\n",
    "kappa_lower = 0.31\n",
    "\n",
    "sink_dir = '/Users/katherine/Dropbox/Projects/physics-retrieval/data/output'\n",
    "data_dir = '/Users/katherine/Dropbox/Projects/physics-retrieval/data'\n",
    "\n",
    "shen = '/home/kbott006/physics-retrieval/shen2015_2mm_268_parcellation.nii.gz'\n",
    "craddock = '/home/kbott006/physics-retrieval/craddock2012_tcorr05_2level_270_2mm.nii.gz'\n",
    "masks = ['shen2015', 'craddock2012']\n",
    "\n",
    "tasks = {'reas': [{'conditions': ['Reasoning', 'Baseline']},\n",
    "                  {'runs': [0,1]}],\n",
    "         'retr': [{'conditions': ['Physics', 'General']},\n",
    "                  {'runs': [0,1]}], \n",
    "         'fci': [{'conditions': ['Physics', 'NonPhysics']},\n",
    "                  {'runs': [0,1,2]}]}\n",
    "\n",
    "sessions = [0,1]\n",
    "sesh = ['pre', 'post']\n",
    "conds = ['high-level', 'lower-level']"
   ]
  },
  {
   "cell_type": "code",
   "execution_count": 3,
   "metadata": {},
   "outputs": [],
   "source": [
    "b_df = pd.read_csv(join(data_dir, 'rescored', 'non-brain-data.csv'), index_col=0, header=0)\n",
    "\n",
    "df_f = b_df[b_df['Sex'] == 'F']\n",
    "df_f = df_f.drop('Sex', axis=1)\n",
    "df_m = b_df[b_df['Sex'] == 'M']\n",
    "df_m = df_m.drop('Sex', axis=1)\n",
    "\n",
    "df_f['const'] = 1\n",
    "df_m['const'] = 1"
   ]
  },
  {
   "cell_type": "code",
   "execution_count": 5,
   "metadata": {},
   "outputs": [],
   "source": [
    "rest_fd = pd.read_csv('/Users/katherine/Dropbox/Projects/physics-retrieval/data/avg-fd-per-run-rest_2019-05-31.csv', index_col=0, header=0)\n",
    "rest_fd['normalized fd'] = (rest_fd['average fd']-np.mean(rest_fd['average fd']))/np.std(rest_fd['average fd'])"
   ]
  },
  {
   "cell_type": "code",
   "execution_count": 6,
   "metadata": {},
   "outputs": [],
   "source": [
    "df_pivot = rest_fd.reset_index()\n",
    "rest_fd = df_pivot.pivot(index='subject', columns='session', values='normalized fd')\n",
    "rest_fd.rename({'pre': 'pre rest fd', 'post': 'post rest fd'}, axis=1, inplace=True)"
   ]
  },
  {
   "cell_type": "code",
   "execution_count": 7,
   "metadata": {},
   "outputs": [],
   "source": [
    "fd = pd.read_csv(join(data_dir, 'avg-fd-per-condition-per-run_2019-05-29.csv'), index_col=0, header=0)\n",
    "fd['normalized fd'] = (fd['average fd']-np.mean(fd['average fd']))/np.std(fd['average fd'])\n",
    "retr_fd = fd[fd['task'] == 'retr']\n",
    "reas_fd = fd[fd['task'] == 'reas']\n",
    "fci_fd = fd[fd['task'] == 'fci']\n",
    "\n",
    "df_pivot = retr_fd[retr_fd['condition'] == 'high-level'].reset_index()\n",
    "retr_phys_fd = df_pivot.pivot(index='subject', columns='session', values='average fd')\n",
    "retr_phys_fd.rename({'pre': 'pre phys retr fd', 'post': 'post phys retr fd'}, axis=1, inplace=True)\n",
    "\n",
    "df_pivot = retr_fd[retr_fd['condition'] == 'lower-level'].reset_index()\n",
    "retr_genr_fd = df_pivot.pivot(index='subject', columns='session', values='average fd')\n",
    "retr_genr_fd.rename({'pre': 'pre gen retr fd', 'post': 'post gen retr fd'}, axis=1, inplace=True)\n",
    "\n",
    "df_pivot = reas_fd[reas_fd['condition'] == 'high-level'].reset_index()\n",
    "reas_inf_fd = df_pivot.pivot(index='subject', columns='session', values='average fd')\n",
    "reas_inf_fd.rename({'pre': 'pre infr reas fd', 'post': 'post infr reas fd'}, axis=1, inplace=True)\n",
    "\n",
    "df_pivot = reas_fd[reas_fd['condition'] == 'lower-level'].reset_index()\n",
    "reas_base_fd = df_pivot.pivot(index='subject', columns='session', values='average fd')\n",
    "reas_base_fd.rename({'pre': 'pre base reas fd', 'post': 'post base reas fd'}, axis=1, inplace=True)\n",
    "\n",
    "df_pivot = fci_fd[fci_fd['condition'] == 'high-level'].reset_index()\n",
    "fci_phys_fd = df_pivot.pivot(index='subject', columns='session', values='average fd')\n",
    "fci_phys_fd.rename({'pre': 'pre phys fci fd', 'post': 'post phys fci fd'}, axis=1, inplace=True)\n",
    "\n",
    "df_pivot = fci_fd[fci_fd['condition'] == 'lower-level'].reset_index()\n",
    "fci_ctrl_fd = df_pivot.pivot(index='subject', columns='session', values='average fd')\n",
    "fci_ctrl_fd.rename({'pre': 'pre ctrl fci fd', 'post': 'post ctrl fci fd'}, axis=1, inplace=True)"
   ]
  },
  {
   "cell_type": "code",
   "execution_count": 8,
   "metadata": {},
   "outputs": [],
   "source": [
    "big_df = pd.concat([b_df, \n",
    "                    retr_phys_fd, \n",
    "                    retr_genr_fd, \n",
    "                    fci_phys_fd, \n",
    "                    fci_ctrl_fd, \n",
    "                    reas_base_fd, \n",
    "                    reas_inf_fd, \n",
    "                    rest_fd], axis=1)\n",
    "big_df.to_csv(join(data_dir, 'rescored', 'non-brain-data+fd.csv'))"
   ]
  }
 ],
 "metadata": {
  "kernelspec": {
   "display_name": "Python 3",
   "language": "python",
   "name": "python3"
  },
  "language_info": {
   "codemirror_mode": {
    "name": "ipython",
    "version": 3
   },
   "file_extension": ".py",
   "mimetype": "text/x-python",
   "name": "python",
   "nbconvert_exporter": "python",
   "pygments_lexer": "ipython3",
   "version": "3.7.6"
  }
 },
 "nbformat": 4,
 "nbformat_minor": 2
}
