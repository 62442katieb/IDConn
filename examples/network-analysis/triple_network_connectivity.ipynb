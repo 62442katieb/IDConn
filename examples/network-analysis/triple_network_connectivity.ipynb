{
 "cells": [
  {
   "cell_type": "code",
   "execution_count": 2,
   "metadata": {},
   "outputs": [],
   "source": [
    "import numpy as np\n",
    "import pandas as pd\n",
    "from os import makedirs\n",
    "from os.path import join, exists\n",
    "import bct\n",
    "import datetime"
   ]
  },
  {
   "cell_type": "code",
   "execution_count": 5,
   "metadata": {},
   "outputs": [],
   "source": [
    "subjects = ['101', '102', '103', '104', '106', '107', '108', '110', '212', '213',\n",
    "            '214', '215', '216', '217', '218', '219', '320', '321', '322', '323',\n",
    "            '324', '325', '327', '328', '329', '330', '331', '332', '333', '334',\n",
    "            '335', '336', '337', '338', '339', '340', '341', '342', '343', '344',\n",
    "            '345', '346', '347', '348', '349', '350', '451', '452', '453', '455',\n",
    "            '456', '457', '458', '459', '460', '462', '463', '464', '465', '467',\n",
    "            '468', '469', '470', '502', '503', '571', '572', '573', '574', '575',\n",
    "            '577', '578', '579', '580', '581', '582', '584', '585', '586', '587',\n",
    "            '588', '589', '590', '591', '592', '593', '594', '595', '596', '597',\n",
    "            '598', '604', '605', '606', '607', '608', '609', '610', '611', '612',\n",
    "            '613', '614', '615', '616', '617', '618', '619', '620', '621', '622',\n",
    "            '623', '624', '625', '626', '627', '628', '629', '630', '631', '633',\n",
    "            '634']\n",
    "#subjects = ['101', '102']\n",
    "kappa_upper = 0.21\n",
    "kappa_lower = 0.31\n",
    "\n",
    "sink_dir = '/Users/katherine/Dropbox/Projects/physics-retrieval/data/output'\n",
    "\n",
    "shen = '/home/kbott006/physics-retrieval/shen2015_2mm_268_parcellation.nii.gz'\n",
    "craddock = '/home/kbott006/physics-retrieval/craddock2012_tcorr05_2level_270_2mm.nii.gz'\n",
    "masks = ['shen2015', 'craddock2012']\n",
    "\n",
    "tasks = {'reas': [{'conditions': ['Reasoning', 'Baseline']},\n",
    "                  {'runs': [0,1]}],\n",
    "         'retr': [{'conditions': ['Physics', 'General']},\n",
    "                  {'runs': [0,1]}], \n",
    "         'fci': [{'conditions': ['Physics', 'NonPhysics']},\n",
    "                  {'runs': [0,1,2]}]}\n",
    "\n",
    "sessions = ['0','1']\n",
    "sesh = ['pre', 'post']\n",
    "conds = ['high-level', 'lower-level']\n",
    "\n",
    "lab_notebook_dir = '/home/kbott006/lab_notebook/'\n",
    "index = pd.MultiIndex.from_product([subjects, sessions, tasks, conds, masks], names=['subject', 'session', 'task', 'condition', 'mask'])\n",
    "lab_notebook = pd.DataFrame(index=index, columns=['start', 'end', 'errors'])\n",
    "\n",
    "index = pd.MultiIndex.from_product([subjects, sessions, tasks, conds, masks], names=['subject', 'session', 'task', 'condition', 'mask'])\n",
    "\n",
    "shen_ntwks = pd.read_csv('/Users/katherine/Dropbox/Projects/physics-retrieval/shen_268_parcellation_networklabels.csv', index_col=0, header=0)"
   ]
  },
  {
   "cell_type": "code",
   "execution_count": 6,
   "metadata": {},
   "outputs": [],
   "source": [
    "crad_dmn = np.genfromtxt('/Users/katherine/Dropbox/Projects/physics-retrieval/data/dmn_craddock_rois.txt', \n",
    "                       delimiter='  ')\n",
    "\n",
    "crad_rcen = np.genfromtxt('/Users/katherine/Dropbox/Projects/physics-retrieval/data/rcen_craddock_rois.txt', \n",
    "                       delimiter='  ')\n",
    "\n",
    "crad_lcen = np.genfromtxt('/Users/katherine/Dropbox/Projects/physics-retrieval/data/lcen_craddock_rois.txt', \n",
    "                       delimiter='  ')\n",
    "\n",
    "crad_sal = np.genfromtxt('/Users/katherine/Dropbox/Projects/physics-retrieval/data/sn_craddock_rois.txt', \n",
    "                       delimiter='  ')\n",
    "\n",
    "shen_dmn = np.genfromtxt('/Users/katherine/Dropbox/Projects/physics-retrieval/data/dmn_shen_rois.txt', \n",
    "                       delimiter='  ')\n",
    "\n",
    "shen_rcen = np.genfromtxt('/Users/katherine/Dropbox/Projects/physics-retrieval/data/rcen_shen_rois.txt', \n",
    "                       delimiter='  ')\n",
    "\n",
    "shen_lcen = np.genfromtxt('/Users/katherine/Dropbox/Projects/physics-retrieval/data/lcen_shen_rois.txt', \n",
    "                       delimiter='  ')\n",
    "shen_sal = np.genfromtxt('/Users/katherine/Dropbox/Projects/physics-retrieval/data/sn_shen_rois.txt', \n",
    "                       delimiter='  ')"
   ]
  },
  {
   "cell_type": "code",
   "execution_count": 7,
   "metadata": {},
   "outputs": [],
   "source": [
    "crad_dmn = np.unique(crad_dmn)\n",
    "crad_rcen = np.unique(crad_rcen)\n",
    "crad_lcen = np.unique(crad_lcen)\n",
    "crad_sal = np.unique(crad_sal)\n",
    "\n",
    "shen_dmn = np.unique(shen_dmn)\n",
    "shen_rcen = np.unique(shen_rcen)\n",
    "shen_lcen = np.unique(shen_lcen)\n",
    "shen_sal = np.unique(shen_sal)"
   ]
  },
  {
   "cell_type": "code",
   "execution_count": 8,
   "metadata": {},
   "outputs": [],
   "source": [
    "shen_dmn_noverlap = list(set(shen_dmn) - set(shen_sal) - set(shen_lcen) - set(shen_rcen))\n",
    "shen_cen_noverlap = list(set(shen_lcen.tolist() + shen_rcen.tolist()) - set(shen_sal) - set(shen_dmn))\n",
    "shen_sal_noverlap = list(set(shen_sal) - set(shen_dmn) - set(shen_lcen) - set(shen_rcen))"
   ]
  },
  {
   "cell_type": "code",
   "execution_count": 9,
   "metadata": {},
   "outputs": [],
   "source": [
    "crad_dmn_noverlap = list(set(crad_dmn) - set(crad_sal) - set(crad_lcen) - set(crad_rcen))\n",
    "crad_cen_noverlap = list(set(crad_lcen.tolist() + crad_rcen.tolist()) - set(crad_sal) - set(crad_dmn))\n",
    "crad_sal_noverlap = list(set(crad_sal) - set(crad_dmn) - set(crad_lcen) - set(crad_rcen))"
   ]
  },
  {
   "cell_type": "code",
   "execution_count": 10,
   "metadata": {},
   "outputs": [],
   "source": [
    "indices = []\n",
    "\n",
    "indices.append(shen_dmn_noverlap)\n",
    "indices.append(shen_cen_noverlap)\n",
    "indices.append(shen_sal_noverlap)"
   ]
  },
  {
   "cell_type": "code",
   "execution_count": 8,
   "metadata": {},
   "outputs": [],
   "source": [
    "indices = []\n",
    "\n",
    "indices.append(crad_dmn_noverlap)\n",
    "indices.append(crad_cen_noverlap)\n",
    "indices.append(crad_sal_noverlap)"
   ]
  },
  {
   "cell_type": "code",
   "execution_count": 9,
   "metadata": {},
   "outputs": [],
   "source": [
    "dmn_crad_labels = []\n",
    "for idx in crad_dmn_noverlap:\n",
    "    dmn_crad_labels.append(str(int(idx)) + 'dmn')\n",
    "\n",
    "cen_crad_labels = []\n",
    "for idx in crad_cen_noverlap:\n",
    "    cen_crad_labels.append(str(int(idx)) + 'cen')\n",
    "    \n",
    "sal_crad_labels = []\n",
    "for idx in crad_sal_noverlap:\n",
    "    sal_crad_labels.append(str(int(idx)) + 'sal')"
   ]
  },
  {
   "cell_type": "code",
   "execution_count": 10,
   "metadata": {},
   "outputs": [],
   "source": [
    "tri_crad_labels = dmn_crad_labels + cen_crad_labels + sal_crad_labels"
   ]
  },
  {
   "cell_type": "code",
   "execution_count": 11,
   "metadata": {},
   "outputs": [],
   "source": [
    "crad_labels = pd.Series(tri_crad_labels, index=np.arange(0, len(tri_crad_labels)))\n",
    "crad_labels.to_csv(join(sink_dir, 'tripartite_regions_craddock2012.csv'))"
   ]
  },
  {
   "cell_type": "code",
   "execution_count": 12,
   "metadata": {},
   "outputs": [],
   "source": [
    "dmn_shen_labels = []\n",
    "for idx in shen_dmn_noverlap:\n",
    "    dmn_shen_labels.append(str(int(idx)) + 'dmn')\n",
    "\n",
    "cen_shen_labels = []\n",
    "for idx in shen_cen_noverlap:\n",
    "    cen_shen_labels.append(str(int(idx)) + 'cen')\n",
    "    \n",
    "sal_shen_labels = []\n",
    "for idx in shen_sal_noverlap:\n",
    "    sal_shen_labels.append(str(int(idx)) + 'sal')"
   ]
  },
  {
   "cell_type": "code",
   "execution_count": 13,
   "metadata": {},
   "outputs": [],
   "source": [
    "tri_shen_labels = dmn_shen_labels + cen_shen_labels + sal_shen_labels"
   ]
  },
  {
   "cell_type": "code",
   "execution_count": 14,
   "metadata": {},
   "outputs": [],
   "source": [
    "shen_labels = pd.Series(tri_shen_labels, index=np.arange(0, len(tri_shen_labels)))\n",
    "shen_labels.to_csv(join(sink_dir, 'tripartite_regions_shen2015.csv'))"
   ]
  },
  {
   "cell_type": "code",
   "execution_count": 15,
   "metadata": {},
   "outputs": [],
   "source": [
    "indices = pd.MultiIndex.from_product([subjects, sessions, tasks.keys(), conds])"
   ]
  },
  {
   "cell_type": "code",
   "execution_count": 16,
   "metadata": {},
   "outputs": [],
   "source": [
    "df = pd.DataFrame(index=indices, dtype=np.float64)"
   ]
  },
  {
   "cell_type": "code",
   "execution_count": 18,
   "metadata": {},
   "outputs": [],
   "source": [
    "for subject in subjects:\n",
    "    for session in sessions:\n",
    "        for task in tasks.keys():\n",
    "            for i in np.arange(0, len(tasks[task][0]['conditions'])):\n",
    "                conditions = tasks[task][0]['conditions']\n",
    "\n",
    "                try:\n",
    "                    lab_notebook.at[(subject, session, task, conds[i], 'shen2015'),'start'] = str(datetime.datetime.now())\n",
    "                    corrmat = np.genfromtxt(join(sink_dir, \n",
    "                                                 '{0}-session-{1}_{2}-{3}_shen2015-corrmat.csv'.format(subject, \n",
    "                                                                                                       session, \n",
    "                                                                                                       task, \n",
    "                                                                                                       conditions[i])), \n",
    "                                            delimiter=' ')\n",
    "                    thresh = bct.threshold_proportional(corrmat, 0.5, copy=True)\n",
    "                    for idx1 in np.arange(0,len(tri_shen_labels)):\n",
    "                        for idx2 in np.arange(0,len(tri_shen_labels)):\n",
    "                            if idx1 != idx2:\n",
    "                                df.at[(subject, session, task, conds[i]), '{0}-{1}'.format(tri_shen_labels[idx1], tri_shen_labels[idx2])] = thresh[idx1,idx2]\n",
    "                except Exception as e:\n",
    "                    #print(subject, session, task, conds[i], e)\n",
    "                    pass\n",
    "        df.to_csv(join(sink_dir, 'task-shen-triplenetwork.csv'))"
   ]
  },
  {
   "cell_type": "code",
   "execution_count": 19,
   "metadata": {},
   "outputs": [],
   "source": [
    "df = pd.DataFrame(index=indices, dtype=np.float64)"
   ]
  },
  {
   "cell_type": "code",
   "execution_count": 20,
   "metadata": {},
   "outputs": [],
   "source": [
    "for subject in subjects:\n",
    "    for session in sessions:\n",
    "        for task in tasks.keys():\n",
    "            for i in np.arange(0, len(tasks[task][0]['conditions'])):\n",
    "                conditions = tasks[task][0]['conditions']\n",
    "\n",
    "                try:\n",
    "                    corrmat = np.genfromtxt(join(sink_dir, \n",
    "                                                 '{0}-session-{1}_{2}-{3}_craddock2012-corrmat.csv'.format(subject, \n",
    "                                                                                                       session, \n",
    "                                                                                                       task, \n",
    "                                                                                                       conditions[i])), \n",
    "                                            delimiter=' ')\n",
    "                    thresh = bct.threshold_proportional(corrmat, 0.5, copy=True)\n",
    "                    for idx1 in np.arange(0,len(tri_crad_labels)):\n",
    "                        for idx2 in np.arange(0,len(tri_crad_labels)):\n",
    "                            if idx1 != idx2:\n",
    "                                df.at[(subject, session, task, conds[i]), '{0}-{1}'.format(tri_crad_labels[idx1], tri_crad_labels[idx2])] = thresh[idx1,idx2]\n",
    "                except Exception as e:\n",
    "                    #print(subject, session, task, conds[i], e)\n",
    "                    pass\n",
    "        df.to_csv(join(sink_dir, 'task-crad-triplenetwork.csv'))"
   ]
  },
  {
   "cell_type": "code",
   "execution_count": 21,
   "metadata": {},
   "outputs": [],
   "source": [
    "indices = pd.MultiIndex.from_product([subjects, sessions])\n",
    "\n",
    "df_shen = pd.DataFrame(index=indices, dtype=np.float64)\n",
    "df_crad = pd.DataFrame(index=indices, dtype=np.float64)"
   ]
  },
  {
   "cell_type": "code",
   "execution_count": 22,
   "metadata": {},
   "outputs": [
    {
     "name": "stdout",
     "output_type": "stream",
     "text": [
      "213 0 File b'/Users/Katie/Dropbox/Projects/physics-retrieval/data/output/213-session-0-rest_network_corrmat_shen2015.csv' does not exist\n",
      "213 1 File b'/Users/Katie/Dropbox/Projects/physics-retrieval/data/output/213-session-1-rest_network_corrmat_shen2015.csv' does not exist\n",
      "322 0 File b'/Users/Katie/Dropbox/Projects/physics-retrieval/data/output/322-session-0-rest_network_corrmat_shen2015.csv' does not exist\n",
      "322 1 File b'/Users/Katie/Dropbox/Projects/physics-retrieval/data/output/322-session-1-rest_network_corrmat_shen2015.csv' does not exist\n",
      "329 0 File b'/Users/Katie/Dropbox/Projects/physics-retrieval/data/output/329-session-0-rest_network_corrmat_shen2015.csv' does not exist\n",
      "329 1 File b'/Users/Katie/Dropbox/Projects/physics-retrieval/data/output/329-session-1-rest_network_corrmat_shen2015.csv' does not exist\n",
      "332 0 File b'/Users/Katie/Dropbox/Projects/physics-retrieval/data/output/332-session-0-rest_network_corrmat_shen2015.csv' does not exist\n",
      "332 1 File b'/Users/Katie/Dropbox/Projects/physics-retrieval/data/output/332-session-1-rest_network_corrmat_shen2015.csv' does not exist\n",
      "452 0 File b'/Users/Katie/Dropbox/Projects/physics-retrieval/data/output/452-session-0-rest_network_corrmat_shen2015.csv' does not exist\n",
      "452 1 File b'/Users/Katie/Dropbox/Projects/physics-retrieval/data/output/452-session-1-rest_network_corrmat_shen2015.csv' does not exist\n",
      "456 0 File b'/Users/Katie/Dropbox/Projects/physics-retrieval/data/output/456-session-0-rest_network_corrmat_shen2015.csv' does not exist\n",
      "456 1 File b'/Users/Katie/Dropbox/Projects/physics-retrieval/data/output/456-session-1-rest_network_corrmat_shen2015.csv' does not exist\n",
      "457 0 File b'/Users/Katie/Dropbox/Projects/physics-retrieval/data/output/457-session-0-rest_network_corrmat_shen2015.csv' does not exist\n",
      "457 1 File b'/Users/Katie/Dropbox/Projects/physics-retrieval/data/output/457-session-1-rest_network_corrmat_shen2015.csv' does not exist\n",
      "575 0 File b'/Users/Katie/Dropbox/Projects/physics-retrieval/data/output/575-session-0-rest_network_corrmat_shen2015.csv' does not exist\n",
      "575 1 File b'/Users/Katie/Dropbox/Projects/physics-retrieval/data/output/575-session-1-rest_network_corrmat_shen2015.csv' does not exist\n",
      "579 0 File b'/Users/Katie/Dropbox/Projects/physics-retrieval/data/output/579-session-0-rest_network_corrmat_shen2015.csv' does not exist\n",
      "579 1 File b'/Users/Katie/Dropbox/Projects/physics-retrieval/data/output/579-session-1-rest_network_corrmat_shen2015.csv' does not exist\n",
      "580 0 File b'/Users/Katie/Dropbox/Projects/physics-retrieval/data/output/580-session-0-rest_network_corrmat_shen2015.csv' does not exist\n",
      "580 1 File b'/Users/Katie/Dropbox/Projects/physics-retrieval/data/output/580-session-1-rest_network_corrmat_shen2015.csv' does not exist\n",
      "585 1 File b'/Users/Katie/Dropbox/Projects/physics-retrieval/data/output/585-session-1-rest_network_corrmat_shen2015.csv' does not exist\n",
      "590 0 File b'/Users/Katie/Dropbox/Projects/physics-retrieval/data/output/590-session-0-rest_network_corrmat_shen2015.csv' does not exist\n",
      "590 1 File b'/Users/Katie/Dropbox/Projects/physics-retrieval/data/output/590-session-1-rest_network_corrmat_shen2015.csv' does not exist\n",
      "611 0 File b'/Users/Katie/Dropbox/Projects/physics-retrieval/data/output/611-session-0-rest_network_corrmat_shen2015.csv' does not exist\n",
      "611 1 File b'/Users/Katie/Dropbox/Projects/physics-retrieval/data/output/611-session-1-rest_network_corrmat_shen2015.csv' does not exist\n",
      "616 0 File b'/Users/Katie/Dropbox/Projects/physics-retrieval/data/output/616-session-0-rest_network_corrmat_shen2015.csv' does not exist\n",
      "616 1 File b'/Users/Katie/Dropbox/Projects/physics-retrieval/data/output/616-session-1-rest_network_corrmat_shen2015.csv' does not exist\n",
      "628 0 File b'/Users/Katie/Dropbox/Projects/physics-retrieval/data/output/628-session-0-rest_network_corrmat_shen2015.csv' does not exist\n",
      "628 1 File b'/Users/Katie/Dropbox/Projects/physics-retrieval/data/output/628-session-1-rest_network_corrmat_shen2015.csv' does not exist\n"
     ]
    }
   ],
   "source": [
    "for subject in subjects:\n",
    "    for session in sessions:\n",
    "        try:\n",
    "            corrmat = pd.read_csv(join(sink_dir, '{0}-session-{1}-rest_network_corrmat_shen2015.csv'.format(subject, session)), header=None, index_col=None)\n",
    "            thresh = bct.threshold_proportional(corrmat.values, 0.5, copy=False)\n",
    "            \n",
    "            for idx1 in np.arange(0,len(tri_shen_labels)):\n",
    "                for idx2 in np.arange(0,len(tri_shen_labels)):\n",
    "                    if idx1 != idx2:\n",
    "                        df_shen.at[(subject, session), '{0}-{1}'.format(tri_shen_labels[idx1], tri_shen_labels[idx2])] = thresh[idx1,idx2]\n",
    "            \n",
    "            corrmat = pd.read_csv(join(sink_dir, '{0}-session-{1}-rest_network_corrmat_craddock2012.csv'.format(subject, session)), header=None, index_col=None)\n",
    "            thresh = bct.threshold_proportional(corrmat.values, 0.5, copy=False)\n",
    "            for idx1 in np.arange(0,len(tri_crad_labels)):\n",
    "                for idx2 in np.arange(0,len(tri_crad_labels)):\n",
    "                    if idx1 != idx2:\n",
    "                        df_crad.at[(subject, session), '{0}-{1}'.format(tri_crad_labels[idx1], tri_crad_labels[idx2])] = thresh[idx1,idx2]\n",
    "        except Exception as e:\n",
    "            print(subject, session,e)\n",
    "            pass\n",
    "df_shen.to_csv(join(sink_dir, 'rest-shen-triplenetwork.csv'))\n",
    "df_crad.to_csv(join(sink_dir, 'rest-crad-triplenetwork.csv'))"
   ]
  },
  {
   "cell_type": "code",
   "execution_count": null,
   "metadata": {},
   "outputs": [],
   "source": []
  }
 ],
 "metadata": {
  "kernelspec": {
   "display_name": "Python 3",
   "language": "python",
   "name": "python3"
  },
  "language_info": {
   "codemirror_mode": {
    "name": "ipython",
    "version": 3
   },
   "file_extension": ".py",
   "mimetype": "text/x-python",
   "name": "python",
   "nbconvert_exporter": "python",
   "pygments_lexer": "ipython3",
   "version": "3.7.8"
  }
 },
 "nbformat": 4,
 "nbformat_minor": 4
}
