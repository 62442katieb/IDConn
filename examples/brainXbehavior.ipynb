{
 "cells": [
  {
   "cell_type": "code",
   "execution_count": 1,
   "metadata": {},
   "outputs": [],
   "source": [
    "import math\n",
    "#numpy is numerical python, which lets us do math!\n",
    "import numpy as np\n",
    "#pandas is for reading in and manipulating dataframe\n",
    "import pandas as pd\n",
    "#matplotlib is a plotting library the originated in matlab\n",
    "from matplotlib import pyplot as plt\n",
    "#seaborn wraps around matplotlib so that we can make pretty plots more easliy\n",
    "import seaborn as sns\n",
    "#import missingno as msno\n",
    "#this little line of code lets us see the plots in the notebook\n",
    "%matplotlib inline\n",
    "#this uses seaborn (sns) to set the style for all the plots\n",
    "sns.set(context='poster', style='whitegrid', font_scale=1.4)\n",
    "from os.path import join\n",
    "from scipy.stats import ttest_ind, spearmanr, pearsonr, ttest_rel, kstest\n",
    "import statsmodels.formula.api as smf\n",
    "import statsmodels.api as sm\n",
    "from statsmodels.stats.anova import anova_lm\n",
    "from sklearn.impute import KNNImputer\n",
    "#import fancyimpute as fi\n",
    "\n",
    "#less important for plotting\n",
    "from glob import glob\n",
    "import statsmodels.api as sm\n",
    "from statsmodels.iolib.summary2 import summary_col\n",
    "from statsmodels.sandbox.stats.multicomp import multipletests"
   ]
  },
  {
   "cell_type": "code",
   "execution_count": 2,
   "metadata": {},
   "outputs": [
    {
     "data": {
      "text/plain": [
       "'1.0.5'"
      ]
     },
     "execution_count": 2,
     "metadata": {},
     "output_type": "execute_result"
    }
   ],
   "source": [
    "import pandas\n",
    "pandas.__version__"
   ]
  },
  {
   "cell_type": "code",
   "execution_count": 3,
   "metadata": {},
   "outputs": [],
   "source": [
    "def calculate_pvalues(df, correlation):\n",
    "    from scipy.stats import pearsonr, pearsonr\n",
    "    df = df.dropna()._get_numeric_data()\n",
    "    dfcols = pd.DataFrame(columns=df.columns)\n",
    "    pvalues = dfcols.transpose().join(dfcols, how='outer')\n",
    "    for r in df.columns:\n",
    "        for c in df.columns:\n",
    "            if correlation == 'pearson':\n",
    "                pvalues[r][c] = round(pearsonr(df[r], df[c])[1], 4)\n",
    "            if correlation == 'spearman':\n",
    "                pvalues[r][c] = round(spearmanr(df[r], df[c])[1], 4)\n",
    "            else:\n",
    "                raise ValueError('Invalid correlation method specified. Accpetable values are \\'pearson\\' and \\'spearman\\'.')\n",
    "    return pvalues"
   ]
  },
  {
   "cell_type": "code",
   "execution_count": 4,
   "metadata": {},
   "outputs": [],
   "source": [
    "#Li & Ji (2005) method for multiple comparisons corrections\n",
    "#calculating number of effective comparisons M_eff\n",
    "def liji_sidak_mc(data, alpha):\n",
    "    import math\n",
    "    import numpy as np\n",
    "    \n",
    "    mc_corrmat = data.corr()\n",
    "    eigvals, eigvecs = np.linalg.eig(mc_corrmat)\n",
    "\n",
    "    M_eff = 0\n",
    "    for eigval in eigvals:\n",
    "        if abs(eigval) >= 0:\n",
    "            if abs(eigval) >= 1:\n",
    "                M_eff += 1\n",
    "            else:\n",
    "                M_eff += abs(eigval) - math.floor(abs(eigval))\n",
    "        else:\n",
    "            M_eff += 0\n",
    "    print('Number of effective comparisons: {0}'.format(M_eff))\n",
    "\n",
    "    #and now applying M_eff to the Sidak procedure\n",
    "    sidak_p = 1 - (1 - alpha)**(1/M_eff)\n",
    "    if sidak_p < 0.00001:\n",
    "        print('Critical value of {:.3f}'.format(alpha),'becomes {:2e} after corrections'.format(sidak_p))\n",
    "    else:\n",
    "        print('Critical value of {:.3f}'.format(alpha),'becomes {:.6f} after corrections'.format(sidak_p))\n",
    "    return sidak_p, M_eff"
   ]
  },
  {
   "cell_type": "code",
   "execution_count": 5,
   "metadata": {},
   "outputs": [],
   "source": [
    "fig_dir = '/Users/kbottenh/Dropbox/Projects/physics-retrieval/figures'"
   ]
  },
  {
   "cell_type": "code",
   "execution_count": 6,
   "metadata": {},
   "outputs": [],
   "source": [
    "data_dir = '/Users/kbottenh/Dropbox/Projects/physics-retrieval/data'\n",
    "df = pd.read_csv(join(data_dir, 'rescored', 'physics_learning-nonbrain_OLS-missing.csv'), \n",
    "                 index_col=0, header=0)"
   ]
  },
  {
   "cell_type": "code",
   "execution_count": 7,
   "metadata": {},
   "outputs": [],
   "source": [
    "post_iq = ['VCI2', 'PRI2', 'WMI2', 'PSI2', 'FSIQ2']\n",
    "delta_iq = ['deltaVCI', 'deltaPRI', 'deltaWMI', 'deltaPSI', 'deltaFSIQ']\n",
    "iq_vars = post_iq + delta_iq"
   ]
  },
  {
   "cell_type": "code",
   "execution_count": 8,
   "metadata": {},
   "outputs": [],
   "source": [
    "#rsgt_df = pd.read_csv(join(data_dir, 'resting-state_graphtheory_shen+craddock_2019-05-29.csv'), \n",
    "#                      index_col=0, header=0)\n",
    "#rsgt_df = pd.read_csv(join(data_dir, 'output', 'resting-state_graphtheory_shen+craddock_2019-11-20.csv'), \n",
    "#                      index_col=0, header=0)\n",
    "head_size = pd.read_csv(join(data_dir, 'head-size_2019-05-29 15:19:53.287525.csv'), index_col=0, header=0)\n",
    "head_size['normalized head size'] = (head_size['average_head_size']-np.mean(head_size['average_head_size']))/np.std(head_size['average_head_size'])"
   ]
  },
  {
   "cell_type": "code",
   "execution_count": 9,
   "metadata": {},
   "outputs": [],
   "source": [
    "fd = pd.read_csv(join(data_dir, 'avg-fd-per-condition-per-run_2019-05-29.csv'), index_col=0, header=0)\n",
    "fd['normalized fd'] = (fd['average fd']-np.mean(fd['average fd']))/np.std(fd['average fd'])\n",
    "retr_fd = fd[fd['task'] == 'retr']\n",
    "#reas_fd = fd[fd['task'] == 'reas']\n",
    "fci_fd = fd[fd['task'] == 'fci']\n",
    "\n",
    "df_pivot = retr_fd[retr_fd['condition'] == 'high-level'].reset_index()\n",
    "retr_phys_fd = df_pivot.pivot(index='subject', columns='session', values='average fd')\n",
    "retr_phys_fd.rename({'pre': 'pre phys retr fd', 'post': 'post phys retr fd'}, axis=1, inplace=True)\n",
    "\n",
    "df_pivot = retr_fd[retr_fd['condition'] == 'lower-level'].reset_index()\n",
    "retr_genr_fd = df_pivot.pivot(index='subject', columns='session', values='average fd')\n",
    "retr_genr_fd.rename({'pre': 'pre gen retr fd', 'post': 'post gen retr fd'}, axis=1, inplace=True)\n",
    "\n",
    "#df_pivot = reas_fd[reas_fd['condition'] == 'high-level'].reset_index()\n",
    "#reas_inf_fd = df_pivot.pivot(index='subject', columns='session', values='average fd')\n",
    "#reas_inf_fd.rename({'pre': 'pre infr reas fd', 'post': 'post infr reas fd'}, axis=1, inplace=True)\n",
    "\n",
    "#df_pivot = reas_fd[reas_fd['condition'] == 'lower-level'].reset_index()\n",
    "#reas_base_fd = df_pivot.pivot(index='subject', columns='session', values='average fd')\n",
    "#reas_base_fd.rename({'pre': 'pre base reas fd', 'post': 'post base reas fd'}, axis=1, inplace=True)\n",
    "\n",
    "df_pivot = fci_fd[fci_fd['condition'] == 'high-level'].reset_index()\n",
    "fci_phys_fd = df_pivot.pivot(index='subject', columns='session', values='average fd')\n",
    "fci_phys_fd.rename({'pre': 'pre phys fci fd', 'post': 'post phys fci fd'}, axis=1, inplace=True)\n",
    "\n",
    "df_pivot = fci_fd[fci_fd['condition'] == 'lower-level'].reset_index()\n",
    "fci_ctrl_fd = df_pivot.pivot(index='subject', columns='session', values='average fd')\n",
    "fci_ctrl_fd.rename({'pre': 'pre ctrl fci fd', 'post': 'post ctrl fci fd'}, axis=1, inplace=True)"
   ]
  },
  {
   "cell_type": "markdown",
   "metadata": {},
   "source": [
    "rest_fd = pd.read_csv(join(data_dir, 'avg-fd-per-run-rest_2019-05-31.csv'), index_col=0, header=0)\n",
    "rs_fd = rest_fd.reset_index().pivot(index='subject', columns='session', values='average fd')\n",
    "rs_fd.rename({'pre': 'pre rest fd', 'post': 'post rest fd'}, axis=1, inplace=True)"
   ]
  },
  {
   "cell_type": "code",
   "execution_count": 10,
   "metadata": {},
   "outputs": [],
   "source": [
    "fci_df = pd.read_csv(join(data_dir, \n",
    "                          'physics-learning-fci_graphtheory_shen+craddock_2019-05-31.csv'), \n",
    "                     index_col=0, header=0)\n",
    "\n",
    "phys_fci = fci_df[fci_df['condition'] == 'high-level']\n",
    "ctrl_fci = fci_df[fci_df['condition'] == 'lower-level']\n",
    "\n",
    "#physics fci measures per session per parcellation\n",
    "df_pivot = phys_fci[phys_fci['mask'] == 'shen2015'].reset_index()\n",
    "shen_eff_phys_fci_df = df_pivot.pivot(index='subject', columns='session', values='efficiency')\n",
    "shen_eff_phys_fci_df.rename({0: 'pre phys fci shen eff', 1: \n",
    "                             'post phys fci shen eff'}, \n",
    "                            axis=1, inplace=True)\n",
    "\n",
    "#shen_cpl_phys_fci_df = df_pivot.pivot(index='subject', columns='session', values='charpath')\n",
    "#shen_cpl_phys_fci_df.rename({0: 'pre phys fci shen cpl', 1: 'post phys fci shen cpl'}, axis=1, inplace=True)\n",
    "\n",
    "shen_mod_phys_fci_df = df_pivot.pivot(index='subject', columns='session', values='modularity')\n",
    "shen_mod_phys_fci_df.rename({0: 'pre phys fci shen mod', 1: 'post phys fci shen mod'}, axis=1, inplace=True)\n",
    "\n",
    "df_pivot = phys_fci[phys_fci['mask'] == 'craddock2012'].reset_index()\n",
    "crad_eff_phys_fci_df = df_pivot.pivot(index='subject', columns='session', values='efficiency')\n",
    "crad_eff_phys_fci_df.rename({0: 'pre phys fci crad eff', 1: 'post phys fci crad eff'}, axis=1, inplace=True)\n",
    "\n",
    "#crad_cpl_phys_fci_df = df_pivot.pivot(index='subject', columns='session', values='charpath')\n",
    "#crad_cpl_phys_fci_df.rename({0: 'pre phys fci crad cpl', 1: 'post phys fci crad cpl'}, axis=1, inplace=True)\n",
    "\n",
    "crad_mod_phys_fci_df = df_pivot.pivot(index='subject', columns='session', values='modularity')\n",
    "crad_mod_phys_fci_df.rename({0: 'pre phys fci crad mod', 1: 'post phys fci crad mod'}, axis=1, inplace=True)\n",
    "\n",
    "\n",
    "#ctrl fci measures per session per parcellation\n",
    "df_pivot = ctrl_fci[ctrl_fci['mask'] == 'shen2015'].reset_index()\n",
    "shen_eff_ctrl_fci_df = df_pivot.pivot(index='subject', columns='session', values='efficiency')\n",
    "shen_eff_ctrl_fci_df.rename({0: 'pre ctrl fci shen eff', 1: 'post ctrl fci shen eff'}, axis=1, inplace=True)\n",
    "\n",
    "#shen_cpl_ctrl_fci_df = df_pivot.pivot(index='subject', columns='session', values='charpath')\n",
    "#shen_cpl_ctrl_fci_df.rename({0: 'pre ctrl fci shen cpl', 1: 'post ctrl fci shen cpl'}, axis=1, inplace=True)\n",
    "\n",
    "shen_mod_ctrl_fci_df = df_pivot.pivot(index='subject', columns='session', values='modularity')\n",
    "shen_mod_ctrl_fci_df.rename({0: 'pre ctrl fci shen mod', 1: 'post ctrl fci shen mod'}, axis=1, inplace=True)\n",
    "\n",
    "df_pivot = ctrl_fci[ctrl_fci['mask'] == 'craddock2012'].reset_index()\n",
    "crad_eff_ctrl_fci_df = df_pivot.pivot(index='subject', columns='session', values='efficiency')\n",
    "crad_eff_ctrl_fci_df.rename({0: 'pre ctrl fci crad eff', 1: 'post ctrl fci crad eff'}, axis=1, inplace=True)\n",
    "\n",
    "#crad_cpl_ctrl_fci_df = df_pivot.pivot(index='subject', columns='session', values='charpath')\n",
    "#crad_cpl_ctrl_fci_df.rename({0: 'pre ctrl fci crad cpl', 1: 'post ctrl fci crad cpl'}, axis=1, inplace=True)\n",
    "\n",
    "crad_mod_ctrl_fci_df = df_pivot.pivot(index='subject', columns='session', values='modularity')\n",
    "crad_mod_ctrl_fci_df.rename({0: 'pre ctrl fci crad mod', 1: 'post ctrl fci crad mod'}, axis=1, inplace=True)"
   ]
  },
  {
   "cell_type": "code",
   "execution_count": 11,
   "metadata": {},
   "outputs": [],
   "source": [
    "task_df = pd.read_csv(join(data_dir, 'physics-learning-tasks_graphtheory_shen+craddock_2019-05-30.csv'), index_col=0, header=0)\n",
    "retr_df = task_df[task_df['task'] == 'retr']\n",
    "retr_phys_df = retr_df[retr_df['condition'] == 'high-level']\n",
    "genr_phys_df = retr_df[retr_df['condition'] == 'lower-level']\n",
    "\n",
    "#physics retrieval measures per session per parcellation\n",
    "df_pivot = retr_phys_df[retr_phys_df['mask'] == 'shen2015'].reset_index()\n",
    "shen_eff_retr_phys_df = df_pivot.pivot(index='subject', columns='session', values='efficiency')\n",
    "shen_eff_retr_phys_df.rename({0: 'pre phys retr shen eff', 1: 'post phys retr shen eff'}, axis=1, inplace=True)\n",
    "\n",
    "#shen_cpl_retr_phys_df = df_pivot.pivot(index='subject', columns='session', values='charpath')\n",
    "#shen_cpl_retr_phys_df.rename({0: 'pre phys retr shen cpl', 1: 'post phys retr shen cpl'}, axis=1, inplace=True)\n",
    "\n",
    "shen_mod_retr_phys_df = df_pivot.pivot(index='subject', columns='session', values='modularity')\n",
    "shen_mod_retr_phys_df.rename({0: 'pre phys retr shen mod', 1: 'post phys retr shen mod'}, axis=1, inplace=True)\n",
    "\n",
    "df_pivot = retr_phys_df[retr_phys_df['mask'] == 'craddock2012'].reset_index()\n",
    "crad_eff_retr_phys_df = df_pivot.pivot(index='subject', columns='session', values='efficiency')\n",
    "crad_eff_retr_phys_df.rename({0: 'pre phys retr crad eff', 1: 'post phys retr crad eff'}, axis=1, inplace=True)\n",
    "\n",
    "#crad_cpl_retr_phys_df = df_pivot.pivot(index='subject', columns='session', values='charpath')\n",
    "#crad_cpl_retr_phys_df.rename({0: 'pre phys retr crad cpl', 1: 'post phys retr crad cpl'}, axis=1, inplace=True)\n",
    "\n",
    "crad_mod_retr_phys_df = df_pivot.pivot(index='subject', columns='session', values='modularity')\n",
    "crad_mod_retr_phys_df.rename({0: 'pre phys retr crad mod', 1: 'post phys retr crad mod'}, axis=1, inplace=True)\n",
    "\n",
    "#general retrieval measures per session per parcellation\n",
    "df_pivot = genr_phys_df[genr_phys_df['mask'] == 'shen2015'].reset_index()\n",
    "shen_eff_retr_genr_df = df_pivot.pivot(index='subject', columns='session', values='efficiency')\n",
    "shen_eff_retr_genr_df.rename({0: 'pre gen retr shen eff', 1: 'post gen retr shen eff'}, axis=1, inplace=True)\n",
    "\n",
    "#shen_cpl_retr_genr_df = df_pivot.pivot(index='subject', columns='session', values='charpath')\n",
    "#shen_cpl_retr_genr_df.rename({0: 'pre gen retr shen cpl', 1: 'post gen retr shen cpl'}, axis=1, inplace=True)\n",
    "\n",
    "shen_mod_retr_genr_df = df_pivot.pivot(index='subject', columns='session', values='modularity')\n",
    "shen_mod_retr_genr_df.rename({0: 'pre gen retr shen mod', 1: 'post gen retr shen mod'}, axis=1, inplace=True)\n",
    "\n",
    "df_pivot = genr_phys_df[genr_phys_df['mask'] == 'craddock2012'].reset_index()\n",
    "crad_eff_retr_genr_df = df_pivot.pivot(index='subject', columns='session', values='efficiency')\n",
    "crad_eff_retr_genr_df.rename({0: 'pre gen retr crad eff', 1: 'post gen retr crad eff'}, axis=1, inplace=True)\n",
    "\n",
    "#crad_cpl_retr_genr_df = df_pivot.pivot(index='subject', columns='session', values='charpath')\n",
    "#crad_cpl_retr_genr_df.rename({0: 'pre gen retr crad cpl', 1: 'post gen retr crad cpl'}, axis=1, inplace=True)\n",
    "\n",
    "crad_mod_retr_genr_df = df_pivot.pivot(index='subject', columns='session', values='modularity')\n",
    "crad_mod_retr_genr_df.rename({0: 'pre gen retr crad mod', 1: 'post gen retr crad mod'}, axis=1, inplace=True)"
   ]
  },
  {
   "cell_type": "markdown",
   "metadata": {},
   "source": [
    "reas_df = task_df[task_df['task'] == 'reas']\n",
    "reas_infr_df = reas_df[reas_df['condition'] == 'high-level']\n",
    "reas_base_df = reas_df[reas_df['condition'] == 'lower-level']\n",
    "\n",
    "#infrics reasieval measures per session per parcellation\n",
    "df_pivot = reas_infr_df[reas_infr_df['mask'] == 'shen2015'].reset_index()\n",
    "shen_eff_reas_infr_df = df_pivot.pivot(index='subject', columns='session', values='efficiency')\n",
    "shen_eff_reas_infr_df.rename({0: 'pre infr reas shen eff', 1: 'post infr reas shen eff'}, axis=1, inplace=True)\n",
    "\n",
    "shen_cpl_reas_infr_df = df_pivot.pivot(index='subject', columns='session', values='charpath')\n",
    "shen_cpl_reas_infr_df.rename({0: 'pre infr reas shen cpl', 1: 'post infr reas shen cpl'}, axis=1, inplace=True)\n",
    "\n",
    "shen_mod_reas_infr_df = df_pivot.pivot(index='subject', columns='session', values='modularity')\n",
    "shen_mod_reas_infr_df.rename({0: 'pre infr reas shen mod', 1: 'post infr reas shen mod'}, axis=1, inplace=True)\n",
    "\n",
    "df_pivot = reas_infr_df[reas_infr_df['mask'] == 'craddock2012'].reset_index()\n",
    "crad_eff_reas_infr_df = df_pivot.pivot(index='subject', columns='session', values='efficiency')\n",
    "crad_eff_reas_infr_df.rename({0: 'pre infr reas crad eff', 1: 'post infr reas crad eff'}, axis=1, inplace=True)\n",
    "\n",
    "crad_cpl_reas_infr_df = df_pivot.pivot(index='subject', columns='session', values='charpath')\n",
    "crad_cpl_reas_infr_df.rename({0: 'pre infr reas crad cpl', 1: 'post infr reas crad cpl'}, axis=1, inplace=True)\n",
    "\n",
    "crad_mod_reas_infr_df = df_pivot.pivot(index='subject', columns='session', values='modularity')\n",
    "crad_mod_reas_infr_df.rename({0: 'pre infr reas crad mod', 1: 'post infr reas crad mod'}, axis=1, inplace=True)\n",
    "\n",
    "#baseeral reasieval measures per session per parcellation\n",
    "df_pivot = reas_base_df[reas_base_df['mask'] == 'shen2015'].reset_index()\n",
    "shen_eff_reas_base_df = df_pivot.pivot(index='subject', columns='session', values='efficiency')\n",
    "shen_eff_reas_base_df.rename({0: 'pre base reas shen eff', 1: 'post base reas shen eff'}, axis=1, inplace=True)\n",
    "\n",
    "shen_cpl_reas_base_df = df_pivot.pivot(index='subject', columns='session', values='charpath')\n",
    "shen_cpl_reas_base_df.rename({0: 'pre base reas shen cpl', 1: 'post base reas shen cpl'}, axis=1, inplace=True)\n",
    "\n",
    "shen_mod_reas_base_df = df_pivot.pivot(index='subject', columns='session', values='modularity')\n",
    "shen_mod_reas_base_df.rename({0: 'pre base reas shen mod', 1: 'post base reas shen mod'}, axis=1, inplace=True)\n",
    "\n",
    "df_pivot = reas_base_df[reas_base_df['mask'] == 'craddock2012'].reset_index()\n",
    "crad_eff_reas_base_df = df_pivot.pivot(index='subject', columns='session', values='efficiency')\n",
    "crad_eff_reas_base_df.rename({0: 'pre base reas crad eff', 1: 'post base reas crad eff'}, axis=1, inplace=True)\n",
    "\n",
    "crad_cpl_reas_base_df = df_pivot.pivot(index='subject', columns='session', values='charpath')\n",
    "crad_cpl_reas_base_df.rename({0: 'pre base reas crad cpl', 1: 'post base reas crad cpl'}, axis=1, inplace=True)\n",
    "\n",
    "crad_mod_reas_base_df = df_pivot.pivot(index='subject', columns='session', values='modularity')\n",
    "crad_mod_reas_base_df.rename({0: 'pre base reas crad mod', 1: 'post base reas crad mod'}, axis=1, inplace=True)"
   ]
  },
  {
   "cell_type": "code",
   "execution_count": 12,
   "metadata": {},
   "outputs": [],
   "source": [
    "#demo_df[demo_df['Strt.Level'] < 0] = np.nan"
   ]
  },
  {
   "cell_type": "code",
   "execution_count": 13,
   "metadata": {},
   "outputs": [],
   "source": [
    "all_df = pd.concat((df, head_size['normalized head size'],\n",
    "                    shen_eff_retr_phys_df, shen_mod_retr_phys_df,\n",
    "                    crad_eff_retr_phys_df, crad_mod_retr_phys_df, \n",
    "                    shen_eff_retr_genr_df, shen_mod_retr_genr_df, \n",
    "                    crad_eff_retr_genr_df, crad_mod_retr_genr_df,\n",
    "                    shen_eff_phys_fci_df, shen_mod_phys_fci_df,\n",
    "                    crad_eff_phys_fci_df, crad_mod_phys_fci_df,\n",
    "                    shen_eff_ctrl_fci_df, shen_mod_ctrl_fci_df,\n",
    "                    crad_eff_ctrl_fci_df, crad_mod_ctrl_fci_df, \n",
    "                    retr_phys_fd, retr_genr_fd, fci_phys_fd, fci_ctrl_fd), axis=1)\n",
    "\n",
    "missing_df = pd.DataFrame(columns=all_df.keys(), index=all_df.index)\n",
    "\n",
    "for key in missing_df.keys():\n",
    "    missing_df[key] = all_df[key].isnull()\n",
    "\n",
    "missing_df.replace({False: 0, True:1}, inplace=True)\n"
   ]
  },
  {
   "cell_type": "code",
   "execution_count": 14,
   "metadata": {},
   "outputs": [
    {
     "data": {
      "text/html": [
       "<div>\n",
       "<style scoped>\n",
       "    .dataframe tbody tr th:only-of-type {\n",
       "        vertical-align: middle;\n",
       "    }\n",
       "\n",
       "    .dataframe tbody tr th {\n",
       "        vertical-align: top;\n",
       "    }\n",
       "\n",
       "    .dataframe thead th {\n",
       "        text-align: right;\n",
       "    }\n",
       "</style>\n",
       "<table border=\"1\" class=\"dataframe\">\n",
       "  <thead>\n",
       "    <tr style=\"text-align: right;\">\n",
       "      <th></th>\n",
       "      <th></th>\n",
       "      <th></th>\n",
       "      <th></th>\n",
       "      <th>mean</th>\n",
       "      <th>sdev</th>\n",
       "    </tr>\n",
       "  </thead>\n",
       "  <tbody>\n",
       "    <tr>\n",
       "      <th rowspan=\"5\" valign=\"top\">pre</th>\n",
       "      <th rowspan=\"4\" valign=\"top\">retr</th>\n",
       "      <th rowspan=\"2\" valign=\"top\">physics</th>\n",
       "      <th>shen2015</th>\n",
       "      <td>0.027092</td>\n",
       "      <td>0.000059</td>\n",
       "    </tr>\n",
       "    <tr>\n",
       "      <th>craddock2012</th>\n",
       "      <td>0.028314</td>\n",
       "      <td>0.000019</td>\n",
       "    </tr>\n",
       "    <tr>\n",
       "      <th rowspan=\"2\" valign=\"top\">control</th>\n",
       "      <th>shen2015</th>\n",
       "      <td>0.029660</td>\n",
       "      <td>0.000008</td>\n",
       "    </tr>\n",
       "    <tr>\n",
       "      <th>craddock2012</th>\n",
       "      <td>0.030781</td>\n",
       "      <td>0.000048</td>\n",
       "    </tr>\n",
       "    <tr>\n",
       "      <th>fci</th>\n",
       "      <th>physics</th>\n",
       "      <th>shen2015</th>\n",
       "      <td>0.023679</td>\n",
       "      <td>0.000008</td>\n",
       "    </tr>\n",
       "  </tbody>\n",
       "</table>\n",
       "</div>"
      ],
      "text/plain": [
       "                                   mean      sdev\n",
       "pre retr physics shen2015      0.027092  0.000059\n",
       "                 craddock2012  0.028314  0.000019\n",
       "         control shen2015      0.029660  0.000008\n",
       "                 craddock2012  0.030781  0.000048\n",
       "    fci  physics shen2015      0.023679  0.000008"
      ]
     },
     "execution_count": 14,
     "metadata": {},
     "output_type": "execute_result"
    }
   ],
   "source": [
    "null_df = pd.read_csv(join(data_dir, 'output', 'local_efficiency/null_dist_effs.csv'), \n",
    "                   header=0, index_col=[0,1,2,3])\n",
    "null_df.head()"
   ]
  },
  {
   "cell_type": "code",
   "execution_count": 15,
   "metadata": {},
   "outputs": [],
   "source": [
    "masks = {'shen2015': 'shen', 'craddock2012': 'crad'}\n",
    "tasks = ['fci', 'retr']\n",
    "\n",
    "for mask in masks.keys():\n",
    "    for task in tasks:\n",
    "        null = null_df.loc['post', task, 'physics', mask]['mean']\n",
    "        vals = all_df['post phys {0} {1} eff'.format(task, masks[mask])]\n",
    "        all_df['post phys {0} {1} eff'.format(task, masks[mask])] = vals / null\n",
    "all_df['F'] = all_df['F'] - 0.5\n"
   ]
  },
  {
   "cell_type": "code",
   "execution_count": 16,
   "metadata": {},
   "outputs": [],
   "source": [
    "impute_pls = KNNImputer(n_neighbors=3, weights='distance')\n",
    "ols_imputed = impute_pls.fit_transform(all_df)\n",
    "imp_df = pd.DataFrame(ols_imputed, columns=all_df.columns, index=all_df.index)"
   ]
  },
  {
   "cell_type": "code",
   "execution_count": 17,
   "metadata": {},
   "outputs": [],
   "source": [
    "index = pd.MultiIndex.from_product([missing_df.keys(), all_df.keys()])\n",
    "mnar = pd.DataFrame(columns=['corr', 'pval'], index=index)"
   ]
  },
  {
   "cell_type": "code",
   "execution_count": 18,
   "metadata": {},
   "outputs": [],
   "source": [
    "sexes = ['Male', 'Female', 'All']\n",
    "sessions = ['pre', 'post', 'delta']"
   ]
  },
  {
   "cell_type": "code",
   "execution_count": 19,
   "metadata": {},
   "outputs": [],
   "source": [
    "imp_df.columns = imp_df.columns.str.replace(' ', '_')"
   ]
  },
  {
   "cell_type": "code",
   "execution_count": 20,
   "metadata": {},
   "outputs": [],
   "source": [
    "imp_df.to_csv(join(data_dir, 'rescored', 'physics_learning-plus+brain_OLS-missing.csv'))"
   ]
  },
  {
   "cell_type": "code",
   "execution_count": 21,
   "metadata": {},
   "outputs": [],
   "source": [
    "#compute deltas\n",
    "iqs = ['VCI', 'WMI', 'PRI', 'PSI', 'FSIQ']\n",
    "for iq in iqs:\n",
    "    imp_df['{0}2_sd'] = \n",
    "    imp_df['delta{0}'.format(iq)] = imp_df['{0}2'.format(iq)] - imp_df['{0}1'.format(iq)]\n",
    "    imp_df['delta{0}'.format(iq)] = imp_df['delta{0}'.format(iq)] / "
   ]
  },
  {
   "cell_type": "markdown",
   "metadata": {},
   "source": [
    "# For all students, all together, how is topology related to IQ?"
   ]
  },
  {
   "cell_type": "code",
   "execution_count": 22,
   "metadata": {},
   "outputs": [],
   "source": [
    "#first things first, setting up our covariates\n",
    "covariates = ['Age', 'Mod', 'StrtLvl', 'normalized head size', 'SexXClass', 'F']"
   ]
  },
  {
   "cell_type": "code",
   "execution_count": 23,
   "metadata": {},
   "outputs": [
    {
     "name": "stdout",
     "output_type": "stream",
     "text": [
      "Number of effective comparisons: 3.631862050518683\n",
      "Critical value of 0.010 becomes 0.002763 after corrections\n",
      "Shen 0.002763442703913488\n"
     ]
    }
   ],
   "source": [
    "outcomes1 = ['post_phys_retr_crad_eff', 'post_phys_retr_crad_mod',\n",
    "             'post_phys_retr_shen_eff', 'post_phys_retr_shen_mod']\n",
    "outcomes2 = ['post_phys_fci_shen_eff', 'post_phys_fci_shen_mod',\n",
    "             'post_phys_fci_crad_eff', 'post_phys_fci_crad_mod']\n",
    "\n",
    "all_out = outcomes1 + outcomes2\n",
    "\n",
    "adj_a,_ = liji_sidak_mc(imp_df[all_out], 0.01)\n",
    "print('Shen', adj_a)"
   ]
  },
  {
   "cell_type": "markdown",
   "metadata": {},
   "source": [
    "## OLS Regressions"
   ]
  },
  {
   "cell_type": "code",
   "execution_count": 24,
   "metadata": {},
   "outputs": [],
   "source": [
    "iterables = {'tasks': ['fci', 'retr'],\n",
    "             'masks': ['crad', 'shen'],\n",
    "             'metrics': ['mod', 'eff'], \n",
    "             'iq_vars': iq_vars}"
   ]
  },
  {
   "cell_type": "code",
   "execution_count": 25,
   "metadata": {},
   "outputs": [
    {
     "name": "stdout",
     "output_type": "stream",
     "text": [
      "*fci_crad_eff on PRI2 interaction model IS significant\n",
      "x but PRI2 coefficient not significant.\n",
      "0.036 interaction model fits better than nested model for fci_crad_eff ~ PRI2\n",
      "0.018 interaction model fits better than nested model for fci_crad_eff ~ WMI2\n",
      "*fci_crad_eff on FSIQ2 interaction model IS significant\n",
      "x but FSIQ2 coefficient not significant.\n",
      "0.01 interaction model fits better than nested model for fci_crad_eff ~ FSIQ2\n",
      "0.02 interaction model fits better than nested model for fci_crad_eff ~ deltaPRI\n",
      "*fci_crad_eff on deltaFSIQ interaction model IS significant\n",
      "x but deltaFSIQ coefficient not significant.\n",
      "0.008 interaction model fits better than nested model for fci_crad_eff ~ deltaFSIQ\n",
      "*fci_shen_mod on deltaFSIQ interaction model IS significant\n",
      "x but deltaFSIQ coefficient not significant.\n",
      "*fci_shen_eff on PRI2 interaction model IS significant\n",
      "x but PRI2 coefficient not significant.\n",
      "0.022 interaction model fits better than nested model for fci_shen_eff ~ PRI2\n",
      "0.018 interaction model fits better than nested model for fci_shen_eff ~ WMI2\n",
      "*fci_shen_eff on FSIQ2 interaction model IS significant\n",
      "x but FSIQ2 coefficient not significant.\n",
      "0.005 interaction model fits better than nested model for fci_shen_eff ~ FSIQ2\n",
      "0.025 interaction model fits better than nested model for fci_shen_eff ~ deltaPRI\n",
      "*fci_shen_eff on deltaFSIQ interaction model IS significant\n",
      "x but deltaFSIQ coefficient not significant.\n",
      "0.007 interaction model fits better than nested model for fci_shen_eff ~ deltaFSIQ\n",
      "*retr_crad_mod on VCI2 interaction model IS significant\n",
      "x but VCI2 coefficient not significant.\n",
      "\n",
      "*retr_crad_mod on PRI2 fci_simple model IS significant\n",
      "* and PRI2 coefficient significant, too!\n",
      "*retr_crad_mod on PRI2 interaction model IS significant\n",
      "x but PRI2 coefficient not significant.\n",
      "*retr_crad_eff on PRI2 interaction model IS significant\n",
      "x but PRI2 coefficient not significant.\n",
      "0.028 interaction model fits better than nested model for retr_crad_eff ~ PRI2\n",
      "0.027 interaction model fits better than nested model for retr_crad_eff ~ FSIQ2\n",
      "0.041 interaction model fits better than nested model for retr_crad_eff ~ deltaPRI\n",
      "*retr_crad_eff on deltaFSIQ interaction model IS significant\n",
      "x but deltaFSIQ coefficient not significant.\n",
      "0.028 interaction model fits better than nested model for retr_crad_eff ~ deltaFSIQ\n",
      "\n",
      "*retr_shen_mod on PRI2 fci_simple model IS significant\n",
      "* and PRI2 coefficient significant, too!\n",
      "*retr_shen_mod on PRI2 interaction model IS significant\n",
      "x but PRI2 coefficient not significant.\n",
      "*retr_shen_mod on FSIQ2 interaction model IS significant\n",
      "x but FSIQ2 coefficient not significant.\n",
      "*retr_shen_mod on deltaFSIQ interaction model IS significant\n",
      "* and deltaFSIQ coefficient significant, too!\n",
      "*retr_shen_eff on PRI2 interaction model IS significant\n",
      "x but PRI2 coefficient not significant.\n",
      "0.037 interaction model fits better than nested model for retr_shen_eff ~ PRI2\n",
      "0.022 interaction model fits better than nested model for retr_shen_eff ~ FSIQ2\n",
      "0.049 interaction model fits better than nested model for retr_shen_eff ~ deltaPRI\n",
      "*retr_shen_eff on deltaFSIQ interaction model IS significant\n",
      "x but deltaFSIQ coefficient not significant.\n",
      "0.028 interaction model fits better than nested model for retr_shen_eff ~ deltaFSIQ\n"
     ]
    }
   ],
   "source": [
    "simple = {}\n",
    "intrxn = {}\n",
    "compar = {}\n",
    "for task in iterables['tasks']:\n",
    "    for mask in iterables['masks']:\n",
    "        for metric in iterables['metrics']:\n",
    "            for iq_meas in iterables['iq_vars']:\n",
    "                reg_form = '''post_phys_{0}_{1}_{2} ~ \n",
    "                                {3} + F + Mod + F*Mod + Age + StrtLvl \n",
    "                                + normalized_head_size + post_phys_{0}_fd'''.format(task,\n",
    "                                                                                    mask,\n",
    "                                                                                    metric,\n",
    "                                                                                    iq_meas)\n",
    "                mod = smf.ols(formula=reg_form, data=imp_df)\n",
    "                res = mod.fit()\n",
    "                simple['{0}_{1}_{2}_{3}'.format(task,\n",
    "                                                 mask,\n",
    "                                                 metric,\n",
    "                                                 iq_meas)] = res\n",
    "\n",
    "                if res.get_robustcov_results().f_pvalue <= adj_a:\n",
    "                    print('\\n*{0}_{1}_{2} on {3} fci_simple model IS significant'.format(task,\n",
    "                                                                                         mask,\n",
    "                                                                                         metric,\n",
    "                                                                                         iq_meas))\n",
    "                    if res.get_robustcov_results().pvalues[1] < 0.05:\n",
    "                        print('* and {0} coefficient significant, too!'.format(iq_meas))\n",
    "                    else:\n",
    "                        print('x but {0} coefficient not significant.'.format(iq_meas))\n",
    "                #else:\n",
    "                    #print('\\n{0} on {1} fci_simple model NOT significant'.format(outcome, iq_meas))\n",
    "\n",
    "                itx_form = '''post_phys_{0}_{1}_{2} ~ {3} + {3}*F + {3}*Mod + {3}*F*Mod \n",
    "                                + F + Mod + F*Mod + Age + StrtLvl + \n",
    "                                normalized_head_size + post_phys_{0}_fd'''.format(task, \n",
    "                                                                                  mask, \n",
    "                                                                                  metric, \n",
    "                                                                                  iq_meas)   \n",
    "                mod = smf.ols(formula=itx_form, data=imp_df)\n",
    "                res2 = mod.fit()\n",
    "                intrxn['{0}_{1}_{2}_{3}'.format(task,\n",
    "                                                mask,\n",
    "                                                metric,\n",
    "                                                iq_meas)] = res2\n",
    "\n",
    "                if res2.get_robustcov_results().f_pvalue <= adj_a:\n",
    "                    print('*{0}_{1}_{2} on {3} interaction model IS significant'.format(task, mask, metric, iq_meas))\n",
    "                    if res2.get_robustcov_results().pvalues[1] < 0.05:\n",
    "                        print('* and {0} coefficient significant, too!'.format(iq_meas))\n",
    "                    else:\n",
    "                        print('x but {0} coefficient not significant.'.format(iq_meas))\n",
    "                #else:\n",
    "                    #print('{0} on {1} interaction model NOT significant'.format(outcome, iq_meas))\n",
    "\n",
    "                compare = anova_lm(res.get_robustcov_results(), res2.get_robustcov_results())\n",
    "                compar['{0}_{1}_{2}_{3}'.format(task,\n",
    "                                                mask,\n",
    "                                                metric,\n",
    "                                                iq_meas)] = compare\n",
    "                if compare['Pr(>F)'][1] <= 0.05:\n",
    "                    print(np.round(compare['Pr(>F)'][1], 3), \n",
    "                          'interaction model fits better than nested model for {0}_{1}_{2} ~ {3}'.format(task, \n",
    "                                                                                                 mask, \n",
    "                                                                                                 metric, \n",
    "                                                                                                 iq_meas))\n",
    "                elif compare['Pr(>F)'][0] <= 0.05:\n",
    "                    print('Nested model fits better than interaction model for {0}_{1}_{2} ~ {3}'.format(task, \n",
    "                                                                                                         mask, \n",
    "                                                                                                         metric, \n",
    "                                                                                                         iq_meas))\n",
    "                #else:\n",
    "                    #print(np.round(fci_compare['Pr(>F)'][1], 3), 'no difference between models')"
   ]
  },
  {
   "cell_type": "code",
   "execution_count": 26,
   "metadata": {},
   "outputs": [
    {
     "data": {
      "text/plain": [
       "<bound method NDFrame.head of                                Model F (p)     BIC WAIS-IV Sex (F)  \\\n",
       "fci  crad mod VCI2       1.396 (2.048e-01) -1085.2     0.0     0.0   \n",
       "              PRI2       1.403 (2.019e-01) -1085.6     0.0     0.0   \n",
       "              WMI2       1.667 (1.132e-01) -1087.1     0.0     0.0   \n",
       "              PSI2       1.416 (1.964e-01) -1085.5     0.0     0.0   \n",
       "              FSIQ2       1.59 (1.347e-01) -1086.6     0.0     0.0   \n",
       "...                                    ...     ...     ...     ...   \n",
       "retr shen eff deltaVCI   1.918 (6.324e-02)  -114.8   0.001   0.001   \n",
       "              deltaPRI   2.098 (4.098e-02)  -115.8   0.002  -0.003   \n",
       "              deltaWMI    1.989 (5.33e-02)  -114.2  -0.001  -0.001   \n",
       "              deltaPSI    1.99 (5.319e-02)  -114.2    -0.0    -0.0   \n",
       "              deltaFSIQ  1.936 (6.051e-02)  -115.1   0.002     0.0   \n",
       "\n",
       "                        Class (Active) Sex X Class    Age Years in Univ.  \n",
       "fci  crad mod VCI2               0.001      -0.001   -0.0         -0.001  \n",
       "              PRI2               0.001      -0.001   -0.0         -0.001  \n",
       "              WMI2               0.001      -0.001   -0.0         -0.001  \n",
       "              PSI2               0.001      -0.001   -0.0         -0.001  \n",
       "              FSIQ2              0.001      -0.001   -0.0         -0.001  \n",
       "...                                ...         ...    ...            ...  \n",
       "retr shen eff deltaVCI           0.011      -0.026  0.006          0.023  \n",
       "              deltaPRI           0.007      -0.016  0.009          0.019  \n",
       "              deltaWMI           0.012      -0.025  0.006          0.023  \n",
       "              deltaPSI           0.012      -0.022  0.006          0.023  \n",
       "              deltaFSIQ          0.006      -0.023  0.008          0.021  \n",
       "\n",
       "[80 rows x 8 columns]>"
      ]
     },
     "execution_count": 26,
     "metadata": {},
     "output_type": "execute_result"
    }
   ],
   "source": [
    "columns = ['Model F (p)', 'BIC', 'WAIS-IV',\n",
    "           'Sex (F)', 'Class (Active)', 'Sex X Class', \n",
    "           'Age', 'Years in Univ.']\n",
    "\n",
    "mi = pd.MultiIndex.from_product([iterables['tasks'], \n",
    "                                 iterables['masks'],\n",
    "                                 iterables['metrics'], \n",
    "                                 iterables['iq_vars']])\n",
    "df_res_simple = pd.DataFrame(columns=columns, index=mi)\n",
    "\n",
    "for key in simple.keys():\n",
    "    keys = key.split('_')\n",
    "    summ = simple[key].get_robustcov_results()\n",
    "    df_res_simple.at[(keys[0], keys[1], keys[2], keys[3]), \n",
    "                     'Model F (p)'] = '{0} ({1})'.format(np.round(summ.fvalue[0][0],3),\n",
    "                                                         np.format_float_scientific(summ.f_pvalue, \n",
    "                                                                                    precision=3,\n",
    "                                                                                    exp_digits=2))\n",
    "    df_res_simple.at[(keys[0], keys[1], keys[2], keys[3]), \n",
    "                     'BIC'] = np.round(summ.bic,1)\n",
    "    if summ.pvalues[1] < 0.01:\n",
    "        dec = '**'\n",
    "    elif summ.pvalues[1] < 0.051:\n",
    "        dec = '*'\n",
    "    else:\n",
    "        dec=''\n",
    "    df_res_simple.at[(keys[0], keys[1], keys[2], keys[3]), \n",
    "                     'WAIS-IV'] = '{0}{1}'.format(np.round(summ.params[1], 3), dec)\n",
    "    if summ.pvalues[2] < 0.01:\n",
    "        dec = '**'\n",
    "    elif summ.pvalues[2] < 0.051:\n",
    "        dec = '*'\n",
    "    else:\n",
    "        dec=''\n",
    "    df_res_simple.at[(keys[0], keys[1], keys[2], keys[3]), \n",
    "                     'Sex (F)'] = '{0}{1}'.format(np.round(summ.params[2], 3), dec)\n",
    "    if summ.pvalues[3] < 0.01:\n",
    "        dec = '**'\n",
    "    elif summ.pvalues[3] < 0.051:\n",
    "        dec = '*'\n",
    "    else:\n",
    "        dec=''\n",
    "    df_res_simple.at[(keys[0], keys[1], keys[2], keys[3]), \n",
    "                     'Class (Active)'] = '{0}{1}'.format(np.round(summ.params[3], 3), dec)\n",
    "    if summ.pvalues[4] < 0.01:\n",
    "        dec = '**'\n",
    "    elif summ.pvalues[4] < 0.051:\n",
    "        dec = '*'\n",
    "    else:\n",
    "        dec=''\n",
    "    df_res_simple.at[(keys[0], keys[1], keys[2], keys[3]), \n",
    "                     'Sex X Class'] = '{0}{1}'.format(np.round(summ.params[4], 3), dec)\n",
    "    if summ.pvalues[5] < 0.01:\n",
    "        dec = '**'\n",
    "    elif summ.pvalues[5] < 0.051:\n",
    "        dec = '*'\n",
    "    else:\n",
    "        dec=''\n",
    "    df_res_simple.at[(keys[0], keys[1], keys[2], keys[3]), \n",
    "                     'Age'] = '{0}{1}'.format(np.round(summ.params[5], 3), dec)\n",
    "    if summ.pvalues[6] < 0.01:\n",
    "        dec = '**'\n",
    "    elif summ.pvalues[6] < 0.051:\n",
    "        dec = '*'\n",
    "    else:\n",
    "        dec=''\n",
    "    df_res_simple.at[(keys[0], keys[1], keys[2], keys[3]), \n",
    "                     'Years in Univ.'] = '{0}{1}'.format(np.round(summ.params[6], 3), dec)\n",
    "    \n",
    "\n",
    "df_res_simple.to_csv(join(data_dir, 'output', 'brain_metrics~iq-ols_robust-knn_imp-simple.csv'))\n",
    "df_res_simple.head()"
   ]
  },
  {
   "cell_type": "code",
   "execution_count": 61,
   "metadata": {},
   "outputs": [
    {
     "data": {
      "text/html": [
       "<div>\n",
       "<style scoped>\n",
       "    .dataframe tbody tr th:only-of-type {\n",
       "        vertical-align: middle;\n",
       "    }\n",
       "\n",
       "    .dataframe tbody tr th {\n",
       "        vertical-align: top;\n",
       "    }\n",
       "\n",
       "    .dataframe thead th {\n",
       "        text-align: right;\n",
       "    }\n",
       "</style>\n",
       "<table border=\"1\" class=\"dataframe\">\n",
       "  <thead>\n",
       "    <tr style=\"text-align: right;\">\n",
       "      <th></th>\n",
       "      <th></th>\n",
       "      <th></th>\n",
       "      <th></th>\n",
       "      <th>Model F (p)</th>\n",
       "      <th>BIC</th>\n",
       "      <th>WAIS-IV</th>\n",
       "      <th>WAIS X Sex</th>\n",
       "      <th>WAIS X Class</th>\n",
       "      <th>WAIS X Sex X Class</th>\n",
       "      <th>Sex (F)</th>\n",
       "      <th>Class (Active)</th>\n",
       "      <th>Sex X Class</th>\n",
       "      <th>Age</th>\n",
       "      <th>Years in Univ.</th>\n",
       "      <th>BetterThanSimple</th>\n",
       "    </tr>\n",
       "  </thead>\n",
       "  <tbody>\n",
       "    <tr>\n",
       "      <th rowspan=\"5\" valign=\"top\">fci</th>\n",
       "      <th rowspan=\"5\" valign=\"top\">crad</th>\n",
       "      <th rowspan=\"5\" valign=\"top\">mod</th>\n",
       "      <th>VCI2</th>\n",
       "      <td>1.188 (3.024e-01)</td>\n",
       "      <td>-1073.9</td>\n",
       "      <td>0.0</td>\n",
       "      <td>-0.0</td>\n",
       "      <td>-0.0</td>\n",
       "      <td>0.0</td>\n",
       "      <td>0.014</td>\n",
       "      <td>0.011</td>\n",
       "      <td>-0.013</td>\n",
       "      <td>-0.0</td>\n",
       "      <td>-0.001</td>\n",
       "      <td>NaN</td>\n",
       "    </tr>\n",
       "    <tr>\n",
       "      <th>PRI2</th>\n",
       "      <td>1.501 (1.401e-01)</td>\n",
       "      <td>-1074</td>\n",
       "      <td>0.0</td>\n",
       "      <td>-0.0</td>\n",
       "      <td>0.0</td>\n",
       "      <td>0.0</td>\n",
       "      <td>0.009</td>\n",
       "      <td>-0.002</td>\n",
       "      <td>-0.007</td>\n",
       "      <td>-0.0</td>\n",
       "      <td>-0.001</td>\n",
       "      <td>NaN</td>\n",
       "    </tr>\n",
       "    <tr>\n",
       "      <th>WMI2</th>\n",
       "      <td>1.498 (1.412e-01)</td>\n",
       "      <td>-1073.2</td>\n",
       "      <td>0.0</td>\n",
       "      <td>0.0</td>\n",
       "      <td>0.0</td>\n",
       "      <td>-0.0</td>\n",
       "      <td>-0.006</td>\n",
       "      <td>-0.0</td>\n",
       "      <td>0.004</td>\n",
       "      <td>-0.0</td>\n",
       "      <td>-0.001</td>\n",
       "      <td>NaN</td>\n",
       "    </tr>\n",
       "    <tr>\n",
       "      <th>PSI2</th>\n",
       "      <td>1.187 (3.033e-01)</td>\n",
       "      <td>-1073.2</td>\n",
       "      <td>0.0</td>\n",
       "      <td>-0.0</td>\n",
       "      <td>0.0</td>\n",
       "      <td>-0.0</td>\n",
       "      <td>0.004</td>\n",
       "      <td>-0.002</td>\n",
       "      <td>0.004</td>\n",
       "      <td>-0.0</td>\n",
       "      <td>-0.001</td>\n",
       "      <td>NaN</td>\n",
       "    </tr>\n",
       "    <tr>\n",
       "      <th>FSIQ2</th>\n",
       "      <td>1.282 (2.431e-01)</td>\n",
       "      <td>-1074.4</td>\n",
       "      <td>0.0</td>\n",
       "      <td>-0.0</td>\n",
       "      <td>-0.0</td>\n",
       "      <td>0.0</td>\n",
       "      <td>0.016</td>\n",
       "      <td>0.007</td>\n",
       "      <td>-0.012</td>\n",
       "      <td>-0.0</td>\n",
       "      <td>-0.001</td>\n",
       "      <td>NaN</td>\n",
       "    </tr>\n",
       "  </tbody>\n",
       "</table>\n",
       "</div>"
      ],
      "text/plain": [
       "                          Model F (p)     BIC WAIS-IV WAIS X Sex WAIS X Class  \\\n",
       "fci crad mod VCI2   1.188 (3.024e-01) -1073.9     0.0       -0.0         -0.0   \n",
       "             PRI2   1.501 (1.401e-01)   -1074     0.0       -0.0          0.0   \n",
       "             WMI2   1.498 (1.412e-01) -1073.2     0.0        0.0          0.0   \n",
       "             PSI2   1.187 (3.033e-01) -1073.2     0.0       -0.0          0.0   \n",
       "             FSIQ2  1.282 (2.431e-01) -1074.4     0.0       -0.0         -0.0   \n",
       "\n",
       "                   WAIS X Sex X Class Sex (F) Class (Active) Sex X Class  \\\n",
       "fci crad mod VCI2                 0.0   0.014          0.011      -0.013   \n",
       "             PRI2                 0.0   0.009         -0.002      -0.007   \n",
       "             WMI2                -0.0  -0.006           -0.0       0.004   \n",
       "             PSI2                -0.0   0.004         -0.002       0.004   \n",
       "             FSIQ2                0.0   0.016          0.007      -0.012   \n",
       "\n",
       "                     Age Years in Univ. BetterThanSimple  \n",
       "fci crad mod VCI2   -0.0         -0.001              NaN  \n",
       "             PRI2   -0.0         -0.001              NaN  \n",
       "             WMI2   -0.0         -0.001              NaN  \n",
       "             PSI2   -0.0         -0.001              NaN  \n",
       "             FSIQ2  -0.0         -0.001              NaN  "
      ]
     },
     "execution_count": 61,
     "metadata": {},
     "output_type": "execute_result"
    }
   ],
   "source": [
    "columns = ['Model F (p)', 'BIC', 'WAIS-IV', 'WAIS X Sex', 'WAIS X Class', 'WAIS X Sex X Class',\n",
    "           'Sex (F)', 'Class (Active)', 'Sex X Class', \n",
    "           'Age', 'Years in Univ.', 'BetterThanSimple']\n",
    "mi = pd.MultiIndex.from_product([iterables['tasks'], \n",
    "                                 iterables['masks'],\n",
    "                                 iterables['metrics'], \n",
    "                                 iterables['iq_vars']])\n",
    "df_res_intrxn = pd.DataFrame(columns=columns, index=mi)\n",
    "do_i_make_figures = pd.DataFrame(columns=columns, index=mi)\n",
    "resid_df = pd.DataFrame(columns=intrxn.keys(), index=imp_df.index)\n",
    "\n",
    "\n",
    "for key in intrxn.keys():\n",
    "    keys = key.split('_')\n",
    "    if compar[key]['Pr(>F)'][1] < 0.01:\n",
    "        df_res_intrxn.at[(keys[0], keys[1], keys[2], keys[3]), \n",
    "                         'BetterThanSimple'] = compar[key]['Pr(>F)'][1]\n",
    "    summ = intrxn[key].get_robustcov_results()\n",
    "    resid_df[key] = intrxn[key].resid\n",
    "    if summ.f_pvalue < adj_a:\n",
    "        do_i_make_figures.at[(keys[0], keys[1], keys[2], keys[3]), \n",
    "                             'Model F (p)'] = 10\n",
    "    df_res_intrxn.at[(keys[0], keys[1], keys[2], keys[3]), \n",
    "                     'Model F (p)'] = '{0} ({1})'.format(np.round(summ.fvalue[0][0],3),\n",
    "                                                         np.format_float_scientific(summ.f_pvalue, \n",
    "                                                                                    precision=3,\n",
    "                                                                                    exp_digits=2))\n",
    "    df_res_intrxn.at[(keys[0], keys[1], keys[2], keys[3]), \n",
    "                     'BIC'] = np.round(summ.bic,1)\n",
    "    if summ.pvalues[1] < 0.01:\n",
    "        dec = '**'\n",
    "    elif summ.pvalues[1] < 0.051:\n",
    "        dec = '*'\n",
    "        do_i_make_figures.at[(keys[0], keys[1], keys[2], keys[3]), \n",
    "                             'WAIS-IV'] = 10\n",
    "    else:\n",
    "        dec = ''\n",
    "    df_res_intrxn.at[(keys[0], keys[1], keys[2], keys[3]), \n",
    "                     'WAIS-IV'] = '{0}{1}'.format(np.round(summ.params[1], 3), dec)\n",
    "    if summ.pvalues[2] < 0.01:\n",
    "        dec = '**'\n",
    "    elif summ.pvalues[2] < 0.051:\n",
    "        do_i_make_figures.at[(keys[0], keys[1], keys[2], keys[3]), \n",
    "                             'Sex (F)'] = 10\n",
    "        dec = '*'\n",
    "    else:\n",
    "        dec = ''\n",
    "    df_res_intrxn.at[(keys[0], keys[1], keys[2], keys[3]), \n",
    "                     'Sex (F)'] = '{0}{1}'.format(np.round(summ.params[2], 3), dec)\n",
    "    if summ.pvalues[3] < 0.01:\n",
    "        dec = '**'\n",
    "    elif summ.pvalues[3] < 0.051:\n",
    "        dec = '*'\n",
    "        do_i_make_figures.at[(keys[0], keys[1], keys[2], keys[3]), \n",
    "                             'WAIS X Sex'] = 10\n",
    "    else:\n",
    "        dec = ''\n",
    "    df_res_intrxn.at[(keys[0], keys[1], keys[2], keys[3]), \n",
    "                     'WAIS X Sex'] = '{0}{1}'.format(np.round(summ.params[3], 3), dec)\n",
    "    if summ.pvalues[4] < 0.01:\n",
    "        dec = '**'\n",
    "    elif summ.pvalues[4] < 0.051:\n",
    "        dec = '*'\n",
    "        do_i_make_figures.at[(keys[0], keys[1], keys[2], keys[3]), \n",
    "                             'Class (Active)'] = 10\n",
    "    else:\n",
    "        dec = ''\n",
    "    df_res_intrxn.at[(keys[0], keys[1], keys[2], keys[3]), \n",
    "                     'Class (Active)'] = '{0}{1}'.format(np.round(summ.params[4], 3), dec)\n",
    "    if summ.pvalues[5] < 0.01:\n",
    "        dec = '**'\n",
    "    elif summ.pvalues[5] < 0.051:\n",
    "        dec = '*'\n",
    "        do_i_make_figures.at[(keys[0], keys[1], keys[2], keys[3]), \n",
    "                             'WAIS X Class'] = 10\n",
    "    else:\n",
    "        dec = ''\n",
    "    df_res_intrxn.at[(keys[0], keys[1], keys[2], keys[3]), \n",
    "                     'WAIS X Class'] = '{0}{1}'.format(np.round(summ.params[5], 3), dec)\n",
    "    if summ.pvalues[6] < 0.01:\n",
    "        dec = '**'\n",
    "    elif summ.pvalues[6] < 0.051:\n",
    "        dec = '*'\n",
    "        do_i_make_figures.at[(keys[0], keys[1], keys[2], keys[3]), \n",
    "                             'Sex X Class'] = 10\n",
    "    else:\n",
    "        dec = ''\n",
    "    df_res_intrxn.at[(keys[0], keys[1], keys[2], keys[3]), \n",
    "                     'Sex X Class'] = '{0}{1}'.format(np.round(summ.params[6], 3), dec)\n",
    "\n",
    "    if summ.pvalues[7] < 0.01:\n",
    "        dec = '**'\n",
    "    elif summ.pvalues[7] < 0.051:\n",
    "        dec = '*'\n",
    "        do_i_make_figures.at[(keys[0], keys[1], keys[2], keys[3]), \n",
    "                             'WAIS X Sex X Class'] = 10\n",
    "    else:\n",
    "        dec = ''\n",
    "    df_res_intrxn.at[(keys[0], keys[1], keys[2], keys[3]), \n",
    "                     'WAIS X Sex X Class'] = '{0}{1}'.format(np.round(summ.params[7], 3), dec)\n",
    "    \n",
    "    if summ.pvalues[8] < 0.01:\n",
    "        dec = '**'\n",
    "    elif summ.pvalues[8] < 0.051:\n",
    "        dec = '*'\n",
    "        do_i_make_figures.at[(keys[0], keys[1], keys[2], keys[3]), \n",
    "                             'Age'] = 10\n",
    "    else:\n",
    "        dec = ''\n",
    "    df_res_intrxn.at[(keys[0], keys[1], keys[2], keys[3]), \n",
    "                     'Age'] = '{0}{1}'.format(np.round(summ.params[8], 3), dec)\n",
    "    \n",
    "    if summ.pvalues[9] < 0.01:\n",
    "        dec = '**'\n",
    "    elif summ.pvalues[9] < 0.051:\n",
    "        dec = '*'\n",
    "        do_i_make_figures.at[(keys[0], keys[1], keys[2], keys[3]), \n",
    "                             'Years in Univ.'] = 10\n",
    "    else:\n",
    "        dec = ''\n",
    "    df_res_intrxn.at[(keys[0], keys[1], keys[2], keys[3]), \n",
    "                     'Years in Univ.'] = '{0}{1}'.format(np.round(summ.params[9], 3), dec)\n",
    "\n",
    "    \n",
    "df_res_intrxn.to_csv(join(data_dir, 'output', 'brain_metrics~iq-ols_robust-knn_imp-interaction.csv'))\n",
    "df_res_intrxn.head()"
   ]
  },
  {
   "cell_type": "code",
   "execution_count": 62,
   "metadata": {},
   "outputs": [],
   "source": [
    "do_i_make_figures.dropna(how='all').to_csv(join(data_dir, 'do_I_make_figs', 'FIGS-brain_metrics~iq-ols_robust-knn_imp-interaction.csv'))"
   ]
  },
  {
   "cell_type": "markdown",
   "metadata": {},
   "source": [
    "# time for figures!"
   ]
  },
  {
   "cell_type": "code",
   "execution_count": 63,
   "metadata": {},
   "outputs": [],
   "source": [
    "fig_df = pd.concat([imp_df, resid_df], axis=1)"
   ]
  },
  {
   "cell_type": "code",
   "execution_count": 64,
   "metadata": {},
   "outputs": [],
   "source": [
    "crayons_l = sns.crayon_palette(['Vivid Tangerine', 'Cornflower'])\n",
    "crayons_d = sns.crayon_palette(['Brick Red', 'Midnight Blue'])\n",
    "\n",
    "f = sns.diverging_palette(8.2, 44, s=85, l=50, n=200)\n",
    "m = sns.diverging_palette(243, 278, s=85, l=50, n=200)\n",
    "\n",
    "f_2 = sns.crayon_palette(['Red Orange', 'Vivid Tangerine'])\n",
    "m_2 = sns.crayon_palette(['Cerulean', 'Cornflower'])"
   ]
  },
  {
   "cell_type": "code",
   "execution_count": 67,
   "metadata": {},
   "outputs": [
    {
     "data": {
      "text/plain": [
       "Index(['pre_phys_retr_shen_eff', 'post_phys_retr_shen_eff',\n",
       "       'pre_phys_retr_shen_mod', 'post_phys_retr_shen_mod',\n",
       "       'pre_phys_retr_crad_eff', 'post_phys_retr_crad_eff',\n",
       "       'pre_phys_retr_crad_mod', 'post_phys_retr_crad_mod',\n",
       "       'pre_gen_retr_shen_eff', 'post_gen_retr_shen_eff',\n",
       "       ...\n",
       "       'retr_shen_eff_VCI2', 'retr_shen_eff_PRI2', 'retr_shen_eff_WMI2',\n",
       "       'retr_shen_eff_PSI2', 'retr_shen_eff_FSIQ2', 'retr_shen_eff_deltaVCI',\n",
       "       'retr_shen_eff_deltaPRI', 'retr_shen_eff_deltaWMI',\n",
       "       'retr_shen_eff_deltaPSI', 'retr_shen_eff_deltaFSIQ'],\n",
       "      dtype='object', length=125)"
      ]
     },
     "execution_count": 67,
     "metadata": {},
     "output_type": "execute_result"
    }
   ],
   "source": [
    "fig_df.columns[20:]"
   ]
  },
  {
   "cell_type": "code",
   "execution_count": 68,
   "metadata": {},
   "outputs": [
    {
     "data": {
      "text/plain": [
       "101    0.892244\n",
       "102    1.052264\n",
       "103    0.994046\n",
       "104    0.982068\n",
       "105    1.015773\n",
       "         ...   \n",
       "629    1.016924\n",
       "630    1.077828\n",
       "631    1.033203\n",
       "633    1.027470\n",
       "634    1.082988\n",
       "Name: post_phys_fci_crad_eff, Length: 130, dtype: float64"
      ]
     },
     "execution_count": 68,
     "metadata": {},
     "output_type": "execute_result"
    }
   ],
   "source": [
    "fig_df['post_phys_fci_crad_eff']"
   ]
  },
  {
   "cell_type": "markdown",
   "metadata": {},
   "source": [
    "# Physics Retrieval & PRIQ"
   ]
  },
  {
   "cell_type": "code",
   "execution_count": 76,
   "metadata": {},
   "outputs": [
    {
     "data": {
      "image/png": "[encoded data removed]",
      "text/plain": [
       "<Figure size 873.63x720 with 1 Axes>"
      ]
     },
     "metadata": {},
     "output_type": "display_data"
    }
   ],
   "source": [
    "h = sns.lmplot('deltaFSIQ', 'fci_shen_eff_deltaFSIQ', data=fig_df, \n",
    "               hue='F', hue_order=[1.0,0.0], palette=crayons_d, height=10.)\n",
    "\n",
    "#h.set_xlabels('Post-instruction perceptual reasoning')\n",
    "#h.set_ylabels('Post-instruction efficiency')\n",
    "#h.savefig(join(fig_dir, 'RETR_phys_post-cplXpost-priq_m.png'), dpi=300)"
   ]
  },
  {
   "cell_type": "code",
   "execution_count": 32,
   "metadata": {},
   "outputs": [
    {
     "ename": "NameError",
     "evalue": "name 'df_f' is not defined",
     "output_type": "error",
     "traceback": [
      "\u001b[0;31m---------------------------------------------------------------------------\u001b[0m",
      "\u001b[0;31mNameError\u001b[0m                                 Traceback (most recent call last)",
      "\u001b[0;32m<ipython-input-32-a86d5b98b761>\u001b[0m in \u001b[0;36m<module>\u001b[0;34m\u001b[0m\n\u001b[0;32m----> 1\u001b[0;31m h = sns.lmplot('PRI2', 'post phys retr shen cpl', data=df_f, hue='Mod', \n\u001b[0m\u001b[1;32m      2\u001b[0m            palette=f_2, legend_out=True, height=10.)\n\u001b[1;32m      3\u001b[0m \u001b[0;34m\u001b[0m\u001b[0m\n\u001b[1;32m      4\u001b[0m \u001b[0mh\u001b[0m\u001b[0;34m.\u001b[0m\u001b[0mset_xlabels\u001b[0m\u001b[0;34m(\u001b[0m\u001b[0;34m'Post-instruction perceptual reasoning'\u001b[0m\u001b[0;34m)\u001b[0m\u001b[0;34m\u001b[0m\u001b[0;34m\u001b[0m\u001b[0m\n\u001b[1;32m      5\u001b[0m \u001b[0mh\u001b[0m\u001b[0;34m.\u001b[0m\u001b[0mset_ylabels\u001b[0m\u001b[0;34m(\u001b[0m\u001b[0;34m'Post-instruction characteristic path length'\u001b[0m\u001b[0;34m)\u001b[0m\u001b[0;34m\u001b[0m\u001b[0;34m\u001b[0m\u001b[0m\n",
      "\u001b[0;31mNameError\u001b[0m: name 'df_f' is not defined"
     ]
    }
   ],
   "source": [
    "h = sns.lmplot('PRI2', 'post phys retr shen cpl', data=df_f, hue='Mod', \n",
    "           palette=f_2, legend_out=True, height=10.)\n",
    "\n",
    "h.set_xlabels('Post-instruction perceptual reasoning')\n",
    "h.set_ylabels('Post-instruction characteristic path length')\n",
    "h.savefig(join(fig_dir, 'RETR_phys_post-cplXpost-priq_f.png'), dpi=300)"
   ]
  },
  {
   "cell_type": "markdown",
   "metadata": {},
   "source": [
    "# General retrieval and deltaPRIQ"
   ]
  },
  {
   "cell_type": "code",
   "execution_count": null,
   "metadata": {},
   "outputs": [],
   "source": [
    "h = sns.lmplot('deltaPRI', 'post gen retr shen mod', data=df_m, hue='Mod', \n",
    "           palette=m_2, legend_out=True, height=10.)\n",
    "\n",
    "h.set_xlabels('Change in perceptual reasoning')\n",
    "h.set_ylabels('Post-instruction network modularity')\n",
    "h.savefig(join(fig_dir, 'RETR_gen_post-modXdelta-priq_m.png'), dpi=300)"
   ]
  },
  {
   "cell_type": "code",
   "execution_count": null,
   "metadata": {},
   "outputs": [],
   "source": [
    "h = sns.lmplot('deltaPRI', 'post gen retr shen mod', data=df_f, hue='Mod', \n",
    "           palette=f_2, legend_out=True, height=10.)\n",
    "\n",
    "h.set_xlabels('Change in perceptual reasoning')\n",
    "h.set_ylabels('Post-instruction network modularity')\n",
    "h.savefig(join(fig_dir, 'RETR_gen_post-modXdelta-priq_f.png'), dpi=300)"
   ]
  },
  {
   "cell_type": "markdown",
   "metadata": {},
   "source": [
    "# Physics Retrieval & FSIQ"
   ]
  },
  {
   "cell_type": "code",
   "execution_count": null,
   "metadata": {},
   "outputs": [],
   "source": [
    "h = sns.lmplot('FSIQ2', 'post phys retr shen cpl', data=df_m, hue='Mod', \n",
    "           palette=m_2, legend_out=True, height=10.)\n",
    "\n",
    "h.set_xlabels('Post-instruction full-scale IQ')\n",
    "h.set_ylabels('Post-instruction network efficiency')\n",
    "h.savefig(join(fig_dir, 'RETR_phys_post-cplXpost-fsiq_m.png'), dpi=300)"
   ]
  },
  {
   "cell_type": "code",
   "execution_count": null,
   "metadata": {},
   "outputs": [],
   "source": [
    "h = sns.lmplot('FSIQ2', 'post phys retr shen cpl', data=df_m, hue='Mod', \n",
    "           palette=m_2, legend_out=True, height=10.)\n",
    "\n",
    "h.set_xlabels('Post-instruction full-scale IQ')\n",
    "h.set_ylabels('Post-instruction characteristic path length')\n",
    "#h.savefig(join(fig_dir, 'pre_prXpre_eff_inf-m.png'), dpi=300)"
   ]
  },
  {
   "cell_type": "code",
   "execution_count": null,
   "metadata": {},
   "outputs": [],
   "source": [
    "h = sns.lmplot('FSIQ2', 'post phys retr shen cpl', data=df_f, hue='Mod', \n",
    "           palette=f_2, legend_out=True, height=10.)\n",
    "\n",
    "h.set_xlabels('Post-instruction full-scale IQ')\n",
    "h.set_ylabels('Post-instruction network-efficiency')\n",
    "h.savefig(join(fig_dir, 'RETR_phys_post-cplXpost-fsiq_f.png'), dpi=300)"
   ]
  },
  {
   "cell_type": "code",
   "execution_count": null,
   "metadata": {},
   "outputs": [],
   "source": [
    "h = sns.lmplot('FSIQ2', 'post phys retr shen cpl', data=df_f, hue='Mod', \n",
    "           palette=f_2, legend_out=True, height=10.)\n",
    "\n",
    "h.set_xlabels('Post-instruction full-scale IQ')\n",
    "h.set_ylabels('Post-instruction characteristic path length')\n",
    "#h.savefig(join(fig_dir, 'pre_prXpre_eff_inf-m.png'), dpi=300)"
   ]
  },
  {
   "cell_type": "markdown",
   "metadata": {},
   "source": [
    "# FCI and PRIQ"
   ]
  },
  {
   "cell_type": "code",
   "execution_count": null,
   "metadata": {},
   "outputs": [],
   "source": [
    "h = sns.lmplot('PRI2', 'post phys fci shen cpl', data=df_f, hue='Mod', \n",
    "           palette=f_2, legend_out=True, height=10.)\n",
    "\n",
    "h.set_xlabels('Post-instruction perceptual reasoning')\n",
    "h.set_ylabels('Post-instruction characteristic path length')\n",
    "h.savefig(join(fig_dir, 'FCI_phys_post-cplXpost-priq_f.png'), dpi=300)"
   ]
  },
  {
   "cell_type": "code",
   "execution_count": null,
   "metadata": {},
   "outputs": [],
   "source": [
    "h = sns.lmplot('PRI2', 'post phys fci shen cpl', data=df_m, hue='Mod', \n",
    "           palette=m_2, legend_out=True, height=10.)\n",
    "\n",
    "h.set_xlabels('Post-instruction perceptual reasoning')\n",
    "h.set_ylabels('Post-instruction characteristic path length')\n",
    "h.savefig(join(fig_dir, 'FCI_phys_post-cplXpost-priq_m.png'), dpi=300)"
   ]
  },
  {
   "cell_type": "markdown",
   "metadata": {},
   "source": [
    "# FCI and FSIQ"
   ]
  },
  {
   "cell_type": "code",
   "execution_count": null,
   "metadata": {},
   "outputs": [],
   "source": [
    "h = sns.lmplot('FSIQ2', 'post phys fci shen cpl', data=df_m, hue='Mod', \n",
    "           palette=m_2, legend_out=True, height=10.)\n",
    "\n",
    "h.set_xlabels('Post-instruction full-scale IQ')\n",
    "h.set_ylabels('Post-instruction characteristic path length')\n",
    "h.savefig(join(fig_dir, 'FCI_phys_post-cplXpost-fsiq_m.png'), dpi=300)"
   ]
  },
  {
   "cell_type": "code",
   "execution_count": null,
   "metadata": {},
   "outputs": [],
   "source": [
    "h = sns.lmplot('FSIQ2', 'post phys fci shen cpl', data=df_f, hue='Mod', \n",
    "           palette=f_2, legend_out=True, height=10.)\n",
    "\n",
    "h.set_xlabels('Post-instruction full-scale IQ')\n",
    "h.set_ylabels('Post-instruction characteristic path length')\n",
    "h.savefig(join(fig_dir, 'FCI_phys_post-cplXpost-fsiq_f.png'), dpi=300)"
   ]
  },
  {
   "cell_type": "code",
   "execution_count": null,
   "metadata": {},
   "outputs": [],
   "source": [
    "h = sns.lmplot('deltaFSIQ', 'post phys fci shen eff', data=df_m, hue='Mod', \n",
    "           palette=m_2, legend_out=True, height=10.)\n",
    "\n",
    "h.set_xlabels('Change in full-scale IQ')\n",
    "h.set_ylabels('Post-instruction network efficiency')\n",
    "h.savefig(join(fig_dir, 'FCI_phys_post-effXdelta-fsiq_m.png'), dpi=300)"
   ]
  },
  {
   "cell_type": "code",
   "execution_count": null,
   "metadata": {},
   "outputs": [],
   "source": [
    "h = sns.lmplot('deltaPRI', 'post phys fci shen eff', data=df_m, hue='Mod', \n",
    "           palette=m_2, legend_out=True, height=10.)\n",
    "\n",
    "h.set_xlabels('Change in perceptual reasoning')\n",
    "h.set_ylabels('Post-instruction network efficiency')\n",
    "h.savefig(join(fig_dir, 'FCI_phys_post-effXdelta-priq_m.png'), dpi=300)"
   ]
  },
  {
   "cell_type": "code",
   "execution_count": null,
   "metadata": {},
   "outputs": [],
   "source": [
    "h = sns.lmplot('deltaFSIQ', 'post phys fci shen eff', data=df_f, hue='Mod', \n",
    "           palette=f_2, legend_out=True, height=10.)\n",
    "\n",
    "h.set_xlabels('Change in full-scale IQ')\n",
    "h.set_ylabels('Post-instruction network efficiency')\n",
    "h.savefig(join(fig_dir, 'FCI_phys_post-effXdelta-fsiq_f.png'), dpi=300)"
   ]
  },
  {
   "cell_type": "code",
   "execution_count": null,
   "metadata": {},
   "outputs": [],
   "source": [
    "h = sns.lmplot('deltaPRI', 'post phys fci shen eff', data=df_f, hue='Mod', \n",
    "           palette=f_2, legend_out=True, height=10.)\n",
    "\n",
    "h.set_xlabels('Change in perceptual reasoning')\n",
    "h.set_ylabels('Post-instruction network efficiency')\n",
    "h.savefig(join(fig_dir, 'FCI_phys_post-effXdelta-priq_f.png'), dpi=300)"
   ]
  },
  {
   "cell_type": "markdown",
   "metadata": {},
   "source": [
    "# Reasoning and WMIQ"
   ]
  },
  {
   "cell_type": "code",
   "execution_count": null,
   "metadata": {},
   "outputs": [],
   "source": [
    "h = sns.lmplot('WMI1', 'delta infr reas shen eff', data=df_f, hue='Mod', \n",
    "           palette=f_2, legend_out=True, height=10.)\n",
    "\n",
    "h.set_xlabels('Pre-instruction working memory')\n",
    "h.set_ylabels('Change in network efficiency')\n",
    "h.savefig(join(fig_dir, 'REAS_infr_delta-effXpre-wmiq_f.png'), dpi=300)"
   ]
  },
  {
   "cell_type": "code",
   "execution_count": null,
   "metadata": {},
   "outputs": [],
   "source": [
    "h = sns.lmplot('WMI1', 'delta infr reas shen eff', data=df_m, hue='Mod', \n",
    "           palette=m_2, legend_out=True, height=10.)\n",
    "\n",
    "h.set_xlabels('Pre-instruction working memory')\n",
    "h.set_ylabels('Change in network efficiency')\n",
    "h.savefig(join(fig_dir, 'REAS_infr_delta-effXpre-wmiq_m.png'), dpi=300)"
   ]
  },
  {
   "cell_type": "code",
   "execution_count": null,
   "metadata": {},
   "outputs": [],
   "source": [
    "import seaborn as sns\n",
    "sns.set()"
   ]
  },
  {
   "cell_type": "code",
   "execution_count": null,
   "metadata": {},
   "outputs": [],
   "source": []
  }
 ],
 "metadata": {
  "kernelspec": {
   "display_name": "Python 3",
   "language": "python",
   "name": "python3"
  },
  "language_info": {
   "codemirror_mode": {
    "name": "ipython",
    "version": 3
   },
   "file_extension": ".py",
   "mimetype": "text/x-python",
   "name": "python",
   "nbconvert_exporter": "python",
   "pygments_lexer": "ipython3",
   "version": "3.7.8"
  }
 },
 "nbformat": 4,
 "nbformat_minor": 4
}
