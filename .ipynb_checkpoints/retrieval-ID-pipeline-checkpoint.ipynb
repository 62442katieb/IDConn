{
 "cells": [
  {
   "cell_type": "code",
<<<<<<< HEAD
<<<<<<< HEAD
   "execution_count": 1,
   "metadata": {
    "collapsed": false
   },
   "outputs": [
    {
     "name": "stderr",
     "output_type": "stream",
     "text": [
      "/home/applications/anaconda2/4.3.1/lib/python2.7/site-packages/sklearn/cross_validation.py:41: DeprecationWarning: This module was deprecated in version 0.18 in favor of the model_selection module into which all the refactored classes and functions are moved. Also note that the interface of the new CV iterators are different from that of this module. This module will be removed in 0.20.\n",
      "  \"This module will be removed in 0.20.\", DeprecationWarning)\n"
     ]
    }
   ],
=======
   "execution_count": 4,
   "metadata": {},
   "outputs": [],
>>>>>>> 6a60b38ad9fbc030239b1da8dd4b6dcb046a05cb
=======
   "execution_count": 4,
   "metadata": {},
   "outputs": [],
>>>>>>> 6a60b38ad9fbc030239b1da8dd4b6dcb046a05cb
   "source": [
    "from __future__ import division\n",
    "from os.path import join, basename, exists\n",
    "from os import makedirs\n",
    "from glob import glob\n",
    "\n",
    "import matplotlib.pyplot as plt\n",
    "%matplotlib inline\n",
    "\n",
    "from nilearn import input_data, datasets, plotting, regions\n",
    "from nilearn.image import concat_imgs\n",
    "from nilearn.input_data import NiftiLabelsMasker\n",
    "from nilearn.connectome import ConnectivityMeasure\n",
    "from scipy.stats import pearsonr\n",
    "\n",
    "import nipype.pipeline.engine as pe\n",
    "import nipype.interfaces.io as nio\n",
    "import nipype.interfaces.utility as util\n",
    "from nipype.interfaces.fsl import InvWarp\n",
    "\n",
    "import bct\n",
    "import json\n",
    "import numpy as np\n",
    "import pandas as pd"
   ]
  },
  {
   "cell_type": "markdown",
   "metadata": {},
   "source": [
    "## Preprocessing \n",
    "Largely following the Westphal et al. (2017) paper, but taking into account the things that Dani Bassett does in her papers (which I still need to look into).\n",
    "### Preprocessing methods per Westphal et al., 2017\n",
    "Whole-brain MRI was administered on a 3.0 Tesla Siemens TIM Trio scanner at the UCLA Staglin Center for Cognitive Neuroscience. Functional images were ac- quired using a T2*-weighted echoplanar imaging sequence (TR   2.0 s; TE   30 ms; flip angle   75°; FOV   19.2 cm; voxel resolution   3.0   3.0   3.7 mm; 33 interleaved axial slices). The first three volumes of each 239-volume run were discarded to ensure T1 stabilization.<br>Preprocessing was done in SPM8.\n",
    "1. Slice timing correction\n",
    "2. Motion correction\n",
    "3. Unwarping\n",
    "4. Coregistration to subject's T1\n",
    "5. Anatomical segmentation\n",
    "6. Spatial normalization to MNI template\n",
    "7. Spatial smoothing (6mm FWHM)\n",
    "8. High-pass filtering (236_s_)\n",
<<<<<<< HEAD
<<<<<<< HEAD
    "9. Timecourse per voxel demeaned\n",
    "<br>\n",
=======
    "9. Timecourse per voxel demeaned.\n",
>>>>>>> 6a60b38ad9fbc030239b1da8dd4b6dcb046a05cb
=======
    "9. Timecourse per voxel demeaned.\n",
>>>>>>> 6a60b38ad9fbc030239b1da8dd4b6dcb046a05cb
    "### Alterations made below\n",
    "Preprocessing was done with FSL tools in Nipype.\n",
    "3. No fieldmaps, so no unwarping... (look into this)\n",
    "7. No smoothing\n",
<<<<<<< HEAD
<<<<<<< HEAD
    "8. High pass filtering (??)\n",
    "9. Demeaning???"
=======
    "8. High pass filtering at 55s\n",
    "9. Standardized TS"
>>>>>>> 6a60b38ad9fbc030239b1da8dd4b6dcb046a05cb
=======
    "8. High pass filtering at 55s\n",
    "9. Standardized TS"
>>>>>>> 6a60b38ad9fbc030239b1da8dd4b6dcb046a05cb
   ]
  },
  {
   "cell_type": "code",
<<<<<<< HEAD
<<<<<<< HEAD
   "execution_count": 44,
   "metadata": {
    "collapsed": true
   },
=======
   "execution_count": 1,
   "metadata": {},
>>>>>>> 6a60b38ad9fbc030239b1da8dd4b6dcb046a05cb
=======
   "execution_count": 1,
   "metadata": {},
>>>>>>> 6a60b38ad9fbc030239b1da8dd4b6dcb046a05cb
   "outputs": [],
   "source": [
    "def preproc(data_dir, sink_dir, subject, run, highpass, masks, mask_names):\n",
    "    from nipype.interfaces.fsl import MCFLIRT, FLIRT, FNIRT, ExtractROI, ApplyWarp, MotionOutliers\n",
<<<<<<< HEAD
<<<<<<< HEAD
    "    from nipype.interfaces.utility import Function\n",
=======
>>>>>>> 6a60b38ad9fbc030239b1da8dd4b6dcb046a05cb
=======
>>>>>>> 6a60b38ad9fbc030239b1da8dd4b6dcb046a05cb
    "    from nilearn.plotting import plot_roi\n",
    "    from nilearn import input_data\n",
    "    \n",
    "    #WRITE A DARA GRABBER\n",
    "    def get_niftis(subject_id, data_dir, run):\n",
    "        from os.path import join, exists\n",
    "        t1 = join(data_dir, subject_id, 'session-1', 'anatomical', 'anatomical-0', 'anatomical.nii.gz')\n",
    "        #t1_brain_mask = join(data_dir, subject, 'session-1', 'anatomical', 'anatomical-0', 'fsl', 'anatomical-bet.nii.gz')\n",
    "        epi = join(data_dir, subject_id, 'session-1', 'retr', 'retr-{0}'.format(run), 'retr.nii.gz')\n",
    "        assert exists(t1), \"t1 does not exist\"\n",
    "        assert exists(epi), \"epi does not exist\"\n",
    "        standard = '/home/applications/fsl/5.0.8/data/standard/MNI152_T1_2mm.nii.gz'\n",
    "        return t1, epi, standard\n",
    "    \n",
    "    data = Function(function=get_niftis, input_names=[\"subject_id\", \"data_dir\", \"run\"],\n",
    "                            output_names=[\"t1\", \"bold\", \"standard\"])\n",
    "    data.inputs.data_dir = data_dir\n",
    "    data.inputs.subject_id = subject\n",
    "    data.inputs.run = run\n",
    "    \n",
    "    grabber = data.run()\n",
    "    \n",
<<<<<<< HEAD
<<<<<<< HEAD
=======
    "    standard = '/home/applications/fsl/5.0.8/data/standard/MNI152_T1_2mm_brain.nii.gz'\n",
>>>>>>> 6a60b38ad9fbc030239b1da8dd4b6dcb046a05cb
=======
    "    standard = '/home/applications/fsl/5.0.8/data/standard/MNI152_T1_2mm_brain.nii.gz'\n",
>>>>>>> 6a60b38ad9fbc030239b1da8dd4b6dcb046a05cb
    "    qa1 = join(sink_dir, 'qa', '{0}_mni_flirt_{1}.png'.format(subject, run))\n",
    "    qa2 = join(sink_dir, 'qa', '{0}_mni_fnirt_{1}.png'.format(subject, run))\n",
    "    confound_file = join(data_dir, subject, 'session-1', 'retr', 'mni', 'confounds-{0}.csv'.format(run))\n",
    "    \n",
    "    #run motion correction\n",
    "    mcflirt = MCFLIRT(ref_vol=144, save_plots=True, output_type='NIFTI_GZ')\n",
<<<<<<< HEAD
<<<<<<< HEAD
    "    mcflirt.inputs.in_file = grabber.outputs.bold\n",
=======
    "    mcflirt.inputs.in_file = join(data_dir, subject, 'session-1', 'retr', 'retr-{0}'.format(run), 'retr.nii.gz')\n",
>>>>>>> 6a60b38ad9fbc030239b1da8dd4b6dcb046a05cb
=======
    "    mcflirt.inputs.in_file = join(data_dir, subject, 'session-1', 'retr', 'retr-{0}'.format(run), 'retr.nii.gz')\n",
>>>>>>> 6a60b38ad9fbc030239b1da8dd4b6dcb046a05cb
    "    mcflirt.inputs.out_file = join(data_dir, subject,'session-1', 'retr', 'mni', 'mcf-func-{0}.nii.gz'.format(run))\n",
    "    flirty = mcflirt.run()\n",
    "    \n",
    "    #motion outliers\n",
    "    mout = MotionOutliers(metric='fd')\n",
<<<<<<< HEAD
<<<<<<< HEAD
    "    mout.inputs.in_file = grabber.outputs.bold\n",
=======
    "    mout.inputs.in_file = flirty.outputs.out_file\n",
>>>>>>> 6a60b38ad9fbc030239b1da8dd4b6dcb046a05cb
=======
    "    mout.inputs.in_file = flirty.outputs.out_file\n",
>>>>>>> 6a60b38ad9fbc030239b1da8dd4b6dcb046a05cb
    "    moutliers = mout.run()\n",
    "    \n",
    "    #concatenate motion parameters and motion outliers to form confounds file\n",
    "    motion = np.genfromtxt(flirty.outputs.par_file)\n",
    "    outliers = np.genfromtxt(moutliers.outputs.out_file)\n",
    "    conf = np.hstack((motion, outliers))\n",
    "    np.savetxt(confound_file, conf, delimiter=',')\n",
    "    \n",
    "    #extract an example volume for normalization\n",
    "    ex_fun = ExtractROI(t_min=144, t_size=1)\n",
    "    ex_fun.inputs.in_file = flirty.outputs.out_file\n",
<<<<<<< HEAD
<<<<<<< HEAD
    "    ex_fun.inputs.roi_file = join(data_dir, subject,'session-1', 'retr', 'mni', 'example-func-{0}.nii.gz'.format(run))\n",
=======
    "    ex_fun.outputs.roi_file = join(data_dir, subject,'session-1', 'retr', 'mni', 'example-func-{0}.nii.gz'.format(run))\n",
>>>>>>> 6a60b38ad9fbc030239b1da8dd4b6dcb046a05cb
=======
    "    ex_fun.outputs.roi_file = join(data_dir, subject,'session-1', 'retr', 'mni', 'example-func-{0}.nii.gz'.format(run))\n",
>>>>>>> 6a60b38ad9fbc030239b1da8dd4b6dcb046a05cb
    "    fun = ex_fun.run()\n",
    "    \n",
    "    #two-step normalization with flirt and fnirt, outputting qa pix\n",
    "    flit = FLIRT(cost_func=\"corratio\", dof=7)\n",
    "    flit.inputs.reference = fun.outputs.roi_file\n",
    "    flit.inputs.in_file = grabber.outputs.t1\n",
    "    flit.inputs.out_file = join(data_dir, subject, 'session-1', 'retr', 'mni', 't1-flirt-func-{0}.nii.gz'.format(run))\n",
    "    flit.inputs.out_matrix_file = join(data_dir, subject, 'session-1', 'retr', 'mni', 't1-to-func-{0}.mat'.format(run))\n",
    "    reg1 = flit.run()\n",
<<<<<<< HEAD
<<<<<<< HEAD
    "    #plot flirted t1 overlaid on example_func\n",
    "    plot_roi(reg1.outputs.out_file, bg_img=fun.outputs.roi_file, colorbar=True, draw_cross=False, output_file=qa1)\n",
    "    \n",
    "    perf = FNIRT(output_type='NIFTI_GZ')\n",
    "    perf.inputs.warped_file = join(data_dir, subject, 'session-1', 'retr', 'mni', 'mni-fnirt-t1-{0}.nii.gz'.format(run))\n",
    "    #perf.inputs.affine_file = reg1.outputs.out_matrix_file\n",
    "    perf.inputs.in_file = grabber.outputs.standard\n",
    "    perf.inputs.ref_file = grabber.outputs.t1\n",
    "    perf.inputs.fieldcoeff_file = join(data_dir, subject, 'session-1', 'retr', 'mni', 'mni-to-t1-warpcoeff-{0}.nii.gz'.format(run))\n",
    "    reg2 = perf.run()\n",
    "    #plot fnirted MNI overlaid on t1\n",
    "    plot_roi(reg2.outputs.warped_file, bg_img=grabber.outputs.t1, colorbar=True, draw_cross=False, output_file=qa2)\n",
=======
=======
>>>>>>> 6a60b38ad9fbc030239b1da8dd4b6dcb046a05cb
    "    #plot flirted MNI overlaid on example_func\n",
    "    plot_roi(reg1.outputs.out_file, bg_img=fun.outputs.roi_file, colorbar=True, draw_cross=False, output_file=qa1)\n",
    "    \n",
    "    perf = FNIRT(output_type='NIFTI_GZ')\n",
    "    perf.inputs.warped_file = join(data_dir, subject, 'session-1', 'retr', 'mni', 'mni-fnirt-func-{0}.nii.gz'.format(run))\n",
    "    perf.inputs.affine_file = reg1.outputs.out_matrix_file\n",
    "    perf.inputs.in_file = standard\n",
    "    perf.inputs.ref_file = fun.outputs.roi_file\n",
    "    reg2 = perf.run()\n",
    "    #plot fnirted MNI overlaid on example func\n",
    "    plot_roi(reg2.outputs.warped_file, bg_img=fun.outputs.roi_file, colorbar=True, draw_cross=False, output_file=qa2)\n",
<<<<<<< HEAD
>>>>>>> 6a60b38ad9fbc030239b1da8dd4b6dcb046a05cb
=======
>>>>>>> 6a60b38ad9fbc030239b1da8dd4b6dcb046a05cb
    "    \n",
    "    xfmd_ntwks = []\n",
    "    for i in np.arange(0, len(masks)):\n",
    "        warp = ApplyWarp(interp=\"nn\", abswarp=True)\n",
    "        warp.inputs.in_file = masks[i]\n",
<<<<<<< HEAD
<<<<<<< HEAD
    "        warp.inputs.premat = reg1.outputs.out_matrix_file\n",
    "        warp.inputs.ref_file = grabber.outputs.t1\n",
    "        warp.inputs.field_file = reg2.outputs.field_file\n",
    "        net_warp = warp.run()\n",
    "        xfmd_ntwks.append(net_warp.outputs.out_file)\n",
=======
=======
>>>>>>> 6a60b38ad9fbc030239b1da8dd4b6dcb046a05cb
    "        warp.inputs.ref_file = fun.outputs.roi_file\n",
    "        warp.inputs.field_file = reg2.outputs.field_file\n",
    "        warp.inputs.premat = reg1.outputs.out_matrix_file\n",
    "        warp.inputs.out_file = join(data_dir, subject, 'session-1', 'retr', 'mni', \n",
    "                                    '{0}-in-func-{0}.nii.gz'.format(mask_names[i], run))\n",
    "        net_warp = warp.run()\n",
    "        xfmd_ntwks.append(net_warp.outputs.out_file)\n",
    "        print net_warp.outputs.out_file\n",
<<<<<<< HEAD
>>>>>>> 6a60b38ad9fbc030239b1da8dd4b6dcb046a05cb
=======
>>>>>>> 6a60b38ad9fbc030239b1da8dd4b6dcb046a05cb
    "        \n",
    "        qa_file = join(sink_dir, 'qa', '{0}_ntwk_qa_{1}-{2}.png'.format(subject, mask_names[i], run))\n",
    "\n",
    "        plotting.plot_roi(net_warp.outputs.out_file, bg_img=fun.outputs.roi_file, \n",
<<<<<<< HEAD
<<<<<<< HEAD
    "                          colorbar=True, vmin=0, vmax=18, draw_cross=False, output_file=qa_file)\n",
=======
    "                          colorbar=True, vmin=0, vmax=18, draw_cross=False, output_file=qa_file, dim=-1)\n",
>>>>>>> 6a60b38ad9fbc030239b1da8dd4b6dcb046a05cb
=======
    "                          colorbar=True, vmin=0, vmax=18, draw_cross=False, output_file=qa_file, dim=-1)\n",
>>>>>>> 6a60b38ad9fbc030239b1da8dd4b6dcb046a05cb
    "    \n",
    "    ntwk_masker = input_data.NiftiLabelsMasker(xfmd_ntwks[0], standardize=True, high_pass=highpass, t_r=2.0)\n",
    "    hippo_masker = input_data.NiftiLabelsMasker(xfmd_ntwks[1], standardize=True, high_pass=highpass, t_r=2.0)\n",
    "    \n",
    "    return flirty.outputs.out_file, confound_file, ntwk_masker, hippo_masker"
   ]
  },
  {
   "cell_type": "code",
<<<<<<< HEAD
<<<<<<< HEAD
   "execution_count": 28,
   "metadata": {
    "collapsed": false
   },
   "outputs": [
    {
     "name": "stdout",
     "output_type": "stream",
     "text": [
      "fnirt --aff=/Users/Katie/Dropbox/Data/hypothalamus/HIP007/H-tract-2016/struc2diff.mat --in=/Users/Katie/Dropbox/Data/templates/Colin27_T1_seg_MNI-152.nii.gz --logout=/Users/Katie/Dropbox/Projects/physics-retrieval/scripts/idconn-retrieval/Colin27_T1_seg_MNI-152_log.txt --ref=/Users/Katie/Dropbox/Data/hypothalamus/HIP007/H-tract-2016/nodif.nii.gz --iout=/Users/Katie/Dropbox/Data/hypothalamus/HIP007/H-tract-2016/struc2diff.nii.gz\n",
      "applywarp --in=/Users/Katie/Dropbox/Projects/physics-retrieval/18-networks-5.14.nii.gz --ref=/Users/Katie/Dropbox/Data/hypothalamus/HIP007/H-tract-2016/nodif.nii.gz --out=/Users/Katie/Dropbox/Projects/physics-retrieval/scripts/idconn-retrieval/18-networks-5.14_warp.nii.gz --warp=/Users/Katie/Dropbox/Data/habenula/output/HIP002/reg/HIP002_anat2std_warp.nii.gz --interp=nn\n"
     ]
    }
   ],
   "source": [
    "from nipype.interfaces.fsl import MCFLIRT, FLIRT, FNIRT, ExtractROI, ApplyWarp, MotionOutliers\n",
    "standard = '/Users/Katie/Dropbox/Data/templates/Colin27_T1_seg_MNI-152.nii.gz'\n",
    "perf = FNIRT(output_type='NIFTI_GZ')\n",
    "perf.inputs.warped_file = '/Users/Katie/Dropbox/Data/hypothalamus/HIP007/H-tract-2016/struc2diff.nii.gz'\n",
    "perf.inputs.affine_file = '/Users/Katie/Dropbox/Data/hypothalamus/HIP007/H-tract-2016/struc2diff.mat'\n",
    "perf.inputs.in_file = standard\n",
    "perf.inputs.ref_file = '/Users/Katie/Dropbox/Data/hypothalamus/HIP007/H-tract-2016/nodif.nii.gz'\n",
    "#perf.inputs.fieldcoeff_file = join(data_dir, '101', 'session-1', 'retr', 'mni', 'mni-fnirt-func-1-coeff.nii.gz')\n",
    "print perf.cmdline\n",
    "\n",
    "warp = ApplyWarp(interp='nn')\n",
    "warp.inputs.in_file = masks[0]\n",
    "warp.inputs.ref_file = '/Users/Katie/Dropbox/Data/hypothalamus/HIP007/H-tract-2016/nodif.nii.gz'\n",
    "warp.inputs.field_file = '/Users/Katie/Dropbox/Data/habenula/output/HIP002/reg/HIP002_anat2std_warp.nii.gz'\n",
    "print warp.cmdline"
   ]
  },
  {
   "cell_type": "markdown",
   "metadata": {
    "collapsed": true
   },
   "source": [
    "#data grabbing function\n",
    "def get_niftis(data_dir, subject_id, session, task):\n",
    "    from os.path import join, exists\n",
    "    t1 = join(data_dir, subject_id, 'T1W', 'anat.nii.gz')\n",
    "    epi1 = join(data_dir, subject_id, 'session-{0}'.format(session-1), task, '{0}-0'.format(task), '{0}-5mm.feat'.format(task), 'filtered_func_data.nii.gz')\n",
    "    epi2 = join(data_dir, subject_id, 'session-{0}'.format(session-1), task, '{0}-1'.format(task), '{0}-5mm.feat'.format(task), 'filtered_func_data.nii.gz')\n",
    "\n",
    "    assert exists(t1), \"t1 does not exist\"\n",
    "    assert exists(epi1), \"epi does not exist\"\n",
    "    assert exists(epi2), \"epi does not exist\"\n",
    "    standard = '/home/applications/fsl/5.0.8/data/standard/MNI152_T1_2mm_brain.nii.gz'\n",
    "    return t1, epi1, epi2, standard"
   ]
  },
  {
   "cell_type": "code",
   "execution_count": 6,
   "metadata": {
    "collapsed": true
   },
   "outputs": [],
   "source": [
    "def mni_to_epi(data_dir, sink_dir, subject, run, masks, mask_names):\n",
    "    from nipype.interfaces.fsl import InvWarp, ApplyWarp\n",
    "    from nilearn import plotting\n",
    "    \n",
    "    example_func = join(data_dir, subject, 'session-1', 'retr', 'retr-{0}'.format(run), 'retr-5mm.feat', 'reg', 'example_func.nii.gz')\n",
    "    func_to_mni = join(data_dir, subject, 'session-1', 'retr', 'retr-{0}'.format(run), 'retr-5mm.feat', 'reg', 'example_func2standard_warp.nii.gz')\n",
    "    \n",
    "    \n",
    "    invwarp = InvWarp(output_type=\"NIFTI_GZ\")\n",
    "    invwarp.inputs.warp = func_to_mni\n",
    "    invwarp.inputs.reference = example_func\n",
    "    mni_warp = invwarp.run()\n",
    "    \n",
    "    xfmd_ntwks = []\n",
    "    \n",
    "    for i in np.arange(0, len(masks)):\n",
    "        applywarp = ApplyWarp(interp=\"nn\", abswarp=True)\n",
    "        applywarp.inputs.in_file = masks[i]\n",
    "        applywarp.inputs.ref_file = join(data_dir, subject, 'session-1', 'retr', 'retr-{0}'.format(run), 'retr-5mm.feat', 'reg', 'example_func.nii.gz')\n",
    "        applywarp.inputs.field_file = mni_warp.outputs.inverse_warp\n",
    "        network_warp = applywarp.run()\n",
    "        xfmd_ntwks.append(network_warp.outputs.out_file) \n",
    "        \n",
    "        qa_file = join(sink_dir, 'qa', '{0}_ntwk_qa_{1}.png'.format(subject, mask_names[i], run))\n",
    "\n",
    "        plotting.plot_roi(xfmd_ntwks, bg_img=example_func, cut_coords=(-2, 5, 40), \n",
    "                          colorbar=True, vmin=0, vmax=18, draw_cross=False, \n",
    "                          output_file=qa_file)\n",
    "    \n",
    "    return xfmd_ntwks"
   ]
  },
  {
   "cell_type": "code",
   "execution_count": 31,
   "metadata": {
    "collapsed": true
   },
=======
   "execution_count": 2,
   "metadata": {},
>>>>>>> 6a60b38ad9fbc030239b1da8dd4b6dcb046a05cb
=======
   "execution_count": 2,
   "metadata": {},
>>>>>>> 6a60b38ad9fbc030239b1da8dd4b6dcb046a05cb
   "outputs": [],
   "source": [
    "#choose your atlas and either fetch it from Nilearn using one of the the 'datasets' functions\n",
    "laird_2011_icns = '/home/data/nbc/physics-learning/retrieval-graphtheory/18-networks-5.14.nii.gz'\n",
    "#laird_2011_icns = '/Users/Katie/Dropbox/Projects/physics-retrieval/18-networks-5.14.nii.gz'\n",
    "#add labels for the parcellation\n",
    "labels = ['limbic', 'orbitofrontal', 'basal ganglia', 'salience', 'hunger', \n",
    "          'motor learning', 'frontoparietal', 'hand', 'motor execution', 'higher order visual', \n",
    "          'lateral visual', 'medial visual', 'default mode',' cerebellum', 'left central executive', \n",
    "          'auditory', 'mouth', 'right central executive']\n",
    "\n",
    "harvox_hippo = '/home/data/nbc/physics-learning/retrieval-graphtheory/harvox-hippo-prob50-2mm.nii.gz'\n",
    "masks = [laird_2011_icns, harvox_hippo]\n",
    "mask_names = ['18_icn', 'hippo']"
   ]
  },
  {
   "cell_type": "code",
<<<<<<< HEAD
<<<<<<< HEAD
   "execution_count": 7,
   "metadata": {
    "collapsed": false
   },
   "outputs": [
    {
     "data": {
      "image/png": "iVBORw0KGgoAAAANSUhEUgAAAxsAAAEyCAYAAACS4s0eAAAABHNCSVQICAgIfAhkiAAAAAlwSFlz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\nSUVORK5CYII=\n",
      "text/plain": [
       "<matplotlib.figure.Figure at 0x2b6c4c0013d0>"
      ]
     },
     "metadata": {},
     "output_type": "display_data"
    }
   ],
   "source": [
    "plotting.plot_roi(laird_2011_icns, cut_coords=(-2, 5, 20), colorbar=True, vmin=0, vmax=18, draw_cross=False)\n",
    "plotting.show()\n",
    "#dmn is 12\n",
    "#lcen is 14\n",
    "#rcen is 17"
   ]
  },
  {
   "cell_type": "code",
   "execution_count": 8,
   "metadata": {
    "collapsed": false,
    "scrolled": true
   },
   "outputs": [
    {
     "data": {
      "image/png": "iVBORw0KGgoAAAANSUhEUgAAAxsAAAEyCAYAAACS4s0eAAAABHNCSVQICAgIfAhkiAAAAAlwSFlz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\n",
      "text/plain": [
       "<matplotlib.figure.Figure at 0x2b6c29f3aad0>"
      ]
     },
     "metadata": {},
     "output_type": "display_data"
    }
   ],
   "source": [
    "plotting.plot_roi(harvox_hippo, cut_coords=(-25, -10, -6), colorbar=True, vmin=0, vmax=2, draw_cross=False)\n",
    "plotting.show()"
   ]
  },
  {
   "cell_type": "code",
=======
>>>>>>> 6a60b38ad9fbc030239b1da8dd4b6dcb046a05cb
   "execution_count": null,
   "metadata": {
    "collapsed": true
   },
   "outputs": [],
   "source": [
<<<<<<< HEAD
    "plotting.plot_roi(laird_2011_icns, cut_coords=(-20, -10, 0, 10, 20, 30, 40, 50, 60, 70), \n",
    "                  display_mode='z', colorbar=True, vmin=0, vmax=20, draw_cross=False)"
   ]
  },
  {
   "cell_type": "code",
=======
>>>>>>> 6a60b38ad9fbc030239b1da8dd4b6dcb046a05cb
   "execution_count": null,
   "metadata": {
    "collapsed": true
   },
   "outputs": [],
   "source": [
<<<<<<< HEAD
    "#create your masker objects \n",
    "#(this is how to pull timeseries from niftis into arrays, based on your parcellations scheme)\n",
    "#one masker to pull out one signal per network (average of voxelwise signals across the network)\n",
    "#high and low-pass options are in Hertz\n",
    "\n",
    "network_masker = input_data.NiftiLabelsMasker(laird_2011_icns, standardize=True, high_pass=)\n",
    "hippo_masker = input_data.NiftiLabelsMasker(harvox_hippo, standardize=True)\n",
    "#one masker to pull out one signal per region (if applicable)\n",
    "#region_masker = input_data.NiftiLabelsMasker('/Users/Katie/Dropbox/Data/salience-anxiety-graph-theory/relabeled_yeo_atlas7_gt100.nii.gz', standardize=True)"
   ]
  },
  {
   "cell_type": "code",
   "execution_count": 4,
   "metadata": {
    "collapsed": true
   },
   "outputs": [],
   "source": [
=======
>>>>>>> 6a60b38ad9fbc030239b1da8dd4b6dcb046a05cb
=======
>>>>>>> 6a60b38ad9fbc030239b1da8dd4b6dcb046a05cb
    "#only want post subjects\n",
    "subjects = ['101', '102', '103', '104', '106', '107', '108', '110', '212',\n",
    "            '214', '215', '216', '217', '218', '219', '320', '321', '323',\n",
    "            '324', '325', '327', '328', '330', '331', '333', '334',\n",
    "            '335', '336', '337', '338', '339', '340', '341', '342', '343', '344',\n",
    "            '345', '346', '347', '348', '349', '350', '451', '453', '455',\n",
    "            '458', '459', '460', '462', '463', '464', '465', '467',\n",
    "            '468', '469', '470', '502', '503', '571', '572', '573', '574',\n",
    "            '577', '578', '581', '582', '584', '585', '586', '587',\n",
    "            '588', '589', '591', '592', '593', '594', '595', '596', '597',\n",
    "            '598', '604', '605', '606', '607', '608', '609', '610', '612',\n",
    "            '613', '614', '615', '617', '618', '619', '620', '621', '622',\n",
    "            '623', '624', '625', '626', '627', '629', '630', '631', '633',\n",
    "            '634']\n",
    "#all subjects 102 103 101 104 106 107 108 110 212 X213 214 215 216 217 218 219 320 321 X322 323 324 325 \n",
    "#327 328 X329 330 331 X332 333 334 335 336 337 338 339 340 341 342 343 344 345 346 347 348 349 350 451 \n",
    "#X452 453 455 X456 X457 458 459 460 462 463 464 465 467 468 469 470 502 503 571 572 573 574 X575 577 578 \n",
    "#X579 X580 581 582 584 585 586 587 588 589 X590 591 592 593 594 595 596 597 598 604 605 606 607 608 609 \n",
    "#610 X611 612 613 614 615 X616 617 618 619 620 621 622 623 624 625 626 627 X628 629 630 631 633 634\n",
    "#errors in fnirt-to-mni: 213, 322, 329, 332, 452, 456, 457, 575, 579, 580, 590, 611, 616, 628\n",
    "#subjects without post-IQ measure: 452, 461, 501, 575, 576, 579, 583, 611, 616, 628, 105, 109, 211, 213, 322, 326, 329, 332\n",
<<<<<<< HEAD
<<<<<<< HEAD
    "subjects = ['101', '102']"
=======
    "#subjects = ['101', '102']"
>>>>>>> 6a60b38ad9fbc030239b1da8dd4b6dcb046a05cb
=======
    "#subjects = ['101', '102']"
>>>>>>> 6a60b38ad9fbc030239b1da8dd4b6dcb046a05cb
   ]
  },
  {
   "cell_type": "code",
<<<<<<< HEAD
<<<<<<< HEAD
   "execution_count": 10,
   "metadata": {
    "collapsed": true
   },
   "outputs": [],
   "source": [
    "data_dir = '/home/data/nbc/physics-learning/data/pre-processed'\n",
    "#data_dir = '/Users/Katie/Dropbox/Projects/physics-anxiety/'\n",
    "#mni_data = '/home/data/nbc/\n",
    "#mni_data = '/Users/Katie/Dropbox/Projects/physics-anxiety/data/post'\n",
=======
=======
>>>>>>> 6a60b38ad9fbc030239b1da8dd4b6dcb046a05cb
   "execution_count": 5,
   "metadata": {},
   "outputs": [],
   "source": [
    "data_dir = '/home/data/nbc/physics-learning/data/pre-processed'\n",
<<<<<<< HEAD
>>>>>>> 6a60b38ad9fbc030239b1da8dd4b6dcb046a05cb
=======
>>>>>>> 6a60b38ad9fbc030239b1da8dd4b6dcb046a05cb
    "sink_dir = '/home/data/nbc/physics-learning/retrieval-graphtheory/output'\n",
    "#sink_dir = '/Users/Katie/Dropbox/Projects/physics-retrieval/data/out'\n",
    "\n",
    "runs = [0, 1]\n",
    "connectivity_metric = 'correlation'\n",
    "networks = [12, 14, 17]\n",
    "conditions = ['phy', 'gen']\n",
    "thresh_range = np.arange(0.1, 1, 0.1)\n",
<<<<<<< HEAD
<<<<<<< HEAD
    "highpass = 1/55."
=======
    "\n",
    "correlation_measure = ConnectivityMeasure(kind=connectivity_metric)"
>>>>>>> 6a60b38ad9fbc030239b1da8dd4b6dcb046a05cb
=======
    "\n",
    "correlation_measure = ConnectivityMeasure(kind=connectivity_metric)"
>>>>>>> 6a60b38ad9fbc030239b1da8dd4b6dcb046a05cb
   ]
  },
  {
   "cell_type": "code",
<<<<<<< HEAD
<<<<<<< HEAD
   "execution_count": 6,
=======
   "execution_count": null,
>>>>>>> 6a60b38ad9fbc030239b1da8dd4b6dcb046a05cb
=======
   "execution_count": null,
>>>>>>> 6a60b38ad9fbc030239b1da8dd4b6dcb046a05cb
   "metadata": {
    "collapsed": true
   },
   "outputs": [],
   "source": [
    "#gen_timing = np.genfromtxt('/home/data/nbc/physics-learning/physics-learning/RETRconditionGeneralSess1.txt', \n",
    "#                           delimiter='\\t')\n",
    "gen_timing = np.genfromtxt('/home/data/nbc/physics-learning/retrieval-graphtheory/RETRconditionGeneralSess1.txt', \n",
    "                           delimiter='\\t', dtype=int)\n",
    "\n",
    "gen_timing = (gen_timing/2)-1\n",
    "gen_timing = gen_timing[:,0:2]\n",
    "\n",
    "#phy_timing = np.genfromtxt('/home/data/nbc/physics-learning/physics-learning/RETRconditionPhysicsSess1.txt', \n",
    "#                           delimiter='\\t')\n",
    "phy_timing = np.genfromtxt('/home/data/nbc/physics-learning/retrieval-graphtheory/RETRconditionPhysicsSess1.txt', \n",
    "                           delimiter='\\t')\n",
    "phy_timing = (phy_timing/2)-1\n",
    "phy_timing = phy_timing[:,0:2]\n",
    "timing = {}\n",
    "timing['phy'] = phy_timing\n",
    "timing['gen'] = gen_timing"
   ]
  },
  {
   "cell_type": "code",
<<<<<<< HEAD
<<<<<<< HEAD
   "execution_count": 7,
=======
   "execution_count": null,
>>>>>>> 6a60b38ad9fbc030239b1da8dd4b6dcb046a05cb
=======
   "execution_count": null,
>>>>>>> 6a60b38ad9fbc030239b1da8dd4b6dcb046a05cb
   "metadata": {
    "collapsed": true
   },
   "outputs": [],
   "source": [
    "df = pd.DataFrame({'global efficiency phy': np.empty([len(subjects),], dtype=float),\n",
    "                   'fc default mode-left central executive phy': np.empty([len(subjects),], dtype=float),\n",
    "                   'fc default mode-right central executive phy': np.empty([len(subjects),], dtype=float),\n",
    "                   'fc left central executive-right central executive phy': np.empty([len(subjects),], dtype=float),\n",
    "                   'fc hippo-default mode phy': np.empty([len(subjects),], dtype=float),\n",
    "                   'fc hippo-left central executive phy': np.empty([len(subjects),], dtype=float),\n",
    "                   'fc hippo-right central executive phy': np.empty([len(subjects),], dtype=float),\n",
    "                   'le default mode phy': np.empty([len(subjects),], dtype=float),\n",
    "                   'le right central executive phy': np.empty([len(subjects),], dtype=float),\n",
    "                   'le left central executive phy': np.empty([len(subjects),], dtype=float),\n",
    "                   'global efficiency gen': np.empty([len(subjects),], dtype=float),\n",
    "                   'fc default mode-left central executive gen': np.empty([len(subjects),], dtype=float),\n",
    "                   'fc default mode-right central executive gen': np.empty([len(subjects),], dtype=float),\n",
    "                   'fc left central executive-right central executive gen': np.empty([len(subjects),], dtype=float),\n",
    "                   'fc hippo-default mode gen': np.empty([len(subjects),], dtype=float),\n",
    "                   'fc hippo-left central executive gen': np.empty([len(subjects),], dtype=float),\n",
    "                   'fc hippo-right central executive gen': np.empty([len(subjects),], dtype=float),\n",
    "                   'le default mode gen': np.empty([len(subjects),], dtype=float),\n",
    "                   'le right central executive gen': np.empty([len(subjects),], dtype=float),\n",
    "                   'le left central executive gen': np.empty([len(subjects),], dtype=float)},\n",
    "                  index=subjects)"
   ]
  },
  {
   "cell_type": "code",
<<<<<<< HEAD
<<<<<<< HEAD
   "execution_count": 45,
   "metadata": {
    "collapsed": false
   },
   "outputs": [
    {
     "ename": "KeyboardInterrupt",
     "evalue": "",
     "output_type": "error",
     "traceback": [
      "\u001b[0;31m---------------------------------------------------------------------------\u001b[0m",
      "\u001b[0;31mKeyboardInterrupt\u001b[0m                         Traceback (most recent call last)",
      "\u001b[0;32m<ipython-input-45-c8bfad85b2ee>\u001b[0m in \u001b[0;36m<module>\u001b[0;34m()\u001b[0m\n\u001b[1;32m     10\u001b[0m             \u001b[0;31m#xfm laird 2011 maps to subject's epi space & define masker\u001b[0m\u001b[0;34m\u001b[0m\u001b[0;34m\u001b[0m\u001b[0m\n\u001b[1;32m     11\u001b[0m             epi_masks = preproc(data_dir=data_dir, sink_dir=sink_dir, subject=subject, \n\u001b[0;32m---> 12\u001b[0;31m                                 run=i, highpass=highpass, masks=masks, mask_names=mask_names)\n\u001b[0m\u001b[1;32m     13\u001b[0m             \u001b[0mnetwork_masker\u001b[0m \u001b[0;34m=\u001b[0m \u001b[0mepi_masks\u001b[0m\u001b[0;34m[\u001b[0m\u001b[0;36m2\u001b[0m\u001b[0;34m]\u001b[0m\u001b[0;34m\u001b[0m\u001b[0m\n\u001b[1;32m     14\u001b[0m             \u001b[0mhippo_masker\u001b[0m \u001b[0;34m=\u001b[0m \u001b[0mepi_masks\u001b[0m\u001b[0;34m[\u001b[0m\u001b[0;36m3\u001b[0m\u001b[0;34m]\u001b[0m\u001b[0;34m\u001b[0m\u001b[0m\n",
      "\u001b[0;32m<ipython-input-44-a4af368403fa>\u001b[0m in \u001b[0;36mpreproc\u001b[0;34m(data_dir, sink_dir, subject, run, highpass, masks, mask_names)\u001b[0m\n\u001b[1;32m     67\u001b[0m     \u001b[0mperf\u001b[0m\u001b[0;34m.\u001b[0m\u001b[0minputs\u001b[0m\u001b[0;34m.\u001b[0m\u001b[0mref_file\u001b[0m \u001b[0;34m=\u001b[0m \u001b[0mgrabber\u001b[0m\u001b[0;34m.\u001b[0m\u001b[0moutputs\u001b[0m\u001b[0;34m.\u001b[0m\u001b[0mt1\u001b[0m\u001b[0;34m\u001b[0m\u001b[0m\n\u001b[1;32m     68\u001b[0m     \u001b[0mperf\u001b[0m\u001b[0;34m.\u001b[0m\u001b[0minputs\u001b[0m\u001b[0;34m.\u001b[0m\u001b[0mfieldcoeff_file\u001b[0m \u001b[0;34m=\u001b[0m \u001b[0mjoin\u001b[0m\u001b[0;34m(\u001b[0m\u001b[0mdata_dir\u001b[0m\u001b[0;34m,\u001b[0m \u001b[0msubject\u001b[0m\u001b[0;34m,\u001b[0m \u001b[0;34m'session-1'\u001b[0m\u001b[0;34m,\u001b[0m \u001b[0;34m'retr'\u001b[0m\u001b[0;34m,\u001b[0m \u001b[0;34m'mni'\u001b[0m\u001b[0;34m,\u001b[0m \u001b[0;34m'mni-to-t1-warpcoeff-{0}.nii.gz'\u001b[0m\u001b[0;34m.\u001b[0m\u001b[0mformat\u001b[0m\u001b[0;34m(\u001b[0m\u001b[0mrun\u001b[0m\u001b[0;34m)\u001b[0m\u001b[0;34m)\u001b[0m\u001b[0;34m\u001b[0m\u001b[0m\n\u001b[0;32m---> 69\u001b[0;31m     \u001b[0mreg2\u001b[0m \u001b[0;34m=\u001b[0m \u001b[0mperf\u001b[0m\u001b[0;34m.\u001b[0m\u001b[0mrun\u001b[0m\u001b[0;34m(\u001b[0m\u001b[0;34m)\u001b[0m\u001b[0;34m\u001b[0m\u001b[0m\n\u001b[0m\u001b[1;32m     70\u001b[0m     \u001b[0;31m#plot fnirted MNI overlaid on t1\u001b[0m\u001b[0;34m\u001b[0m\u001b[0;34m\u001b[0m\u001b[0m\n\u001b[1;32m     71\u001b[0m     \u001b[0mplot_roi\u001b[0m\u001b[0;34m(\u001b[0m\u001b[0mreg2\u001b[0m\u001b[0;34m.\u001b[0m\u001b[0moutputs\u001b[0m\u001b[0;34m.\u001b[0m\u001b[0mwarped_file\u001b[0m\u001b[0;34m,\u001b[0m \u001b[0mbg_img\u001b[0m\u001b[0;34m=\u001b[0m\u001b[0mgrabber\u001b[0m\u001b[0;34m.\u001b[0m\u001b[0moutputs\u001b[0m\u001b[0;34m.\u001b[0m\u001b[0mt1\u001b[0m\u001b[0;34m,\u001b[0m \u001b[0mcolorbar\u001b[0m\u001b[0;34m=\u001b[0m\u001b[0mTrue\u001b[0m\u001b[0;34m,\u001b[0m \u001b[0mdraw_cross\u001b[0m\u001b[0;34m=\u001b[0m\u001b[0mFalse\u001b[0m\u001b[0;34m,\u001b[0m \u001b[0moutput_file\u001b[0m\u001b[0;34m=\u001b[0m\u001b[0mqa2\u001b[0m\u001b[0;34m)\u001b[0m\u001b[0;34m\u001b[0m\u001b[0m\n",
      "\u001b[0;32m/home/applications/anaconda2/4.3.1/lib/python2.7/site-packages/nipype/interfaces/base.py\u001b[0m in \u001b[0;36mrun\u001b[0;34m(self, **inputs)\u001b[0m\n\u001b[1;32m   1083\u001b[0m                         version=self.version)\n\u001b[1;32m   1084\u001b[0m         \u001b[0;32mtry\u001b[0m\u001b[0;34m:\u001b[0m\u001b[0;34m\u001b[0m\u001b[0m\n\u001b[0;32m-> 1085\u001b[0;31m             \u001b[0mruntime\u001b[0m \u001b[0;34m=\u001b[0m \u001b[0mself\u001b[0m\u001b[0;34m.\u001b[0m\u001b[0m_run_wrapper\u001b[0m\u001b[0;34m(\u001b[0m\u001b[0mruntime\u001b[0m\u001b[0;34m)\u001b[0m\u001b[0;34m\u001b[0m\u001b[0m\n\u001b[0m\u001b[1;32m   1086\u001b[0m             \u001b[0moutputs\u001b[0m \u001b[0;34m=\u001b[0m \u001b[0mself\u001b[0m\u001b[0;34m.\u001b[0m\u001b[0maggregate_outputs\u001b[0m\u001b[0;34m(\u001b[0m\u001b[0mruntime\u001b[0m\u001b[0;34m)\u001b[0m\u001b[0;34m\u001b[0m\u001b[0m\n\u001b[1;32m   1087\u001b[0m             \u001b[0mruntime\u001b[0m\u001b[0;34m.\u001b[0m\u001b[0mendTime\u001b[0m \u001b[0;34m=\u001b[0m \u001b[0mdt\u001b[0m\u001b[0;34m.\u001b[0m\u001b[0misoformat\u001b[0m\u001b[0;34m(\u001b[0m\u001b[0mdt\u001b[0m\u001b[0;34m.\u001b[0m\u001b[0mutcnow\u001b[0m\u001b[0;34m(\u001b[0m\u001b[0;34m)\u001b[0m\u001b[0;34m)\u001b[0m\u001b[0;34m\u001b[0m\u001b[0m\n",
      "\u001b[0;32m/home/applications/anaconda2/4.3.1/lib/python2.7/site-packages/nipype/interfaces/base.py\u001b[0m in \u001b[0;36m_run_wrapper\u001b[0;34m(self, runtime)\u001b[0m\n\u001b[1;32m   1726\u001b[0m \u001b[0;34m\u001b[0m\u001b[0m\n\u001b[1;32m   1727\u001b[0m     \u001b[0;32mdef\u001b[0m \u001b[0m_run_wrapper\u001b[0m\u001b[0;34m(\u001b[0m\u001b[0mself\u001b[0m\u001b[0;34m,\u001b[0m \u001b[0mruntime\u001b[0m\u001b[0;34m)\u001b[0m\u001b[0;34m:\u001b[0m\u001b[0;34m\u001b[0m\u001b[0m\n\u001b[0;32m-> 1728\u001b[0;31m         \u001b[0mruntime\u001b[0m \u001b[0;34m=\u001b[0m \u001b[0mself\u001b[0m\u001b[0;34m.\u001b[0m\u001b[0m_run_interface\u001b[0m\u001b[0;34m(\u001b[0m\u001b[0mruntime\u001b[0m\u001b[0;34m)\u001b[0m\u001b[0;34m\u001b[0m\u001b[0m\n\u001b[0m\u001b[1;32m   1729\u001b[0m         \u001b[0;32mreturn\u001b[0m \u001b[0mruntime\u001b[0m\u001b[0;34m\u001b[0m\u001b[0m\n\u001b[1;32m   1730\u001b[0m \u001b[0;34m\u001b[0m\u001b[0m\n",
      "\u001b[0;32m/home/applications/anaconda2/4.3.1/lib/python2.7/site-packages/nipype/interfaces/base.py\u001b[0m in \u001b[0;36m_run_interface\u001b[0;34m(self, runtime, correct_return_codes)\u001b[0m\n\u001b[1;32m   1757\u001b[0m                                                           runtime.environ))\n\u001b[1;32m   1758\u001b[0m         runtime = run_command(runtime, output=self.inputs.terminal_output,\n\u001b[0;32m-> 1759\u001b[0;31m                               redirect_x=self._redirect_x)\n\u001b[0m\u001b[1;32m   1760\u001b[0m         \u001b[0;32mif\u001b[0m \u001b[0mruntime\u001b[0m\u001b[0;34m.\u001b[0m\u001b[0mreturncode\u001b[0m \u001b[0;32mis\u001b[0m \u001b[0mNone\u001b[0m \u001b[0;32mor\u001b[0m\u001b[0;31m \u001b[0m\u001b[0;31m\\\u001b[0m\u001b[0;34m\u001b[0m\u001b[0m\n\u001b[1;32m   1761\u001b[0m                 \u001b[0mruntime\u001b[0m\u001b[0;34m.\u001b[0m\u001b[0mreturncode\u001b[0m \u001b[0;32mnot\u001b[0m \u001b[0;32min\u001b[0m \u001b[0mcorrect_return_codes\u001b[0m\u001b[0;34m:\u001b[0m\u001b[0;34m\u001b[0m\u001b[0m\n",
      "\u001b[0;32m/home/applications/anaconda2/4.3.1/lib/python2.7/site-packages/nipype/interfaces/base.py\u001b[0m in \u001b[0;36mrun_command\u001b[0;34m(runtime, output, timeout, redirect_x)\u001b[0m\n\u001b[1;32m   1490\u001b[0m             \u001b[0mproc\u001b[0m\u001b[0;34m.\u001b[0m\u001b[0mpoll\u001b[0m\u001b[0;34m(\u001b[0m\u001b[0;34m)\u001b[0m\u001b[0;34m\u001b[0m\u001b[0m\n\u001b[1;32m   1491\u001b[0m             \u001b[0m_process\u001b[0m\u001b[0;34m(\u001b[0m\u001b[0;34m)\u001b[0m\u001b[0;34m\u001b[0m\u001b[0m\n\u001b[0;32m-> 1492\u001b[0;31m             \u001b[0mtime\u001b[0m\u001b[0;34m.\u001b[0m\u001b[0msleep\u001b[0m\u001b[0;34m(\u001b[0m\u001b[0minterval\u001b[0m\u001b[0;34m)\u001b[0m\u001b[0;34m\u001b[0m\u001b[0m\n\u001b[0m\u001b[1;32m   1493\u001b[0m         \u001b[0m_process\u001b[0m\u001b[0;34m(\u001b[0m\u001b[0mdrain\u001b[0m\u001b[0;34m=\u001b[0m\u001b[0;36m1\u001b[0m\u001b[0;34m)\u001b[0m\u001b[0;34m\u001b[0m\u001b[0m\n\u001b[1;32m   1494\u001b[0m \u001b[0;34m\u001b[0m\u001b[0m\n",
      "\u001b[0;31mKeyboardInterrupt\u001b[0m: "
=======
=======
>>>>>>> 6a60b38ad9fbc030239b1da8dd4b6dcb046a05cb
   "execution_count": null,
   "metadata": {},
   "outputs": [],
   "source": [
    "#run preprocessing once per run per subject\n",
    "for subject in subjects:\n",
    "    ntwk_run_cond = {}\n",
    "    netwk = {}\n",
    "    hippo = {}\n",
    "    hippo_run_cond = {}\n",
    "    corrmats = {}\n",
    "    for run in runs:\n",
    "        #xfm laird 2011 maps to subject's epi space & define masker\n",
    "        epi_masks = preproc(data_dir, sink_dir, subject, i, highpass, masks, mask_names)\n",
    "\n",
    "        network_masker = epi_masks[2]\n",
    "        hippo_masker = epi_masks[3]\n",
    "        \n",
    "        #extract the network-wise and hippocampus timeseries per run\n",
    "        run = join(data_dir, subject, 'session-1', 'retr', 'mni', '{0}_filtered_func_data_{1}.nii.gz'.format(subject, i))\n",
    "        ntwk_ts = network_masker.fit_transform(run)\n",
    "        hippo_ts = hippo_masker.fit_transform(run)\n",
    "        ts = [ntwk_ts, hippo_ts]\n",
    "        #and then separate each run's timeseries into the different conditions\n",
    "        for condition in conditions:\n",
    "            ntwk_run_cond['{0},{1}'.format(condition, run)] = np.vstack((ntwk_ts[timing[condition][0,0].astype(int):(timing[condition][0,0]+timing[condition][0,1]+1).astype(int), :], ntwk_ts[timing[condition][1,0].astype(int):(timing[condition][1,0]+timing[condition][1,1]+1).astype(int), :], ntwk_ts[timing[condition][2,0].astype(int):(timing[condition][2,0]+timing[condition][2,1]+1).astype(int), :]))\n",
    "            hippo_run_cond['{0},{1}'.format(condition, run)] = np.vstack((hippo_ts[timing[condition][0,0].astype(int):(timing[condition][0,0]+timing[condition][0,1]+1).astype(int)], hippo_ts[timing[condition][1,0].astype(int):(timing[condition][1,0]+timing[condition][1,1]+1).astype(int)], hippo_ts[timing[condition][2,0].astype(int):(timing[condition][2,0]+timing[condition][2,1]+1).astype(int)]))\n",
    "    for condition in conditions:\n",
    "        netwk[condition] = np.vstack((ntwk_run_cond['{0} 0'.format(condition)], ntwk_run_cond['{0} 1'.format(condition)]))\n",
    "        hippo[condition] = np.vstack((hippo_run_cond['{0} 0'.format(condition)], hippo_run_cond['{0} 1'.format(condition)]))\n",
    "        corrmats[condition] = correlation_measure.fit_transform([netwk[condition]])[0]\n",
    "        np.savetxt(join(sink_dir, subject, '{0}-{1}-corrmat.csv'.format(subject, condition)), corrmats[condition])\n",
    "        df.at[subject, 'fc default mode-left central executive {0}'.format(condition)] = corrmats[condition][12,14]\n",
    "        df.at[subject, 'fc default mode-right central executive {0}'.format(condition)] = corrmats[condition][12,17]\n",
    "        df.at[subject, 'fc left central executive-right central executive {0}'.format(condition)] = corrmats[condition][14,17]\n",
    "        ge = []\n",
    "        le = {}\n",
    "        loceff = {}\n",
    "        loceff['default mode'] = []\n",
    "        loceff['left central executive'] = []\n",
    "        loceff['right central executive'] = []\n",
    "        for p in thresh_range:\n",
    "            corrmat_thresh = bct.threshold_proportional(corrmats[condition], p, copy=True)\n",
    "            #measures of interest here\n",
    "            #global efficiency\n",
    "            geff = bct.efficiency_wei(corrmat_thresh)\n",
    "            ge.append(geff)\n",
    "\n",
    "            #local efficiency\n",
    "            leff = bct.efficiency_wei(corrmat_thresh, local=True)\n",
    "            #print leff[2]\n",
    "            for network in networks:\n",
    "                #print network\n",
    "                loceff[labels[network]].append(leff[network])\n",
    "                #loceff['{0}, {1}'.format(labels[network], condition)].append(leff[network])\n",
    "            #print loceff\n",
    "            le['{0}, {1}'.format(p, condition)] = loceff\n",
    "        \n",
    "        #print 'global efficiency is {0}'.format(ge)\n",
    "        df.at[subject, 'global efficiency {0}'.format(condition)] = np.trapz(ge, dx=0.1)\n",
    "        \n",
    "        #populate df with hippo-FCs and local efficiencies per network\n",
    "        for network in networks:\n",
    "            df.at[subject, 'le {0} {1}'.format(labels[network], condition)] = np.trapz(loceff[labels[network]], dx=0.1)\n",
    "            #calculate hippocampus-network correlations (FC) per network & populate df \n",
    "            network_ts = np.reshape(timeseries[condition][:,network], (84,1))\n",
    "            #print(network_ts.shape)\n",
    "            df.at[subject, 'fc hippo-{0} {1}'.format(labels[network], condition)] = pearsonr(hippo[condition], network_ts)[0]\n",
    "df.to_csv(join(sink_dir, 'out.csv'), sep=',')"
   ]
  },
  {
   "cell_type": "code",
   "execution_count": 1,
   "metadata": {},
   "outputs": [
    {
     "ename": "NameError",
     "evalue": "name 'subjects' is not defined",
     "output_type": "error",
     "traceback": [
      "\u001b[0;31m---------------------------------------------------------------------------\u001b[0m",
      "\u001b[0;31mNameError\u001b[0m                                 Traceback (most recent call last)",
      "\u001b[0;32m<ipython-input-1-29a43125a43b>\u001b[0m in \u001b[0;36m<module>\u001b[0;34m()\u001b[0m\n\u001b[0;32m----> 1\u001b[0;31m \u001b[0;32mfor\u001b[0m \u001b[0msubject\u001b[0m \u001b[0;32min\u001b[0m \u001b[0msubjects\u001b[0m\u001b[0;34m:\u001b[0m\u001b[0;34m\u001b[0m\u001b[0m\n\u001b[0m\u001b[1;32m      2\u001b[0m     \u001b[0;31m#print subject\u001b[0m\u001b[0;34m\u001b[0m\u001b[0;34m\u001b[0m\u001b[0m\n\u001b[1;32m      3\u001b[0m     \u001b[0;32mif\u001b[0m \u001b[0;32mnot\u001b[0m \u001b[0mexists\u001b[0m\u001b[0;34m(\u001b[0m\u001b[0mjoin\u001b[0m\u001b[0;34m(\u001b[0m\u001b[0msink_dir\u001b[0m\u001b[0;34m,\u001b[0m \u001b[0msubject\u001b[0m\u001b[0;34m)\u001b[0m\u001b[0;34m)\u001b[0m\u001b[0;34m:\u001b[0m\u001b[0;34m\u001b[0m\u001b[0m\n\u001b[1;32m      4\u001b[0m             \u001b[0mmakedirs\u001b[0m\u001b[0;34m(\u001b[0m\u001b[0mjoin\u001b[0m\u001b[0;34m(\u001b[0m\u001b[0msink_dir\u001b[0m\u001b[0;34m,\u001b[0m \u001b[0msubject\u001b[0m\u001b[0;34m)\u001b[0m\u001b[0;34m)\u001b[0m\u001b[0;34m\u001b[0m\u001b[0m\n\u001b[1;32m      5\u001b[0m     \u001b[0mtimeseries\u001b[0m \u001b[0;34m=\u001b[0m \u001b[0;34m{\u001b[0m\u001b[0;34m}\u001b[0m\u001b[0;34m\u001b[0m\u001b[0m\n",
      "\u001b[0;31mNameError\u001b[0m: name 'subjects' is not defined"
<<<<<<< HEAD
>>>>>>> 6a60b38ad9fbc030239b1da8dd4b6dcb046a05cb
=======
>>>>>>> 6a60b38ad9fbc030239b1da8dd4b6dcb046a05cb
     ]
    }
   ],
   "source": [
    "for subject in subjects:\n",
    "    #print subject\n",
    "    if not exists(join(sink_dir, subject)):\n",
    "            makedirs(join(sink_dir, subject))\n",
    "    timeseries = {}\n",
    "    corrmats = {}\n",
    "    hippo = {}\n",
<<<<<<< HEAD
<<<<<<< HEAD
    "    for condition in conditions:\n",
    "        for i in np.arange(0, len(runs)): \n",
    "            #xfm laird 2011 maps to subject's epi space & define masker\n",
    "            epi_masks = preproc(data_dir=data_dir, sink_dir=sink_dir, subject=subject, \n",
    "                                run=i, highpass=highpass, masks=masks, mask_names=mask_names)\n",
    "            network_masker = epi_masks[2]\n",
    "            hippo_masker = epi_masks[3]\n",
    "            plotting.plot_roi(laird_2011_icns, bg_img=example_func, cut_coords=(-2, 5, 40), \n",
    "                          colorbar=True, vmin=0, vmax=18, draw_cross=False, \n",
    "                          output_file=qa_file)\n",
    "            \n",
    "            \n",
    "            #extract network-wise timeseries from nifti into array\n",
    "            run = join(data_dir, subject, 'session-1', 'retr', 'mni', '{0}_filtered_func_data_{1}.nii.gz'.format(subject, i))\n",
    "            ts = network_masker.fit_transform(run)\n",
    "            hippo_ts = hippo_masker.fit_transform(run)\n",
=======
=======
>>>>>>> 6a60b38ad9fbc030239b1da8dd4b6dcb046a05cb
    "    \n",
    "    #I SHOULD SWAP RUN AND CONDITION AND PUT PREPROC OUTSIDE OF CONDITION BECAUSE IT'S USELESS TO DUPLICATE THAT STEP\n",
    "    #AND COMPUTATIONALLY INTENSIVE. PREPROC EACH RUN ONLY ONCE, GRAB THE TS, SPLICE CONDITION\n",
    "    for condition in conditions:\n",
    "        for i in np.arange(0, len(runs)):\n",
    "            #extract network-wise timeseries from nifti into array\n",
    "            \n",
<<<<<<< HEAD
>>>>>>> 6a60b38ad9fbc030239b1da8dd4b6dcb046a05cb
=======
>>>>>>> 6a60b38ad9fbc030239b1da8dd4b6dcb046a05cb
    "\n",
    "            #separate into different conditions\n",
    "            timeseries['{0} {1}'.format(condition, i)] = np.vstack((ts[timing[condition][0,0].astype(int):(timing[condition][0,0]+timing[condition][0,1]+1).astype(int), :], ts[timing[condition][1,0].astype(int):(timing[condition][1,0]+timing[condition][1,1]+1).astype(int), :], ts[timing[condition][2,0].astype(int):(timing[condition][2,0]+timing[condition][2,1]+1).astype(int), :]))\n",
    "            \n",
    "            #FOR SOME REASON, THIS CAUSES THEM TO BE HSTACKED? IDK WHAT'S GOING ON\n",
    "            hippo['{0} {1}'.format(condition, i)] = np.vstack((hippo_ts[timing[condition][0,0].astype(int):(timing[condition][0,0]+timing[condition][0,1]+1).astype(int)], hippo_ts[timing[condition][1,0].astype(int):(timing[condition][1,0]+timing[condition][1,1]+1).astype(int)], hippo_ts[timing[condition][2,0].astype(int):(timing[condition][2,0]+timing[condition][2,1]+1).astype(int)]))\n",
    "            #print 'ts has shape {0}'.format(hippo['{0} {1}'.format(condition, i)].shape)\n",
    "        #splice runs together\n",
    "        timeseries[condition] = np.vstack((timeseries['{0} 0'.format(condition)], timeseries['{0} 1'.format(condition)]))\n",
    "        #print 'ts {0} = {1}'.format(condition, timeseries[condition].shape)\n",
    "\n",
    "        #compute correlation matrices per condition per run\n",
    "        correlation_measure = ConnectivityMeasure(kind=connectivity_metric)\n",
    "        corrmats[condition] = correlation_measure.fit_transform([timeseries[condition]])[0]\n",
    "        np.savetxt(join(sink_dir, subject, '{0}-{1}-corrmat.csv'.format(subject, condition)), corrmats[condition])\n",
    "    \n",
    "        #populate df with network FC measures\n",
    "        hippo[condition] = np.vstack((hippo['{0} 0'.format(condition)], hippo['{0} 1'.format(condition)]))\n",
    "        #print 'fc default mode-left central executive {0}'.format(condition), corrmats[condition][12,14]\n",
    "        df.at[subject, 'fc default mode-left central executive {0}'.format(condition)] = corrmats[condition][12,14]\n",
    "        df.at[subject, 'fc default mode-right central executive {0}'.format(condition)] = corrmats[condition][12,17]\n",
    "        df.at[subject, 'fc left central executive-right central executive {0}'.format(condition)] = corrmats[condition][14,17]\n",
    "        \n",
    "        #and since we're here, calculate graph theory measures & populate df\n",
    "        ge = []\n",
    "        le = {}\n",
    "        loceff = {}\n",
    "        loceff['default mode'] = []\n",
    "        loceff['left central executive'] = []\n",
    "        loceff['right central executive'] = []\n",
    "        for p in thresh_range:\n",
    "            corrmat_thresh = bct.threshold_proportional(corrmats[condition], p, copy=True)\n",
    "            #measures of interest here\n",
    "            #global efficiency\n",
    "            geff = bct.efficiency_wei(corrmat_thresh)\n",
    "            ge.append(geff)\n",
    "\n",
    "            #local efficiency\n",
    "            leff = bct.efficiency_wei(corrmat_thresh, local=True)\n",
    "            #print leff[2]\n",
    "            for network in networks:\n",
    "                #print network\n",
    "                loceff[labels[network]].append(leff[network])\n",
    "                #loceff['{0}, {1}'.format(labels[network], condition)].append(leff[network])\n",
    "            #print loceff\n",
    "            le['{0}, {1}'.format(p, condition)] = loceff\n",
    "        \n",
    "        #print 'global efficiency is {0}'.format(ge)\n",
    "        df.at[subject, 'global efficiency {0}'.format(condition)] = np.trapz(ge, dx=0.1)\n",
    "        \n",
    "        #populate df with hippo-FCs and local efficiencies per network\n",
    "        for network in networks:\n",
    "            df.at[subject, 'le {0} {1}'.format(labels[network], condition)] = np.trapz(loceff[labels[network]], dx=0.1)\n",
    "            #calculate hippocampus-network correlations (FC) per network & populate df \n",
    "            network_ts = np.reshape(timeseries[condition][:,network], (84,1))\n",
    "            #print(network_ts.shape)\n",
    "            df.at[subject, 'fc hippo-{0} {1}'.format(labels[network], condition)] = pearsonr(hippo[condition], network_ts)[0]\n",
    "df.to_csv(join(sink_dir, 'out.csv'), sep=',')"
   ]
  },
  {
   "cell_type": "code",
<<<<<<< HEAD
<<<<<<< HEAD
   "execution_count": 42,
   "metadata": {
    "collapsed": false
   },
   "outputs": [
    {
     "data": {
      "text/plain": [
       "NiftiLabelsMasker(background_label=0, detrend=False,\n",
       "         high_pass=0.0181818181818,\n",
       "         labels_img=u'/home/kbott006/physics-retrieval/idconn-retrieval/18-networks-5.14_warp.nii.gz',\n",
       "         low_pass=None, mask_img=None, memory=Memory(cachedir=None),\n",
       "         memory_level=1, resampling_target='data', smoothing_fwhm=None,\n",
       "         standardize=True, t_r=2.0, verbose=0)"
      ]
     },
     "execution_count": 42,
     "metadata": {},
     "output_type": "execute_result"
    }
   ],
   "source": [
    "epi_masks[2]"
   ]
  },
  {
   "cell_type": "code",
=======
>>>>>>> 6a60b38ad9fbc030239b1da8dd4b6dcb046a05cb
=======
>>>>>>> 6a60b38ad9fbc030239b1da8dd4b6dcb046a05cb
   "execution_count": null,
   "metadata": {
    "collapsed": true
   },
   "outputs": [],
   "source": [
<<<<<<< HEAD
<<<<<<< HEAD
    "local_dir = '/Users/Katie/Dropbox/Projects/physics-retrieval/data/out/'\n",
=======
    "#local_dir = '/Users/Katie/Dropbox/Projects/physics-retrieval/data/out/'\n",
>>>>>>> 6a60b38ad9fbc030239b1da8dd4b6dcb046a05cb
=======
    "#local_dir = '/Users/Katie/Dropbox/Projects/physics-retrieval/data/out/'\n",
>>>>>>> 6a60b38ad9fbc030239b1da8dd4b6dcb046a05cb
    "phy = np.zeros((18, 18))\n",
    "gen = np.zeros((18, 18))\n",
    "\n",
    "for subject in subjects:\n",
<<<<<<< HEAD
<<<<<<< HEAD
    "    phy += np.genfromtxt(join(local_dir, subject, '{0}-phy-corrmat.csv'.format(subject)), delimiter=' ')\n",
    "    gen += np.genfromtxt(join(local_dir, subject, '{0}-gen-corrmat.csv'.format(subject)), delimiter=' ')\n",
=======
    "    phy += np.genfromtxt(join(sink_dir, subject, '{0}-phy-corrmat.csv'.format(subject)), delimiter=' ')\n",
    "    gen += np.genfromtxt(join(sink_dir, subject, '{0}-gen-corrmat.csv'.format(subject)), delimiter=' ')\n",
>>>>>>> 6a60b38ad9fbc030239b1da8dd4b6dcb046a05cb
=======
    "    phy += np.genfromtxt(join(sink_dir, subject, '{0}-phy-corrmat.csv'.format(subject)), delimiter=' ')\n",
    "    gen += np.genfromtxt(join(sink_dir, subject, '{0}-gen-corrmat.csv'.format(subject)), delimiter=' ')\n",
>>>>>>> 6a60b38ad9fbc030239b1da8dd4b6dcb046a05cb
    "phy_corrmat = phy / len(subjects)\n",
    "gen_corrmat = gen / len(subjects)\n",
    "\n",
    "dif_corrmat = phy_corrmat - gen_corrmat\n",
    "\n",
    "phy_corr_df = pd.DataFrame(phy_corrmat, index=labels, columns=labels)\n",
    "gen_corr_df = pd.DataFrame(gen_corrmat, index=labels, columns=labels)\n",
    "dif_corr_df = pd.DataFrame(dif_corrmat, index=labels, columns=labels)\n",
    "\n",
    "#np.savetxt(join(local_dir, 'avg_phys_corrmat.csv'), phy_corrmat, delimiter=',')\n",
    "#np.savetxt(join(local_dir, 'avg_gen_corrmat.csv'), gen_corrmat, delimiter=',')\n",
    "\n",
<<<<<<< HEAD
<<<<<<< HEAD
    "phy_corr_df.to_csv(join(local_dir, 'avg_phys_corrmat.csv'), sep=',')\n",
    "gen_corr_df.to_csv(join(local_dir, 'avg_gen_corrmat.csv'), sep=',')\n",
    "dif_corr_df.to_csv(join(local_dir, 'avg_dif_corrmat.csv'), sep=',')"
   ]
  },
  {
   "cell_type": "code",
   "execution_count": null,
   "metadata": {
    "collapsed": true
   },
   "outputs": [],
   "source": []
  },
  {
   "cell_type": "code",
   "execution_count": null,
   "metadata": {
    "collapsed": true
   },
   "outputs": [],
=======
=======
>>>>>>> 6a60b38ad9fbc030239b1da8dd4b6dcb046a05cb
    "phy_corr_df.to_csv(join(sink_dir, 'avg_phys_corrmat.csv'), sep=',')\n",
    "gen_corr_df.to_csv(join(sink_dir, 'avg_gen_corrmat.csv'), sep=',')\n",
    "dif_corr_df.to_csv(join(sink_dir, 'avg_dif_corrmat.csv'), sep=',')"
   ]
  },
  {
   "cell_type": "markdown",
   "metadata": {
    "collapsed": true
   },
<<<<<<< HEAD
>>>>>>> 6a60b38ad9fbc030239b1da8dd4b6dcb046a05cb
=======
>>>>>>> 6a60b38ad9fbc030239b1da8dd4b6dcb046a05cb
   "source": [
    "def adj_to_list(input_filename,output_filename,delimiter):\n",
    "    import pandas as pd\n",
    "    import numpy as np\n",
    "    import networkx as nx\n",
    "    import csv\n",
    "    '''https://github.com/jermainkaminski/Adjacency-Matrix-to-Edge-List/blob/master/adjacencymatrix_to_edgelist.ipynb'''\n",
    "    '''Takes the adjacency matrix on file input_filename into a list of edges and saves it into output_filename'''\n",
    "    A=pd.read_csv(input_filename,delimiter=delimiter,index_col=0)\n",
    "    List=[('Source','Target','Weight')]\n",
    "    for source in A.index.values:\n",
    "        for target in A.index.values:\n",
    "            List.append((target,source,A[source][target]))\n",
    "    with open(output_filename, \"wb\") as f:\n",
    "        writer = csv.writer(f)\n",
    "        writer.writerows(List)\n",
    "    return List"
   ]
  },
  {
<<<<<<< HEAD
<<<<<<< HEAD
   "cell_type": "code",
   "execution_count": null,
   "metadata": {
    "collapsed": true
   },
   "outputs": [],
   "source": [
    "phy_list = adj_to_list(join(local_dir, 'avg_phys_corrmat.csv'), join(local_dir, 'avg_phys_edges.csv'), ',')\n",
    "gen_list = adj_to_list(join(local_dir, 'avg_gen_corrmat.csv'), join(local_dir, 'avg_gen_edges.csv'), ',')\n",
    "dif_list = adj_to_list(join(local_dir, 'avg_dif_corrmat.csv'), join(local_dir, 'avg_dif_edges.csv'), ',')"
   ]
  },
  {
   "cell_type": "code",
   "execution_count": null,
   "metadata": {
    "collapsed": true
   },
   "outputs": [],
   "source": [
    "phy_list"
=======
=======
>>>>>>> 6a60b38ad9fbc030239b1da8dd4b6dcb046a05cb
   "cell_type": "markdown",
   "metadata": {
    "collapsed": true
   },
   "source": [
    "phy_list = adj_to_list(join(sink_dir, 'avg_phys_corrmat.csv'), join(sink_dir, 'avg_phys_edges.csv'), ',')\n",
    "gen_list = adj_to_list(join(sink_dir, 'avg_gen_corrmat.csv'), join(sink_dir, 'avg_gen_edges.csv'), ',')\n",
    "dif_list = adj_to_list(join(sink_dir, 'avg_dif_corrmat.csv'), join(sink_dir, 'avg_dif_edges.csv'), ',')"
<<<<<<< HEAD
>>>>>>> 6a60b38ad9fbc030239b1da8dd4b6dcb046a05cb
=======
>>>>>>> 6a60b38ad9fbc030239b1da8dd4b6dcb046a05cb
   ]
  },
  {
   "cell_type": "code",
   "execution_count": null,
   "metadata": {
    "collapsed": true
   },
   "outputs": [],
   "source": []
  }
 ],
 "metadata": {
  "anaconda-cloud": {},
  "kernelspec": {
<<<<<<< HEAD
<<<<<<< HEAD
   "display_name": "Python 2",
   "language": "python",
   "name": "python2"
=======
   "display_name": "Python 3",
   "language": "python",
   "name": "python3"
>>>>>>> 6a60b38ad9fbc030239b1da8dd4b6dcb046a05cb
=======
   "display_name": "Python 3",
   "language": "python",
   "name": "python3"
>>>>>>> 6a60b38ad9fbc030239b1da8dd4b6dcb046a05cb
  },
  "language_info": {
   "codemirror_mode": {
    "name": "ipython",
<<<<<<< HEAD
<<<<<<< HEAD
    "version": 2
=======
    "version": 3
>>>>>>> 6a60b38ad9fbc030239b1da8dd4b6dcb046a05cb
=======
    "version": 3
>>>>>>> 6a60b38ad9fbc030239b1da8dd4b6dcb046a05cb
   },
   "file_extension": ".py",
   "mimetype": "text/x-python",
   "name": "python",
   "nbconvert_exporter": "python",
<<<<<<< HEAD
<<<<<<< HEAD
   "pygments_lexer": "ipython2",
   "version": "2.7.13"
=======
   "pygments_lexer": "ipython3",
   "version": "3.7.0"
>>>>>>> 6a60b38ad9fbc030239b1da8dd4b6dcb046a05cb
=======
   "pygments_lexer": "ipython3",
   "version": "3.7.0"
>>>>>>> 6a60b38ad9fbc030239b1da8dd4b6dcb046a05cb
  }
 },
 "nbformat": 4,
 "nbformat_minor": 2
}
