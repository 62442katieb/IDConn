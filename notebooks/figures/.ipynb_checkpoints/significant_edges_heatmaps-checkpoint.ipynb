{
 "cells": [
  {
   "cell_type": "code",
   "execution_count": 1,
   "metadata": {
    "ExecuteTime": {
     "end_time": "2020-02-27T19:28:18.808683Z",
     "start_time": "2020-02-27T19:28:04.174799Z"
    }
   },
   "outputs": [],
   "source": [
    "import numpy as np\n",
    "import pandas as pd\n",
    "import seaborn as sns\n",
    "import matplotlib.pyplot as plt\n",
    "\n",
    "from nilearn import plotting\n",
    "from os.path import join\n",
    "from glob import glob"
   ]
  },
  {
   "cell_type": "code",
   "execution_count": 2,
   "metadata": {
    "ExecuteTime": {
     "end_time": "2020-02-27T19:28:18.820891Z",
     "start_time": "2020-02-27T19:28:18.813546Z"
    }
   },
   "outputs": [],
   "source": [
    "fig_dir = '/Users/katherine/Dropbox/Projects/physics-retrieval/figures'\n",
    "data_dir = '/Users/katherine/Dropbox/Projects/physics-retrieval/data/output/'"
   ]
  },
  {
   "cell_type": "code",
   "execution_count": 3,
   "metadata": {
    "ExecuteTime": {
     "end_time": "2020-02-27T19:28:42.456387Z",
     "start_time": "2020-02-27T19:28:18.827569Z"
    }
   },
   "outputs": [],
   "source": [
    "shen_nii = '/Users/katherine/Dropbox/Projects/physics-retrieval/shen2015_2mm_268_parcellation.nii.gz'\n",
    "coordinates = plotting.find_parcellation_cut_coords(labels_img=shen_nii)"
   ]
  },
  {
   "cell_type": "code",
   "execution_count": 4,
   "metadata": {
    "ExecuteTime": {
     "end_time": "2020-02-27T19:28:42.875940Z",
     "start_time": "2020-02-27T19:28:42.460090Z"
    }
   },
   "outputs": [],
   "source": [
    "edges = glob(join(data_dir, '*sig-edges.csv'))"
   ]
  },
  {
   "cell_type": "code",
   "execution_count": null,
   "metadata": {
    "ExecuteTime": {
     "start_time": "2020-02-27T19:28:04.051Z"
    }
   },
   "outputs": [],
   "source": [
    "for edge in edges:    \n",
    "    conns = pd.read_csv(edge, index_col=0, header=0)\n",
    "    conns.dropna(how='all', axis=0, inplace=True)\n",
    "    conns.dropna(how='all', axis=1, inplace=True)\n",
    "    conns.fillna(0, inplace=True)\n",
    "    for i in conns.index:\n",
    "        conns.at[i,'x'] = coordinates[i-1][0]\n",
    "        conns.at[i,'y'] = coordinates[i-1][1]\n",
    "        conns.at[i,'z'] = coordinates[i-1][2]\n",
    "    conns.set_index([conns.index, 'x', 'y', 'z'], inplace=True)\n",
    "    conns.sort_index(level='x', ascending=False, inplace=True)\n",
    "    conns.index.rename(['idx', 'x', 'y', 'z'], inplace=True)\n",
    "    nodes = list(conns.index.get_level_values('idx').astype(str))\n",
    "    mask = np.triu(np.ones_like(conns.values, dtype=np.bool))\n",
    "    regression = edge[64:-4]\n",
    "    fig,ax = plt.subplots(figsize=(11,10))\n",
    "    if conns.max().max() > 0:\n",
    "        cmap = 'Greys'\n",
    "    else:\n",
    "        cmap = 'Greys_r'\n",
    "    g = sns.heatmap(conns[nodes], mask=mask, square=True, cmap=cmap, linecolor='0.9', linewidths=1)\n",
    "    g.set_yticklabels(labels=nodes, rotation=0)\n",
    "    g.set_title(regression)\n",
    "    fig.savefig(join(fig_dir, '{0}-heatmap.png'.format(regression)), dpi=300)"
   ]
  },
  {
   "cell_type": "code",
   "execution_count": null,
   "metadata": {
    "ExecuteTime": {
     "start_time": "2020-02-27T19:28:04.061Z"
    }
   },
   "outputs": [],
   "source": [
    "conns.max().max() > 0"
   ]
  },
  {
   "cell_type": "code",
   "execution_count": null,
   "metadata": {},
   "outputs": [],
   "source": []
  }
 ],
 "metadata": {
  "kernelspec": {
   "display_name": "Python 3",
   "language": "python",
   "name": "python3"
  },
  "language_info": {
   "codemirror_mode": {
    "name": "ipython",
    "version": 3
   },
   "file_extension": ".py",
   "mimetype": "text/x-python",
   "name": "python",
   "nbconvert_exporter": "python",
   "pygments_lexer": "ipython3",
   "version": "3.7.6"
  }
 },
 "nbformat": 4,
 "nbformat_minor": 4
}
