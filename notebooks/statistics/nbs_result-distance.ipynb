{
 "cells": [
  {
   "cell_type": "code",
   "execution_count": 1,
   "metadata": {
    "ExecuteTime": {
     "end_time": "2020-03-13T02:59:54.821582Z",
     "start_time": "2020-03-13T02:59:41.143702Z"
    }
   },
   "outputs": [],
   "source": [
    "import numpy as np\n",
    "import pandas as pd\n",
    "import seaborn as sns\n",
    "\n",
    "from os.path import join\n",
    "from nilearn import plotting\n",
    "from scipy.spatial.distance import jaccard, dice"
   ]
  },
  {
   "cell_type": "code",
   "execution_count": 2,
   "metadata": {
    "ExecuteTime": {
     "end_time": "2020-03-13T02:59:54.831731Z",
     "start_time": "2020-03-13T02:59:54.826028Z"
    }
   },
   "outputs": [],
   "source": [
    "nbs_dir = '/Users/katherine/Dropbox/Projects/physics-retrieval/data/output/nbs'"
   ]
  },
  {
   "cell_type": "code",
   "execution_count": 3,
   "metadata": {
    "ExecuteTime": {
     "end_time": "2020-03-13T02:59:55.579995Z",
     "start_time": "2020-03-13T02:59:54.838423Z"
    }
   },
   "outputs": [],
   "source": [
    "all_retr = pd.read_csv(join(nbs_dir, 'all_students-retr.csv'), index_col=0, header=0, dtype=int)\n",
    "fml_retr = pd.read_csv(join(nbs_dir, 'female_students-retr.csv'), index_col=0, header=0, dtype=int)\n",
    "mle_retr = pd.read_csv(join(nbs_dir, 'male_students-retr.csv'), index_col=0, header=0, dtype=int)\n",
    "lec_retr = pd.read_csv(join(nbs_dir, 'lecture_students-retr.csv'), index_col=0, header=0, dtype=int)\n",
    "lf_retr = pd.read_csv(join(nbs_dir, 'female_lecture_students-retr.csv'), index_col=0, header=0, dtype=int)\n",
    "lm_retr = pd.read_csv(join(nbs_dir, 'male_lecture_students-retr.csv'), index_col=0, header=0, dtype=int)\n",
    "mod_retr = pd.read_csv(join(nbs_dir, 'modeling_students-retr.csv'), index_col=0, header=0, dtype=int)\n",
    "mf_retr = pd.read_csv(join(nbs_dir, 'female_modeling_students-retr.csv'), index_col=0, header=0, dtype=int)\n",
    "mm_retr = pd.read_csv(join(nbs_dir, 'male_modeling_students-retr.csv'), index_col=0, header=0, dtype=int)"
   ]
  },
  {
   "cell_type": "code",
   "execution_count": 4,
   "metadata": {
    "ExecuteTime": {
     "end_time": "2020-03-13T02:59:55.591139Z",
     "start_time": "2020-03-13T02:59:55.583433Z"
    }
   },
   "outputs": [],
   "source": [
    "subject_groups = {'all': all_retr,\n",
    "                  'female': fml_retr, \n",
    "                  'male': mle_retr,\n",
    "                  'lecture': lec_retr, \n",
    "                  'modeling': mod_retr,\n",
    "                  'female_lecture': lf_retr, \n",
    "                  'female_modeling': mf_retr,\n",
    "                  'male_lecture': lm_retr, \n",
    "                  'male_modeling': mm_retr}"
   ]
  },
  {
   "cell_type": "code",
   "execution_count": 5,
   "metadata": {
    "ExecuteTime": {
     "end_time": "2020-03-13T02:59:55.632444Z",
     "start_time": "2020-03-13T02:59:55.595607Z"
    }
   },
   "outputs": [],
   "source": [
    "dice_df = pd.Series()\n",
    "jaccard_df = pd.Series()"
   ]
  },
  {
   "cell_type": "code",
   "execution_count": 6,
   "metadata": {
    "ExecuteTime": {
     "end_time": "2020-03-13T02:59:56.152298Z",
     "start_time": "2020-03-13T02:59:55.636830Z"
    }
   },
   "outputs": [],
   "source": [
    "for group1 in subject_groups.keys():\n",
    "    for group2 in subject_groups.keys():\n",
    "        if group1 != group2:\n",
    "            one = subject_groups[group1]\n",
    "            two = subject_groups[group2]\n",
    "            jaccard_df['{0}-{1}'.format(group1, group2)] = jaccard(np.ravel(one.values, order='F'),\n",
    "                                                                   np.ravel(two.values, order='F'))\n",
    "            dice_df['{0}-{1}'.format(group1, group2)] = dice(np.ravel(one.values, order='F'), \n",
    "                                                                np.ravel(two.values, order='F'))\n"
   ]
  },
  {
   "cell_type": "code",
   "execution_count": 10,
   "metadata": {
    "ExecuteTime": {
     "end_time": "2020-03-13T15:18:44.824081Z",
     "start_time": "2020-03-13T15:18:44.807074Z"
    }
   },
   "outputs": [
    {
     "name": "stdout",
     "output_type": "stream",
     "text": [
      "male_modeling-female_modeling     0.911729\n",
      "female_modeling-male_modeling     0.911729\n",
      "male_lecture-female_modeling      0.902695\n",
      "female_modeling-male_lecture      0.902695\n",
      "male-female_modeling              0.898912\n",
      "female_modeling-male              0.898912\n",
      "male_modeling-female_lecture      0.895918\n",
      "female_lecture-male_modeling      0.895918\n",
      "female_lecture-male               0.893787\n",
      "male-female_lecture               0.893787\n",
      "female_lecture-male_lecture       0.892004\n",
      "male_lecture-female_lecture       0.892004\n",
      "female_lecture-female_modeling    0.891269\n",
      "female_modeling-female_lecture    0.891269\n",
      "female-male_modeling              0.882790\n",
      "male_modeling-female              0.882790\n",
      "modeling-female_lecture           0.880488\n",
      "female_lecture-modeling           0.880488\n",
      "female_modeling-lecture           0.876215\n",
      "lecture-female_modeling           0.876215\n",
      "male_lecture-female               0.861032\n",
      "female-male_lecture               0.861032\n",
      "female-male                       0.860630\n",
      "male-female                       0.860630\n",
      "female_modeling-all               0.833118\n",
      "all-female_modeling               0.833118\n",
      "female_lecture-all                0.825946\n",
      "all-female_lecture                0.825946\n",
      "modeling-female_modeling          0.815821\n",
      "female_modeling-modeling          0.815821\n",
      "modeling-female                   0.809668\n",
      "female-modeling                   0.809668\n",
      "lecture-male_modeling             0.789352\n",
      "male_modeling-lecture             0.789352\n",
      "male_lecture-male_modeling        0.776194\n",
      "male_modeling-male_lecture        0.776194\n",
      "modeling-male_lecture             0.765268\n",
      "male_lecture-modeling             0.765268\n",
      "lecture-modeling                  0.752107\n",
      "modeling-lecture                  0.752107\n",
      "all-female                        0.742986\n",
      "female-all                        0.742986\n",
      "lecture-female                    0.739693\n",
      "female-lecture                    0.739693\n",
      "female_lecture-lecture            0.727417\n",
      "lecture-female_lecture            0.727417\n",
      "lecture-male                      0.704855\n",
      "male-lecture                      0.704855\n",
      "female-female_modeling            0.655629\n",
      "female_modeling-female            0.655629\n",
      "all-male_lecture                  0.641732\n",
      "male_lecture-all                  0.641732\n",
      "female-female_lecture             0.640074\n",
      "female_lecture-female             0.640074\n",
      "male_modeling-all                 0.619208\n",
      "all-male_modeling                 0.619208\n",
      "male-male_lecture                 0.604373\n",
      "male_lecture-male                 0.604373\n",
      "modeling-male                     0.599292\n",
      "male-modeling                     0.599292\n",
      "male_lecture-lecture              0.593747\n",
      "lecture-male_lecture              0.593747\n",
      "lecture-all                       0.554939\n",
      "all-lecture                       0.554939\n",
      "modeling-male_modeling            0.550668\n",
      "male_modeling-modeling            0.550668\n",
      "male-all                          0.499361\n",
      "all-male                          0.499361\n",
      "all-modeling                      0.496795\n",
      "modeling-all                      0.496795\n",
      "male-male_modeling                0.441753\n",
      "male_modeling-male                0.441753\n",
      "dtype: float64\n"
     ]
    }
   ],
   "source": [
    "with pd.option_context('display.max_rows', None, 'display.max_columns', None):  # more options can be specified also\n",
    "    print(jaccard_df.sort_values(ascending=False))"
   ]
  },
  {
   "cell_type": "code",
   "execution_count": 9,
   "metadata": {
    "ExecuteTime": {
     "end_time": "2020-03-13T03:03:38.452705Z",
     "start_time": "2020-03-13T03:03:38.440802Z"
    }
   },
   "outputs": [
    {
     "name": "stdout",
     "output_type": "stream",
     "text": [
      "male_modeling-female_modeling     0.837778\n",
      "female_modeling-male_modeling     0.837778\n",
      "male_lecture-female_modeling      0.822648\n",
      "female_modeling-male_lecture      0.822648\n",
      "male-female_modeling              0.816386\n",
      "female_modeling-male              0.816386\n",
      "male_modeling-female_lecture      0.811460\n",
      "female_lecture-male_modeling      0.811460\n",
      "female_lecture-male               0.807970\n",
      "male-female_lecture               0.807970\n",
      "female_lecture-male_lecture       0.805060\n",
      "male_lecture-female_lecture       0.805060\n",
      "female_lecture-female_modeling    0.803864\n",
      "female_modeling-female_lecture    0.803864\n",
      "female-male_modeling              0.790174\n",
      "male_modeling-female              0.790174\n",
      "modeling-female_lecture           0.786492\n",
      "female_lecture-modeling           0.786492\n",
      "female_modeling-lecture           0.779700\n",
      "lecture-female_modeling           0.779700\n",
      "male_lecture-female               0.755975\n",
      "female-male_lecture               0.755975\n",
      "female-male                       0.755357\n",
      "male-female                       0.755357\n",
      "female_modeling-all               0.713970\n",
      "all-female_modeling               0.713970\n",
      "female_lecture-all                0.703499\n",
      "all-female_lecture                0.703499\n",
      "modeling-female_modeling          0.688934\n",
      "female_modeling-modeling          0.688934\n",
      "modeling-female                   0.680203\n",
      "female-modeling                   0.680203\n",
      "lecture-male_modeling             0.652008\n",
      "male_modeling-lecture             0.652008\n",
      "male_lecture-male_modeling        0.634245\n",
      "male_modeling-male_lecture        0.634245\n",
      "modeling-male_lecture             0.619785\n",
      "male_lecture-modeling             0.619785\n",
      "lecture-modeling                  0.602702\n",
      "modeling-lecture                  0.602702\n",
      "all-female                        0.591072\n",
      "female-all                        0.591072\n",
      "lecture-female                    0.586914\n",
      "female-lecture                    0.586914\n",
      "female_lecture-lecture            0.571607\n",
      "lecture-female_lecture            0.571607\n",
      "lecture-male                      0.544229\n",
      "male-lecture                      0.544229\n",
      "female-female_modeling            0.487685\n",
      "female_modeling-female            0.487685\n",
      "all-male_lecture                  0.472464\n",
      "male_lecture-all                  0.472464\n",
      "female-female_lecture             0.470668\n",
      "female_lecture-female             0.470668\n",
      "male_modeling-all                 0.448444\n",
      "all-male_modeling                 0.448444\n",
      "male-male_lecture                 0.433047\n",
      "male_lecture-male                 0.433047\n",
      "modeling-male                     0.427850\n",
      "male-modeling                     0.427850\n",
      "male_lecture-lecture              0.422219\n",
      "lecture-male_lecture              0.422219\n",
      "lecture-all                       0.384025\n",
      "all-lecture                       0.384025\n",
      "modeling-male_modeling            0.379946\n",
      "male_modeling-modeling            0.379946\n",
      "male-all                          0.332766\n",
      "all-male                          0.332766\n",
      "all-modeling                      0.330490\n",
      "modeling-all                      0.330490\n",
      "male-male_modeling                0.283493\n",
      "male_modeling-male                0.283493\n",
      "dtype: float64\n"
     ]
    }
   ],
   "source": [
    "with pd.option_context('display.max_rows', None, 'display.max_columns', None):  # more options can be specified also\n",
    "    print(dice_df.sort_values(ascending=False))\n"
   ]
  },
  {
   "cell_type": "code",
   "execution_count": 11,
   "metadata": {
    "ExecuteTime": {
     "end_time": "2020-03-13T15:52:02.515496Z",
     "start_time": "2020-03-13T15:52:01.535658Z"
    }
   },
   "outputs": [],
   "source": [
    "all_fci = pd.read_csv(join(nbs_dir, 'all_students-fci.csv'), index_col=0, header=0, dtype=int)\n",
    "fml_fci = pd.read_csv(join(nbs_dir, 'female_students-fci.csv'), index_col=0, header=0, dtype=int)\n",
    "mle_fci = pd.read_csv(join(nbs_dir, 'male_students-fci.csv'), index_col=0, header=0, dtype=int)\n",
    "lec_fci = pd.read_csv(join(nbs_dir, 'lecture_students-fci.csv'), index_col=0, header=0, dtype=int)\n",
    "lf_fci = pd.read_csv(join(nbs_dir, 'female_lecture_students-fci.csv'), index_col=0, header=0, dtype=int)\n",
    "lm_fci = pd.read_csv(join(nbs_dir, 'male_lecture_students-fci.csv'), index_col=0, header=0, dtype=int)\n",
    "mod_fci = pd.read_csv(join(nbs_dir, 'modeling_students-fci.csv'), index_col=0, header=0, dtype=int)\n",
    "mf_fci = pd.read_csv(join(nbs_dir, 'female_modeling_students-fci.csv'), index_col=0, header=0, dtype=int)\n",
    "mm_fci = pd.read_csv(join(nbs_dir, 'male_modeling_students-fci.csv'), index_col=0, header=0, dtype=int)"
   ]
  },
  {
   "cell_type": "code",
   "execution_count": 12,
   "metadata": {
    "ExecuteTime": {
     "end_time": "2020-03-13T15:52:12.202436Z",
     "start_time": "2020-03-13T15:52:12.194735Z"
    }
   },
   "outputs": [],
   "source": [
    "subject_groups = {'all': all_fci,\n",
    "                  'female': fml_fci, \n",
    "                  'male': mle_fci,\n",
    "                  'lecture': lec_fci, \n",
    "                  'modeling': mod_fci,\n",
    "                  'female_lecture': lf_fci, \n",
    "                  'female_modeling': mf_fci,\n",
    "                  'male_lecture': lm_fci, \n",
    "                  'male_modeling': mm_fci}"
   ]
  },
  {
   "cell_type": "code",
   "execution_count": 13,
   "metadata": {
    "ExecuteTime": {
     "end_time": "2020-03-13T15:52:47.759212Z",
     "start_time": "2020-03-13T15:52:47.752604Z"
    }
   },
   "outputs": [],
   "source": [
    "dice_df = pd.Series()\n",
    "jaccard_df = pd.Series()"
   ]
  },
  {
   "cell_type": "code",
   "execution_count": 14,
   "metadata": {
    "ExecuteTime": {
     "end_time": "2020-03-13T15:52:48.514488Z",
     "start_time": "2020-03-13T15:52:47.989981Z"
    }
   },
   "outputs": [],
   "source": [
    "for group1 in subject_groups.keys():\n",
    "    for group2 in subject_groups.keys():\n",
    "        if group1 != group2:\n",
    "            one = subject_groups[group1]\n",
    "            two = subject_groups[group2]\n",
    "            jaccard_df['{0}-{1}'.format(group1, group2)] = jaccard(np.ravel(one.values, order='F'),\n",
    "                                                                   np.ravel(two.values, order='F'))\n",
    "            dice_df['{0}-{1}'.format(group1, group2)] = dice(np.ravel(one.values, order='F'), \n",
    "                                                                np.ravel(two.values, order='F'))\n"
   ]
  },
  {
   "cell_type": "code",
   "execution_count": 15,
   "metadata": {
    "ExecuteTime": {
     "end_time": "2020-03-13T15:52:48.534258Z",
     "start_time": "2020-03-13T15:52:48.519423Z"
    }
   },
   "outputs": [
    {
     "name": "stdout",
     "output_type": "stream",
     "text": [
      "male_modeling-female_modeling     0.892596\n",
      "female_modeling-male_modeling     0.892596\n",
      "male_lecture-female_modeling      0.881364\n",
      "female_modeling-male_lecture      0.881364\n",
      "female_modeling-female_lecture    0.871838\n",
      "female_lecture-female_modeling    0.871838\n",
      "female_modeling-male              0.861599\n",
      "male-female_modeling              0.861599\n",
      "male_lecture-male_modeling        0.860974\n",
      "male_modeling-male_lecture        0.860974\n",
      "female_lecture-male_modeling      0.855840\n",
      "male_modeling-female_lecture      0.855840\n",
      "male_lecture-female_lecture       0.844652\n",
      "female_lecture-male_lecture       0.844652\n",
      "female_modeling-lecture           0.844301\n",
      "lecture-female_modeling           0.844301\n",
      "male_modeling-female              0.842278\n",
      "female-male_modeling              0.842278\n",
      "male_lecture-modeling             0.829131\n",
      "modeling-male_lecture             0.829131\n",
      "male_modeling-lecture             0.824794\n",
      "lecture-male_modeling             0.824794\n",
      "female_lecture-modeling           0.821092\n",
      "modeling-female_lecture           0.821092\n",
      "male_lecture-female               0.818671\n",
      "female-male_lecture               0.818671\n",
      "male-female_lecture               0.797475\n",
      "female_lecture-male               0.797475\n",
      "female_modeling-all               0.778163\n",
      "all-female_modeling               0.778163\n",
      "lecture-modeling                  0.771237\n",
      "modeling-lecture                  0.771237\n",
      "female-male                       0.762426\n",
      "male-female                       0.762426\n",
      "all-male_modeling                 0.728341\n",
      "male_modeling-all                 0.728341\n",
      "all-male_lecture                  0.710366\n",
      "male_lecture-all                  0.710366\n",
      "female_modeling-modeling          0.709172\n",
      "modeling-female_modeling          0.709172\n",
      "female-female_modeling            0.679108\n",
      "female_modeling-female            0.679108\n",
      "female-modeling                   0.676199\n",
      "modeling-female                   0.676199\n",
      "female_lecture-all                0.648634\n",
      "all-female_lecture                0.648634\n",
      "male-male_lecture                 0.638334\n",
      "male_lecture-male                 0.638334\n",
      "lecture-male_lecture              0.626158\n",
      "male_lecture-lecture              0.626158\n",
      "lecture-male                      0.621334\n",
      "male-lecture                      0.621334\n",
      "male-modeling                     0.589058\n",
      "modeling-male                     0.589058\n",
      "modeling-all                      0.586582\n",
      "all-modeling                      0.586582\n",
      "female-lecture                    0.585037\n",
      "lecture-female                    0.585037\n",
      "male-male_modeling                0.574138\n",
      "male_modeling-male                0.574138\n",
      "male_modeling-modeling            0.565672\n",
      "modeling-male_modeling            0.565672\n",
      "female-female_lecture             0.563491\n",
      "female_lecture-female             0.563491\n",
      "lecture-female_lecture            0.547711\n",
      "female_lecture-lecture            0.547711\n",
      "female-all                        0.511201\n",
      "all-female                        0.511201\n",
      "male-all                          0.501431\n",
      "all-male                          0.501431\n",
      "lecture-all                       0.450142\n",
      "all-lecture                       0.450142\n",
      "dtype: float64\n"
     ]
    }
   ],
   "source": [
    "with pd.option_context('display.max_rows', None, 'display.max_columns', None):  # more options can be specified also\n",
    "    print(jaccard_df.sort_values(ascending=False))"
   ]
  },
  {
   "cell_type": "code",
   "execution_count": 17,
   "metadata": {
    "ExecuteTime": {
     "end_time": "2020-03-13T15:58:43.418369Z",
     "start_time": "2020-03-13T15:58:43.398364Z"
    }
   },
   "outputs": [
    {
     "data": {
      "text/plain": [
       "male_modeling-female_modeling     0.806026\n",
       "female_modeling-male_modeling     0.806026\n",
       "male_lecture-female_modeling      0.787892\n",
       "female_modeling-male_lecture      0.787892\n",
       "female_modeling-female_lecture    0.772796\n",
       "female_lecture-female_modeling    0.772796\n",
       "female_modeling-male              0.756850\n",
       "male-female_modeling              0.756850\n",
       "male_lecture-male_modeling        0.755886\n",
       "male_modeling-male_lecture        0.755886\n",
       "female_lecture-male_modeling      0.748007\n",
       "male_modeling-female_lecture      0.748007\n",
       "male_lecture-female_lecture       0.731081\n",
       "female_lecture-male_lecture       0.731081\n",
       "female_modeling-lecture           0.730555\n",
       "lecture-female_modeling           0.730555\n",
       "male_modeling-female              0.727531\n",
       "female-male_modeling              0.727531\n",
       "male_lecture-modeling             0.708134\n",
       "modeling-male_lecture             0.708134\n",
       "male_modeling-lecture             0.701830\n",
       "lecture-male_modeling             0.701830\n",
       "female_lecture-modeling           0.696485\n",
       "modeling-female_lecture           0.696485\n",
       "male_lecture-female               0.693008\n",
       "female-male_lecture               0.693008\n",
       "male-female_lecture               0.663167\n",
       "female_lecture-male               0.663167\n",
       "female_modeling-all               0.636880\n",
       "all-female_modeling               0.636880\n",
       "lecture-modeling                  0.627653\n",
       "modeling-lecture                  0.627653\n",
       "female-male                       0.616066\n",
       "male-female                       0.616066\n",
       "all-male_modeling                 0.572749\n",
       "male_modeling-all                 0.572749\n",
       "all-male_lecture                  0.550828\n",
       "male_lecture-all                  0.550828\n",
       "female_modeling-modeling          0.549393\n",
       "modeling-female_modeling          0.549393\n",
       "female-female_modeling            0.514129\n",
       "female_modeling-female            0.514129\n",
       "female-modeling                   0.510801\n",
       "modeling-female                   0.510801\n",
       "female_lecture-all                0.479983\n",
       "all-female_lecture                0.479983\n",
       "male-male_lecture                 0.468789\n",
       "male_lecture-male                 0.468789\n",
       "lecture-male_lecture              0.455771\n",
       "male_lecture-lecture              0.455771\n",
       "lecture-male                      0.450678\n",
       "male-lecture                      0.450678\n",
       "male-modeling                     0.417493\n",
       "modeling-male                     0.417493\n",
       "modeling-all                      0.415009\n",
       "all-modeling                      0.415009\n",
       "female-lecture                    0.413465\n",
       "lecture-female                    0.413465\n",
       "male-male_modeling                0.402661\n",
       "male_modeling-male                0.402661\n",
       "male_modeling-modeling            0.394381\n",
       "modeling-male_modeling            0.394381\n",
       "female-female_lecture             0.392265\n",
       "female_lecture-female             0.392265\n",
       "lecture-female_lecture            0.377136\n",
       "female_lecture-lecture            0.377136\n",
       "female-all                        0.343364\n",
       "all-female                        0.343364\n",
       "male-all                          0.334606\n",
       "all-male                          0.334606\n",
       "lecture-all                       0.290441\n",
       "all-lecture                       0.290441\n",
       "dtype: float64"
      ]
     },
     "metadata": {},
     "output_type": "display_data"
    }
   ],
   "source": [
    "with pd.option_context('display.max_rows', None, 'display.max_columns', None):  # more options can be specified also\n",
    "    display(dice_df.sort_values(ascending=False))"
   ]
  },
  {
   "cell_type": "code",
   "execution_count": null,
   "metadata": {},
   "outputs": [],
   "source": []
  }
 ],
 "metadata": {
  "kernelspec": {
   "display_name": "Python 3",
   "language": "python",
   "name": "python3"
  },
  "language_info": {
   "codemirror_mode": {
    "name": "ipython",
    "version": 3
   },
   "file_extension": ".py",
   "mimetype": "text/x-python",
   "name": "python",
   "nbconvert_exporter": "python",
   "pygments_lexer": "ipython3",
   "version": "3.7.6"
  }
 },
 "nbformat": 4,
 "nbformat_minor": 4
}
