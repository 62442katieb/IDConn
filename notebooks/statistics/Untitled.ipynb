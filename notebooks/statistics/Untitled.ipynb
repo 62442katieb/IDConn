{
 "cells": [
  {
   "cell_type": "code",
   "execution_count": 1,
   "metadata": {},
   "outputs": [],
   "source": [
    "import numpy as np\n",
    "import pandas as pd\n",
    "import statsmodels.api as sm"
   ]
  },
  {
   "cell_type": "code",
   "execution_count": 2,
   "metadata": {},
   "outputs": [],
   "source": [
    "def jili_sidak_mc(data, alpha):\n",
    "    import math\n",
    "    import numpy as np\n",
    "\n",
    "    mc_corrmat = data.corr()\n",
    "    mc_corrmat.fillna(0, inplace=True)\n",
    "    eigvals, eigvecs = np.linalg.eig(mc_corrmat)\n",
    "\n",
    "    M_eff = 0\n",
    "    for eigval in eigvals:\n",
    "        if abs(eigval) >= 0:\n",
    "            if abs(eigval) >= 1:\n",
    "                M_eff += 1\n",
    "            else:\n",
    "                M_eff += abs(eigval) - math.floor(abs(eigval))\n",
    "        else:\n",
    "            M_eff += 0\n",
    "    print('Number of effective comparisons: {0}'.format(M_eff))\n",
    "\n",
    "    #and now applying M_eff to the Sidak procedure\n",
    "    sidak_p = 1 - (1 - alpha)**(1/M_eff)\n",
    "    if sidak_p < 0.00001:\n",
    "        print('Critical value of {:.3f}'.format(alpha),'becomes {:2e} after corrections'.format(sidak_p))\n",
    "    else:\n",
    "        print('Critical value of {:.3f}'.format(alpha),'becomes {:.6f} after corrections'.format(sidak_p))\n",
    "    return sidak_p, M_eff"
   ]
  },
  {
   "cell_type": "code",
   "execution_count": 3,
   "metadata": {},
   "outputs": [],
   "source": [
    "subjects = ['101', '102', '103', '104', '106', '107', '108', '110', '212', '213',\n",
    "            '214', '215', '216', '217', '218', '219', '320', '321', '322', '323',\n",
    "            '324', '325', '327', '328', '329', '330', '331', '332', '333', '334',\n",
    "            '335', '336', '337', '338', '339', '340', '341', '342', '343', '344',\n",
    "            '345', '346', '347', '348', '349', '350', '451', '452', '453', '455',\n",
    "            '456', '457', '458', '459', '460', '462', '463', '464', '465', '467',\n",
    "            '468', '469', '470', '502', '503', '571', '572', '573', '574', '575',\n",
    "            '577', '578', '579', '580', '581', '582', '584', '585', '586', '587',\n",
    "            '588', '589', '590', '591', '592', '593', '594', '595', '596', '597',\n",
    "            '598', '604', '605', '606', '607', '608', '609', '610', '611', '612',\n",
    "            '613', '614', '615', '616', '617', '618', '619', '620', '621', '622',\n",
    "            '623', '624', '625', '626', '627', '628', '629', '630', '631', '633',\n",
    "            '634']\n",
    "#subjects = ['101', '102']\n",
    "\n",
    "sink_dir = '/Users/kbottenh/Dropbox/Projects/physics-retrieval/data/output'\n",
    "data_dir = '/Users/kbottenh/Dropbox/Projects/physics-retrieval/data'\n",
    "roi_dir = '/Users/kbottenh/Dropbox/Data/templates/shen2015/'\n",
    "fig_dir = '/Users/kbottenh/Dropbox/Projects/physics-retrieval/figures/'\n",
    "\n",
    "shen = '/Users/kbottenh/Dropbox/Projects/physics-retrieval/shen2015_2mm_268_parcellation.nii.gz'\n",
    "craddock = '/home/kbott006/physics-retrieval/craddock2012_tcorr05_2level_270_2mm.nii.gz'\n",
    "masks = ['shen2015', 'craddock2012']\n",
    "\n",
    "tasks = {'retr': [{'conditions': ['Physics', 'General']},\n",
    "                  {'runs': [0,1]}], \n",
    "         'fci': [{'conditions': ['Physics', 'NonPhysics']},\n",
    "                  {'runs': [0,1,2]}]}\n",
    "\n",
    "sessions = [0,1]\n",
    "sesh = ['pre', 'post']\n",
    "conds = ['high-level', 'lower-level']"
   ]
  },
  {
   "cell_type": "code",
   "execution_count": null,
   "metadata": {},
   "outputs": [],
   "source": [
    "#load in all-data df"
   ]
  }
 ],
 "metadata": {
  "kernelspec": {
   "display_name": "Python 3",
   "language": "python",
   "name": "python3"
  },
  "language_info": {
   "codemirror_mode": {
    "name": "ipython",
    "version": 3
   },
   "file_extension": ".py",
   "mimetype": "text/x-python",
   "name": "python",
   "nbconvert_exporter": "python",
   "pygments_lexer": "ipython3",
   "version": "3.7.3"
  }
 },
 "nbformat": 4,
 "nbformat_minor": 4
}
