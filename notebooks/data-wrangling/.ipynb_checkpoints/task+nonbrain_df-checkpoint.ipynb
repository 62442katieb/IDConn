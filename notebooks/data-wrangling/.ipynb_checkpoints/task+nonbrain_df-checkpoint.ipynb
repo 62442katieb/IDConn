{
 "cells": [
  {
   "cell_type": "code",
   "execution_count": 1,
   "metadata": {},
   "outputs": [],
   "source": [
    "import numpy as np\n",
    "import pandas as pd\n",
    "import seaborn as sns\n",
    "import nibabel as nib\n",
    "import bct\n",
    "from os import makedirs\n",
    "from matplotlib.colors import LinearSegmentedColormap\n",
    "from os.path import join, exists\n",
    "from nilearn.plotting import plot_glass_brain, plot_roi, find_parcellation_cut_coords\n",
    "#import bct\n",
    "import datetime\n",
    "from nilearn.mass_univariate import permuted_ols\n",
    "from scipy.stats import pearsonr, spearmanr\n",
    "sns.set_context('poster', font_scale=0.85)\n",
    "import matplotlib.pyplot as plt\n"
   ]
  },
  {
   "cell_type": "code",
   "execution_count": 2,
   "metadata": {},
   "outputs": [],
   "source": [
    "sink_dir = '/Users/kbottenh/Dropbox/Projects/physics-retrieval/data/output'\n",
    "data_dir = '/Users/kbottenh/Dropbox/Projects/physics-retrieval/data'\n",
    "roi_dir = '/Users/kbottenh/Dropbox/Data/templates/shen2015/'\n",
    "fig_dir = '/Users/kbottenh/Dropbox/Projects/physics-retrieval/figures/'\n",
    "\n",
    "shen = '/Users/kbottenh/Dropbox/Projects/physics-retrieval/shen2015_2mm_268_parcellation.nii.gz'\n",
    "craddock = '/home/kbott006/physics-retrieval/craddock2012_tcorr05_2level_270_2mm.nii.gz'\n",
    "masks = ['shen2015', 'craddock2012']\n",
    "\n",
    "tasks = {'reas': [{'conditions': ['Reasoning', 'Baseline']},\n",
    "                  {'runs': [0,1]}],\n",
    "         'retr': [{'conditions': ['Physics', 'General']},\n",
    "                  {'runs': [0,1]}], \n",
    "         'fci': [{'conditions': ['Physics', 'NonPhysics']},\n",
    "                  {'runs': [0,1,2]}]}\n",
    "\n",
    "sessions = [0,1]\n",
    "sesh = ['pre', 'post']\n",
    "conds = ['high-level', 'lower-level']\n",
    "\n",
    "\n",
    "# In[4]:\n",
    "\n",
    "\n",
    "colors = sns.blend_palette(['#ec407a', '#ff7043', '#ffca28',\n",
    "                            '#d4e157', '#66bb6a', '#26c6da',\n",
    "                            '#42a5f5', '#7e57c2'], \n",
    "                           n_colors=268, as_cmap=True)\n",
    "\n",
    "iqs = ['VCI', 'WMI', 'PRI', 'PSI', 'FSIQ']\n",
    "\n",
    "# # Data wrangling\n",
    "# Nodal efficiency data is currently in an <i>incredbily</i> long, multi-indexed dataframe. Here, we transform it into wide data (dataframe per condition per task per session) for ease of analysis later.\n"
   ]
  },
  {
   "cell_type": "code",
   "execution_count": 3,
   "metadata": {},
   "outputs": [
    {
     "name": "stderr",
     "output_type": "stream",
     "text": [
      "/Users/kbottenh/Library/Python/3.7/lib/python/site-packages/pandas/core/frame.py:3997: SettingWithCopyWarning: \n",
      "A value is trying to be set on a copy of a slice from a DataFrame\n",
      "\n",
      "See the caveats in the documentation: https://pandas.pydata.org/pandas-docs/stable/user_guide/indexing.html#returning-a-view-versus-a-copy\n",
      "  errors=errors,\n",
      "/Users/kbottenh/Library/Python/3.7/lib/python/site-packages/pandas/core/frame.py:4133: SettingWithCopyWarning: \n",
      "A value is trying to be set on a copy of a slice from a DataFrame\n",
      "\n",
      "See the caveats in the documentation: https://pandas.pydata.org/pandas-docs/stable/user_guide/indexing.html#returning-a-view-versus-a-copy\n",
      "  errors=errors,\n"
     ]
    }
   ],
   "source": [
    "shen_df = pd.read_csv(join(data_dir, 'physics-learning-tasks_graphtheory_shen+craddock_nodal.csv'), index_col=0, header=0)\n",
    "shen_df.rename({'Unnamed: 1': 'session', 'Unnamed: 2': 'task', 'Unnamed: 3': 'condition'}, axis=1, inplace=True)\n",
    "\n",
    "j = list(set(shen_df.columns) - set(['session', 'task', 'condition', 'mask']))\n",
    "j.sort()\n",
    "conns = j[268:]\n",
    "\n",
    "fci_shen = shen_df[shen_df['mask'] == 'shen2015']\n",
    "fci_shen = fci_shen[fci_shen['task'] == 'fci']\n",
    "fci_shen_pre = fci_shen[fci_shen['session'] == 0]\n",
    "fci_shen_pre_phys = fci_shen_pre[fci_shen_pre['condition'] == 'high-level']\n",
    "fci_shen_pre_ctrl = fci_shen_pre[fci_shen_pre['condition'] == 'lower-level']\n",
    "fci_shen_post = fci_shen[fci_shen['session'] == 1]\n",
    "fci_shen_post_phys = fci_shen_post[fci_shen_post['condition'] == 'high-level']\n",
    "fci_shen_post_ctrl = fci_shen_post[fci_shen_post['condition'] == 'lower-level']\n",
    "\n",
    "retr_shen = shen_df[shen_df['mask'] == 'shen2015']\n",
    "retr_shen = retr_shen[retr_shen['task'] == 'retr']\n",
    "retr_shen_pre = retr_shen[retr_shen['session'] == 0]\n",
    "retr_shen_pre_phys = retr_shen_pre[retr_shen_pre['condition'] == 'high-level']\n",
    "retr_shen_pre_ctrl = retr_shen_pre[retr_shen_pre['condition'] == 'lower-level']\n",
    "retr_shen_post = retr_shen[retr_shen['session'] == 1]\n",
    "retr_shen_post_phys = retr_shen_post[retr_shen_post['condition'] == 'high-level']\n",
    "retr_shen_post_ctrl = retr_shen_post[retr_shen_post['condition'] == 'lower-level']\n",
    "\n",
    "\n",
    "\n",
    "fci_shen_pre_phys.drop(['session', 'task', 'condition', 'mask'], axis=1, inplace=True)\n",
    "fci_shen_post_phys.drop(['session', 'task', 'condition', 'mask'], axis=1, inplace=True)\n",
    "\n",
    "fci_shen_pre_ctrl.drop(['session', 'task', 'condition', 'mask'], axis=1, inplace=True)\n",
    "fci_shen_post_ctrl.drop(['session', 'task', 'condition', 'mask'], axis=1, inplace=True)\n",
    "\n",
    "retr_shen_pre_phys.drop(['session', 'task', 'condition', 'mask'], axis=1, inplace=True)\n",
    "retr_shen_post_phys.drop(['session', 'task', 'condition', 'mask'], axis=1, inplace=True)\n",
    "\n",
    "retr_shen_pre_ctrl.drop(['session', 'task', 'condition', 'mask'], axis=1, inplace=True)\n",
    "retr_shen_post_ctrl.drop(['session', 'task', 'condition', 'mask'], axis=1, inplace=True)\n",
    "\n",
    "\n",
    "for i in np.arange(0,268)[::-1] :\n",
    "    fci_shen_post_phys.rename({'lEff{0}'.format(i): 'post fci phys lEff{0}'.format(i+1)}, axis=1, inplace=True)\n",
    "    fci_shen_pre_phys.rename({'lEff{0}'.format(i): 'pre fci phys lEff{0}'.format(i+1)}, axis=1, inplace=True)\n",
    "    retr_shen_post_phys.rename({'lEff{0}'.format(i): 'post retr phys lEff{0}'.format(i+1)}, axis=1, inplace=True)\n",
    "    retr_shen_pre_phys.rename({'lEff{0}'.format(i): 'pre retr phys lEff{0}'.format(i+1)}, axis=1, inplace=True)\n",
    "    \n",
    "    fci_shen_post_ctrl.rename({'lEff{0}'.format(i): 'post fci ctrl lEff{0}'.format(i+1)}, axis=1, inplace=True)\n",
    "    fci_shen_pre_ctrl.rename({'lEff{0}'.format(i): 'pre fci ctrl lEff{0}'.format(i+1)}, axis=1, inplace=True)\n",
    "    retr_shen_post_ctrl.rename({'lEff{0}'.format(i): 'post retr ctrl lEff{0}'.format(i+1)}, axis=1, inplace=True)\n",
    "    retr_shen_pre_ctrl.rename({'lEff{0}'.format(i): 'pre retr ctrl lEff{0}'.format(i+1)}, axis=1, inplace=True)\n",
    "\n",
    "\n",
    "fci_shen_post_phys[conns] = (fci_shen_post_phys[conns] - fci_shen_post_phys[conns].mean()) / fci_shen_post_phys[conns].std()\n",
    "fci_shen_pre_phys[conns] = (fci_shen_pre_phys[conns] - fci_shen_pre_phys[conns].mean()) / fci_shen_pre_phys[conns].std()\n",
    "retr_shen_post_phys[conns] = (retr_shen_post_phys[conns] - retr_shen_post_phys[conns].mean()) / retr_shen_post_phys[conns].std()\n",
    "retr_shen_pre_phys[conns] = (retr_shen_pre_phys[conns] - retr_shen_pre_phys[conns].mean()) / retr_shen_pre_phys[conns].std()"
   ]
  },
  {
   "cell_type": "code",
   "execution_count": 4,
   "metadata": {},
   "outputs": [],
   "source": [
    "big_df = pd.read_csv(join(data_dir, 'rescored', 'non-brain-data+fd.csv'), index_col=0, header=0)\n",
    "\n",
    "big_df.drop(['post base reas fd', 'pre base reas fd', \n",
    "             'post infr reas fd', 'pre infr reas fd',\n",
    "             'post rest fd', 'pre rest fd'], inplace=True, axis=1)\n",
    "\n",
    "big_df.rename({'post phys retr fd': 'post retr phys fd', \n",
    "               'pre phys retr fd': 'pre retr phys fd', \n",
    "               'post gen retr fd': 'post retr ctrl fd',\n",
    "               'pre gen retr fd': 'pre retr ctrl fd', \n",
    "               'post phys fci fd': 'post fci phys fd', \n",
    "               'pre phys fci fd': 'pre fci phys fd',\n",
    "               'post ctrl fci fd': 'post fci ctrl fd', \n",
    "               'pre ctrl fci fd': 'pre fci ctrl fd'}, inplace=True, axis=1)"
   ]
  },
  {
   "cell_type": "code",
   "execution_count": 5,
   "metadata": {},
   "outputs": [],
   "source": [
    "mega_df = pd.concat([big_df, \n",
    "                     fci_shen_pre_phys, fci_shen_post_phys,\n",
    "                     fci_shen_pre_ctrl, fci_shen_post_ctrl,\n",
    "                     retr_shen_pre_phys, retr_shen_post_phys,\n",
    "                     retr_shen_pre_ctrl, retr_shen_post_ctrl], axis=1)"
   ]
  },
  {
   "cell_type": "code",
   "execution_count": 6,
   "metadata": {},
   "outputs": [],
   "source": [
    "mega_df.to_csv(join(data_dir, 'rescored', 'task_eff+nonbrain+fd.csv'))"
   ]
  },
  {
   "cell_type": "code",
   "execution_count": 7,
   "metadata": {},
   "outputs": [
    {
     "data": {
      "text/plain": [
       "Index(['GPA', 'Age', 'Handedness', 'Strt.Level', 'RetrPhyAcc1',\n",
       "       'Mean Correct RT Pre', 'RetrPhyAcc2', 'Mean Correct RT Post',\n",
       "       'FCIPhyAcc1', 'FCIPhyAcc2',\n",
       "       ...\n",
       "       'post retr ctrl lEff259', 'post retr ctrl lEff260',\n",
       "       'post retr ctrl lEff261', 'post retr ctrl lEff262',\n",
       "       'post retr ctrl lEff263', 'post retr ctrl lEff264',\n",
       "       'post retr ctrl lEff265', 'post retr ctrl lEff266',\n",
       "       'post retr ctrl lEff267', 'post retr ctrl lEff268'],\n",
       "      dtype='object', length=2235)"
      ]
     },
     "execution_count": 7,
     "metadata": {},
     "output_type": "execute_result"
    }
   ],
   "source": [
    "mega_df.columns"
   ]
  },
  {
   "cell_type": "code",
   "execution_count": 8,
   "metadata": {},
   "outputs": [
    {
     "name": "stdout",
     "output_type": "stream",
     "text": [
      "268\n",
      "268\n",
      "268\n",
      "268\n",
      "268\n",
      "268\n",
      "268\n",
      "268\n"
     ]
    }
   ],
   "source": [
    "dfs = [fci_shen_pre_phys, fci_shen_post_phys,\n",
    "       fci_shen_pre_ctrl, fci_shen_post_ctrl,\n",
    "       retr_shen_pre_phys, retr_shen_post_phys,\n",
    "       retr_shen_pre_ctrl, retr_shen_pre_ctrl]\n",
    "for df in dfs:\n",
    "    print(len(df.columns))"
   ]
  },
  {
   "cell_type": "code",
   "execution_count": 9,
   "metadata": {},
   "outputs": [
    {
     "data": {
      "text/plain": [
       "Index(['GPA', 'Age', 'Handedness', 'Strt.Level', 'RetrPhyAcc1',\n",
       "       'Mean Correct RT Pre', 'RetrPhyAcc2', 'Mean Correct RT Post',\n",
       "       'FCIPhyAcc1', 'FCIPhyAcc2', 'VCI1', 'PRI1', 'WMI1', 'PSI1', 'FSIQ1',\n",
       "       'VCI2', 'PRI2', 'WMI2', 'PSI2', 'FSIQ2', 'GID Pre', 'GID Post',\n",
       "       'deltaRetrPhyAcc', 'deltaFCIPhyAcc', 'deltaVCI', 'deltaPRI', 'deltaWMI',\n",
       "       'deltaPSI', 'deltaFSIQ', 'Phy48Grade', 'Sex', 'Ethnic.Grp',\n",
       "       'Class.Type', 'Subject', 'Lec', 'Mod', 'F', 'SexXClass', 'VCI1XClass',\n",
       "       'VCI2XClass', 'deltaVCIXClass', 'PRI1XClass', 'PRI2XClass',\n",
       "       'deltaPRIXClass', 'WMI1XClass', 'WMI2XClass', 'deltaWMIXClass',\n",
       "       'PSI1XClass', 'PSI2XClass', 'deltaPSIXClass', 'FSIQ1XClass',\n",
       "       'FSIQ2XClass', 'deltaFSIQXClass', 'VCI1XClassXSex', 'VCI1XSex',\n",
       "       'VCI2XClassXSex', 'VCI2XSex', 'deltaVCIXClassXSex', 'deltaVCIXSex',\n",
       "       'PRI1XClassXSex', 'PRI1XSex', 'PRI2XClassXSex', 'PRI2XSex',\n",
       "       'deltaPRIXClassXSex', 'deltaPRIXSex', 'WMI1XClassXSex', 'WMI1XSex',\n",
       "       'WMI2XClassXSex', 'WMI2XSex', 'deltaWMIXClassXSex', 'deltaWMIXSex',\n",
       "       'PSI1XClassXSex', 'PSI1XSex', 'PSI2XClassXSex', 'PSI2XSex',\n",
       "       'deltaPSIXClassXSex', 'deltaPSIXSex', 'FSIQ1XClassXSex', 'FSIQ1XSex',\n",
       "       'FSIQ2XClassXSex', 'FSIQ2XSex', 'deltaFSIQXClassXSex', 'deltaFSIQXSex',\n",
       "       'post retr phys fd', 'pre retr phys fd', 'post retr ctrl fd',\n",
       "       'pre retr ctrl fd', 'post fci phys fd', 'pre fci phys fd',\n",
       "       'post fci ctrl fd', 'pre fci ctrl fd'],\n",
       "      dtype='object')"
      ]
     },
     "execution_count": 9,
     "metadata": {},
     "output_type": "execute_result"
    }
   ],
   "source": [
    "big_df.columns"
   ]
  },
  {
   "cell_type": "code",
   "execution_count": null,
   "metadata": {},
   "outputs": [],
   "source": []
  }
 ],
 "metadata": {
  "kernelspec": {
   "display_name": "Python 3",
   "language": "python",
   "name": "python3"
  },
  "language_info": {
   "codemirror_mode": {
    "name": "ipython",
    "version": 3
   },
   "file_extension": ".py",
   "mimetype": "text/x-python",
   "name": "python",
   "nbconvert_exporter": "python",
   "pygments_lexer": "ipython3",
   "version": "3.7.3"
  }
 },
 "nbformat": 4,
 "nbformat_minor": 4
}
