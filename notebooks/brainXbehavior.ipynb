{
 "cells": [
  {
   "cell_type": "code",
   "execution_count": 1,
   "metadata": {},
   "outputs": [],
   "source": [
    "import math\n",
    "#numpy is numerical python, which lets us do math!\n",
    "import numpy as np\n",
    "#pandas is for reading in and manipulating dataframe\n",
    "import pandas as pd\n",
    "#matplotlib is a plotting library the originated in matlab\n",
    "from matplotlib import pyplot as plt\n",
    "#seaborn wraps around matplotlib so that we can make pretty plots more easliy\n",
    "import seaborn as sns\n",
    "#import missingno as msno\n",
    "#this little line of code lets us see the plots in the notebook\n",
    "%matplotlib inline\n",
    "#this uses seaborn (sns) to set the style for all the plots\n",
    "sns.set(context='poster', style='whitegrid', font_scale=1.4)\n",
    "from os.path import join\n",
    "from scipy.stats import ttest_ind, spearmanr, pearsonr, ttest_rel, kstest\n",
    "import statsmodels as sm\n",
    "from sklearn.linear_model import LinearRegression, Lasso\n",
    "#import fancyimpute as fi\n",
    "\n",
    "#less important for plotting\n",
    "from glob import glob\n",
    "import statsmodels.api as sm\n",
    "from statsmodels.iolib.summary2 import summary_col\n",
    "from statsmodels.sandbox.stats.multicomp import multipletests"
   ]
  },
  {
   "cell_type": "code",
   "execution_count": 2,
   "metadata": {},
   "outputs": [
    {
     "data": {
      "text/plain": [
       "'1.0.3'"
      ]
     },
     "execution_count": 2,
     "metadata": {},
     "output_type": "execute_result"
    }
   ],
   "source": [
    "import pandas\n",
    "pandas.__version__"
   ]
  },
  {
   "cell_type": "code",
   "execution_count": 3,
   "metadata": {},
   "outputs": [],
   "source": [
    "def calculate_pvalues(df, correlation):\n",
    "    from scipy.stats import pearsonr, pearsonr\n",
    "    df = df.dropna()._get_numeric_data()\n",
    "    dfcols = pd.DataFrame(columns=df.columns)\n",
    "    pvalues = dfcols.transpose().join(dfcols, how='outer')\n",
    "    for r in df.columns:\n",
    "        for c in df.columns:\n",
    "            if correlation == 'pearson':\n",
    "                pvalues[r][c] = round(pearsonr(df[r], df[c])[1], 4)\n",
    "            if correlation == 'spearman':\n",
    "                pvalues[r][c] = round(spearmanr(df[r], df[c])[1], 4)\n",
    "            else:\n",
    "                raise ValueError('Invalid correlation method specified. Accpetable values are \\'pearson\\' and \\'spearman\\'.')\n",
    "    return pvalues"
   ]
  },
  {
   "cell_type": "code",
   "execution_count": 4,
   "metadata": {},
   "outputs": [],
   "source": [
    "#Li & Ji (2005) method for multiple comparisons corrections\n",
    "#calculating number of effective comparisons M_eff\n",
    "def liji_sidak_mc(data, alpha):\n",
    "    import math\n",
    "    import numpy as np\n",
    "    \n",
    "    mc_corrmat = data.corr()\n",
    "    eigvals, eigvecs = np.linalg.eig(mc_corrmat)\n",
    "\n",
    "    M_eff = 0\n",
    "    for eigval in eigvals:\n",
    "        if abs(eigval) >= 0:\n",
    "            if abs(eigval) >= 1:\n",
    "                M_eff += 1\n",
    "            else:\n",
    "                M_eff += abs(eigval) - math.floor(abs(eigval))\n",
    "        else:\n",
    "            M_eff += 0\n",
    "    print('Number of effective comparisons: {0}'.format(M_eff))\n",
    "\n",
    "    #and now applying M_eff to the Sidak procedure\n",
    "    sidak_p = 1 - (1 - alpha)**(1/M_eff)\n",
    "    if sidak_p < 0.00001:\n",
    "        print('Critical value of {:.3f}'.format(alpha),'becomes {:2e} after corrections'.format(sidak_p))\n",
    "    else:\n",
    "        print('Critical value of {:.3f}'.format(alpha),'becomes {:.6f} after corrections'.format(sidak_p))\n",
    "    return sidak_p, M_eff"
   ]
  },
  {
   "cell_type": "code",
   "execution_count": 5,
   "metadata": {},
   "outputs": [],
   "source": [
    "fig_dir = '/Users/kbottenh/Dropbox/Projects/physics-retrieval/figures'"
   ]
  },
  {
   "cell_type": "code",
   "execution_count": 6,
   "metadata": {},
   "outputs": [],
   "source": [
    "data_dir = '/Users/kbottenh/Dropbox/Projects/physics-retrieval/data'\n",
    "df = pd.read_csv(join(data_dir, 'rescored', 'non-brain-data.csv'), index_col=0, header=0)\n",
    "\n",
    "df_f = df[df['Sex'] == 'F']\n",
    "df_f = df_f.drop('Sex', axis=1)\n",
    "df_m = df[df['Sex'] == 'M']\n",
    "df_m = df_m.drop('Sex', axis=1)\n",
    "\n",
    "df_f['const'] = 1\n",
    "df_m['const'] = 1"
   ]
  },
  {
   "cell_type": "code",
   "execution_count": 9,
   "metadata": {},
   "outputs": [
    {
     "data": {
      "text/html": [
       "<div>\n",
       "<style scoped>\n",
       "    .dataframe tbody tr th:only-of-type {\n",
       "        vertical-align: middle;\n",
       "    }\n",
       "\n",
       "    .dataframe tbody tr th {\n",
       "        vertical-align: top;\n",
       "    }\n",
       "\n",
       "    .dataframe thead th {\n",
       "        text-align: right;\n",
       "    }\n",
       "</style>\n",
       "<table border=\"1\" class=\"dataframe\">\n",
       "  <thead>\n",
       "    <tr style=\"text-align: right;\">\n",
       "      <th></th>\n",
       "      <th>GPA</th>\n",
       "      <th>Age</th>\n",
       "      <th>Handedness</th>\n",
       "      <th>Strt.Level</th>\n",
       "      <th>RetrPhyAcc1</th>\n",
       "      <th>Mean Correct RT Pre</th>\n",
       "      <th>RetrPhyAcc2</th>\n",
       "      <th>Mean Correct RT Post</th>\n",
       "      <th>FCIPhyAcc1</th>\n",
       "      <th>FCIPhyAcc2</th>\n",
       "      <th>...</th>\n",
       "      <th>PSI2XClassXSex</th>\n",
       "      <th>PSI2XSex</th>\n",
       "      <th>deltaPSIXClassXSex</th>\n",
       "      <th>deltaPSIXSex</th>\n",
       "      <th>FSIQ1XClassXSex</th>\n",
       "      <th>FSIQ1XSex</th>\n",
       "      <th>FSIQ2XClassXSex</th>\n",
       "      <th>FSIQ2XSex</th>\n",
       "      <th>deltaFSIQXClassXSex</th>\n",
       "      <th>deltaFSIQXSex</th>\n",
       "    </tr>\n",
       "  </thead>\n",
       "  <tbody>\n",
       "    <tr>\n",
       "      <th>101</th>\n",
       "      <td>3.07</td>\n",
       "      <td>20.471233</td>\n",
       "      <td>1.0</td>\n",
       "      <td>30.0</td>\n",
       "      <td>0.708333</td>\n",
       "      <td>4597.352941</td>\n",
       "      <td>0.750000</td>\n",
       "      <td>4280.277778</td>\n",
       "      <td>0.333333</td>\n",
       "      <td>0.444444</td>\n",
       "      <td>...</td>\n",
       "      <td>200.0</td>\n",
       "      <td>200.0</td>\n",
       "      <td>-28.000000</td>\n",
       "      <td>-28.000000</td>\n",
       "      <td>188.0</td>\n",
       "      <td>188.0</td>\n",
       "      <td>188.0</td>\n",
       "      <td>188.0</td>\n",
       "      <td>10.00000</td>\n",
       "      <td>10.00000</td>\n",
       "    </tr>\n",
       "    <tr>\n",
       "      <th>102</th>\n",
       "      <td>2.50</td>\n",
       "      <td>21.202740</td>\n",
       "      <td>0.8</td>\n",
       "      <td>30.0</td>\n",
       "      <td>0.541667</td>\n",
       "      <td>4241.769231</td>\n",
       "      <td>0.833333</td>\n",
       "      <td>4387.000000</td>\n",
       "      <td>0.222222</td>\n",
       "      <td>0.555556</td>\n",
       "      <td>...</td>\n",
       "      <td>172.0</td>\n",
       "      <td>86.0</td>\n",
       "      <td>72.000000</td>\n",
       "      <td>36.000000</td>\n",
       "      <td>208.0</td>\n",
       "      <td>104.0</td>\n",
       "      <td>208.0</td>\n",
       "      <td>104.0</td>\n",
       "      <td>20.00000</td>\n",
       "      <td>10.00000</td>\n",
       "    </tr>\n",
       "    <tr>\n",
       "      <th>103</th>\n",
       "      <td>3.35</td>\n",
       "      <td>18.887671</td>\n",
       "      <td>0.8</td>\n",
       "      <td>30.0</td>\n",
       "      <td>0.750000</td>\n",
       "      <td>4124.000000</td>\n",
       "      <td>0.875000</td>\n",
       "      <td>4388.571429</td>\n",
       "      <td>0.444444</td>\n",
       "      <td>0.777778</td>\n",
       "      <td>...</td>\n",
       "      <td>74.0</td>\n",
       "      <td>74.0</td>\n",
       "      <td>-3.000000</td>\n",
       "      <td>-3.000000</td>\n",
       "      <td>98.0</td>\n",
       "      <td>98.0</td>\n",
       "      <td>98.0</td>\n",
       "      <td>98.0</td>\n",
       "      <td>6.00000</td>\n",
       "      <td>6.00000</td>\n",
       "    </tr>\n",
       "    <tr>\n",
       "      <th>104</th>\n",
       "      <td>3.72</td>\n",
       "      <td>21.342466</td>\n",
       "      <td>1.0</td>\n",
       "      <td>40.0</td>\n",
       "      <td>0.666667</td>\n",
       "      <td>4792.250000</td>\n",
       "      <td>0.708333</td>\n",
       "      <td>4978.705882</td>\n",
       "      <td>0.444444</td>\n",
       "      <td>0.555556</td>\n",
       "      <td>...</td>\n",
       "      <td>316.0</td>\n",
       "      <td>158.0</td>\n",
       "      <td>0.000000</td>\n",
       "      <td>0.000000</td>\n",
       "      <td>412.0</td>\n",
       "      <td>206.0</td>\n",
       "      <td>412.0</td>\n",
       "      <td>206.0</td>\n",
       "      <td>20.00000</td>\n",
       "      <td>10.00000</td>\n",
       "    </tr>\n",
       "    <tr>\n",
       "      <th>105</th>\n",
       "      <td>3.24</td>\n",
       "      <td>20.802740</td>\n",
       "      <td>0.5</td>\n",
       "      <td>20.0</td>\n",
       "      <td>0.707359</td>\n",
       "      <td>4583.059592</td>\n",
       "      <td>0.675318</td>\n",
       "      <td>4231.039582</td>\n",
       "      <td>0.240441</td>\n",
       "      <td>0.772431</td>\n",
       "      <td>...</td>\n",
       "      <td>74.0</td>\n",
       "      <td>74.0</td>\n",
       "      <td>41.814725</td>\n",
       "      <td>41.814725</td>\n",
       "      <td>110.0</td>\n",
       "      <td>110.0</td>\n",
       "      <td>110.0</td>\n",
       "      <td>110.0</td>\n",
       "      <td>15.27071</td>\n",
       "      <td>15.27071</td>\n",
       "    </tr>\n",
       "  </tbody>\n",
       "</table>\n",
       "<p>5 rows × 83 columns</p>\n",
       "</div>"
      ],
      "text/plain": [
       "      GPA        Age  Handedness  Strt.Level  RetrPhyAcc1  \\\n",
       "101  3.07  20.471233         1.0        30.0     0.708333   \n",
       "102  2.50  21.202740         0.8        30.0     0.541667   \n",
       "103  3.35  18.887671         0.8        30.0     0.750000   \n",
       "104  3.72  21.342466         1.0        40.0     0.666667   \n",
       "105  3.24  20.802740         0.5        20.0     0.707359   \n",
       "\n",
       "     Mean Correct RT Pre  RetrPhyAcc2  Mean Correct RT Post  FCIPhyAcc1  \\\n",
       "101          4597.352941     0.750000           4280.277778    0.333333   \n",
       "102          4241.769231     0.833333           4387.000000    0.222222   \n",
       "103          4124.000000     0.875000           4388.571429    0.444444   \n",
       "104          4792.250000     0.708333           4978.705882    0.444444   \n",
       "105          4583.059592     0.675318           4231.039582    0.240441   \n",
       "\n",
       "     FCIPhyAcc2  ...  PSI2XClassXSex  PSI2XSex  deltaPSIXClassXSex  \\\n",
       "101    0.444444  ...           200.0     200.0          -28.000000   \n",
       "102    0.555556  ...           172.0      86.0           72.000000   \n",
       "103    0.777778  ...            74.0      74.0           -3.000000   \n",
       "104    0.555556  ...           316.0     158.0            0.000000   \n",
       "105    0.772431  ...            74.0      74.0           41.814725   \n",
       "\n",
       "     deltaPSIXSex  FSIQ1XClassXSex  FSIQ1XSex  FSIQ2XClassXSex  FSIQ2XSex  \\\n",
       "101    -28.000000            188.0      188.0            188.0      188.0   \n",
       "102     36.000000            208.0      104.0            208.0      104.0   \n",
       "103     -3.000000             98.0       98.0             98.0       98.0   \n",
       "104      0.000000            412.0      206.0            412.0      206.0   \n",
       "105     41.814725            110.0      110.0            110.0      110.0   \n",
       "\n",
       "     deltaFSIQXClassXSex  deltaFSIQXSex  \n",
       "101             10.00000       10.00000  \n",
       "102             20.00000       10.00000  \n",
       "103              6.00000        6.00000  \n",
       "104             20.00000       10.00000  \n",
       "105             15.27071       15.27071  \n",
       "\n",
       "[5 rows x 83 columns]"
      ]
     },
     "execution_count": 9,
     "metadata": {},
     "output_type": "execute_result"
    }
   ],
   "source": [
    "df.head()"
   ]
  },
  {
   "cell_type": "code",
   "execution_count": 10,
   "metadata": {},
   "outputs": [],
   "source": [
    "#rsgt_df = pd.read_csv(join(data_dir, 'resting-state_graphtheory_shen+craddock_2019-05-29.csv'), \n",
    "#                      index_col=0, header=0)\n",
    "#rsgt_df = pd.read_csv(join(data_dir, 'output', 'resting-state_graphtheory_shen+craddock_2019-11-20.csv'), \n",
    "#                      index_col=0, header=0)\n",
    "head_size = pd.read_csv(join(data_dir, 'head-size_2019-05-29 15:19:53.287525.csv'), index_col=0, header=0)\n",
    "head_size['normalized head size'] = (head_size['average_head_size']-np.mean(head_size['average_head_size']))/np.std(head_size['average_head_size'])"
   ]
  },
  {
   "cell_type": "code",
   "execution_count": 11,
   "metadata": {},
   "outputs": [],
   "source": [
    "fd = pd.read_csv(join(data_dir, 'avg-fd-per-condition-per-run_2019-05-29.csv'), index_col=0, header=0)\n",
    "fd['normalized fd'] = (fd['average fd']-np.mean(fd['average fd']))/np.std(fd['average fd'])\n",
    "retr_fd = fd[fd['task'] == 'retr']\n",
    "#reas_fd = fd[fd['task'] == 'reas']\n",
    "fci_fd = fd[fd['task'] == 'fci']\n",
    "\n",
    "df_pivot = retr_fd[retr_fd['condition'] == 'high-level'].reset_index()\n",
    "retr_phys_fd = df_pivot.pivot(index='subject', columns='session', values='average fd')\n",
    "retr_phys_fd.rename({'pre': 'pre phys retr fd', 'post': 'post phys retr fd'}, axis=1, inplace=True)\n",
    "\n",
    "df_pivot = retr_fd[retr_fd['condition'] == 'lower-level'].reset_index()\n",
    "retr_genr_fd = df_pivot.pivot(index='subject', columns='session', values='average fd')\n",
    "retr_genr_fd.rename({'pre': 'pre gen retr fd', 'post': 'post gen retr fd'}, axis=1, inplace=True)\n",
    "\n",
    "#df_pivot = reas_fd[reas_fd['condition'] == 'high-level'].reset_index()\n",
    "#reas_inf_fd = df_pivot.pivot(index='subject', columns='session', values='average fd')\n",
    "#reas_inf_fd.rename({'pre': 'pre infr reas fd', 'post': 'post infr reas fd'}, axis=1, inplace=True)\n",
    "\n",
    "#df_pivot = reas_fd[reas_fd['condition'] == 'lower-level'].reset_index()\n",
    "#reas_base_fd = df_pivot.pivot(index='subject', columns='session', values='average fd')\n",
    "#reas_base_fd.rename({'pre': 'pre base reas fd', 'post': 'post base reas fd'}, axis=1, inplace=True)\n",
    "\n",
    "df_pivot = fci_fd[fci_fd['condition'] == 'high-level'].reset_index()\n",
    "fci_phys_fd = df_pivot.pivot(index='subject', columns='session', values='average fd')\n",
    "fci_phys_fd.rename({'pre': 'pre phys fci fd', 'post': 'post phys fci fd'}, axis=1, inplace=True)\n",
    "\n",
    "df_pivot = fci_fd[fci_fd['condition'] == 'lower-level'].reset_index()\n",
    "fci_ctrl_fd = df_pivot.pivot(index='subject', columns='session', values='average fd')\n",
    "fci_ctrl_fd.rename({'pre': 'pre ctrl fci fd', 'post': 'post ctrl fci fd'}, axis=1, inplace=True)"
   ]
  },
  {
   "cell_type": "markdown",
   "metadata": {},
   "source": [
    "rest_fd = pd.read_csv(join(data_dir, 'avg-fd-per-run-rest_2019-05-31.csv'), index_col=0, header=0)\n",
    "rs_fd = rest_fd.reset_index().pivot(index='subject', columns='session', values='average fd')\n",
    "rs_fd.rename({'pre': 'pre rest fd', 'post': 'post rest fd'}, axis=1, inplace=True)"
   ]
  },
  {
   "cell_type": "code",
   "execution_count": 24,
   "metadata": {},
   "outputs": [],
   "source": [
    "fci_df = pd.read_csv(join(data_dir, 'physics-learning-fci_graphtheory_shen+craddock_2019-05-31.csv'), \n",
    "                     index_col=0, header=0)\n",
    "\n",
    "phys_fci = fci_df[fci_df['condition'] == 'high-level']\n",
    "ctrl_fci = fci_df[fci_df['condition'] == 'lower-level']\n",
    "\n",
    "#physics fci measures per session per parcellation\n",
    "df_pivot = phys_fci[phys_fci['mask'] == 'shen2015'].reset_index()\n",
    "shen_eff_phys_fci_df = df_pivot.pivot(index='subject', columns='session', values='efficiency')\n",
    "shen_eff_phys_fci_df.rename({0: 'pre phys fci shen eff', 1: 'post phys fci shen eff'}, axis=1, inplace=True)\n",
    "\n",
    "#shen_cpl_phys_fci_df = df_pivot.pivot(index='subject', columns='session', values='charpath')\n",
    "#shen_cpl_phys_fci_df.rename({0: 'pre phys fci shen cpl', 1: 'post phys fci shen cpl'}, axis=1, inplace=True)\n",
    "\n",
    "shen_mod_phys_fci_df = df_pivot.pivot(index='subject', columns='session', values='modularity')\n",
    "shen_mod_phys_fci_df.rename({0: 'pre phys fci shen mod', 1: 'post phys fci shen mod'}, axis=1, inplace=True)\n",
    "\n",
    "df_pivot = phys_fci[phys_fci['mask'] == 'craddock2012'].reset_index()\n",
    "crad_eff_phys_fci_df = df_pivot.pivot(index='subject', columns='session', values='efficiency')\n",
    "crad_eff_phys_fci_df.rename({0: 'pre phys fci crad eff', 1: 'post phys fci crad eff'}, axis=1, inplace=True)\n",
    "\n",
    "#crad_cpl_phys_fci_df = df_pivot.pivot(index='subject', columns='session', values='charpath')\n",
    "#crad_cpl_phys_fci_df.rename({0: 'pre phys fci crad cpl', 1: 'post phys fci crad cpl'}, axis=1, inplace=True)\n",
    "\n",
    "crad_mod_phys_fci_df = df_pivot.pivot(index='subject', columns='session', values='modularity')\n",
    "crad_mod_phys_fci_df.rename({0: 'pre phys fci crad mod', 1: 'post phys fci crad mod'}, axis=1, inplace=True)\n",
    "\n",
    "\n",
    "#ctrl fci measures per session per parcellation\n",
    "df_pivot = ctrl_fci[ctrl_fci['mask'] == 'shen2015'].reset_index()\n",
    "shen_eff_ctrl_fci_df = df_pivot.pivot(index='subject', columns='session', values='efficiency')\n",
    "shen_eff_ctrl_fci_df.rename({0: 'pre ctrl fci shen eff', 1: 'post ctrl fci shen eff'}, axis=1, inplace=True)\n",
    "\n",
    "#shen_cpl_ctrl_fci_df = df_pivot.pivot(index='subject', columns='session', values='charpath')\n",
    "#shen_cpl_ctrl_fci_df.rename({0: 'pre ctrl fci shen cpl', 1: 'post ctrl fci shen cpl'}, axis=1, inplace=True)\n",
    "\n",
    "shen_mod_ctrl_fci_df = df_pivot.pivot(index='subject', columns='session', values='modularity')\n",
    "shen_mod_ctrl_fci_df.rename({0: 'pre ctrl fci shen mod', 1: 'post ctrl fci shen mod'}, axis=1, inplace=True)\n",
    "\n",
    "df_pivot = ctrl_fci[ctrl_fci['mask'] == 'craddock2012'].reset_index()\n",
    "crad_eff_ctrl_fci_df = df_pivot.pivot(index='subject', columns='session', values='efficiency')\n",
    "crad_eff_ctrl_fci_df.rename({0: 'pre ctrl fci crad eff', 1: 'post ctrl fci crad eff'}, axis=1, inplace=True)\n",
    "\n",
    "#crad_cpl_ctrl_fci_df = df_pivot.pivot(index='subject', columns='session', values='charpath')\n",
    "#crad_cpl_ctrl_fci_df.rename({0: 'pre ctrl fci crad cpl', 1: 'post ctrl fci crad cpl'}, axis=1, inplace=True)\n",
    "\n",
    "crad_mod_ctrl_fci_df = df_pivot.pivot(index='subject', columns='session', values='modularity')\n",
    "crad_mod_ctrl_fci_df.rename({0: 'pre ctrl fci crad mod', 1: 'post ctrl fci crad mod'}, axis=1, inplace=True)"
   ]
  },
  {
   "cell_type": "code",
   "execution_count": 25,
   "metadata": {},
   "outputs": [],
   "source": [
    "task_df = pd.read_csv(join(data_dir, 'physics-learning-tasks_graphtheory_shen+craddock_2019-05-30.csv'), index_col=0, header=0)\n",
    "retr_df = task_df[task_df['task'] == 'retr']\n",
    "retr_phys_df = retr_df[retr_df['condition'] == 'high-level']\n",
    "genr_phys_df = retr_df[retr_df['condition'] == 'lower-level']\n",
    "\n",
    "#physics retrieval measures per session per parcellation\n",
    "df_pivot = retr_phys_df[retr_phys_df['mask'] == 'shen2015'].reset_index()\n",
    "shen_eff_retr_phys_df = df_pivot.pivot(index='subject', columns='session', values='efficiency')\n",
    "shen_eff_retr_phys_df.rename({0: 'pre phys retr shen eff', 1: 'post phys retr shen eff'}, axis=1, inplace=True)\n",
    "\n",
    "#shen_cpl_retr_phys_df = df_pivot.pivot(index='subject', columns='session', values='charpath')\n",
    "#shen_cpl_retr_phys_df.rename({0: 'pre phys retr shen cpl', 1: 'post phys retr shen cpl'}, axis=1, inplace=True)\n",
    "\n",
    "shen_mod_retr_phys_df = df_pivot.pivot(index='subject', columns='session', values='modularity')\n",
    "shen_mod_retr_phys_df.rename({0: 'pre phys retr shen mod', 1: 'post phys retr shen mod'}, axis=1, inplace=True)\n",
    "\n",
    "df_pivot = retr_phys_df[retr_phys_df['mask'] == 'craddock2012'].reset_index()\n",
    "crad_eff_retr_phys_df = df_pivot.pivot(index='subject', columns='session', values='efficiency')\n",
    "crad_eff_retr_phys_df.rename({0: 'pre phys retr crad eff', 1: 'post phys retr crad eff'}, axis=1, inplace=True)\n",
    "\n",
    "#crad_cpl_retr_phys_df = df_pivot.pivot(index='subject', columns='session', values='charpath')\n",
    "#crad_cpl_retr_phys_df.rename({0: 'pre phys retr crad cpl', 1: 'post phys retr crad cpl'}, axis=1, inplace=True)\n",
    "\n",
    "crad_mod_retr_phys_df = df_pivot.pivot(index='subject', columns='session', values='modularity')\n",
    "crad_mod_retr_phys_df.rename({0: 'pre phys retr crad mod', 1: 'post phys retr crad mod'}, axis=1, inplace=True)\n",
    "\n",
    "#general retrieval measures per session per parcellation\n",
    "df_pivot = genr_phys_df[genr_phys_df['mask'] == 'shen2015'].reset_index()\n",
    "shen_eff_retr_genr_df = df_pivot.pivot(index='subject', columns='session', values='efficiency')\n",
    "shen_eff_retr_genr_df.rename({0: 'pre gen retr shen eff', 1: 'post gen retr shen eff'}, axis=1, inplace=True)\n",
    "\n",
    "#shen_cpl_retr_genr_df = df_pivot.pivot(index='subject', columns='session', values='charpath')\n",
    "#shen_cpl_retr_genr_df.rename({0: 'pre gen retr shen cpl', 1: 'post gen retr shen cpl'}, axis=1, inplace=True)\n",
    "\n",
    "shen_mod_retr_genr_df = df_pivot.pivot(index='subject', columns='session', values='modularity')\n",
    "shen_mod_retr_genr_df.rename({0: 'pre gen retr shen mod', 1: 'post gen retr shen mod'}, axis=1, inplace=True)\n",
    "\n",
    "df_pivot = genr_phys_df[genr_phys_df['mask'] == 'craddock2012'].reset_index()\n",
    "crad_eff_retr_genr_df = df_pivot.pivot(index='subject', columns='session', values='efficiency')\n",
    "crad_eff_retr_genr_df.rename({0: 'pre gen retr crad eff', 1: 'post gen retr crad eff'}, axis=1, inplace=True)\n",
    "\n",
    "#crad_cpl_retr_genr_df = df_pivot.pivot(index='subject', columns='session', values='charpath')\n",
    "#crad_cpl_retr_genr_df.rename({0: 'pre gen retr crad cpl', 1: 'post gen retr crad cpl'}, axis=1, inplace=True)\n",
    "\n",
    "crad_mod_retr_genr_df = df_pivot.pivot(index='subject', columns='session', values='modularity')\n",
    "crad_mod_retr_genr_df.rename({0: 'pre gen retr crad mod', 1: 'post gen retr crad mod'}, axis=1, inplace=True)"
   ]
  },
  {
   "cell_type": "markdown",
   "metadata": {},
   "source": [
    "reas_df = task_df[task_df['task'] == 'reas']\n",
    "reas_infr_df = reas_df[reas_df['condition'] == 'high-level']\n",
    "reas_base_df = reas_df[reas_df['condition'] == 'lower-level']\n",
    "\n",
    "#infrics reasieval measures per session per parcellation\n",
    "df_pivot = reas_infr_df[reas_infr_df['mask'] == 'shen2015'].reset_index()\n",
    "shen_eff_reas_infr_df = df_pivot.pivot(index='subject', columns='session', values='efficiency')\n",
    "shen_eff_reas_infr_df.rename({0: 'pre infr reas shen eff', 1: 'post infr reas shen eff'}, axis=1, inplace=True)\n",
    "\n",
    "shen_cpl_reas_infr_df = df_pivot.pivot(index='subject', columns='session', values='charpath')\n",
    "shen_cpl_reas_infr_df.rename({0: 'pre infr reas shen cpl', 1: 'post infr reas shen cpl'}, axis=1, inplace=True)\n",
    "\n",
    "shen_mod_reas_infr_df = df_pivot.pivot(index='subject', columns='session', values='modularity')\n",
    "shen_mod_reas_infr_df.rename({0: 'pre infr reas shen mod', 1: 'post infr reas shen mod'}, axis=1, inplace=True)\n",
    "\n",
    "df_pivot = reas_infr_df[reas_infr_df['mask'] == 'craddock2012'].reset_index()\n",
    "crad_eff_reas_infr_df = df_pivot.pivot(index='subject', columns='session', values='efficiency')\n",
    "crad_eff_reas_infr_df.rename({0: 'pre infr reas crad eff', 1: 'post infr reas crad eff'}, axis=1, inplace=True)\n",
    "\n",
    "crad_cpl_reas_infr_df = df_pivot.pivot(index='subject', columns='session', values='charpath')\n",
    "crad_cpl_reas_infr_df.rename({0: 'pre infr reas crad cpl', 1: 'post infr reas crad cpl'}, axis=1, inplace=True)\n",
    "\n",
    "crad_mod_reas_infr_df = df_pivot.pivot(index='subject', columns='session', values='modularity')\n",
    "crad_mod_reas_infr_df.rename({0: 'pre infr reas crad mod', 1: 'post infr reas crad mod'}, axis=1, inplace=True)\n",
    "\n",
    "#baseeral reasieval measures per session per parcellation\n",
    "df_pivot = reas_base_df[reas_base_df['mask'] == 'shen2015'].reset_index()\n",
    "shen_eff_reas_base_df = df_pivot.pivot(index='subject', columns='session', values='efficiency')\n",
    "shen_eff_reas_base_df.rename({0: 'pre base reas shen eff', 1: 'post base reas shen eff'}, axis=1, inplace=True)\n",
    "\n",
    "shen_cpl_reas_base_df = df_pivot.pivot(index='subject', columns='session', values='charpath')\n",
    "shen_cpl_reas_base_df.rename({0: 'pre base reas shen cpl', 1: 'post base reas shen cpl'}, axis=1, inplace=True)\n",
    "\n",
    "shen_mod_reas_base_df = df_pivot.pivot(index='subject', columns='session', values='modularity')\n",
    "shen_mod_reas_base_df.rename({0: 'pre base reas shen mod', 1: 'post base reas shen mod'}, axis=1, inplace=True)\n",
    "\n",
    "df_pivot = reas_base_df[reas_base_df['mask'] == 'craddock2012'].reset_index()\n",
    "crad_eff_reas_base_df = df_pivot.pivot(index='subject', columns='session', values='efficiency')\n",
    "crad_eff_reas_base_df.rename({0: 'pre base reas crad eff', 1: 'post base reas crad eff'}, axis=1, inplace=True)\n",
    "\n",
    "crad_cpl_reas_base_df = df_pivot.pivot(index='subject', columns='session', values='charpath')\n",
    "crad_cpl_reas_base_df.rename({0: 'pre base reas crad cpl', 1: 'post base reas crad cpl'}, axis=1, inplace=True)\n",
    "\n",
    "crad_mod_reas_base_df = df_pivot.pivot(index='subject', columns='session', values='modularity')\n",
    "crad_mod_reas_base_df.rename({0: 'pre base reas crad mod', 1: 'post base reas crad mod'}, axis=1, inplace=True)"
   ]
  },
  {
   "cell_type": "code",
   "execution_count": null,
   "metadata": {},
   "outputs": [],
   "source": [
    "#demo_df[demo_df['Strt.Level'] < 0] = np.nan"
   ]
  },
  {
   "cell_type": "code",
   "execution_count": 26,
   "metadata": {},
   "outputs": [],
   "source": [
    "all_df = pd.concat((df, head_size['normalized head size'],\n",
    "                    shen_eff_retr_phys_df, shen_mod_retr_phys_df,\n",
    "                    crad_eff_retr_phys_df, crad_mod_retr_phys_df, \n",
    "                    shen_eff_retr_genr_df, shen_mod_retr_genr_df, \n",
    "                    crad_eff_retr_genr_df, crad_mod_retr_genr_df,\n",
    "                    shen_eff_phys_fci_df, shen_mod_phys_fci_df,\n",
    "                    crad_eff_phys_fci_df, crad_mod_phys_fci_df,\n",
    "                    shen_eff_ctrl_fci_df, shen_mod_ctrl_fci_df,\n",
    "                    crad_eff_ctrl_fci_df, crad_mod_ctrl_fci_df, \n",
    "                    retr_phys_fd, retr_genr_fd, fci_phys_fd, fci_ctrl_fd), axis=1)\n",
    "\n",
    "missing_df = pd.DataFrame(columns=all_df.keys(), index=all_df.index)\n",
    "\n",
    "for key in missing_df.keys():\n",
    "    missing_df[key] = all_df[key].isnull()\n",
    "\n",
    "missing_df.replace({False: 0, True:1}, inplace=True)\n"
   ]
  },
  {
   "cell_type": "code",
   "execution_count": 27,
   "metadata": {},
   "outputs": [],
   "source": [
    "index = pd.MultiIndex.from_product([missing_df.keys(), all_df.keys()])\n",
    "mnar = pd.DataFrame(columns=['corr', 'pval'], index=index)"
   ]
  },
  {
   "cell_type": "code",
   "execution_count": 28,
   "metadata": {},
   "outputs": [],
   "source": [
    "all_df.drop(['Sex', 'Class.Type'], axis=1, inplace=True)\n",
    "all_df.dropna(inplace=True)"
   ]
  },
  {
   "cell_type": "code",
   "execution_count": 29,
   "metadata": {},
   "outputs": [],
   "source": [
    "sink_dir = '/Users/kbottenh/Dropbox/Projects/physics-retrieval/data/output'\n",
    "null_df = pd.read_csv(join(sink_dir, 'local_efficiency', 'task_eff_dist.csv'), \n",
    "                      index_col=[0,1,2,3], header=0)"
   ]
  },
  {
   "cell_type": "code",
   "execution_count": 32,
   "metadata": {},
   "outputs": [],
   "source": [
    "masks = {'shen2015': 'shen', 'craddock2012': 'crad'}\n",
    "tasks = ['fci', 'retr']\n",
    "for mask in masks.keys():\n",
    "    for task in tasks:\n",
    "        null = null_df.loc['post', task, 'physics', mask]['mean']\n",
    "        vals = all_df['post phys {0} {1} eff'.format(task, masks[mask])]\n",
    "        all_df['post phys {0} {1} eff'.format(task, masks[mask])] = vals / null\n",
    "        "
   ]
  },
  {
   "cell_type": "code",
   "execution_count": 33,
   "metadata": {},
   "outputs": [
    {
     "data": {
      "text/plain": [
       "{'shen2015': 'shen', 'craddock2012': 'crad'}"
      ]
     },
     "execution_count": 33,
     "metadata": {},
     "output_type": "execute_result"
    }
   ],
   "source": [
    "masks"
   ]
  },
  {
   "cell_type": "code",
   "execution_count": 34,
   "metadata": {},
   "outputs": [],
   "source": [
    "all_df_f = all_df[all_df['F'] == 1]\n",
    "all_df_m = all_df[all_df['F'] == 0]"
   ]
  },
  {
   "cell_type": "code",
   "execution_count": 35,
   "metadata": {},
   "outputs": [],
   "source": [
    "sexes = ['Male', 'Female', 'All']\n",
    "sessions = ['pre', 'post', 'delta']"
   ]
  },
  {
   "cell_type": "markdown",
   "metadata": {},
   "source": [
    "# For all students, all together, how is topology related to IQ?"
   ]
  },
  {
   "cell_type": "code",
   "execution_count": 36,
   "metadata": {},
   "outputs": [],
   "source": [
    "#first things first, setting up our covariates\n",
    "covariates = ['Age', 'Mod', 'Strt.Level', 'normalized head size', 'SexXClass', 'F']"
   ]
  },
  {
   "cell_type": "code",
   "execution_count": 37,
   "metadata": {},
   "outputs": [],
   "source": [
    "iqs = ['VCI', 'WMI', 'PRI', 'PSI', 'FSIQ']"
   ]
  },
  {
   "cell_type": "code",
   "execution_count": 41,
   "metadata": {},
   "outputs": [
    {
     "name": "stdout",
     "output_type": "stream",
     "text": [
      "Number of effective comparisons: 4.801674604731675\n",
      "Critical value of 0.050 becomes 0.010626 after corrections\n",
      "Shen 0.010625522217738936\n"
     ]
    }
   ],
   "source": [
    "outcomes1 = ['post phys fci shen eff', 'post phys fci shen mod', \n",
    "             'post ctrl fci shen eff',  'post ctrl fci shen mod']\n",
    "outcomes3 = ['post phys retr shen eff', 'post phys retr shen mod',\n",
    "            'post gen retr shen eff', 'post gen retr shen mod']\n",
    "\n",
    "all_out = outcomes1 + outcomes3\n",
    "\n",
    "all_mc_alpha,_ = liji_sidak_mc(all_df[all_out], 0.05)\n",
    "print('Shen', all_mc_alpha)"
   ]
  },
  {
   "cell_type": "code",
   "execution_count": 43,
   "metadata": {},
   "outputs": [
    {
     "name": "stdout",
     "output_type": "stream",
     "text": [
      "Number of effective comparisons: 4.8091296111251784\n",
      "Critical value of 0.050 becomes 0.010609 after corrections\n",
      "Craddock 0.01060913845294964\n"
     ]
    }
   ],
   "source": [
    "outcomes1 = ['post phys fci crad eff', 'post phys fci crad mod', \n",
    "             'post ctrl fci crad eff',  'post ctrl fci crad mod']\n",
    "outcomes3 = ['post phys retr crad eff', 'post phys retr crad mod',\n",
    "            'post gen retr crad eff', 'post gen retr crad mod']\n",
    "\n",
    "all_out = outcomes1 +  outcomes3\n",
    "\n",
    "#\n",
    "all_mc_alpha,_ = liji_sidak_mc(all_df[all_out], 0.05)\n",
    "print('Craddock', all_mc_alpha)"
   ]
  },
  {
   "cell_type": "markdown",
   "metadata": {},
   "source": [
    "## Rest and brain organization!\n",
    "SKIP"
   ]
  },
  {
   "cell_type": "markdown",
   "metadata": {},
   "source": [
    "outcomes = ['pre rest shen eff', 'post rest shen eff', 'pre rest shen cpl', \n",
    "            'post rest shen cpl', 'pre rest shen mod', 'post rest shen mod', \n",
    "            'delta rest shen mod', 'delta rest shen cpl', 'delta rest shen eff']"
   ]
  },
  {
   "cell_type": "markdown",
   "metadata": {},
   "source": [
    "outcomes = ['pre rest crad eff', 'post rest crad eff', 'pre rest crad cpl', \n",
    "            'post rest crad cpl', 'pre rest crad mod', 'post rest crad mod', \n",
    "            'delta rest crad mod', 'delta rest crad cpl', 'delta rest crad eff']"
   ]
  },
  {
   "cell_type": "markdown",
   "metadata": {},
   "source": [
    "mc_alpha,_ = liji_sidak_mc(all_df[outcomes], 0.05)"
   ]
  },
  {
   "cell_type": "markdown",
   "metadata": {},
   "source": [
    "index = pd.MultiIndex.from_product((sessions, iqs))\n",
    "brainXIQ_df = pd.DataFrame(index=index, columns=['F-statistic', 'Prob (F-statistic)', \n",
    "                                                     'AIC', 'BIC', 'IQ_pval', 'IQXClass_pval'])\n",
    "\n",
    "all_outcome_mc,_ = liji_sidak_mc(all_df[outcomes], 0.05)\n",
    "for i in np.arange(0,len(outcomes)):\n",
    "    for iq_meas in iqs:\n",
    "        y = all_df[outcomes[i]]\n",
    "        x = all_df[['{0}1'.format(iq_meas), \n",
    "                    '{0}1XSex'.format(iq_meas), \n",
    "                    '{0}1XClass'.format(iq_meas),\n",
    "                    '{0}1XClassXSex'.format(iq_meas), \n",
    "                    '{0} fd'.format(outcomes[i][:-9])] + covariates]\n",
    "\n",
    "        x = sm.add_constant(x)\n",
    "        reg1 = sm.OLS(endog=y, \n",
    "                      exog=x, \n",
    "                      missing='drop')\n",
    "        if len(x.dropna()) == len(y.dropna()):\n",
    "            linreg = Lasso()\n",
    "            linreg.fit(x.dropna(),y.dropna())\n",
    "        brain_on_pre_iq = reg1.fit()\n",
    "        brainXIQ_df.at[('pre', iq_meas), 'F-statistic'] = brain_on_pre_iq.fvalue\n",
    "        brainXIQ_df.at[('pre', iq_meas), 'Prob (F-statistic)'] = brain_on_pre_iq.f_pvalue\n",
    "        brainXIQ_df.at[('pre', iq_meas), 'AIC'] = brain_on_pre_iq.aic\n",
    "        brainXIQ_df.at[('pre', iq_meas), 'BIC'] = brain_on_pre_iq.bic\n",
    "        brainXIQ_df.at[('pre', iq_meas), '{0}_IQ_pval'.format(iq_meas)] = brain_on_pre_iq.pvalues[1]\n",
    "        brainXIQ_df.at[('pre', iq_meas), '{0}_IQXClass_pval'.format(iq_meas)] = brain_on_pre_iq.pvalues[2]\n",
    "        if brain_on_pre_iq.f_pvalue < all_mc_alpha:\n",
    "            print(brain_on_pre_iq.summary())\n",
    "        #print('Course grade regressed on pre IQ, female students\\n', grade_on_iq.summary())\n",
    "        x = all_df[['{0}2'.format(iq_meas), \n",
    "                    '{0}2XSex'.format(iq_meas), \n",
    "                    '{0}2XClass'.format(iq_meas),\n",
    "                    '{0}2XClassXSex'.format(iq_meas), \n",
    "                    '{0} fd'.format(outcomes[i][:-9])] + covariates]\n",
    "\n",
    "        x = sm.add_constant(x)\n",
    "        reg1 = sm.OLS(endog=y, \n",
    "                      exog=x, \n",
    "                      missing='drop')\n",
    "        brain_on_post_iq = reg1.fit()\n",
    "        brainXIQ_df.at[('post', iq_meas), 'F-statistic'] = brain_on_post_iq.fvalue\n",
    "        brainXIQ_df.at[('post', iq_meas), 'Prob (F-statistic)'] = brain_on_post_iq.f_pvalue\n",
    "        brainXIQ_df.at[('post', iq_meas), 'AIC'] = brain_on_post_iq.aic\n",
    "        brainXIQ_df.at[('post', iq_meas), 'BIC'] = brain_on_post_iq.bic\n",
    "        brainXIQ_df.at[('post', iq_meas), '{0}_IQ_pval'.format(outcomes[i])] = brain_on_post_iq.pvalues[1]\n",
    "        brainXIQ_df.at[('post', iq_meas), '{0}_IQXClass_pval'.format(outcomes[i])] = brain_on_post_iq.pvalues[2]\n",
    "        if brain_on_post_iq.f_pvalue < all_mc_alpha:\n",
    "            print(brain_on_post_iq.summary())\n",
    "        #print('Course grade regressed on post IQ, female students\\n', grade_on_iq.summary())\n",
    "        x = all_df[['delta{0}'.format(iq_meas), \n",
    "                    'delta{0}XSex'.format(iq_meas), \n",
    "                    'delta{0}XClass'.format(iq_meas), \n",
    "                    'delta{0}XClassXSex'.format(iq_meas), \n",
    "                    '{0} fd'.format(outcomes[i][:-9])] + covariates]\n",
    "\n",
    "        x = sm.add_constant(x)\n",
    "        reg1 = sm.OLS(endog=y, \n",
    "                      exog=x, \n",
    "                      missing='drop')\n",
    "        brain_on_delta_iq = reg1.fit()\n",
    "        brainXIQ_df.at[('delta', iq_meas), 'F-statistic'] = brain_on_delta_iq.fvalue\n",
    "        brainXIQ_df.at[('delta', iq_meas), 'Prob (F-statistic)'] = brain_on_delta_iq.f_pvalue\n",
    "        brainXIQ_df.at[('delta', iq_meas), 'AIC'] = brain_on_delta_iq.aic\n",
    "        brainXIQ_df.at[('delta', iq_meas), 'BIC'] = brain_on_delta_iq.bic\n",
    "        brainXIQ_df.at[('delta', iq_meas), '{0}_IQ_pval'.format(outcomes[i])] = brain_on_delta_iq.pvalues[1]\n",
    "        brainXIQ_df.at[('delta', iq_meas), '{0}_IQXClass_pval'.format(outcomes[i])] = brain_on_delta_iq.pvalues[2]\n",
    "        if brain_on_delta_iq.f_pvalue < all_mc_alpha:\n",
    "            print(brain_on_delta_iq.summary())\n",
    "    brainXIQ_df.to_csv(join(data_dir, 'rescored', 'iqX{0}_all.csv'.format(outcomes[i])))"
   ]
  },
  {
   "cell_type": "markdown",
   "metadata": {},
   "source": [
    "if len(x.dropna()) == len(y.dropna()):\n",
    "    linreg = Lasso(alpha=0.5)\n",
    "    q = linreg.fit(x.dropna(),y.dropna())"
   ]
  },
  {
   "cell_type": "markdown",
   "metadata": {},
   "source": [
    "q.score(x.dropna(),y.dropna())"
   ]
  },
  {
   "cell_type": "markdown",
   "metadata": {},
   "source": [
    "## Retrieval task brain organization and IQ!"
   ]
  },
  {
   "cell_type": "code",
   "execution_count": 47,
   "metadata": {},
   "outputs": [],
   "source": [
    "outcomes = ['post phys retr crad eff', 'post phys retr crad mod',\n",
    "            'post gen retr crad eff', 'post gen retr crad mod']"
   ]
  },
  {
   "cell_type": "code",
   "execution_count": 51,
   "metadata": {},
   "outputs": [],
   "source": [
    "outcomes = ['post phys retr shen eff', 'post phys retr shen mod',\n",
    "            'post gen retr shen eff', 'post gen retr shen mod']"
   ]
  },
  {
   "cell_type": "code",
   "execution_count": 52,
   "metadata": {},
   "outputs": [
    {
     "name": "stdout",
     "output_type": "stream",
     "text": [
      "Number of effective comparisons: 2.1731986120319884\n",
      "Critical value of 0.050 becomes 0.023326 after corrections\n",
      "                              OLS Regression Results                              \n",
      "==================================================================================\n",
      "Dep. Variable:     post gen retr shen eff   R-squared:                       0.265\n",
      "Model:                                OLS   Adj. R-squared:                  0.169\n",
      "Method:                     Least Squares   F-statistic:                     2.779\n",
      "Date:                    Mon, 20 Apr 2020   Prob (F-statistic):            0.00394\n",
      "Time:                            16:10:22   Log-Likelihood:                 406.13\n",
      "No. Observations:                      97   AIC:                            -788.3\n",
      "Df Residuals:                          85   BIC:                            -757.4\n",
      "Df Model:                              11                                         \n",
      "Covariance Type:                nonrobust                                         \n",
      "========================================================================================\n",
      "                           coef    std err          t      P>|t|      [0.025      0.975]\n",
      "----------------------------------------------------------------------------------------\n",
      "const                    0.0114      0.011      1.052      0.296      -0.010       0.033\n",
      "PRI2                     0.0004      0.000      2.827      0.006       0.000       0.001\n",
      "PRI2XSex                -0.0001      0.000     -1.015      0.313      -0.000       0.000\n",
      "PRI2XClass              -0.0002   8.97e-05     -2.548      0.013      -0.000   -5.02e-05\n",
      "PRI2XClassXSex        7.242e-05   6.65e-05      1.089      0.279   -5.98e-05       0.000\n",
      "post gen retr fd         0.0755      0.020      3.806      0.000       0.036       0.115\n",
      "Age                   2.977e-05      0.000      0.083      0.934      -0.001       0.001\n",
      "Mod                      0.0283      0.011      2.581      0.012       0.006       0.050\n",
      "Strt.Level             5.85e-05   6.28e-05      0.931      0.354   -6.64e-05       0.000\n",
      "normalized head size     0.0004      0.001      0.743      0.459      -0.001       0.002\n",
      "SexXClass               -0.0094      0.007     -1.302      0.196      -0.024       0.005\n",
      "F                        0.0142      0.012      1.214      0.228      -0.009       0.037\n",
      "==============================================================================\n",
      "Omnibus:                        0.246   Durbin-Watson:                   1.990\n",
      "Prob(Omnibus):                  0.884   Jarque-Bera (JB):                0.166\n",
      "Skew:                           0.100   Prob(JB):                        0.920\n",
      "Kurtosis:                       2.967   Cond. No.                     1.82e+04\n",
      "==============================================================================\n",
      "\n",
      "Warnings:\n",
      "[1] Standard Errors assume that the covariance matrix of the errors is correctly specified.\n",
      "[2] The condition number is large, 1.82e+04. This might indicate that there are\n",
      "strong multicollinearity or other numerical problems.\n",
      "                              OLS Regression Results                              \n",
      "==================================================================================\n",
      "Dep. Variable:     post gen retr shen mod   R-squared:                       0.259\n",
      "Model:                                OLS   Adj. R-squared:                  0.163\n",
      "Method:                     Least Squares   F-statistic:                     2.696\n",
      "Date:                    Mon, 20 Apr 2020   Prob (F-statistic):            0.00504\n",
      "Time:                            16:10:23   Log-Likelihood:                 426.91\n",
      "No. Observations:                      97   AIC:                            -829.8\n",
      "Df Residuals:                          85   BIC:                            -798.9\n",
      "Df Model:                              11                                         \n",
      "Covariance Type:                nonrobust                                         \n",
      "========================================================================================\n",
      "                           coef    std err          t      P>|t|      [0.025      0.975]\n",
      "----------------------------------------------------------------------------------------\n",
      "const                    0.0424      0.009      4.867      0.000       0.025       0.060\n",
      "PRI2                    -0.0004      0.000     -3.206      0.002      -0.001      -0.000\n",
      "PRI2XSex              9.404e-05   8.73e-05      1.077      0.284   -7.95e-05       0.000\n",
      "PRI2XClass               0.0002   7.24e-05      2.985      0.004    7.21e-05       0.000\n",
      "PRI2XClassXSex       -6.311e-05   5.37e-05     -1.176      0.243      -0.000    4.36e-05\n",
      "post gen retr fd        -0.0449      0.016     -2.809      0.006      -0.077      -0.013\n",
      "Age                     -0.0004      0.000     -1.394      0.167      -0.001       0.000\n",
      "Mod                     -0.0255      0.009     -2.890      0.005      -0.043      -0.008\n",
      "Strt.Level            -5.13e-05   5.07e-05     -1.012      0.314      -0.000    4.95e-05\n",
      "normalized head size     0.0004      0.000      0.922      0.359      -0.000       0.001\n",
      "SexXClass                0.0075      0.006      1.290      0.201      -0.004       0.019\n",
      "F                       -0.0097      0.009     -1.027      0.307      -0.028       0.009\n",
      "==============================================================================\n",
      "Omnibus:                        0.507   Durbin-Watson:                   2.293\n",
      "Prob(Omnibus):                  0.776   Jarque-Bera (JB):                0.643\n",
      "Skew:                           0.147   Prob(JB):                        0.725\n",
      "Kurtosis:                       2.730   Cond. No.                     1.82e+04\n",
      "==============================================================================\n",
      "\n",
      "Warnings:\n",
      "[1] Standard Errors assume that the covariance matrix of the errors is correctly specified.\n",
      "[2] The condition number is large, 1.82e+04. This might indicate that there are\n",
      "strong multicollinearity or other numerical problems.\n"
     ]
    }
   ],
   "source": [
    "index = pd.MultiIndex.from_product((sessions, iqs))\n",
    "brainXIQ_df = pd.DataFrame(index=index, columns=['F-statistic', 'Prob (F-statistic)', \n",
    "                                                     'AIC', 'BIC', 'IQ_pval', 'IQXClass_pval'])\n",
    "all_outcome_mc,_ = liji_sidak_mc(all_df[outcomes], 0.05)\n",
    "for i in np.arange(0,len(outcomes)):\n",
    "    for iq_meas in iqs:\n",
    "        y = all_df[outcomes[i]]\n",
    "        if outcomes[0][:-9][-4:] != 'rest':\n",
    "            x = all_df[['{0}1'.format(iq_meas), \n",
    "                        '{0}1XSex'.format(iq_meas), \n",
    "                        '{0}1XClass'.format(iq_meas),\n",
    "                        '{0}1XClassXSex'.format(iq_meas), \n",
    "                        '{0} fd'.format(outcomes[i][:-9])] + covariates]\n",
    "        else:\n",
    "            x = all_df[['{0}1'.format(iq_meas), \n",
    "                        '{0}1XSex'.format(iq_meas), \n",
    "                        '{0}1XClass'.format(iq_meas),\n",
    "                        '{0}1XClassXSex'.format(iq_meas)] + covariates]\n",
    "            \n",
    "        x = sm.add_constant(x)\n",
    "        reg1 = sm.OLS(endog=y, \n",
    "                      exog=x, \n",
    "                      missing='drop')\n",
    "        brain_on_pre_iq = reg1.fit()\n",
    "        brainXIQ_df.at[('pre', iq_meas), 'F-statistic'] = brain_on_pre_iq.fvalue\n",
    "        brainXIQ_df.at[('pre', iq_meas), 'Prob (F-statistic)'] = brain_on_pre_iq.f_pvalue\n",
    "        brainXIQ_df.at[('pre', iq_meas), 'AIC'] = brain_on_pre_iq.aic\n",
    "        brainXIQ_df.at[('pre', iq_meas), 'BIC'] = brain_on_pre_iq.bic\n",
    "        brainXIQ_df.at[('pre', iq_meas), '{0}_IQ_pval'.format(iq_meas)] = brain_on_pre_iq.pvalues[1]\n",
    "        brainXIQ_df.at[('pre', iq_meas), '{0}_IQXClass_pval'.format(iq_meas)] = brain_on_pre_iq.pvalues[2]\n",
    "        if brain_on_pre_iq.f_pvalue < all_mc_alpha and brain_on_pre_iq.pvalues['{0}1'.format(iq_meas)] < 0.05:\n",
    "            print(brain_on_pre_iq.summary())\n",
    "        #print('Course grade regressed on pre IQ, female students\\n', grade_on_iq.summary())\n",
    "        if outcomes[0][:-9][-4:] != 'rest':\n",
    "            x = all_df[['{0}2'.format(iq_meas), \n",
    "                        '{0}2XSex'.format(iq_meas), \n",
    "                        '{0}2XClass'.format(iq_meas),\n",
    "                        '{0}2XClassXSex'.format(iq_meas), \n",
    "                        '{0} fd'.format(outcomes[i][:-9])] + covariates]\n",
    "        else:\n",
    "            x = all_df[['{0}2'.format(iq_meas), \n",
    "                        '{0}2XSex'.format(iq_meas), \n",
    "                        '{0}2XClass'.format(iq_meas),\n",
    "                        '{0}2XClassXSex'.format(iq_meas)] + covariates]\n",
    "        x = sm.add_constant(x)\n",
    "        reg1 = sm.OLS(endog=y, \n",
    "                      exog=x, \n",
    "                      missing='drop')\n",
    "        brain_on_post_iq = reg1.fit()\n",
    "        brainXIQ_df.at[('post', iq_meas), 'F-statistic'] = brain_on_post_iq.fvalue\n",
    "        brainXIQ_df.at[('post', iq_meas), 'Prob (F-statistic)'] = brain_on_post_iq.f_pvalue\n",
    "        brainXIQ_df.at[('post', iq_meas), 'AIC'] = brain_on_post_iq.aic\n",
    "        brainXIQ_df.at[('post', iq_meas), 'BIC'] = brain_on_post_iq.bic\n",
    "        brainXIQ_df.at[('post', iq_meas), '{0}_IQ_pval'.format(outcomes[i])] = brain_on_post_iq.pvalues[1]\n",
    "        brainXIQ_df.at[('post', iq_meas), '{0}_IQXClass_pval'.format(outcomes[i])] = brain_on_post_iq.pvalues[2]\n",
    "        if brain_on_post_iq.f_pvalue < all_mc_alpha and brain_on_post_iq.pvalues['{0}2'.format(iq_meas)] < 0.05:\n",
    "            print(brain_on_post_iq.summary())\n",
    "        #print('Course grade regressed on post IQ, female students\\n', grade_on_iq.summary())\n",
    "        if outcomes[0][:-9][-4:] != 'rest':\n",
    "            x = all_df[['delta{0}'.format(iq_meas), \n",
    "                        'delta{0}XSex'.format(iq_meas), \n",
    "                        'delta{0}XClass'.format(iq_meas), \n",
    "                        'delta{0}XClassXSex'.format(iq_meas), \n",
    "                        '{0} fd'.format(outcomes[i][:-9])] + covariates]\n",
    "        else:\n",
    "            x = all_df[['delta{0}'.format(iq_meas), \n",
    "                        'delta{0}XSex'.format(iq_meas), \n",
    "                        'delta{0}XClass'.format(iq_meas),\n",
    "                        'delta{0}XClassXSex'.format(iq_meas)] + covariates]\n",
    "        x = sm.add_constant(x)\n",
    "        reg1 = sm.OLS(endog=y, \n",
    "                      exog=x, \n",
    "                      missing='drop')\n",
    "        brain_on_delta_iq = reg1.fit()\n",
    "        brainXIQ_df.at[('delta', iq_meas), 'F-statistic'] = brain_on_delta_iq.fvalue\n",
    "        brainXIQ_df.at[('delta', iq_meas), 'Prob (F-statistic)'] = brain_on_delta_iq.f_pvalue\n",
    "        brainXIQ_df.at[('delta', iq_meas), 'AIC'] = brain_on_delta_iq.aic\n",
    "        brainXIQ_df.at[('delta', iq_meas), 'BIC'] = brain_on_delta_iq.bic\n",
    "        brainXIQ_df.at[('delta', iq_meas), '{0}_IQ_pval'.format(outcomes[i])] = brain_on_delta_iq.pvalues[1]\n",
    "        brainXIQ_df.at[('delta', iq_meas), '{0}_IQXClass_pval'.format(outcomes[i])] = brain_on_delta_iq.pvalues[2]\n",
    "        if brain_on_delta_iq.f_pvalue < all_mc_alpha and brain_on_delta_iq.pvalues['delta{0}'.format(iq_meas)] < 0.05:\n",
    "            print(brain_on_delta_iq.summary())\n",
    "    brainXIQ_df.to_csv(join(data_dir, 'rescored', 'iqX{0}_all.csv'.format(outcomes[i])))"
   ]
  },
  {
   "cell_type": "markdown",
   "metadata": {},
   "source": [
    "## Reasoning task and IQ!\n",
    "SKIP"
   ]
  },
  {
   "cell_type": "markdown",
   "metadata": {},
   "source": [
    "outcomes = ['pre infr reas shen eff', 'post infr reas shen eff', 'pre infr reas shen cpl', \n",
    "            'post infr reas shen cpl', 'pre infr reas shen mod', 'post infr reas shen mod',\n",
    "            'pre base reas shen eff', 'post base reas shen eff', 'pre base reas shen cpl', \n",
    "            'post base reas shen cpl', 'pre base reas shen mod', 'post base reas shen mod',\n",
    "            'delta infr reas shen mod', 'delta infr reas shen cpl', 'delta infr reas shen eff',\n",
    "            'delta base reas shen mod', 'delta base reas shen cpl', 'delta base reas shen eff']"
   ]
  },
  {
   "cell_type": "markdown",
   "metadata": {},
   "source": [
    "outcomes = ['pre infr reas crad eff', 'post infr reas crad eff', 'pre infr reas crad cpl', \n",
    "            'post infr reas crad cpl', 'pre infr reas crad mod', 'post infr reas crad mod',\n",
    "            'pre base reas crad eff', 'post base reas crad eff', 'pre base reas crad cpl', \n",
    "            'post base reas crad cpl', 'pre base reas crad mod', 'post base reas crad mod',\n",
    "            'delta infr reas crad mod', 'delta infr reas crad cpl', 'delta infr reas crad eff',\n",
    "            'delta base reas crad mod', 'delta base reas crad cpl', 'delta base reas crad eff']"
   ]
  },
  {
   "cell_type": "markdown",
   "metadata": {},
   "source": [
    "index = pd.MultiIndex.from_product((sessions, iqs))\n",
    "brainXIQ_df = pd.DataFrame(index=index, columns=['F-statistic', 'Prob (F-statistic)', \n",
    "                                                     'AIC', 'BIC', 'IQ_pval', 'IQXClass_pval'])\n",
    "all_outcome_mc,_ = liji_sidak_mc(all_df[outcomes], 0.05)\n",
    "for i in np.arange(0,len(outcomes)):\n",
    "    for iq_meas in iqs:\n",
    "        y = all_df[outcomes[i]]\n",
    "        if outcomes[0][:-9][-4:] != 'rest':\n",
    "            x = all_df[['{0}1'.format(iq_meas), \n",
    "                        '{0}1XSex'.format(iq_meas), \n",
    "                        '{0}1XClass'.format(iq_meas),\n",
    "                        '{0}1XClassXSex'.format(iq_meas), \n",
    "                        '{0} fd'.format(outcomes[i][:-9])] + covariates]\n",
    "        else:\n",
    "            x = all_df[['{0}1'.format(iq_meas), \n",
    "                        '{0}1XSex'.format(iq_meas), \n",
    "                        '{0}1XClass'.format(iq_meas),\n",
    "                        '{0}1XClassXSex'.format(iq_meas)] + covariates]\n",
    "            \n",
    "        x = sm.add_constant(x)\n",
    "        reg1 = sm.OLS(endog=y, \n",
    "                      exog=x, \n",
    "                      missing='drop')\n",
    "        brain_on_pre_iq = reg1.fit()\n",
    "        brainXIQ_df.at[('pre', iq_meas), 'F-statistic'] = brain_on_pre_iq.fvalue\n",
    "        brainXIQ_df.at[('pre', iq_meas), 'Prob (F-statistic)'] = brain_on_pre_iq.f_pvalue\n",
    "        brainXIQ_df.at[('pre', iq_meas), 'AIC'] = brain_on_pre_iq.aic\n",
    "        brainXIQ_df.at[('pre', iq_meas), 'BIC'] = brain_on_pre_iq.bic\n",
    "        brainXIQ_df.at[('pre', iq_meas), '{0}_IQ_pval'.format(iq_meas)] = brain_on_pre_iq.pvalues[1]\n",
    "        brainXIQ_df.at[('pre', iq_meas), '{0}_IQXClass_pval'.format(iq_meas)] = brain_on_pre_iq.pvalues[2]\n",
    "        if brain_on_pre_iq.f_pvalue < all_mc_alpha and brain_on_pre_iq.pvalues['{0}1'.format(iq_meas)] < 0.05:\n",
    "            print(brain_on_pre_iq.summary())\n",
    "        #print('Course grade regressed on pre IQ, female students\\n', grade_on_iq.summary())\n",
    "        if outcomes[0][:-9][-4:] != 'rest':\n",
    "            x = all_df[['{0}2'.format(iq_meas), \n",
    "                        '{0}2XSex'.format(iq_meas), \n",
    "                        '{0}2XClass'.format(iq_meas),\n",
    "                        '{0}2XClassXSex'.format(iq_meas), \n",
    "                        '{0} fd'.format(outcomes[i][:-9])] + covariates]\n",
    "        else:\n",
    "            x = all_df[['{0}2'.format(iq_meas), \n",
    "                        '{0}2XSex'.format(iq_meas), \n",
    "                        '{0}2XClass'.format(iq_meas),\n",
    "                        '{0}2XClassXSex'.format(iq_meas)] + covariates]\n",
    "        x = sm.add_constant(x)\n",
    "        reg1 = sm.OLS(endog=y, \n",
    "                      exog=x, \n",
    "                      missing='drop')\n",
    "        brain_on_post_iq = reg1.fit()\n",
    "        brainXIQ_df.at[('post', iq_meas), 'F-statistic'] = brain_on_post_iq.fvalue\n",
    "        brainXIQ_df.at[('post', iq_meas), 'Prob (F-statistic)'] = brain_on_post_iq.f_pvalue\n",
    "        brainXIQ_df.at[('post', iq_meas), 'AIC'] = brain_on_post_iq.aic\n",
    "        brainXIQ_df.at[('post', iq_meas), 'BIC'] = brain_on_post_iq.bic\n",
    "        brainXIQ_df.at[('post', iq_meas), '{0}_IQ_pval'.format(outcomes[i])] = brain_on_post_iq.pvalues[1]\n",
    "        brainXIQ_df.at[('post', iq_meas), '{0}_IQXClass_pval'.format(outcomes[i])] = brain_on_post_iq.pvalues[2]\n",
    "        if brain_on_post_iq.f_pvalue < all_mc_alpha and brain_on_post_iq.pvalues['{0}2'.format(iq_meas)] < 0.05:\n",
    "            print(brain_on_post_iq.summary())\n",
    "        #print('Course grade regressed on post IQ, female students\\n', grade_on_iq.summary())\n",
    "\n",
    "        if outcomes[0][:-9][-4:] != 'rest':\n",
    "            x = all_df[['delta{0}'.format(iq_meas), \n",
    "                        'delta{0}XSex'.format(iq_meas), \n",
    "                        'delta{0}XClass'.format(iq_meas), \n",
    "                        'delta{0}XClassXSex'.format(iq_meas), \n",
    "                        '{0} fd'.format(outcomes[i][:-9])] + covariates]\n",
    "        else:\n",
    "            x = all_df[['delta{0}'.format(iq_meas), \n",
    "                        'delta{0}XSex'.format(iq_meas), \n",
    "                        'delta{0}XClass'.format(iq_meas),\n",
    "                        'delta{0}XClassXSex'.format(iq_meas)] + covariates]\n",
    "        x = sm.add_constant(x)\n",
    "        reg1 = sm.OLS(endog=y, \n",
    "                      exog=x, \n",
    "                      missing='drop')\n",
    "        brain_on_delta_iq = reg1.fit()\n",
    "        brainXIQ_df.at[('delta', iq_meas), 'F-statistic'] = brain_on_delta_iq.fvalue\n",
    "        brainXIQ_df.at[('delta', iq_meas), 'Prob (F-statistic)'] = brain_on_delta_iq.f_pvalue\n",
    "        brainXIQ_df.at[('delta', iq_meas), 'AIC'] = brain_on_delta_iq.aic\n",
    "        brainXIQ_df.at[('delta', iq_meas), 'BIC'] = brain_on_delta_iq.bic\n",
    "        brainXIQ_df.at[('delta', iq_meas), '{0}_IQ_pval'.format(outcomes[i])] = brain_on_delta_iq.pvalues[1]\n",
    "        brainXIQ_df.at[('delta', iq_meas), '{0}_IQXClass_pval'.format(outcomes[i])] = brain_on_delta_iq.pvalues[2]\n",
    "        if brain_on_delta_iq.f_pvalue < all_mc_alpha and brain_on_delta_iq.pvalues['delta{0}'.format(iq_meas)] < 0.05:\n",
    "            print(brain_on_delta_iq.summary())\n",
    "    brainXIQ_df.to_csv(join(data_dir, 'rescored', 'iqX{0}_all.csv'.format(outcome)))"
   ]
  },
  {
   "cell_type": "markdown",
   "metadata": {},
   "source": [
    "## FCI Task"
   ]
  },
  {
   "cell_type": "code",
   "execution_count": 53,
   "metadata": {},
   "outputs": [],
   "source": [
    "outcomes = ['post phys fci shen eff', 'post phys fci shen mod', \n",
    "             'post ctrl fci shen eff',  'post ctrl fci shen mod']"
   ]
  },
  {
   "cell_type": "code",
   "execution_count": 60,
   "metadata": {},
   "outputs": [],
   "source": [
    "outcomes = ['post phys fci crad eff', 'post phys fci crad mod', \n",
    "             'post ctrl fci crad eff',  'post ctrl fci crad mod']"
   ]
  },
  {
   "cell_type": "code",
   "execution_count": 61,
   "metadata": {},
   "outputs": [
    {
     "name": "stdout",
     "output_type": "stream",
     "text": [
      "Number of effective comparisons: 2.669123185886257\n",
      "Critical value of 0.050 becomes 0.019034 after corrections\n",
      "                              OLS Regression Results                              \n",
      "==================================================================================\n",
      "Dep. Variable:     post ctrl fci crad eff   R-squared:                       0.260\n",
      "Model:                                OLS   Adj. R-squared:                  0.165\n",
      "Method:                     Least Squares   F-statistic:                     2.720\n",
      "Date:                    Mon, 20 Apr 2020   Prob (F-statistic):            0.00469\n",
      "Time:                            16:14:58   Log-Likelihood:                 402.91\n",
      "No. Observations:                      97   AIC:                            -781.8\n",
      "Df Residuals:                          85   BIC:                            -750.9\n",
      "Df Model:                              11                                         \n",
      "Covariance Type:                nonrobust                                         \n",
      "========================================================================================\n",
      "                           coef    std err          t      P>|t|      [0.025      0.975]\n",
      "----------------------------------------------------------------------------------------\n",
      "const                    0.0118      0.011      1.050      0.297      -0.011       0.034\n",
      "PRI2                     0.0005      0.000      3.232      0.002       0.000       0.001\n",
      "PRI2XSex                -0.0001      0.000     -0.997      0.321      -0.000       0.000\n",
      "PRI2XClass              -0.0003   9.33e-05     -2.851      0.005      -0.000   -8.05e-05\n",
      "PRI2XClassXSex        8.013e-05   6.93e-05      1.157      0.251   -5.76e-05       0.000\n",
      "post ctrl fci fd         0.0650      0.019      3.419      0.001       0.027       0.103\n",
      "Age                   -8.89e-05      0.000     -0.239      0.812      -0.001       0.001\n",
      "Mod                      0.0315      0.011      2.765      0.007       0.009       0.054\n",
      "Strt.Level            6.352e-05   6.49e-05      0.978      0.331   -6.56e-05       0.000\n",
      "normalized head size     0.0004      0.001      0.686      0.495      -0.001       0.002\n",
      "SexXClass               -0.0094      0.008     -1.254      0.213      -0.024       0.006\n",
      "F                        0.0131      0.012      1.077      0.285      -0.011       0.037\n",
      "==============================================================================\n",
      "Omnibus:                        6.992   Durbin-Watson:                   1.982\n",
      "Prob(Omnibus):                  0.030   Jarque-Bera (JB):                6.439\n",
      "Skew:                           0.587   Prob(JB):                       0.0400\n",
      "Kurtosis:                       3.461   Cond. No.                     1.76e+04\n",
      "==============================================================================\n",
      "\n",
      "Warnings:\n",
      "[1] Standard Errors assume that the covariance matrix of the errors is correctly specified.\n",
      "[2] The condition number is large, 1.76e+04. This might indicate that there are\n",
      "strong multicollinearity or other numerical problems.\n",
      "                              OLS Regression Results                              \n",
      "==================================================================================\n",
      "Dep. Variable:     post ctrl fci crad mod   R-squared:                       0.338\n",
      "Model:                                OLS   Adj. R-squared:                  0.253\n",
      "Method:                     Least Squares   F-statistic:                     3.952\n",
      "Date:                    Mon, 20 Apr 2020   Prob (F-statistic):           0.000121\n",
      "Time:                            16:14:58   Log-Likelihood:                 422.23\n",
      "No. Observations:                      97   AIC:                            -820.5\n",
      "Df Residuals:                          85   BIC:                            -789.6\n",
      "Df Model:                              11                                         \n",
      "Covariance Type:                nonrobust                                         \n",
      "========================================================================================\n",
      "                           coef    std err          t      P>|t|      [0.025      0.975]\n",
      "----------------------------------------------------------------------------------------\n",
      "const                    0.0453      0.009      4.898      0.000       0.027       0.064\n",
      "PRI2                    -0.0004      0.000     -3.161      0.002      -0.001      -0.000\n",
      "PRI2XSex                 0.0001   9.21e-05      1.570      0.120   -3.85e-05       0.000\n",
      "PRI2XClass               0.0002   7.64e-05      2.421      0.018     3.3e-05       0.000\n",
      "PRI2XClassXSex       -6.596e-05   5.68e-05     -1.162      0.248      -0.000    4.69e-05\n",
      "post ctrl fci fd        -0.0623      0.016     -3.999      0.000      -0.093      -0.031\n",
      "Age                     -0.0001      0.000     -0.344      0.732      -0.001       0.001\n",
      "Mod                     -0.0189      0.009     -2.019      0.047      -0.037      -0.000\n",
      "Strt.Level              -0.0002   5.32e-05     -3.035      0.003      -0.000   -5.57e-05\n",
      "normalized head size    -0.0002      0.000     -0.445      0.658      -0.001       0.001\n",
      "SexXClass                0.0053      0.006      0.859      0.393      -0.007       0.018\n",
      "F                       -0.0130      0.010     -1.300      0.197      -0.033       0.007\n",
      "==============================================================================\n",
      "Omnibus:                        0.383   Durbin-Watson:                   2.272\n",
      "Prob(Omnibus):                  0.826   Jarque-Bera (JB):                0.252\n",
      "Skew:                           0.125   Prob(JB):                        0.882\n",
      "Kurtosis:                       2.995   Cond. No.                     1.76e+04\n",
      "==============================================================================\n",
      "\n",
      "Warnings:\n",
      "[1] Standard Errors assume that the covariance matrix of the errors is correctly specified.\n",
      "[2] The condition number is large, 1.76e+04. This might indicate that there are\n",
      "strong multicollinearity or other numerical problems.\n"
     ]
    }
   ],
   "source": [
    "index = pd.MultiIndex.from_product((sessions, iqs))\n",
    "brainXIQ_df = pd.DataFrame(index=index, columns=['F-statistic', 'Prob (F-statistic)', \n",
    "                                                     'AIC', 'BIC', 'IQ_pval', 'IQXClass_pval'])\n",
    "all_outcome_mc,_ = liji_sidak_mc(all_df[outcomes], 0.05)\n",
    "for i in np.arange(0,len(outcomes)):\n",
    "    for iq_meas in iqs:\n",
    "        y = all_df[outcomes[i]]\n",
    "        if outcomes[0][:-9][-4:] != 'rest':\n",
    "            x = all_df[['{0}2'.format(iq_meas), \n",
    "                        '{0}2XSex'.format(iq_meas), \n",
    "                        '{0}2XClass'.format(iq_meas),\n",
    "                        '{0}2XClassXSex'.format(iq_meas), \n",
    "                        '{0} fd'.format(outcomes[i][:-9])] + covariates]\n",
    "        else:\n",
    "            x = all_df[['{0}2'.format(iq_meas), \n",
    "                        '{0}2XSex'.format(iq_meas), \n",
    "                        '{0}2XClass'.format(iq_meas),\n",
    "                        '{0}2XClassXSex'.format(iq_meas)] + covariates]\n",
    "        x = sm.add_constant(x)\n",
    "        reg1 = sm.OLS(endog=y, \n",
    "                      exog=x, \n",
    "                      missing='drop')\n",
    "        brain_on_post_iq = reg1.fit()\n",
    "        brainXIQ_df.at[('post', iq_meas), 'F-statistic'] = brain_on_post_iq.fvalue\n",
    "        brainXIQ_df.at[('post', iq_meas), 'Prob (F-statistic)'] = brain_on_post_iq.f_pvalue\n",
    "        brainXIQ_df.at[('post', iq_meas), 'AIC'] = brain_on_post_iq.aic\n",
    "        brainXIQ_df.at[('post', iq_meas), 'BIC'] = brain_on_post_iq.bic\n",
    "        brainXIQ_df.at[('post', iq_meas), '{0}_IQ_pval'.format(outcomes[i])] = brain_on_post_iq.pvalues[1]\n",
    "        brainXIQ_df.at[('post', iq_meas), '{0}_IQXClass_pval'.format(outcomes[i])] = brain_on_post_iq.pvalues[2]\n",
    "        if brain_on_post_iq.f_pvalue < all_mc_alpha and brain_on_post_iq.pvalues['{0}2'.format(iq_meas)] < 0.05:\n",
    "            print(brain_on_post_iq.summary())\n",
    "        #print('Course grade regressed on post IQ, female students\\n', grade_on_iq.summary())\n",
    "        \n",
    "        if outcomes[0][:-9][-4:] != 'rest':\n",
    "            x = all_df[['delta{0}'.format(iq_meas), \n",
    "                        'delta{0}XSex'.format(iq_meas), \n",
    "                        'delta{0}XClass'.format(iq_meas), \n",
    "                        'delta{0}XClassXSex'.format(iq_meas), \n",
    "                        '{0} fd'.format(outcomes[i][:-9])] + covariates\n",
    "                      ]\n",
    "        else:\n",
    "            x = all_df[['delta{0}'.format(iq_meas), \n",
    "                        'delta{0}XSex'.format(iq_meas), \n",
    "                        'delta{0}XClass'.format(iq_meas),\n",
    "                        '#delta{0}XClassXSex'.format(iq_meas)] + covariates\n",
    "                      ]\n",
    "        x = sm.add_constant(x)\n",
    "        reg1 = sm.OLS(endog=y, \n",
    "                      exog=x, \n",
    "                      missing='drop')\n",
    "        brain_on_delta_iq = reg1.fit()\n",
    "        brainXIQ_df.at[('delta', iq_meas), 'F-statistic'] = brain_on_delta_iq.fvalue\n",
    "        brainXIQ_df.at[('delta', iq_meas), 'Prob (F-statistic)'] = brain_on_delta_iq.f_pvalue\n",
    "        brainXIQ_df.at[('delta', iq_meas), 'AIC'] = brain_on_delta_iq.aic\n",
    "        brainXIQ_df.at[('delta', iq_meas), 'BIC'] = brain_on_delta_iq.bic\n",
    "        brainXIQ_df.at[('delta', iq_meas), '{0}_IQ_pval'.format(outcomes[i])] = brain_on_delta_iq.pvalues[1]\n",
    "        brainXIQ_df.at[('delta', iq_meas), '{0}_IQXClass_pval'.format(outcomes[i])] = brain_on_delta_iq.pvalues[2]\n",
    "        if brain_on_delta_iq.f_pvalue < all_mc_alpha and brain_on_delta_iq.pvalues['delta{0}'.format(iq_meas)] < 0.05:\n",
    "            print(brain_on_delta_iq.summary())\n",
    "    brainXIQ_df.to_csv(join(data_dir, 'rescored', 'iqX{0}_all.csv'.format(outcomes[i])))"
   ]
  },
  {
   "cell_type": "markdown",
   "metadata": {},
   "source": [
    "# Significant Results\n",
    "## Resting state\n",
    "None.\n",
    "## Retrieval\n",
    "### Physics\n",
    "Post Full Scale IQ & Post Charpath, Efficiency: IQ, Sex, Class, and all interactions.<br>\n",
    "Post Perceptual Reasoning & Post Charpath: IQXSex, IQXSexXClass, SexXClass<br>\n",
    "Delta Perceptual Reasoning & Post Charpath ($\\alpha$ < 0.05): IQXSec, IQXSexXClass, SexXClass.\n",
    "### General\n",
    "Delta Perceptual Reasoning & Post Charpath, Efficiency: IQXSexXClass.\n",
    "\n",
    "## Reasoning\n",
    "### Transitive Inference\n",
    "Delta Perceptual Reasoning & Pre Charpath, Efficiency: Class, SexXClass.<br>\n",
    "Pre Working Memory & Delta Charpath, Efficiency: IQ, Sex, Class, and all interactions.<br>\n",
    "### Baseline\n",
    "Pre Verbal Comprehension & Pre Charpath, Efficiency (not all $\\alpha$ < 0.01): IQ, Sex, Class, and all interactions.<br>\n",
    "Pre Full Scale IQ & Pre Charpath, Efficiency (not all $\\alpha$ < 0.01): IQ, IQxSex, Sex.<br>\n",
    "Pre Full Scale IQ & Post Charpath, Efficiency ($\\alpha$ < 0.05): IQXSex, IQXClass, IQXSexXClass, Sex, Class (eff only), SexXClass (chl only).<br>\n",
    "\n",
    "## Force Concept Inventory\n",
    "### FCI Questions\n",
    "Post Full Scale IQ & Post Efficiency: IQ, Sex, Class, and all the interactions.<br>\n",
    "Post Full Scale IQ & Post Charpath: IQXSex, IQXClass•, IQXSexXClass, Sex•, SexXClass.<br>\n",
    "Delta Full Scale IQ & Post Efficiency: IQ, IQXSex, IQXClass•, IQXSexXClass.<br>\n",
    "Post Pereptual Reasoning & Post Efficiency: IQXSex•, IQXSexXClass, Sex•, SexXClass•.<br>\n",
    "Post Perceptual Reasoning & Post Charpath: IQXSex, IQXClass•, IQXSexXClass, Sex*, SexXClass.<br>\n",
    "Delta Perceptual Reasoning & Post Charpath, Efficiency: IQ, IQXSex, IQXClass, IQXSexXClass.<br>\n",
    "### Baseline Questions\n",
    "Post Full Scale IQ & Post Charpath, Efficiency ($\\alpha$ < 0.05): IQXSex, Sex."
   ]
  },
  {
   "cell_type": "markdown",
   "metadata": {},
   "source": [
    "# time for figures!"
   ]
  },
  {
   "cell_type": "code",
   "execution_count": null,
   "metadata": {},
   "outputs": [],
   "source": [
    "crayons_l = sns.crayon_palette(['Vivid Tangerine', 'Cornflower'])\n",
    "crayons_d = sns.crayon_palette(['Brick Red', 'Midnight Blue'])\n",
    "\n",
    "f = sns.diverging_palette(8.2, 44, s=85, l=50, n=200)\n",
    "m = sns.diverging_palette(243, 278, s=85, l=50, n=200)\n",
    "\n",
    "f_2 = sns.crayon_palette(['Red Orange', 'Vivid Tangerine'])\n",
    "m_2 = sns.crayon_palette(['Cerulean', 'Cornflower'])"
   ]
  },
  {
   "cell_type": "markdown",
   "metadata": {},
   "source": [
    "# Physics Retrieval & PRIQ"
   ]
  },
  {
   "cell_type": "code",
   "execution_count": null,
   "metadata": {},
   "outputs": [],
   "source": [
    "h = sns.lmplot('PRI2', 'post phys retr shen cpl', data=df_m, hue='Mod', \n",
    "           palette=m_2, legend_out=True, height=10., )\n",
    "\n",
    "h.set_xlabels('Post-instruction perceptual reasoning')\n",
    "h.set_ylabels('Post-instruction characteristic path length')\n",
    "h.savefig(join(fig_dir, 'RETR_phys_post-cplXpost-priq_m.png'), dpi=300)"
   ]
  },
  {
   "cell_type": "code",
   "execution_count": null,
   "metadata": {},
   "outputs": [],
   "source": [
    "h = sns.lmplot('PRI2', 'post phys retr shen cpl', data=df_f, hue='Mod', \n",
    "           palette=f_2, legend_out=True, height=10.)\n",
    "\n",
    "h.set_xlabels('Post-instruction perceptual reasoning')\n",
    "h.set_ylabels('Post-instruction characteristic path length')\n",
    "h.savefig(join(fig_dir, 'RETR_phys_post-cplXpost-priq_f.png'), dpi=300)"
   ]
  },
  {
   "cell_type": "markdown",
   "metadata": {},
   "source": [
    "# General retrieval and deltaPRIQ"
   ]
  },
  {
   "cell_type": "code",
   "execution_count": null,
   "metadata": {},
   "outputs": [],
   "source": [
    "h = sns.lmplot('deltaPRI', 'post gen retr shen mod', data=df_m, hue='Mod', \n",
    "           palette=m_2, legend_out=True, height=10.)\n",
    "\n",
    "h.set_xlabels('Change in perceptual reasoning')\n",
    "h.set_ylabels('Post-instruction network modularity')\n",
    "h.savefig(join(fig_dir, 'RETR_gen_post-modXdelta-priq_m.png'), dpi=300)"
   ]
  },
  {
   "cell_type": "code",
   "execution_count": null,
   "metadata": {},
   "outputs": [],
   "source": [
    "h = sns.lmplot('deltaPRI', 'post gen retr shen mod', data=df_f, hue='Mod', \n",
    "           palette=f_2, legend_out=True, height=10.)\n",
    "\n",
    "h.set_xlabels('Change in perceptual reasoning')\n",
    "h.set_ylabels('Post-instruction network modularity')\n",
    "h.savefig(join(fig_dir, 'RETR_gen_post-modXdelta-priq_f.png'), dpi=300)"
   ]
  },
  {
   "cell_type": "markdown",
   "metadata": {},
   "source": [
    "# Physics Retrieval & FSIQ"
   ]
  },
  {
   "cell_type": "code",
   "execution_count": null,
   "metadata": {},
   "outputs": [],
   "source": [
    "h = sns.lmplot('FSIQ2', 'post phys retr shen cpl', data=df_m, hue='Mod', \n",
    "           palette=m_2, legend_out=True, height=10.)\n",
    "\n",
    "h.set_xlabels('Post-instruction full-scale IQ')\n",
    "h.set_ylabels('Post-instruction network efficiency')\n",
    "h.savefig(join(fig_dir, 'RETR_phys_post-cplXpost-fsiq_m.png'), dpi=300)"
   ]
  },
  {
   "cell_type": "code",
   "execution_count": null,
   "metadata": {},
   "outputs": [],
   "source": [
    "h = sns.lmplot('FSIQ2', 'post phys retr shen cpl', data=df_m, hue='Mod', \n",
    "           palette=m_2, legend_out=True, height=10.)\n",
    "\n",
    "h.set_xlabels('Post-instruction full-scale IQ')\n",
    "h.set_ylabels('Post-instruction characteristic path length')\n",
    "#h.savefig(join(fig_dir, 'pre_prXpre_eff_inf-m.png'), dpi=300)"
   ]
  },
  {
   "cell_type": "code",
   "execution_count": null,
   "metadata": {},
   "outputs": [],
   "source": [
    "h = sns.lmplot('FSIQ2', 'post phys retr shen cpl', data=df_f, hue='Mod', \n",
    "           palette=f_2, legend_out=True, height=10.)\n",
    "\n",
    "h.set_xlabels('Post-instruction full-scale IQ')\n",
    "h.set_ylabels('Post-instruction network-efficiency')\n",
    "h.savefig(join(fig_dir, 'RETR_phys_post-cplXpost-fsiq_f.png'), dpi=300)"
   ]
  },
  {
   "cell_type": "code",
   "execution_count": null,
   "metadata": {},
   "outputs": [],
   "source": [
    "h = sns.lmplot('FSIQ2', 'post phys retr shen cpl', data=df_f, hue='Mod', \n",
    "           palette=f_2, legend_out=True, height=10.)\n",
    "\n",
    "h.set_xlabels('Post-instruction full-scale IQ')\n",
    "h.set_ylabels('Post-instruction characteristic path length')\n",
    "#h.savefig(join(fig_dir, 'pre_prXpre_eff_inf-m.png'), dpi=300)"
   ]
  },
  {
   "cell_type": "markdown",
   "metadata": {},
   "source": [
    "# FCI and PRIQ"
   ]
  },
  {
   "cell_type": "code",
   "execution_count": null,
   "metadata": {},
   "outputs": [],
   "source": [
    "h = sns.lmplot('PRI2', 'post phys fci shen cpl', data=df_f, hue='Mod', \n",
    "           palette=f_2, legend_out=True, height=10.)\n",
    "\n",
    "h.set_xlabels('Post-instruction perceptual reasoning')\n",
    "h.set_ylabels('Post-instruction characteristic path length')\n",
    "h.savefig(join(fig_dir, 'FCI_phys_post-cplXpost-priq_f.png'), dpi=300)"
   ]
  },
  {
   "cell_type": "code",
   "execution_count": null,
   "metadata": {},
   "outputs": [],
   "source": [
    "h = sns.lmplot('PRI2', 'post phys fci shen cpl', data=df_m, hue='Mod', \n",
    "           palette=m_2, legend_out=True, height=10.)\n",
    "\n",
    "h.set_xlabels('Post-instruction perceptual reasoning')\n",
    "h.set_ylabels('Post-instruction characteristic path length')\n",
    "h.savefig(join(fig_dir, 'FCI_phys_post-cplXpost-priq_m.png'), dpi=300)"
   ]
  },
  {
   "cell_type": "markdown",
   "metadata": {},
   "source": [
    "# FCI and FSIQ"
   ]
  },
  {
   "cell_type": "code",
   "execution_count": null,
   "metadata": {},
   "outputs": [],
   "source": [
    "h = sns.lmplot('FSIQ2', 'post phys fci shen cpl', data=df_m, hue='Mod', \n",
    "           palette=m_2, legend_out=True, height=10.)\n",
    "\n",
    "h.set_xlabels('Post-instruction full-scale IQ')\n",
    "h.set_ylabels('Post-instruction characteristic path length')\n",
    "h.savefig(join(fig_dir, 'FCI_phys_post-cplXpost-fsiq_m.png'), dpi=300)"
   ]
  },
  {
   "cell_type": "code",
   "execution_count": null,
   "metadata": {},
   "outputs": [],
   "source": [
    "h = sns.lmplot('FSIQ2', 'post phys fci shen cpl', data=df_f, hue='Mod', \n",
    "           palette=f_2, legend_out=True, height=10.)\n",
    "\n",
    "h.set_xlabels('Post-instruction full-scale IQ')\n",
    "h.set_ylabels('Post-instruction characteristic path length')\n",
    "h.savefig(join(fig_dir, 'FCI_phys_post-cplXpost-fsiq_f.png'), dpi=300)"
   ]
  },
  {
   "cell_type": "code",
   "execution_count": null,
   "metadata": {},
   "outputs": [],
   "source": [
    "h = sns.lmplot('deltaFSIQ', 'post phys fci shen eff', data=df_m, hue='Mod', \n",
    "           palette=m_2, legend_out=True, height=10.)\n",
    "\n",
    "h.set_xlabels('Change in full-scale IQ')\n",
    "h.set_ylabels('Post-instruction network efficiency')\n",
    "h.savefig(join(fig_dir, 'FCI_phys_post-effXdelta-fsiq_m.png'), dpi=300)"
   ]
  },
  {
   "cell_type": "code",
   "execution_count": null,
   "metadata": {},
   "outputs": [],
   "source": [
    "h = sns.lmplot('deltaPRI', 'post phys fci shen eff', data=df_m, hue='Mod', \n",
    "           palette=m_2, legend_out=True, height=10.)\n",
    "\n",
    "h.set_xlabels('Change in perceptual reasoning')\n",
    "h.set_ylabels('Post-instruction network efficiency')\n",
    "h.savefig(join(fig_dir, 'FCI_phys_post-effXdelta-priq_m.png'), dpi=300)"
   ]
  },
  {
   "cell_type": "code",
   "execution_count": null,
   "metadata": {},
   "outputs": [],
   "source": [
    "h = sns.lmplot('deltaFSIQ', 'post phys fci shen eff', data=df_f, hue='Mod', \n",
    "           palette=f_2, legend_out=True, height=10.)\n",
    "\n",
    "h.set_xlabels('Change in full-scale IQ')\n",
    "h.set_ylabels('Post-instruction network efficiency')\n",
    "h.savefig(join(fig_dir, 'FCI_phys_post-effXdelta-fsiq_f.png'), dpi=300)"
   ]
  },
  {
   "cell_type": "code",
   "execution_count": null,
   "metadata": {},
   "outputs": [],
   "source": [
    "h = sns.lmplot('deltaPRI', 'post phys fci shen eff', data=df_f, hue='Mod', \n",
    "           palette=f_2, legend_out=True, height=10.)\n",
    "\n",
    "h.set_xlabels('Change in perceptual reasoning')\n",
    "h.set_ylabels('Post-instruction network efficiency')\n",
    "h.savefig(join(fig_dir, 'FCI_phys_post-effXdelta-priq_f.png'), dpi=300)"
   ]
  },
  {
   "cell_type": "markdown",
   "metadata": {},
   "source": [
    "# Reasoning and WMIQ"
   ]
  },
  {
   "cell_type": "code",
   "execution_count": null,
   "metadata": {},
   "outputs": [],
   "source": [
    "h = sns.lmplot('WMI1', 'delta infr reas shen eff', data=df_f, hue='Mod', \n",
    "           palette=f_2, legend_out=True, height=10.)\n",
    "\n",
    "h.set_xlabels('Pre-instruction working memory')\n",
    "h.set_ylabels('Change in network efficiency')\n",
    "h.savefig(join(fig_dir, 'REAS_infr_delta-effXpre-wmiq_f.png'), dpi=300)"
   ]
  },
  {
   "cell_type": "code",
   "execution_count": null,
   "metadata": {},
   "outputs": [],
   "source": [
    "h = sns.lmplot('WMI1', 'delta infr reas shen eff', data=df_m, hue='Mod', \n",
    "           palette=m_2, legend_out=True, height=10.)\n",
    "\n",
    "h.set_xlabels('Pre-instruction working memory')\n",
    "h.set_ylabels('Change in network efficiency')\n",
    "h.savefig(join(fig_dir, 'REAS_infr_delta-effXpre-wmiq_m.png'), dpi=300)"
   ]
  },
  {
   "cell_type": "code",
   "execution_count": null,
   "metadata": {},
   "outputs": [],
   "source": [
    "import seaborn as sns\n",
    "sns.set()"
   ]
  },
  {
   "cell_type": "code",
   "execution_count": null,
   "metadata": {},
   "outputs": [],
   "source": []
  }
 ],
 "metadata": {
  "kernelspec": {
   "display_name": "Python 3",
   "language": "python",
   "name": "python3"
  },
  "language_info": {
   "codemirror_mode": {
    "name": "ipython",
    "version": 3
   },
   "file_extension": ".py",
   "mimetype": "text/x-python",
   "name": "python",
   "nbconvert_exporter": "python",
   "pygments_lexer": "ipython3",
   "version": "3.7.3"
  }
 },
 "nbformat": 4,
 "nbformat_minor": 4
}
