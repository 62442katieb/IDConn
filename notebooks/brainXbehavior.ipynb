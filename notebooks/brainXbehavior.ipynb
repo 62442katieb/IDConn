{
 "cells": [
  {
   "cell_type": "code",
   "execution_count": 1,
   "metadata": {},
   "outputs": [
    {
     "name": "stderr",
     "output_type": "stream",
     "text": [
      "/Users/katherine/anaconda/lib/python2.7/site-packages/pandas/computation/__init__.py:19: UserWarning: The installed version of numexpr 2.4.4 is not supported in pandas and will be not be used\n",
      "\n",
      "  UserWarning)\n"
     ]
    },
    {
     "ename": "ImportError",
     "evalue": "No module named fancyimpute",
     "output_type": "error",
     "traceback": [
      "\u001b[0;31m---------------------------------------------------------------------------\u001b[0m",
      "\u001b[0;31mImportError\u001b[0m                               Traceback (most recent call last)",
      "\u001b[0;32m<ipython-input-1-bfe47c67362e>\u001b[0m in \u001b[0;36m<module>\u001b[0;34m()\u001b[0m\n\u001b[1;32m     17\u001b[0m \u001b[0;32mimport\u001b[0m \u001b[0mstatsmodels\u001b[0m \u001b[0;32mas\u001b[0m \u001b[0msm\u001b[0m\u001b[0;34m\u001b[0m\u001b[0m\n\u001b[1;32m     18\u001b[0m \u001b[0;32mfrom\u001b[0m \u001b[0msklearn\u001b[0m\u001b[0;34m.\u001b[0m\u001b[0mlinear_model\u001b[0m \u001b[0;32mimport\u001b[0m \u001b[0mLinearRegression\u001b[0m\u001b[0;34m,\u001b[0m \u001b[0mLasso\u001b[0m\u001b[0;34m\u001b[0m\u001b[0m\n\u001b[0;32m---> 19\u001b[0;31m \u001b[0;32mimport\u001b[0m \u001b[0mfancyimpute\u001b[0m \u001b[0;32mas\u001b[0m \u001b[0mfi\u001b[0m\u001b[0;34m\u001b[0m\u001b[0m\n\u001b[0m\u001b[1;32m     20\u001b[0m \u001b[0;34m\u001b[0m\u001b[0m\n\u001b[1;32m     21\u001b[0m \u001b[0;31m#less important for plotting\u001b[0m\u001b[0;34m\u001b[0m\u001b[0;34m\u001b[0m\u001b[0m\n",
      "\u001b[0;31mImportError\u001b[0m: No module named fancyimpute"
     ]
    }
   ],
   "source": [
    "import math\n",
    "#numpy is numerical python, which lets us do math!\n",
    "import numpy as np\n",
    "#pandas is for reading in and manipulating dataframe\n",
    "import pandas as pd\n",
    "#matplotlib is a plotting library the originated in matlab\n",
    "from matplotlib import pyplot as plt\n",
    "#seaborn wraps around matplotlib so that we can make pretty plots more easliy\n",
    "import seaborn as sns\n",
    "import missingno as msno\n",
    "#this little line of code lets us see the plots in the notebook\n",
    "%matplotlib inline\n",
    "#this uses seaborn (sns) to set the style for all the plots\n",
    "sns.set(context='poster', style='whitegrid', font_scale=1.4)\n",
    "from os.path import join\n",
    "from scipy.stats import ttest_ind, spearmanr, pearsonr, ttest_rel, kstest\n",
    "import statsmodels as sm\n",
    "from sklearn.linear_model import LinearRegression, Lasso\n",
    "import fancyimpute as fi\n",
    "\n",
    "#less important for plotting\n",
    "from glob import glob\n",
    "import statsmodels.api as sm\n",
    "from statsmodels.iolib.summary2 import summary_col\n",
    "from statsmodels.sandbox.stats.multicomp import multipletests"
   ]
  },
  {
   "cell_type": "code",
   "execution_count": null,
   "metadata": {},
   "outputs": [],
   "source": [
    "import pandas\n",
    "pandas.__version__"
   ]
  },
  {
   "cell_type": "code",
   "execution_count": null,
   "metadata": {},
   "outputs": [],
   "source": [
    "def calculate_pvalues(df, correlation):\n",
    "    from scipy.stats import pearsonr, pearsonr\n",
    "    df = df.dropna()._get_numeric_data()\n",
    "    dfcols = pd.DataFrame(columns=df.columns)\n",
    "    pvalues = dfcols.transpose().join(dfcols, how='outer')\n",
    "    for r in df.columns:\n",
    "        for c in df.columns:\n",
    "            if correlation == 'pearson':\n",
    "                pvalues[r][c] = round(pearsonr(df[r], df[c])[1], 4)\n",
    "            if correlation == 'spearman':\n",
    "                pvalues[r][c] = round(spearmanr(df[r], df[c])[1], 4)\n",
    "            else:\n",
    "                raise ValueError('Invalid correlation method specified. Accpetable values are \\'pearson\\' and \\'spearman\\'.')\n",
    "    return pvalues"
   ]
  },
  {
   "cell_type": "code",
   "execution_count": null,
   "metadata": {},
   "outputs": [],
   "source": [
    "#Li & Ji (2005) method for multiple comparisons corrections\n",
    "#calculating number of effective comparisons M_eff\n",
    "def liji_sidak_mc(data, alpha):\n",
    "    import math\n",
    "    import numpy as np\n",
    "    \n",
    "    mc_corrmat = data.corr()\n",
    "    eigvals, eigvecs = np.linalg.eig(mc_corrmat)\n",
    "\n",
    "    M_eff = 0\n",
    "    for eigval in eigvals:\n",
    "        if abs(eigval) >= 0:\n",
    "            if abs(eigval) >= 1:\n",
    "                M_eff += 1\n",
    "            else:\n",
    "                M_eff += abs(eigval) - math.floor(abs(eigval))\n",
    "        else:\n",
    "            M_eff += 0\n",
    "    print('Number of effective comparisons: {0}'.format(M_eff))\n",
    "\n",
    "    #and now applying M_eff to the Sidak procedure\n",
    "    sidak_p = 1 - (1 - alpha)**(1/M_eff)\n",
    "    if sidak_p < 0.00001:\n",
    "        print('Critical value of {:.3f}'.format(alpha),'becomes {:2e} after corrections'.format(sidak_p))\n",
    "    else:\n",
    "        print('Critical value of {:.3f}'.format(alpha),'becomes {:.6f} after corrections'.format(sidak_p))\n",
    "    return sidak_p, M_eff"
   ]
  },
  {
   "cell_type": "code",
   "execution_count": null,
   "metadata": {},
   "outputs": [],
   "source": [
    "fig_dir = '/Users/Katie/Dropbox/Projects/physics-retrieval/figures'"
   ]
  },
  {
   "cell_type": "code",
   "execution_count": null,
   "metadata": {},
   "outputs": [],
   "source": [
    "data_dir = '/Users/Katie/Dropbox/Projects/physics-retrieval/data'\n",
    "df = pd.read_csv(join(data_dir, 'rescored', 'non-brain-data.csv'), index_col=0, header=0)\n",
    "\n",
    "df_f = df[df['Sex'] == 'F']\n",
    "df_f = df_f.drop('Sex', axis=1)\n",
    "df_m = df[df['Sex'] == 'M']\n",
    "df_m = df_m.drop('Sex', axis=1)\n",
    "\n",
    "df_f['const'] = 1\n",
    "df_m['const'] = 1"
   ]
  },
  {
   "cell_type": "code",
   "execution_count": null,
   "metadata": {},
   "outputs": [],
   "source": [
    "df.head()"
   ]
  },
  {
   "cell_type": "code",
   "execution_count": null,
   "metadata": {},
   "outputs": [],
   "source": [
    "rsgt_df = pd.read_csv(join(data_dir, 'resting-state_graphtheory_shen+craddock_2019-05-29.csv'), \n",
    "                      index_col=0, header=0)\n",
    "rsgt_df = pd.read_csv(join(data_dir, 'output', 'resting-state_graphtheory_shen+craddock_2019-11-20.csv'), \n",
    "                      index_col=0, header=0)\n",
    "head_size = pd.read_csv(join(data_dir, 'head-size_2019-05-29 15:19:53.287525.csv'), index_col=0, header=0)\n",
    "head_size['normalized head size'] = (head_size['average_head_size']-np.mean(head_size['average_head_size']))/np.std(head_size['average_head_size'])"
   ]
  },
  {
   "cell_type": "code",
   "execution_count": null,
   "metadata": {},
   "outputs": [],
   "source": [
    "fd = pd.read_csv(join(data_dir, 'avg-fd-per-condition-per-run_2019-05-29.csv'), index_col=0, header=0)\n",
    "fd['normalized fd'] = (fd['average fd']-np.mean(fd['average fd']))/np.std(fd['average fd'])\n",
    "retr_fd = fd[fd['task'] == 'retr']\n",
    "reas_fd = fd[fd['task'] == 'reas']\n",
    "fci_fd = fd[fd['task'] == 'fci']\n",
    "\n",
    "df_pivot = retr_fd[retr_fd['condition'] == 'high-level'].reset_index()\n",
    "retr_phys_fd = df_pivot.pivot(index='subject', columns='session', values='average fd')\n",
    "retr_phys_fd.rename({'pre': 'pre phys retr fd', 'post': 'post phys retr fd'}, axis=1, inplace=True)\n",
    "\n",
    "df_pivot = retr_fd[retr_fd['condition'] == 'lower-level'].reset_index()\n",
    "retr_genr_fd = df_pivot.pivot(index='subject', columns='session', values='average fd')\n",
    "retr_genr_fd.rename({'pre': 'pre gen retr fd', 'post': 'post gen retr fd'}, axis=1, inplace=True)\n",
    "\n",
    "df_pivot = reas_fd[reas_fd['condition'] == 'high-level'].reset_index()\n",
    "reas_inf_fd = df_pivot.pivot(index='subject', columns='session', values='average fd')\n",
    "reas_inf_fd.rename({'pre': 'pre infr reas fd', 'post': 'post infr reas fd'}, axis=1, inplace=True)\n",
    "\n",
    "df_pivot = reas_fd[reas_fd['condition'] == 'lower-level'].reset_index()\n",
    "reas_base_fd = df_pivot.pivot(index='subject', columns='session', values='average fd')\n",
    "reas_base_fd.rename({'pre': 'pre base reas fd', 'post': 'post base reas fd'}, axis=1, inplace=True)\n",
    "\n",
    "df_pivot = fci_fd[fci_fd['condition'] == 'high-level'].reset_index()\n",
    "fci_phys_fd = df_pivot.pivot(index='subject', columns='session', values='average fd')\n",
    "fci_phys_fd.rename({'pre': 'pre phys fci fd', 'post': 'post phys fci fd'}, axis=1, inplace=True)\n",
    "\n",
    "df_pivot = fci_fd[fci_fd['condition'] == 'lower-level'].reset_index()\n",
    "fci_ctrl_fd = df_pivot.pivot(index='subject', columns='session', values='average fd')\n",
    "fci_ctrl_fd.rename({'pre': 'pre ctrl fci fd', 'post': 'post ctrl fci fd'}, axis=1, inplace=True)"
   ]
  },
  {
   "cell_type": "code",
   "execution_count": null,
   "metadata": {},
   "outputs": [],
   "source": [
    "rest_fd = pd.read_csv(join(data_dir, 'avg-fd-per-run-rest_2019-05-31.csv'), index_col=0, header=0)\n",
    "rs_fd = rest_fd.reset_index().pivot(index='subject', columns='session', values='average fd')\n",
    "rs_fd.rename({'pre': 'pre rest fd', 'post': 'post rest fd'}, axis=1, inplace=True)"
   ]
  },
  {
   "cell_type": "code",
   "execution_count": null,
   "metadata": {},
   "outputs": [],
   "source": [
    "fci_df"
   ]
  },
  {
   "cell_type": "code",
   "execution_count": null,
   "metadata": {},
   "outputs": [],
   "source": [
    "fci_df.head()"
   ]
  },
  {
   "cell_type": "code",
   "execution_count": 14,
   "metadata": {},
   "outputs": [
    {
     "ename": "KeyError",
     "evalue": "'efficiency'",
     "output_type": "error",
     "traceback": [
      "\u001b[0;31m---------------------------------------------------------------------------\u001b[0m",
      "\u001b[0;31mKeyError\u001b[0m                                  Traceback (most recent call last)",
      "\u001b[0;32m/Library/Frameworks/Python.framework/Versions/3.7/lib/python3.7/site-packages/pandas/core/indexes/base.py\u001b[0m in \u001b[0;36mget_loc\u001b[0;34m(self, key, method, tolerance)\u001b[0m\n\u001b[1;32m   3077\u001b[0m             \u001b[0;32mtry\u001b[0m\u001b[0;34m:\u001b[0m\u001b[0;34m\u001b[0m\u001b[0m\n\u001b[0;32m-> 3078\u001b[0;31m                 \u001b[0;32mreturn\u001b[0m \u001b[0mself\u001b[0m\u001b[0;34m.\u001b[0m\u001b[0m_engine\u001b[0m\u001b[0;34m.\u001b[0m\u001b[0mget_loc\u001b[0m\u001b[0;34m(\u001b[0m\u001b[0mkey\u001b[0m\u001b[0;34m)\u001b[0m\u001b[0;34m\u001b[0m\u001b[0m\n\u001b[0m\u001b[1;32m   3079\u001b[0m             \u001b[0;32mexcept\u001b[0m \u001b[0mKeyError\u001b[0m\u001b[0;34m:\u001b[0m\u001b[0;34m\u001b[0m\u001b[0m\n",
      "\u001b[0;32mpandas/_libs/index.pyx\u001b[0m in \u001b[0;36mpandas._libs.index.IndexEngine.get_loc\u001b[0;34m()\u001b[0m\n",
      "\u001b[0;32mpandas/_libs/index.pyx\u001b[0m in \u001b[0;36mpandas._libs.index.IndexEngine.get_loc\u001b[0;34m()\u001b[0m\n",
      "\u001b[0;32mpandas/_libs/hashtable_class_helper.pxi\u001b[0m in \u001b[0;36mpandas._libs.hashtable.PyObjectHashTable.get_item\u001b[0;34m()\u001b[0m\n",
      "\u001b[0;32mpandas/_libs/hashtable_class_helper.pxi\u001b[0m in \u001b[0;36mpandas._libs.hashtable.PyObjectHashTable.get_item\u001b[0;34m()\u001b[0m\n",
      "\u001b[0;31mKeyError\u001b[0m: 'efficiency'",
      "\nDuring handling of the above exception, another exception occurred:\n",
      "\u001b[0;31mKeyError\u001b[0m                                  Traceback (most recent call last)",
      "\u001b[0;32m<ipython-input-14-2e32351d7e9d>\u001b[0m in \u001b[0;36m<module>\u001b[0;34m()\u001b[0m\n\u001b[1;32m     10\u001b[0m \u001b[0;31m#physics fci measures per session per parcellation\u001b[0m\u001b[0;34m\u001b[0m\u001b[0;34m\u001b[0m\u001b[0m\n\u001b[1;32m     11\u001b[0m \u001b[0mdf_pivot\u001b[0m \u001b[0;34m=\u001b[0m \u001b[0mphys_fci\u001b[0m\u001b[0;34m[\u001b[0m\u001b[0mphys_fci\u001b[0m\u001b[0;34m[\u001b[0m\u001b[0;34m'mask'\u001b[0m\u001b[0;34m]\u001b[0m \u001b[0;34m==\u001b[0m \u001b[0;34m'shen2015'\u001b[0m\u001b[0;34m]\u001b[0m\u001b[0;34m.\u001b[0m\u001b[0mreset_index\u001b[0m\u001b[0;34m(\u001b[0m\u001b[0;34m)\u001b[0m\u001b[0;34m\u001b[0m\u001b[0m\n\u001b[0;32m---> 12\u001b[0;31m \u001b[0mshen_eff_phys_fci_df\u001b[0m \u001b[0;34m=\u001b[0m \u001b[0mdf_pivot\u001b[0m\u001b[0;34m.\u001b[0m\u001b[0mpivot\u001b[0m\u001b[0;34m(\u001b[0m\u001b[0mindex\u001b[0m\u001b[0;34m=\u001b[0m\u001b[0;34m'subject'\u001b[0m\u001b[0;34m,\u001b[0m \u001b[0mcolumns\u001b[0m\u001b[0;34m=\u001b[0m\u001b[0;34m'session'\u001b[0m\u001b[0;34m,\u001b[0m \u001b[0mvalues\u001b[0m\u001b[0;34m=\u001b[0m\u001b[0;34m'efficiency'\u001b[0m\u001b[0;34m)\u001b[0m\u001b[0;34m\u001b[0m\u001b[0m\n\u001b[0m\u001b[1;32m     13\u001b[0m \u001b[0mshen_eff_phys_fci_df\u001b[0m\u001b[0;34m.\u001b[0m\u001b[0mrename\u001b[0m\u001b[0;34m(\u001b[0m\u001b[0;34m{\u001b[0m\u001b[0;36m0\u001b[0m\u001b[0;34m:\u001b[0m \u001b[0;34m'pre phys fci shen eff'\u001b[0m\u001b[0;34m,\u001b[0m \u001b[0;36m1\u001b[0m\u001b[0;34m:\u001b[0m \u001b[0;34m'post phys fci shen eff'\u001b[0m\u001b[0;34m}\u001b[0m\u001b[0;34m,\u001b[0m \u001b[0maxis\u001b[0m\u001b[0;34m=\u001b[0m\u001b[0;36m1\u001b[0m\u001b[0;34m,\u001b[0m \u001b[0minplace\u001b[0m\u001b[0;34m=\u001b[0m\u001b[0;32mTrue\u001b[0m\u001b[0;34m)\u001b[0m\u001b[0;34m\u001b[0m\u001b[0m\n\u001b[1;32m     14\u001b[0m \u001b[0;34m\u001b[0m\u001b[0m\n",
      "\u001b[0;32m/Library/Frameworks/Python.framework/Versions/3.7/lib/python3.7/site-packages/pandas/core/frame.py\u001b[0m in \u001b[0;36mpivot\u001b[0;34m(self, index, columns, values)\u001b[0m\n\u001b[1;32m   5192\u001b[0m         \"\"\"\n\u001b[1;32m   5193\u001b[0m         \u001b[0;32mfrom\u001b[0m \u001b[0mpandas\u001b[0m\u001b[0;34m.\u001b[0m\u001b[0mcore\u001b[0m\u001b[0;34m.\u001b[0m\u001b[0mreshape\u001b[0m\u001b[0;34m.\u001b[0m\u001b[0mreshape\u001b[0m \u001b[0;32mimport\u001b[0m \u001b[0mpivot\u001b[0m\u001b[0;34m\u001b[0m\u001b[0m\n\u001b[0;32m-> 5194\u001b[0;31m         \u001b[0;32mreturn\u001b[0m \u001b[0mpivot\u001b[0m\u001b[0;34m(\u001b[0m\u001b[0mself\u001b[0m\u001b[0;34m,\u001b[0m \u001b[0mindex\u001b[0m\u001b[0;34m=\u001b[0m\u001b[0mindex\u001b[0m\u001b[0;34m,\u001b[0m \u001b[0mcolumns\u001b[0m\u001b[0;34m=\u001b[0m\u001b[0mcolumns\u001b[0m\u001b[0;34m,\u001b[0m \u001b[0mvalues\u001b[0m\u001b[0;34m=\u001b[0m\u001b[0mvalues\u001b[0m\u001b[0;34m)\u001b[0m\u001b[0;34m\u001b[0m\u001b[0m\n\u001b[0m\u001b[1;32m   5195\u001b[0m \u001b[0;34m\u001b[0m\u001b[0m\n\u001b[1;32m   5196\u001b[0m     _shared_docs['pivot_table'] = \"\"\"\n",
      "\u001b[0;32m/Library/Frameworks/Python.framework/Versions/3.7/lib/python3.7/site-packages/pandas/core/reshape/reshape.py\u001b[0m in \u001b[0;36mpivot\u001b[0;34m(self, index, columns, values)\u001b[0m\n\u001b[1;32m    411\u001b[0m                                         columns=values)\n\u001b[1;32m    412\u001b[0m         \u001b[0;32melse\u001b[0m\u001b[0;34m:\u001b[0m\u001b[0;34m\u001b[0m\u001b[0m\n\u001b[0;32m--> 413\u001b[0;31m             indexed = self._constructor_sliced(self[values].values,\n\u001b[0m\u001b[1;32m    414\u001b[0m                                                index=index)\n\u001b[1;32m    415\u001b[0m     \u001b[0;32mreturn\u001b[0m \u001b[0mindexed\u001b[0m\u001b[0;34m.\u001b[0m\u001b[0munstack\u001b[0m\u001b[0;34m(\u001b[0m\u001b[0mcolumns\u001b[0m\u001b[0;34m)\u001b[0m\u001b[0;34m\u001b[0m\u001b[0m\n",
      "\u001b[0;32m/Library/Frameworks/Python.framework/Versions/3.7/lib/python3.7/site-packages/pandas/core/frame.py\u001b[0m in \u001b[0;36m__getitem__\u001b[0;34m(self, key)\u001b[0m\n\u001b[1;32m   2686\u001b[0m             \u001b[0;32mreturn\u001b[0m \u001b[0mself\u001b[0m\u001b[0;34m.\u001b[0m\u001b[0m_getitem_multilevel\u001b[0m\u001b[0;34m(\u001b[0m\u001b[0mkey\u001b[0m\u001b[0;34m)\u001b[0m\u001b[0;34m\u001b[0m\u001b[0m\n\u001b[1;32m   2687\u001b[0m         \u001b[0;32melse\u001b[0m\u001b[0;34m:\u001b[0m\u001b[0;34m\u001b[0m\u001b[0m\n\u001b[0;32m-> 2688\u001b[0;31m             \u001b[0;32mreturn\u001b[0m \u001b[0mself\u001b[0m\u001b[0;34m.\u001b[0m\u001b[0m_getitem_column\u001b[0m\u001b[0;34m(\u001b[0m\u001b[0mkey\u001b[0m\u001b[0;34m)\u001b[0m\u001b[0;34m\u001b[0m\u001b[0m\n\u001b[0m\u001b[1;32m   2689\u001b[0m \u001b[0;34m\u001b[0m\u001b[0m\n\u001b[1;32m   2690\u001b[0m     \u001b[0;32mdef\u001b[0m \u001b[0m_getitem_column\u001b[0m\u001b[0;34m(\u001b[0m\u001b[0mself\u001b[0m\u001b[0;34m,\u001b[0m \u001b[0mkey\u001b[0m\u001b[0;34m)\u001b[0m\u001b[0;34m:\u001b[0m\u001b[0;34m\u001b[0m\u001b[0m\n",
      "\u001b[0;32m/Library/Frameworks/Python.framework/Versions/3.7/lib/python3.7/site-packages/pandas/core/frame.py\u001b[0m in \u001b[0;36m_getitem_column\u001b[0;34m(self, key)\u001b[0m\n\u001b[1;32m   2693\u001b[0m         \u001b[0;31m# get column\u001b[0m\u001b[0;34m\u001b[0m\u001b[0;34m\u001b[0m\u001b[0m\n\u001b[1;32m   2694\u001b[0m         \u001b[0;32mif\u001b[0m \u001b[0mself\u001b[0m\u001b[0;34m.\u001b[0m\u001b[0mcolumns\u001b[0m\u001b[0;34m.\u001b[0m\u001b[0mis_unique\u001b[0m\u001b[0;34m:\u001b[0m\u001b[0;34m\u001b[0m\u001b[0m\n\u001b[0;32m-> 2695\u001b[0;31m             \u001b[0;32mreturn\u001b[0m \u001b[0mself\u001b[0m\u001b[0;34m.\u001b[0m\u001b[0m_get_item_cache\u001b[0m\u001b[0;34m(\u001b[0m\u001b[0mkey\u001b[0m\u001b[0;34m)\u001b[0m\u001b[0;34m\u001b[0m\u001b[0m\n\u001b[0m\u001b[1;32m   2696\u001b[0m \u001b[0;34m\u001b[0m\u001b[0m\n\u001b[1;32m   2697\u001b[0m         \u001b[0;31m# duplicate columns & possible reduce dimensionality\u001b[0m\u001b[0;34m\u001b[0m\u001b[0;34m\u001b[0m\u001b[0m\n",
      "\u001b[0;32m/Library/Frameworks/Python.framework/Versions/3.7/lib/python3.7/site-packages/pandas/core/generic.py\u001b[0m in \u001b[0;36m_get_item_cache\u001b[0;34m(self, item)\u001b[0m\n\u001b[1;32m   2487\u001b[0m         \u001b[0mres\u001b[0m \u001b[0;34m=\u001b[0m \u001b[0mcache\u001b[0m\u001b[0;34m.\u001b[0m\u001b[0mget\u001b[0m\u001b[0;34m(\u001b[0m\u001b[0mitem\u001b[0m\u001b[0;34m)\u001b[0m\u001b[0;34m\u001b[0m\u001b[0m\n\u001b[1;32m   2488\u001b[0m         \u001b[0;32mif\u001b[0m \u001b[0mres\u001b[0m \u001b[0;32mis\u001b[0m \u001b[0;32mNone\u001b[0m\u001b[0;34m:\u001b[0m\u001b[0;34m\u001b[0m\u001b[0m\n\u001b[0;32m-> 2489\u001b[0;31m             \u001b[0mvalues\u001b[0m \u001b[0;34m=\u001b[0m \u001b[0mself\u001b[0m\u001b[0;34m.\u001b[0m\u001b[0m_data\u001b[0m\u001b[0;34m.\u001b[0m\u001b[0mget\u001b[0m\u001b[0;34m(\u001b[0m\u001b[0mitem\u001b[0m\u001b[0;34m)\u001b[0m\u001b[0;34m\u001b[0m\u001b[0m\n\u001b[0m\u001b[1;32m   2490\u001b[0m             \u001b[0mres\u001b[0m \u001b[0;34m=\u001b[0m \u001b[0mself\u001b[0m\u001b[0;34m.\u001b[0m\u001b[0m_box_item_values\u001b[0m\u001b[0;34m(\u001b[0m\u001b[0mitem\u001b[0m\u001b[0;34m,\u001b[0m \u001b[0mvalues\u001b[0m\u001b[0;34m)\u001b[0m\u001b[0;34m\u001b[0m\u001b[0m\n\u001b[1;32m   2491\u001b[0m             \u001b[0mcache\u001b[0m\u001b[0;34m[\u001b[0m\u001b[0mitem\u001b[0m\u001b[0;34m]\u001b[0m \u001b[0;34m=\u001b[0m \u001b[0mres\u001b[0m\u001b[0;34m\u001b[0m\u001b[0m\n",
      "\u001b[0;32m/Library/Frameworks/Python.framework/Versions/3.7/lib/python3.7/site-packages/pandas/core/internals.py\u001b[0m in \u001b[0;36mget\u001b[0;34m(self, item, fastpath)\u001b[0m\n\u001b[1;32m   4113\u001b[0m \u001b[0;34m\u001b[0m\u001b[0m\n\u001b[1;32m   4114\u001b[0m             \u001b[0;32mif\u001b[0m \u001b[0;32mnot\u001b[0m \u001b[0misna\u001b[0m\u001b[0;34m(\u001b[0m\u001b[0mitem\u001b[0m\u001b[0;34m)\u001b[0m\u001b[0;34m:\u001b[0m\u001b[0;34m\u001b[0m\u001b[0m\n\u001b[0;32m-> 4115\u001b[0;31m                 \u001b[0mloc\u001b[0m \u001b[0;34m=\u001b[0m \u001b[0mself\u001b[0m\u001b[0;34m.\u001b[0m\u001b[0mitems\u001b[0m\u001b[0;34m.\u001b[0m\u001b[0mget_loc\u001b[0m\u001b[0;34m(\u001b[0m\u001b[0mitem\u001b[0m\u001b[0;34m)\u001b[0m\u001b[0;34m\u001b[0m\u001b[0m\n\u001b[0m\u001b[1;32m   4116\u001b[0m             \u001b[0;32melse\u001b[0m\u001b[0;34m:\u001b[0m\u001b[0;34m\u001b[0m\u001b[0m\n\u001b[1;32m   4117\u001b[0m                 \u001b[0mindexer\u001b[0m \u001b[0;34m=\u001b[0m \u001b[0mnp\u001b[0m\u001b[0;34m.\u001b[0m\u001b[0marange\u001b[0m\u001b[0;34m(\u001b[0m\u001b[0mlen\u001b[0m\u001b[0;34m(\u001b[0m\u001b[0mself\u001b[0m\u001b[0;34m.\u001b[0m\u001b[0mitems\u001b[0m\u001b[0;34m)\u001b[0m\u001b[0;34m)\u001b[0m\u001b[0;34m[\u001b[0m\u001b[0misna\u001b[0m\u001b[0;34m(\u001b[0m\u001b[0mself\u001b[0m\u001b[0;34m.\u001b[0m\u001b[0mitems\u001b[0m\u001b[0;34m)\u001b[0m\u001b[0;34m]\u001b[0m\u001b[0;34m\u001b[0m\u001b[0m\n",
      "\u001b[0;32m/Library/Frameworks/Python.framework/Versions/3.7/lib/python3.7/site-packages/pandas/core/indexes/base.py\u001b[0m in \u001b[0;36mget_loc\u001b[0;34m(self, key, method, tolerance)\u001b[0m\n\u001b[1;32m   3078\u001b[0m                 \u001b[0;32mreturn\u001b[0m \u001b[0mself\u001b[0m\u001b[0;34m.\u001b[0m\u001b[0m_engine\u001b[0m\u001b[0;34m.\u001b[0m\u001b[0mget_loc\u001b[0m\u001b[0;34m(\u001b[0m\u001b[0mkey\u001b[0m\u001b[0;34m)\u001b[0m\u001b[0;34m\u001b[0m\u001b[0m\n\u001b[1;32m   3079\u001b[0m             \u001b[0;32mexcept\u001b[0m \u001b[0mKeyError\u001b[0m\u001b[0;34m:\u001b[0m\u001b[0;34m\u001b[0m\u001b[0m\n\u001b[0;32m-> 3080\u001b[0;31m                 \u001b[0;32mreturn\u001b[0m \u001b[0mself\u001b[0m\u001b[0;34m.\u001b[0m\u001b[0m_engine\u001b[0m\u001b[0;34m.\u001b[0m\u001b[0mget_loc\u001b[0m\u001b[0;34m(\u001b[0m\u001b[0mself\u001b[0m\u001b[0;34m.\u001b[0m\u001b[0m_maybe_cast_indexer\u001b[0m\u001b[0;34m(\u001b[0m\u001b[0mkey\u001b[0m\u001b[0;34m)\u001b[0m\u001b[0;34m)\u001b[0m\u001b[0;34m\u001b[0m\u001b[0m\n\u001b[0m\u001b[1;32m   3081\u001b[0m \u001b[0;34m\u001b[0m\u001b[0m\n\u001b[1;32m   3082\u001b[0m         \u001b[0mindexer\u001b[0m \u001b[0;34m=\u001b[0m \u001b[0mself\u001b[0m\u001b[0;34m.\u001b[0m\u001b[0mget_indexer\u001b[0m\u001b[0;34m(\u001b[0m\u001b[0;34m[\u001b[0m\u001b[0mkey\u001b[0m\u001b[0;34m]\u001b[0m\u001b[0;34m,\u001b[0m \u001b[0mmethod\u001b[0m\u001b[0;34m=\u001b[0m\u001b[0mmethod\u001b[0m\u001b[0;34m,\u001b[0m \u001b[0mtolerance\u001b[0m\u001b[0;34m=\u001b[0m\u001b[0mtolerance\u001b[0m\u001b[0;34m)\u001b[0m\u001b[0;34m\u001b[0m\u001b[0m\n",
      "\u001b[0;32mpandas/_libs/index.pyx\u001b[0m in \u001b[0;36mpandas._libs.index.IndexEngine.get_loc\u001b[0;34m()\u001b[0m\n",
      "\u001b[0;32mpandas/_libs/index.pyx\u001b[0m in \u001b[0;36mpandas._libs.index.IndexEngine.get_loc\u001b[0;34m()\u001b[0m\n",
      "\u001b[0;32mpandas/_libs/hashtable_class_helper.pxi\u001b[0m in \u001b[0;36mpandas._libs.hashtable.PyObjectHashTable.get_item\u001b[0;34m()\u001b[0m\n",
      "\u001b[0;32mpandas/_libs/hashtable_class_helper.pxi\u001b[0m in \u001b[0;36mpandas._libs.hashtable.PyObjectHashTable.get_item\u001b[0;34m()\u001b[0m\n",
      "\u001b[0;31mKeyError\u001b[0m: 'efficiency'"
     ]
    }
   ],
   "source": [
    "fci_df = pd.read_csv(join(data_dir, 'physics-learning-fci_graphtheory_shen+craddock_2019-05-31.csv'), \n",
    "                     index_col=0, header=0)\n",
    "\n",
    "#task_df = pd.read_csv(join(data_dir, 'output', 'physics-learning-tasks_graphtheory_shen+craddock2019-11-20.csv'), \n",
    "#                     index_col=0, header=0)\n",
    "fci_df = task_df[task_df['task'] == 'fci']\n",
    "phys_fci = fci_df[fci_df['condition'] == 'high-level']\n",
    "ctrl_fci = fci_df[fci_df['condition'] == 'lower-level']\n",
    "\n",
    "#physics fci measures per session per parcellation\n",
    "df_pivot = phys_fci[phys_fci['mask'] == 'shen2015'].reset_index()\n",
    "shen_eff_phys_fci_df = df_pivot.pivot(index='subject', columns='session', values='efficiency')\n",
    "shen_eff_phys_fci_df.rename({0: 'pre phys fci shen eff', 1: 'post phys fci shen eff'}, axis=1, inplace=True)\n",
    "\n",
    "shen_cpl_phys_fci_df = df_pivot.pivot(index='subject', columns='session', values='charpath')\n",
    "shen_cpl_phys_fci_df.rename({0: 'pre phys fci shen cpl', 1: 'post phys fci shen cpl'}, axis=1, inplace=True)\n",
    "\n",
    "shen_mod_phys_fci_df = df_pivot.pivot(index='subject', columns='session', values='modularity')\n",
    "shen_mod_phys_fci_df.rename({0: 'pre phys fci shen mod', 1: 'post phys fci shen mod'}, axis=1, inplace=True)\n",
    "\n",
    "df_pivot = phys_fci[phys_fci['mask'] == 'craddock2012'].reset_index()\n",
    "crad_eff_phys_fci_df = df_pivot.pivot(index='subject', columns='session', values='efficiency')\n",
    "crad_eff_phys_fci_df.rename({0: 'pre phys fci crad eff', 1: 'post phys fci crad eff'}, axis=1, inplace=True)\n",
    "\n",
    "crad_cpl_phys_fci_df = df_pivot.pivot(index='subject', columns='session', values='charpath')\n",
    "crad_cpl_phys_fci_df.rename({0: 'pre phys fci crad cpl', 1: 'post phys fci crad cpl'}, axis=1, inplace=True)\n",
    "\n",
    "crad_mod_phys_fci_df = df_pivot.pivot(index='subject', columns='session', values='modularity')\n",
    "crad_mod_phys_fci_df.rename({0: 'pre phys fci crad mod', 1: 'post phys fci crad mod'}, axis=1, inplace=True)\n",
    "\n",
    "\n",
    "#ctrl fci measures per session per parcellation\n",
    "df_pivot = ctrl_fci[ctrl_fci['mask'] == 'shen2015'].reset_index()\n",
    "shen_eff_ctrl_fci_df = df_pivot.pivot(index='subject', columns='session', values='efficiency')\n",
    "shen_eff_ctrl_fci_df.rename({0: 'pre ctrl fci shen eff', 1: 'post ctrl fci shen eff'}, axis=1, inplace=True)\n",
    "\n",
    "shen_cpl_ctrl_fci_df = df_pivot.pivot(index='subject', columns='session', values='charpath')\n",
    "shen_cpl_ctrl_fci_df.rename({0: 'pre ctrl fci shen cpl', 1: 'post ctrl fci shen cpl'}, axis=1, inplace=True)\n",
    "\n",
    "shen_mod_ctrl_fci_df = df_pivot.pivot(index='subject', columns='session', values='modularity')\n",
    "shen_mod_ctrl_fci_df.rename({0: 'pre ctrl fci shen mod', 1: 'post ctrl fci shen mod'}, axis=1, inplace=True)\n",
    "\n",
    "df_pivot = ctrl_fci[ctrl_fci['mask'] == 'craddock2012'].reset_index()\n",
    "crad_eff_ctrl_fci_df = df_pivot.pivot(index='subject', columns='session', values='efficiency')\n",
    "crad_eff_ctrl_fci_df.rename({0: 'pre ctrl fci crad eff', 1: 'post ctrl fci crad eff'}, axis=1, inplace=True)\n",
    "\n",
    "crad_cpl_ctrl_fci_df = df_pivot.pivot(index='subject', columns='session', values='charpath')\n",
    "crad_cpl_ctrl_fci_df.rename({0: 'pre ctrl fci crad cpl', 1: 'post ctrl fci crad cpl'}, axis=1, inplace=True)\n",
    "\n",
    "crad_mod_ctrl_fci_df = df_pivot.pivot(index='subject', columns='session', values='modularity')\n",
    "crad_mod_ctrl_fci_df.rename({0: 'pre ctrl fci crad mod', 1: 'post ctrl fci crad mod'}, axis=1, inplace=True)"
   ]
  },
  {
   "cell_type": "code",
   "execution_count": null,
   "metadata": {},
   "outputs": [],
   "source": [
    "#task_df = pd.read_csv(join(data_dir, 'physics-learning-tasks_graphtheory_shen+craddock_2019-05-30.csv'), index_col=0, header=0)\n",
    "retr_df = task_df[task_df['task'] == 'retr']\n",
    "retr_phys_df = retr_df[retr_df['condition'] == 'high-level']\n",
    "genr_phys_df = retr_df[retr_df['condition'] == 'lower-level']\n",
    "\n",
    "#physics retrieval measures per session per parcellation\n",
    "df_pivot = retr_phys_df[retr_phys_df['mask'] == 'shen2015'].reset_index()\n",
    "shen_eff_retr_phys_df = df_pivot.pivot(index='subject', columns='session', values='efficiency')\n",
    "shen_eff_retr_phys_df.rename({0: 'pre phys retr shen eff', 1: 'post phys retr shen eff'}, axis=1, inplace=True)\n",
    "\n",
    "shen_cpl_retr_phys_df = df_pivot.pivot(index='subject', columns='session', values='charpath')\n",
    "shen_cpl_retr_phys_df.rename({0: 'pre phys retr shen cpl', 1: 'post phys retr shen cpl'}, axis=1, inplace=True)\n",
    "\n",
    "shen_mod_retr_phys_df = df_pivot.pivot(index='subject', columns='session', values='modularity')\n",
    "shen_mod_retr_phys_df.rename({0: 'pre phys retr shen mod', 1: 'post phys retr shen mod'}, axis=1, inplace=True)\n",
    "\n",
    "df_pivot = retr_phys_df[retr_phys_df['mask'] == 'craddock2012'].reset_index()\n",
    "crad_eff_retr_phys_df = df_pivot.pivot(index='subject', columns='session', values='efficiency')\n",
    "crad_eff_retr_phys_df.rename({0: 'pre phys retr crad eff', 1: 'post phys retr crad eff'}, axis=1, inplace=True)\n",
    "\n",
    "crad_cpl_retr_phys_df = df_pivot.pivot(index='subject', columns='session', values='charpath')\n",
    "crad_cpl_retr_phys_df.rename({0: 'pre phys retr crad cpl', 1: 'post phys retr crad cpl'}, axis=1, inplace=True)\n",
    "\n",
    "crad_mod_retr_phys_df = df_pivot.pivot(index='subject', columns='session', values='modularity')\n",
    "crad_mod_retr_phys_df.rename({0: 'pre phys retr crad mod', 1: 'post phys retr crad mod'}, axis=1, inplace=True)\n",
    "\n",
    "#general retrieval measures per session per parcellation\n",
    "df_pivot = genr_phys_df[genr_phys_df['mask'] == 'shen2015'].reset_index()\n",
    "shen_eff_retr_genr_df = df_pivot.pivot(index='subject', columns='session', values='efficiency')\n",
    "shen_eff_retr_genr_df.rename({0: 'pre gen retr shen eff', 1: 'post gen retr shen eff'}, axis=1, inplace=True)\n",
    "\n",
    "shen_cpl_retr_genr_df = df_pivot.pivot(index='subject', columns='session', values='charpath')\n",
    "shen_cpl_retr_genr_df.rename({0: 'pre gen retr shen cpl', 1: 'post gen retr shen cpl'}, axis=1, inplace=True)\n",
    "\n",
    "shen_mod_retr_genr_df = df_pivot.pivot(index='subject', columns='session', values='modularity')\n",
    "shen_mod_retr_genr_df.rename({0: 'pre gen retr shen mod', 1: 'post gen retr shen mod'}, axis=1, inplace=True)\n",
    "\n",
    "df_pivot = genr_phys_df[genr_phys_df['mask'] == 'craddock2012'].reset_index()\n",
    "crad_eff_retr_genr_df = df_pivot.pivot(index='subject', columns='session', values='efficiency')\n",
    "crad_eff_retr_genr_df.rename({0: 'pre gen retr crad eff', 1: 'post gen retr crad eff'}, axis=1, inplace=True)\n",
    "\n",
    "crad_cpl_retr_genr_df = df_pivot.pivot(index='subject', columns='session', values='charpath')\n",
    "crad_cpl_retr_genr_df.rename({0: 'pre gen retr crad cpl', 1: 'post gen retr crad cpl'}, axis=1, inplace=True)\n",
    "\n",
    "crad_mod_retr_genr_df = df_pivot.pivot(index='subject', columns='session', values='modularity')\n",
    "crad_mod_retr_genr_df.rename({0: 'pre gen retr crad mod', 1: 'post gen retr crad mod'}, axis=1, inplace=True)"
   ]
  },
  {
   "cell_type": "code",
   "execution_count": null,
   "metadata": {},
   "outputs": [],
   "source": [
    "reas_df = task_df[task_df['task'] == 'reas']\n",
    "reas_infr_df = reas_df[reas_df['condition'] == 'high-level']\n",
    "reas_base_df = reas_df[reas_df['condition'] == 'lower-level']\n",
    "\n",
    "#infrics reasieval measures per session per parcellation\n",
    "df_pivot = reas_infr_df[reas_infr_df['mask'] == 'shen2015'].reset_index()\n",
    "shen_eff_reas_infr_df = df_pivot.pivot(index='subject', columns='session', values='efficiency')\n",
    "shen_eff_reas_infr_df.rename({0: 'pre infr reas shen eff', 1: 'post infr reas shen eff'}, axis=1, inplace=True)\n",
    "\n",
    "shen_cpl_reas_infr_df = df_pivot.pivot(index='subject', columns='session', values='charpath')\n",
    "shen_cpl_reas_infr_df.rename({0: 'pre infr reas shen cpl', 1: 'post infr reas shen cpl'}, axis=1, inplace=True)\n",
    "\n",
    "shen_mod_reas_infr_df = df_pivot.pivot(index='subject', columns='session', values='modularity')\n",
    "shen_mod_reas_infr_df.rename({0: 'pre infr reas shen mod', 1: 'post infr reas shen mod'}, axis=1, inplace=True)\n",
    "\n",
    "df_pivot = reas_infr_df[reas_infr_df['mask'] == 'craddock2012'].reset_index()\n",
    "crad_eff_reas_infr_df = df_pivot.pivot(index='subject', columns='session', values='efficiency')\n",
    "crad_eff_reas_infr_df.rename({0: 'pre infr reas crad eff', 1: 'post infr reas crad eff'}, axis=1, inplace=True)\n",
    "\n",
    "crad_cpl_reas_infr_df = df_pivot.pivot(index='subject', columns='session', values='charpath')\n",
    "crad_cpl_reas_infr_df.rename({0: 'pre infr reas crad cpl', 1: 'post infr reas crad cpl'}, axis=1, inplace=True)\n",
    "\n",
    "crad_mod_reas_infr_df = df_pivot.pivot(index='subject', columns='session', values='modularity')\n",
    "crad_mod_reas_infr_df.rename({0: 'pre infr reas crad mod', 1: 'post infr reas crad mod'}, axis=1, inplace=True)\n",
    "\n",
    "#baseeral reasieval measures per session per parcellation\n",
    "df_pivot = reas_base_df[reas_base_df['mask'] == 'shen2015'].reset_index()\n",
    "shen_eff_reas_base_df = df_pivot.pivot(index='subject', columns='session', values='efficiency')\n",
    "shen_eff_reas_base_df.rename({0: 'pre base reas shen eff', 1: 'post base reas shen eff'}, axis=1, inplace=True)\n",
    "\n",
    "shen_cpl_reas_base_df = df_pivot.pivot(index='subject', columns='session', values='charpath')\n",
    "shen_cpl_reas_base_df.rename({0: 'pre base reas shen cpl', 1: 'post base reas shen cpl'}, axis=1, inplace=True)\n",
    "\n",
    "shen_mod_reas_base_df = df_pivot.pivot(index='subject', columns='session', values='modularity')\n",
    "shen_mod_reas_base_df.rename({0: 'pre base reas shen mod', 1: 'post base reas shen mod'}, axis=1, inplace=True)\n",
    "\n",
    "df_pivot = reas_base_df[reas_base_df['mask'] == 'craddock2012'].reset_index()\n",
    "crad_eff_reas_base_df = df_pivot.pivot(index='subject', columns='session', values='efficiency')\n",
    "crad_eff_reas_base_df.rename({0: 'pre base reas crad eff', 1: 'post base reas crad eff'}, axis=1, inplace=True)\n",
    "\n",
    "crad_cpl_reas_base_df = df_pivot.pivot(index='subject', columns='session', values='charpath')\n",
    "crad_cpl_reas_base_df.rename({0: 'pre base reas crad cpl', 1: 'post base reas crad cpl'}, axis=1, inplace=True)\n",
    "\n",
    "crad_mod_reas_base_df = df_pivot.pivot(index='subject', columns='session', values='modularity')\n",
    "crad_mod_reas_base_df.rename({0: 'pre base reas crad mod', 1: 'post base reas crad mod'}, axis=1, inplace=True)"
   ]
  },
  {
   "cell_type": "code",
   "execution_count": null,
   "metadata": {},
   "outputs": [],
   "source": [
    "df_pivot = rsgt_df[rsgt_df['mask'] == 'shen2015'].reset_index()\n",
    "shen_eff_df = df_pivot.pivot(index='subject', columns='session', values='efficiency')\n",
    "shen_eff_df.rename({0: 'pre rest shen eff', 1: 'post rest shen eff'}, axis=1, inplace=True)\n",
    "\n",
    "shen_cpl_df = df_pivot.pivot(index='subject', columns='session', values='charpath')\n",
    "shen_cpl_df.rename({0: 'pre rest shen cpl', 1: 'post rest shen cpl'}, axis=1, inplace=True)\n",
    "\n",
    "shen_mod_df = df_pivot.pivot(index='subject', columns='session', values='modularity')\n",
    "shen_mod_df.rename({0: 'pre rest shen mod', 1: 'post rest shen mod'}, axis=1, inplace=True)\n",
    "\n",
    "df_pivot = rsgt_df[rsgt_df['mask'] == 'craddock2012'].reset_index()\n",
    "crad_eff_df = df_pivot.pivot(index='subject', columns='session', values='efficiency')\n",
    "crad_eff_df.rename({0: 'pre rest crad eff', 1: 'post rest crad eff'}, axis=1, inplace=True)\n",
    "\n",
    "crad_cpl_df = df_pivot.pivot(index='subject', columns='session', values='charpath')\n",
    "crad_cpl_df.rename({0: 'pre rest crad cpl', 1: 'post rest crad cpl'}, axis=1, inplace=True)\n",
    "\n",
    "crad_mod_df = df_pivot.pivot(index='subject', columns='session', values='modularity')\n",
    "crad_mod_df.rename({0: 'pre rest crad mod', 1: 'post rest crad mod'}, axis=1, inplace=True)"
   ]
  },
  {
   "cell_type": "code",
   "execution_count": null,
   "metadata": {},
   "outputs": [],
   "source": [
    "#demo_df[demo_df['Strt.Level'] < 0] = np.nan"
   ]
  },
  {
   "cell_type": "code",
   "execution_count": null,
   "metadata": {},
   "outputs": [],
   "source": [
    "all_df = pd.concat((df, shen_eff_df, shen_cpl_df, shen_mod_df,\n",
    "                    crad_eff_df, crad_cpl_df, crad_mod_df, \n",
    "                    head_size['normalized head size'],\n",
    "                    shen_eff_retr_phys_df, shen_cpl_retr_phys_df, shen_mod_retr_phys_df,\n",
    "                    crad_eff_retr_phys_df, crad_cpl_retr_phys_df, crad_mod_retr_phys_df, \n",
    "                    shen_eff_retr_genr_df, shen_cpl_retr_genr_df, shen_mod_retr_genr_df, \n",
    "                    crad_eff_retr_genr_df, crad_cpl_retr_genr_df, crad_mod_retr_genr_df,\n",
    "                    shen_eff_phys_fci_df, shen_cpl_phys_fci_df, shen_mod_phys_fci_df,\n",
    "                    crad_eff_phys_fci_df, crad_cpl_phys_fci_df, crad_mod_phys_fci_df,\n",
    "                    shen_eff_ctrl_fci_df, shen_cpl_ctrl_fci_df, shen_mod_ctrl_fci_df,\n",
    "                    crad_eff_ctrl_fci_df, crad_cpl_ctrl_fci_df, crad_mod_ctrl_fci_df, \n",
    "                    retr_phys_fd, retr_genr_fd, fci_phys_fd, fci_ctrl_fd, rs_fd), axis=1)\n",
    "\n",
    "missing_df = pd.DataFrame(columns=all_df.keys(), index=all_df.index)\n",
    "\n",
    "for key in missing_df.keys():\n",
    "    missing_df[key] = all_df[key].isnull()\n",
    "\n",
    "missing_df.replace({False: 0, True:1}, inplace=True)\n"
   ]
  },
  {
   "cell_type": "code",
   "execution_count": null,
   "metadata": {},
   "outputs": [],
   "source": [
    "index = pd.MultiIndex.from_product([missing_df.keys(), all_df.keys()])\n",
    "mnar = pd.DataFrame(columns=['corr', 'pval'], index=index)"
   ]
  },
  {
   "cell_type": "code",
   "execution_count": null,
   "metadata": {},
   "outputs": [],
   "source": [
    "all_df.drop(['Sex', 'Class.Type'], axis=1, inplace=True)\n",
    "all_df.dropna(inplace=True)"
   ]
  },
  {
   "cell_type": "code",
   "execution_count": null,
   "metadata": {},
   "outputs": [],
   "source": [
    "small = all_df[['post phys fci shen cpl', 'post ctrl fci shen cpl', 'FSIQ2', \n",
    "                          'Mod', 'F', 'Age', 'normalized head size', 'post phys fci fd', \n",
    "                          'post ctrl fci fd','Strt.Level']].dropna()\n",
    "small.rename({'post phys fci shen cpl': 'post_phys_cpl', \n",
    "                   'post ctrl fci shen cpl': 'post_ctrl_cpl', \n",
    "                   'FSIQ2': 'post_fsiq',\n",
    "                   'Age': 'age_scan', \n",
    "                   'Mod': 'modeling',\n",
    "                   'F': 'female',\n",
    "                   'normalized head size': 'head_size', \n",
    "                   'post phys fci fd': 'post_phys_fd',\n",
    "                   'post ctrl fci fd': 'post_ctrl_fd',\n",
    "                   'Strt.Level': 'start_level'}, axis=1, inplace=True)\n",
    "#small.head()\n",
    "small.to_csv('/Users/Katie/Dropbox/Training/NBCLab19-Visualization/data/small_data_imp.csv', sep=',')"
   ]
  },
  {
   "cell_type": "code",
   "execution_count": null,
   "metadata": {},
   "outputs": [],
   "source": [
    "all_df['delta rest shen mod'] = all_df['post rest shen mod'] - all_df['pre rest shen mod']\n",
    "all_df['delta rest shen cpl'] = all_df['post rest shen cpl'] - all_df['pre rest shen cpl']\n",
    "all_df['delta rest shen eff'] = all_df['post rest shen eff'] - all_df['pre rest shen eff']\n",
    "all_df['delta rest crad mod'] = all_df['post rest crad mod'] - all_df['pre rest crad mod']\n",
    "all_df['delta rest crad cpl'] = all_df['post rest crad cpl'] - all_df['pre rest crad cpl']\n",
    "all_df['delta rest crad eff'] = all_df['post rest crad eff'] - all_df['pre rest crad eff']\n",
    "\n",
    "all_df['delta phys retr shen eff'] = all_df['post phys retr shen eff'] - all_df['pre phys retr shen eff']\n",
    "all_df['delta phys retr shen mod'] = all_df['post phys retr shen mod'] - all_df['pre phys retr shen mod']\n",
    "all_df['delta phys retr shen cpl'] = all_df['post phys retr shen cpl'] - all_df['pre phys retr shen cpl']\n",
    "all_df['delta phys retr crad eff'] = all_df['post phys retr crad eff'] - all_df['pre phys retr crad eff']\n",
    "all_df['delta phys retr crad mod'] = all_df['post phys retr crad mod'] - all_df['pre phys retr crad mod']\n",
    "all_df['delta phys retr crad cpl'] = all_df['post phys retr crad cpl'] - all_df['pre phys retr crad cpl']\n",
    "\n",
    "all_df['delta gen retr shen eff'] = all_df['post gen retr shen eff'] - all_df['pre gen retr shen eff']\n",
    "all_df['delta gen retr shen mod'] = all_df['post gen retr shen mod'] - all_df['pre gen retr shen mod']\n",
    "all_df['delta gen retr shen cpl'] = all_df['post gen retr shen cpl'] - all_df['pre gen retr shen cpl']\n",
    "all_df['delta gen retr crad eff'] = all_df['post gen retr crad eff'] - all_df['pre gen retr crad eff']\n",
    "all_df['delta gen retr crad mod'] = all_df['post gen retr crad mod'] - all_df['pre gen retr crad mod']\n",
    "all_df['delta gen retr crad cpl'] = all_df['post gen retr crad cpl'] - all_df['pre gen retr crad cpl']\n",
    "\n",
    "all_df['delta phys fci shen eff'] = all_df['post phys fci shen eff'] - all_df['pre phys fci shen eff']\n",
    "all_df['delta phys fci shen mod'] = all_df['post phys fci shen mod'] - all_df['pre phys fci shen mod']\n",
    "all_df['delta phys fci shen cpl'] = all_df['post phys fci shen cpl'] - all_df['pre phys fci shen cpl']\n",
    "all_df['delta phys fci crad eff'] = all_df['post phys fci crad eff'] - all_df['pre phys fci crad eff']\n",
    "all_df['delta phys fci crad mod'] = all_df['post phys fci crad mod'] - all_df['pre phys fci crad mod']\n",
    "all_df['delta phys fci crad cpl'] = all_df['post phys fci crad cpl'] - all_df['pre phys fci crad cpl']\n",
    "\n",
    "all_df['delta ctrl fci shen eff'] = all_df['post ctrl fci shen eff'] - all_df['pre ctrl fci shen eff']\n",
    "all_df['delta ctrl fci shen mod'] = all_df['post ctrl fci shen mod'] - all_df['pre ctrl fci shen mod']\n",
    "all_df['delta ctrl fci shen cpl'] = all_df['post ctrl fci shen cpl'] - all_df['pre ctrl fci shen cpl']\n",
    "all_df['delta ctrl fci crad eff'] = all_df['post ctrl fci crad eff'] - all_df['pre ctrl fci crad eff']\n",
    "all_df['delta ctrl fci crad mod'] = all_df['post ctrl fci crad mod'] - all_df['pre ctrl fci crad mod']\n",
    "all_df['delta ctrl fci crad cpl'] = all_df['post ctrl fci crad cpl'] - all_df['pre ctrl fci crad cpl']\n",
    "\n",
    "all_df['delta ctrl fci fd'] = (all_df['post ctrl fci fd'] + all_df['pre ctrl fci fd']) / 2\n",
    "all_df['delta phys fci fd'] = (all_df['post phys fci fd'] + all_df['pre phys fci fd']) / 2\n",
    "all_df['delta phys retr fd'] = (all_df['post phys retr fd'] + all_df['pre phys retr fd']) / 2\n",
    "all_df['delta gen retr fd'] = (all_df['post gen retr fd'] + all_df['pre gen retr fd']) / 2\n",
    "all_df['delta rest fd'] = (all_df['post rest fd'] + all_df['pre rest fd']) / 2"
   ]
  },
  {
   "cell_type": "code",
   "execution_count": null,
   "metadata": {},
   "outputs": [],
   "source": [
    "all_df_f = all_df[all_df['F'] == 1]\n",
    "all_df_m = all_df[all_df['F'] == 0]"
   ]
  },
  {
   "cell_type": "code",
   "execution_count": null,
   "metadata": {},
   "outputs": [],
   "source": [
    "sexes = ['Male', 'Female', 'All']\n",
    "sessions = ['pre', 'post', 'delta']"
   ]
  },
  {
   "cell_type": "markdown",
   "metadata": {},
   "source": [
    "# For all students, all together, how is topology related to IQ?"
   ]
  },
  {
   "cell_type": "code",
   "execution_count": null,
   "metadata": {},
   "outputs": [],
   "source": [
    "#first things first, setting up our covariates\n",
    "covariates = ['Age', 'Mod', 'Strt.Level', 'normalized head size', 'SexXClass', 'F']"
   ]
  },
  {
   "cell_type": "code",
   "execution_count": null,
   "metadata": {},
   "outputs": [],
   "source": [
    "iqs = ['VCI', 'WMI', 'PRI', 'PSI', 'FSIQ']"
   ]
  },
  {
   "cell_type": "code",
   "execution_count": null,
   "metadata": {},
   "outputs": [],
   "source": [
    "outcomes1 = ['pre phys fci shen eff', 'post phys fci shen eff', 'pre phys fci shen cpl', \n",
    "            'post phys fci shen cpl', 'pre phys fci shen mod', 'post phys fci shen mod',\n",
    "            'pre ctrl fci shen eff', 'post ctrl fci shen eff', 'pre ctrl fci shen cpl', \n",
    "            'post ctrl fci shen cpl', 'pre ctrl fci shen mod', 'post ctrl fci shen mod', \n",
    "            'delta phys fci shen mod', 'delta phys fci shen cpl', 'delta phys fci shen eff',\n",
    "            'delta ctrl fci shen mod', 'delta ctrl fci shen cpl', 'delta ctrl fci shen eff']\n",
    "outcomes2 = ['pre rest shen eff', 'post rest shen eff', 'pre rest shen cpl', \n",
    "            'post rest shen cpl', 'pre rest shen mod', 'post rest shen mod', \n",
    "            'delta rest shen mod', 'delta rest shen cpl', 'delta rest shen eff']\n",
    "outcomes3 = ['pre phys retr shen eff', 'post phys retr shen eff', 'pre phys retr shen cpl', \n",
    "            'post phys retr shen cpl', 'pre phys retr shen mod', 'post phys retr shen mod',\n",
    "            'pre gen retr shen eff', 'post gen retr shen eff', 'pre gen retr shen cpl', \n",
    "            'post gen retr shen cpl', 'pre gen retr shen mod', 'post gen retr shen mod', \n",
    "            'delta phys retr shen mod', 'delta phys retr shen cpl', 'delta phys retr shen eff',\n",
    "            'delta gen retr shen mod', 'delta gen retr shen cpl', 'delta gen retr shen eff']\n",
    "\n",
    "all_out = outcomes1 + outcomes2 + outcomes3\n",
    "\n",
    "all_mc_alpha,_ = liji_sidak_mc(all_df[all_out], 0.05)\n",
    "print('Shen', all_mc_alpha)"
   ]
  },
  {
   "cell_type": "code",
   "execution_count": null,
   "metadata": {},
   "outputs": [],
   "source": [
    "outcomes1 = ['pre phys fci crad eff', 'post phys fci crad eff', 'pre phys fci crad cpl', \n",
    "            'post phys fci crad cpl', 'pre phys fci crad mod', 'post phys fci crad mod',\n",
    "            'pre ctrl fci crad eff', 'post ctrl fci crad eff', 'pre ctrl fci crad cpl', \n",
    "            'post ctrl fci crad cpl', 'pre ctrl fci crad mod', 'post ctrl fci crad mod', \n",
    "            'delta phys fci crad mod', 'delta phys fci crad cpl', 'delta phys fci crad eff',\n",
    "            'delta ctrl fci crad mod', 'delta ctrl fci crad cpl', 'delta ctrl fci crad eff']\n",
    "outcomes2 = ['pre rest crad eff', 'post rest crad eff', 'pre rest crad cpl', \n",
    "            'post rest crad cpl', 'pre rest crad mod', 'post rest crad mod', \n",
    "            'delta rest crad mod', 'delta rest crad cpl', 'delta rest crad eff']\n",
    "outcomes3 = ['pre phys retr crad eff', 'post phys retr crad eff', 'pre phys retr crad cpl', \n",
    "            'post phys retr crad cpl', 'pre phys retr crad mod', 'post phys retr crad mod',\n",
    "            'pre gen retr crad eff', 'post gen retr crad eff', 'pre gen retr crad cpl', \n",
    "            'post gen retr crad cpl', 'pre gen retr crad mod', 'post gen retr crad mod', \n",
    "            'delta phys retr crad mod', 'delta phys retr crad cpl', 'delta phys retr crad eff',\n",
    "            'delta gen retr crad mod', 'delta gen retr crad cpl', 'delta gen retr crad eff']\n",
    "\n",
    "all_out = outcomes1 + outcomes2 + outcomes3\n",
    "\n",
    "#\n",
    "all_mc_alpha,_ = liji_sidak_mc(all_df[all_out], 0.05)\n",
    "print('Craddock', all_mc_alpha)"
   ]
  },
  {
   "cell_type": "markdown",
   "metadata": {},
   "source": [
    "## Rest and brain organization!"
   ]
  },
  {
   "cell_type": "code",
   "execution_count": null,
   "metadata": {},
   "outputs": [],
   "source": [
    "outcomes = ['pre rest shen eff', 'post rest shen eff', 'pre rest shen cpl', \n",
    "            'post rest shen cpl', 'pre rest shen mod', 'post rest shen mod', \n",
    "            'delta rest shen mod', 'delta rest shen cpl', 'delta rest shen eff']"
   ]
  },
  {
   "cell_type": "code",
   "execution_count": null,
   "metadata": {},
   "outputs": [],
   "source": [
    "outcomes = ['pre rest crad eff', 'post rest crad eff', 'pre rest crad cpl', \n",
    "            'post rest crad cpl', 'pre rest crad mod', 'post rest crad mod', \n",
    "            'delta rest crad mod', 'delta rest crad cpl', 'delta rest crad eff']"
   ]
  },
  {
   "cell_type": "code",
   "execution_count": null,
   "metadata": {},
   "outputs": [],
   "source": [
    "mc_alpha,_ = liji_sidak_mc(all_df[outcomes], 0.05)"
   ]
  },
  {
   "cell_type": "code",
   "execution_count": null,
   "metadata": {},
   "outputs": [],
   "source": [
    "index = pd.MultiIndex.from_product((sessions, iqs))\n",
    "brainXIQ_df = pd.DataFrame(index=index, columns=['F-statistic', 'Prob (F-statistic)', \n",
    "                                                     'AIC', 'BIC', 'IQ_pval', 'IQXClass_pval'])\n",
    "\n",
    "all_outcome_mc,_ = liji_sidak_mc(all_df[outcomes], 0.05)\n",
    "for i in np.arange(0,len(outcomes)):\n",
    "    for iq_meas in iqs:\n",
    "        y = all_df[outcomes[i]]\n",
    "        x = all_df[['{0}1'.format(iq_meas), \n",
    "                    '{0}1XSex'.format(iq_meas), \n",
    "                    '{0}1XClass'.format(iq_meas),\n",
    "                    '{0}1XClassXSex'.format(iq_meas), \n",
    "                    '{0} fd'.format(outcomes[i][:-9])] + covariates]\n",
    "\n",
    "        x = sm.add_constant(x)\n",
    "        reg1 = sm.OLS(endog=y, \n",
    "                      exog=x, \n",
    "                      missing='drop')\n",
    "        if len(x.dropna()) == len(y.dropna()):\n",
    "            linreg = Lasso()\n",
    "            linreg.fit(x.dropna(),y.dropna())\n",
    "        brain_on_pre_iq = reg1.fit()\n",
    "        brainXIQ_df.at[('pre', iq_meas), 'F-statistic'] = brain_on_pre_iq.fvalue\n",
    "        brainXIQ_df.at[('pre', iq_meas), 'Prob (F-statistic)'] = brain_on_pre_iq.f_pvalue\n",
    "        brainXIQ_df.at[('pre', iq_meas), 'AIC'] = brain_on_pre_iq.aic\n",
    "        brainXIQ_df.at[('pre', iq_meas), 'BIC'] = brain_on_pre_iq.bic\n",
    "        brainXIQ_df.at[('pre', iq_meas), '{0}_IQ_pval'.format(iq_meas)] = brain_on_pre_iq.pvalues[1]\n",
    "        brainXIQ_df.at[('pre', iq_meas), '{0}_IQXClass_pval'.format(iq_meas)] = brain_on_pre_iq.pvalues[2]\n",
    "        if brain_on_pre_iq.f_pvalue < all_mc_alpha:\n",
    "            print(brain_on_pre_iq.summary())\n",
    "        #print('Course grade regressed on pre IQ, female students\\n', grade_on_iq.summary())\n",
    "        x = all_df[['{0}2'.format(iq_meas), \n",
    "                    '{0}2XSex'.format(iq_meas), \n",
    "                    '{0}2XClass'.format(iq_meas),\n",
    "                    '{0}2XClassXSex'.format(iq_meas), \n",
    "                    '{0} fd'.format(outcomes[i][:-9])] + covariates]\n",
    "\n",
    "        x = sm.add_constant(x)\n",
    "        reg1 = sm.OLS(endog=y, \n",
    "                      exog=x, \n",
    "                      missing='drop')\n",
    "        brain_on_post_iq = reg1.fit()\n",
    "        brainXIQ_df.at[('post', iq_meas), 'F-statistic'] = brain_on_post_iq.fvalue\n",
    "        brainXIQ_df.at[('post', iq_meas), 'Prob (F-statistic)'] = brain_on_post_iq.f_pvalue\n",
    "        brainXIQ_df.at[('post', iq_meas), 'AIC'] = brain_on_post_iq.aic\n",
    "        brainXIQ_df.at[('post', iq_meas), 'BIC'] = brain_on_post_iq.bic\n",
    "        brainXIQ_df.at[('post', iq_meas), '{0}_IQ_pval'.format(outcomes[i])] = brain_on_post_iq.pvalues[1]\n",
    "        brainXIQ_df.at[('post', iq_meas), '{0}_IQXClass_pval'.format(outcomes[i])] = brain_on_post_iq.pvalues[2]\n",
    "        if brain_on_post_iq.f_pvalue < all_mc_alpha:\n",
    "            print(brain_on_post_iq.summary())\n",
    "        #print('Course grade regressed on post IQ, female students\\n', grade_on_iq.summary())\n",
    "        x = all_df[['delta{0}'.format(iq_meas), \n",
    "                    'delta{0}XSex'.format(iq_meas), \n",
    "                    'delta{0}XClass'.format(iq_meas), \n",
    "                    'delta{0}XClassXSex'.format(iq_meas), \n",
    "                    '{0} fd'.format(outcomes[i][:-9])] + covariates]\n",
    "\n",
    "        x = sm.add_constant(x)\n",
    "        reg1 = sm.OLS(endog=y, \n",
    "                      exog=x, \n",
    "                      missing='drop')\n",
    "        brain_on_delta_iq = reg1.fit()\n",
    "        brainXIQ_df.at[('delta', iq_meas), 'F-statistic'] = brain_on_delta_iq.fvalue\n",
    "        brainXIQ_df.at[('delta', iq_meas), 'Prob (F-statistic)'] = brain_on_delta_iq.f_pvalue\n",
    "        brainXIQ_df.at[('delta', iq_meas), 'AIC'] = brain_on_delta_iq.aic\n",
    "        brainXIQ_df.at[('delta', iq_meas), 'BIC'] = brain_on_delta_iq.bic\n",
    "        brainXIQ_df.at[('delta', iq_meas), '{0}_IQ_pval'.format(outcomes[i])] = brain_on_delta_iq.pvalues[1]\n",
    "        brainXIQ_df.at[('delta', iq_meas), '{0}_IQXClass_pval'.format(outcomes[i])] = brain_on_delta_iq.pvalues[2]\n",
    "        if brain_on_delta_iq.f_pvalue < all_mc_alpha:\n",
    "            print(brain_on_delta_iq.summary())\n",
    "    brainXIQ_df.to_csv(join(data_dir, 'rescored', 'iqX{0}_all.csv'.format(outcomes[i])))"
   ]
  },
  {
   "cell_type": "code",
   "execution_count": null,
   "metadata": {},
   "outputs": [],
   "source": [
    "if len(x.dropna()) == len(y.dropna()):\n",
    "    linreg = Lasso(alpha=0.5)\n",
    "    q = linreg.fit(x.dropna(),y.dropna())"
   ]
  },
  {
   "cell_type": "code",
   "execution_count": null,
   "metadata": {},
   "outputs": [],
   "source": [
    "q.score(x.dropna(),y.dropna())"
   ]
  },
  {
   "cell_type": "markdown",
   "metadata": {},
   "source": [
    "## Retrieval task brain organization and IQ!"
   ]
  },
  {
   "cell_type": "code",
   "execution_count": null,
   "metadata": {},
   "outputs": [],
   "source": [
    "outcomes = ['pre phys retr crad eff', 'post phys retr crad eff', 'pre phys retr crad cpl', \n",
    "            'post phys retr crad cpl', 'pre phys retr crad mod', 'post phys retr crad mod',\n",
    "            'pre gen retr crad eff', 'post gen retr crad eff', 'pre gen retr crad cpl', \n",
    "            'post gen retr crad cpl', 'pre gen retr crad mod', 'post gen retr crad mod', \n",
    "            'delta phys retr crad mod', 'delta phys retr crad cpl', 'delta phys retr crad eff',\n",
    "            'delta gen retr crad mod', 'delta gen retr crad cpl', 'delta gen retr crad eff']"
   ]
  },
  {
   "cell_type": "code",
   "execution_count": null,
   "metadata": {},
   "outputs": [],
   "source": [
    "outcomes = ['pre phys retr shen eff', 'post phys retr shen eff', 'pre phys retr shen cpl', \n",
    "            'post phys retr shen cpl', 'pre phys retr shen mod', 'post phys retr shen mod',\n",
    "            'pre gen retr shen eff', 'post gen retr shen eff', 'pre gen retr shen cpl', \n",
    "            'post gen retr shen cpl', 'pre gen retr shen mod', 'post gen retr shen mod', \n",
    "            'delta phys retr shen mod', 'delta phys retr shen cpl', 'delta phys retr shen eff',\n",
    "            'delta gen retr shen mod', 'delta gen retr shen cpl', 'delta gen retr shen eff']"
   ]
  },
  {
   "cell_type": "code",
   "execution_count": null,
   "metadata": {},
   "outputs": [],
   "source": [
    "index = pd.MultiIndex.from_product((sessions, iqs))\n",
    "brainXIQ_df = pd.DataFrame(index=index, columns=['F-statistic', 'Prob (F-statistic)', \n",
    "                                                     'AIC', 'BIC', 'IQ_pval', 'IQXClass_pval'])\n",
    "all_outcome_mc,_ = liji_sidak_mc(all_df[outcomes], 0.05)\n",
    "for i in np.arange(0,len(outcomes)):\n",
    "    for iq_meas in iqs:\n",
    "        y = all_df[outcomes[i]]\n",
    "        if outcomes[0][:-9][-4:] != 'rest':\n",
    "            x = all_df[['{0}1'.format(iq_meas), \n",
    "                        #'{0}1XSex'.format(iq_meas), \n",
    "                        '{0}1XClass'.format(iq_meas),\n",
    "                        #'{0}1XClassXSex'.format(iq_meas), \n",
    "                        '{0} fd'.format(outcomes[i][:-9])] + covariates]\n",
    "        else:\n",
    "            x = all_df[['{0}1'.format(iq_meas), \n",
    "                        '{0}1XSex'.format(iq_meas), \n",
    "                        '{0}1XClass'.format(iq_meas),\n",
    "                        '{0}1XClassXSex'.format(iq_meas)] + covariates]\n",
    "            \n",
    "        x = sm.add_constant(x)\n",
    "        reg1 = sm.OLS(endog=y, \n",
    "                      exog=x, \n",
    "                      missing='drop')\n",
    "        brain_on_pre_iq = reg1.fit()\n",
    "        brainXIQ_df.at[('pre', iq_meas), 'F-statistic'] = brain_on_pre_iq.fvalue\n",
    "        brainXIQ_df.at[('pre', iq_meas), 'Prob (F-statistic)'] = brain_on_pre_iq.f_pvalue\n",
    "        brainXIQ_df.at[('pre', iq_meas), 'AIC'] = brain_on_pre_iq.aic\n",
    "        brainXIQ_df.at[('pre', iq_meas), 'BIC'] = brain_on_pre_iq.bic\n",
    "        brainXIQ_df.at[('pre', iq_meas), '{0}_IQ_pval'.format(iq_meas)] = brain_on_pre_iq.pvalues[1]\n",
    "        brainXIQ_df.at[('pre', iq_meas), '{0}_IQXClass_pval'.format(iq_meas)] = brain_on_pre_iq.pvalues[2]\n",
    "        if brain_on_pre_iq.f_pvalue < all_mc_alpha and brain_on_pre_iq.pvalues['{0}1'.format(iq_meas)] < 0.05:\n",
    "            print(brain_on_pre_iq.summary())\n",
    "        #print('Course grade regressed on pre IQ, female students\\n', grade_on_iq.summary())\n",
    "        if outcomes[0][:-9][-4:] != 'rest':\n",
    "            x = all_df[['{0}2'.format(iq_meas), \n",
    "                        #'{0}2XSex'.format(iq_meas), \n",
    "                        '{0}2XClass'.format(iq_meas),\n",
    "                        #'{0}2XClassXSex'.format(iq_meas), \n",
    "                        '{0} fd'.format(outcomes[i][:-9])] + covariates]\n",
    "        else:\n",
    "            x = all_df[['{0}2'.format(iq_meas), \n",
    "                        '{0}2XSex'.format(iq_meas), \n",
    "                        '{0}2XClass'.format(iq_meas),\n",
    "                        '{0}2XClassXSex'.format(iq_meas)] + covariates]\n",
    "        x = sm.add_constant(x)\n",
    "        reg1 = sm.OLS(endog=y, \n",
    "                      exog=x, \n",
    "                      missing='drop')\n",
    "        brain_on_post_iq = reg1.fit()\n",
    "        brainXIQ_df.at[('post', iq_meas), 'F-statistic'] = brain_on_post_iq.fvalue\n",
    "        brainXIQ_df.at[('post', iq_meas), 'Prob (F-statistic)'] = brain_on_post_iq.f_pvalue\n",
    "        brainXIQ_df.at[('post', iq_meas), 'AIC'] = brain_on_post_iq.aic\n",
    "        brainXIQ_df.at[('post', iq_meas), 'BIC'] = brain_on_post_iq.bic\n",
    "        brainXIQ_df.at[('post', iq_meas), '{0}_IQ_pval'.format(outcomes[i])] = brain_on_post_iq.pvalues[1]\n",
    "        brainXIQ_df.at[('post', iq_meas), '{0}_IQXClass_pval'.format(outcomes[i])] = brain_on_post_iq.pvalues[2]\n",
    "        if brain_on_post_iq.f_pvalue < all_mc_alpha and brain_on_post_iq.pvalues['{0}2'.format(iq_meas)] < 0.05:\n",
    "            print(brain_on_post_iq.summary())\n",
    "        #print('Course grade regressed on post IQ, female students\\n', grade_on_iq.summary())\n",
    "        if outcomes[0][:-9][-4:] != 'rest':\n",
    "            x = all_df[['delta{0}'.format(iq_meas), \n",
    "                        #'delta{0}XSex'.format(iq_meas), \n",
    "                        'delta{0}XClass'.format(iq_meas), \n",
    "                        #'delta{0}XClassXSex'.format(iq_meas), \n",
    "                        '{0} fd'.format(outcomes[i][:-9])] + covariates]\n",
    "        else:\n",
    "            x = all_df[['delta{0}'.format(iq_meas), \n",
    "                        'delta{0}XSex'.format(iq_meas), \n",
    "                        'delta{0}XClass'.format(iq_meas),\n",
    "                        'delta{0}XClassXSex'.format(iq_meas)] + covariates]\n",
    "        x = sm.add_constant(x)\n",
    "        reg1 = sm.OLS(endog=y, \n",
    "                      exog=x, \n",
    "                      missing='drop')\n",
    "        brain_on_delta_iq = reg1.fit()\n",
    "        brainXIQ_df.at[('delta', iq_meas), 'F-statistic'] = brain_on_delta_iq.fvalue\n",
    "        brainXIQ_df.at[('delta', iq_meas), 'Prob (F-statistic)'] = brain_on_delta_iq.f_pvalue\n",
    "        brainXIQ_df.at[('delta', iq_meas), 'AIC'] = brain_on_delta_iq.aic\n",
    "        brainXIQ_df.at[('delta', iq_meas), 'BIC'] = brain_on_delta_iq.bic\n",
    "        brainXIQ_df.at[('delta', iq_meas), '{0}_IQ_pval'.format(outcomes[i])] = brain_on_delta_iq.pvalues[1]\n",
    "        brainXIQ_df.at[('delta', iq_meas), '{0}_IQXClass_pval'.format(outcomes[i])] = brain_on_delta_iq.pvalues[2]\n",
    "        if brain_on_delta_iq.f_pvalue < all_mc_alpha and brain_on_delta_iq.pvalues['delta{0}'.format(iq_meas)] < 0.05:\n",
    "            print(brain_on_delta_iq.summary())\n",
    "    brainXIQ_df.to_csv(join(data_dir, 'rescored', 'iqX{0}_all.csv'.format(outcomes[i])))"
   ]
  },
  {
   "cell_type": "markdown",
   "metadata": {},
   "source": [
    "## Reasoning task and IQ!"
   ]
  },
  {
   "cell_type": "code",
   "execution_count": null,
   "metadata": {},
   "outputs": [],
   "source": [
    "outcomes = ['pre infr reas shen eff', 'post infr reas shen eff', 'pre infr reas shen cpl', \n",
    "            'post infr reas shen cpl', 'pre infr reas shen mod', 'post infr reas shen mod',\n",
    "            'pre base reas shen eff', 'post base reas shen eff', 'pre base reas shen cpl', \n",
    "            'post base reas shen cpl', 'pre base reas shen mod', 'post base reas shen mod',\n",
    "            'delta infr reas shen mod', 'delta infr reas shen cpl', 'delta infr reas shen eff',\n",
    "            'delta base reas shen mod', 'delta base reas shen cpl', 'delta base reas shen eff']"
   ]
  },
  {
   "cell_type": "code",
   "execution_count": null,
   "metadata": {},
   "outputs": [],
   "source": [
    "outcomes = ['pre infr reas crad eff', 'post infr reas crad eff', 'pre infr reas crad cpl', \n",
    "            'post infr reas crad cpl', 'pre infr reas crad mod', 'post infr reas crad mod',\n",
    "            'pre base reas crad eff', 'post base reas crad eff', 'pre base reas crad cpl', \n",
    "            'post base reas crad cpl', 'pre base reas crad mod', 'post base reas crad mod',\n",
    "            'delta infr reas crad mod', 'delta infr reas crad cpl', 'delta infr reas crad eff',\n",
    "            'delta base reas crad mod', 'delta base reas crad cpl', 'delta base reas crad eff']"
   ]
  },
  {
   "cell_type": "code",
   "execution_count": null,
   "metadata": {},
   "outputs": [],
   "source": [
    "index = pd.MultiIndex.from_product((sessions, iqs))\n",
    "brainXIQ_df = pd.DataFrame(index=index, columns=['F-statistic', 'Prob (F-statistic)', \n",
    "                                                     'AIC', 'BIC', 'IQ_pval', 'IQXClass_pval'])\n",
    "all_outcome_mc,_ = liji_sidak_mc(all_df[outcomes], 0.05)\n",
    "for i in np.arange(0,len(outcomes)):\n",
    "    for iq_meas in iqs:\n",
    "        y = all_df[outcomes[i]]\n",
    "        if outcomes[0][:-9][-4:] != 'rest':\n",
    "            x = all_df[['{0}1'.format(iq_meas), \n",
    "                        '{0}1XSex'.format(iq_meas), \n",
    "                        '{0}1XClass'.format(iq_meas),\n",
    "                        '{0}1XClassXSex'.format(iq_meas), \n",
    "                        '{0} fd'.format(outcomes[i][:-9])] + covariates]\n",
    "        else:\n",
    "            x = all_df[['{0}1'.format(iq_meas), \n",
    "                        '{0}1XSex'.format(iq_meas), \n",
    "                        '{0}1XClass'.format(iq_meas),\n",
    "                        '{0}1XClassXSex'.format(iq_meas)] + covariates]\n",
    "            \n",
    "        x = sm.add_constant(x)\n",
    "        reg1 = sm.OLS(endog=y, \n",
    "                      exog=x, \n",
    "                      missing='drop')\n",
    "        brain_on_pre_iq = reg1.fit()\n",
    "        brainXIQ_df.at[('pre', iq_meas), 'F-statistic'] = brain_on_pre_iq.fvalue\n",
    "        brainXIQ_df.at[('pre', iq_meas), 'Prob (F-statistic)'] = brain_on_pre_iq.f_pvalue\n",
    "        brainXIQ_df.at[('pre', iq_meas), 'AIC'] = brain_on_pre_iq.aic\n",
    "        brainXIQ_df.at[('pre', iq_meas), 'BIC'] = brain_on_pre_iq.bic\n",
    "        brainXIQ_df.at[('pre', iq_meas), '{0}_IQ_pval'.format(iq_meas)] = brain_on_pre_iq.pvalues[1]\n",
    "        brainXIQ_df.at[('pre', iq_meas), '{0}_IQXClass_pval'.format(iq_meas)] = brain_on_pre_iq.pvalues[2]\n",
    "        if brain_on_pre_iq.f_pvalue < all_mc_alpha and brain_on_pre_iq.pvalues['{0}1'.format(iq_meas)] < 0.05:\n",
    "            print(brain_on_pre_iq.summary())\n",
    "        #print('Course grade regressed on pre IQ, female students\\n', grade_on_iq.summary())\n",
    "        if outcomes[0][:-9][-4:] != 'rest':\n",
    "            x = all_df[['{0}2'.format(iq_meas), \n",
    "                        '{0}2XSex'.format(iq_meas), \n",
    "                        '{0}2XClass'.format(iq_meas),\n",
    "                        '{0}2XClassXSex'.format(iq_meas), \n",
    "                        '{0} fd'.format(outcomes[i][:-9])] + covariates]\n",
    "        else:\n",
    "            x = all_df[['{0}2'.format(iq_meas), \n",
    "                        '{0}2XSex'.format(iq_meas), \n",
    "                        '{0}2XClass'.format(iq_meas),\n",
    "                        '{0}2XClassXSex'.format(iq_meas)] + covariates]\n",
    "        x = sm.add_constant(x)\n",
    "        reg1 = sm.OLS(endog=y, \n",
    "                      exog=x, \n",
    "                      missing='drop')\n",
    "        brain_on_post_iq = reg1.fit()\n",
    "        brainXIQ_df.at[('post', iq_meas), 'F-statistic'] = brain_on_post_iq.fvalue\n",
    "        brainXIQ_df.at[('post', iq_meas), 'Prob (F-statistic)'] = brain_on_post_iq.f_pvalue\n",
    "        brainXIQ_df.at[('post', iq_meas), 'AIC'] = brain_on_post_iq.aic\n",
    "        brainXIQ_df.at[('post', iq_meas), 'BIC'] = brain_on_post_iq.bic\n",
    "        brainXIQ_df.at[('post', iq_meas), '{0}_IQ_pval'.format(outcomes[i])] = brain_on_post_iq.pvalues[1]\n",
    "        brainXIQ_df.at[('post', iq_meas), '{0}_IQXClass_pval'.format(outcomes[i])] = brain_on_post_iq.pvalues[2]\n",
    "        if brain_on_post_iq.f_pvalue < all_mc_alpha and brain_on_post_iq.pvalues['{0}2'.format(iq_meas)] < 0.05:\n",
    "            print(brain_on_post_iq.summary())\n",
    "        #print('Course grade regressed on post IQ, female students\\n', grade_on_iq.summary())\n",
    "\n",
    "        if outcomes[0][:-9][-4:] != 'rest':\n",
    "            x = all_df[['delta{0}'.format(iq_meas), \n",
    "                        'delta{0}XSex'.format(iq_meas), \n",
    "                        'delta{0}XClass'.format(iq_meas), \n",
    "                        'delta{0}XClassXSex'.format(iq_meas), \n",
    "                        '{0} fd'.format(outcomes[i][:-9])] + covariates]\n",
    "        else:\n",
    "            x = all_df[['delta{0}'.format(iq_meas), \n",
    "                        'delta{0}XSex'.format(iq_meas), \n",
    "                        'delta{0}XClass'.format(iq_meas),\n",
    "                        'delta{0}XClassXSex'.format(iq_meas)] + covariates]\n",
    "        x = sm.add_constant(x)\n",
    "        reg1 = sm.OLS(endog=y, \n",
    "                      exog=x, \n",
    "                      missing='drop')\n",
    "        brain_on_delta_iq = reg1.fit()\n",
    "        brainXIQ_df.at[('delta', iq_meas), 'F-statistic'] = brain_on_delta_iq.fvalue\n",
    "        brainXIQ_df.at[('delta', iq_meas), 'Prob (F-statistic)'] = brain_on_delta_iq.f_pvalue\n",
    "        brainXIQ_df.at[('delta', iq_meas), 'AIC'] = brain_on_delta_iq.aic\n",
    "        brainXIQ_df.at[('delta', iq_meas), 'BIC'] = brain_on_delta_iq.bic\n",
    "        brainXIQ_df.at[('delta', iq_meas), '{0}_IQ_pval'.format(outcomes[i])] = brain_on_delta_iq.pvalues[1]\n",
    "        brainXIQ_df.at[('delta', iq_meas), '{0}_IQXClass_pval'.format(outcomes[i])] = brain_on_delta_iq.pvalues[2]\n",
    "        if brain_on_delta_iq.f_pvalue < all_mc_alpha and brain_on_delta_iq.pvalues['delta{0}'.format(iq_meas)] < 0.05:\n",
    "            print(brain_on_delta_iq.summary())\n",
    "    brainXIQ_df.to_csv(join(data_dir, 'rescored', 'iqX{0}_all.csv'.format(outcome)))"
   ]
  },
  {
   "cell_type": "markdown",
   "metadata": {},
   "source": [
    "## FCI Task"
   ]
  },
  {
   "cell_type": "code",
   "execution_count": null,
   "metadata": {},
   "outputs": [],
   "source": [
    "outcomes = ['pre phys fci crad eff', 'post phys fci crad eff', 'pre phys fci crad cpl', \n",
    "            'post phys fci crad cpl', 'pre phys fci crad mod', 'post phys fci crad mod',\n",
    "            'pre ctrl fci crad eff', 'post ctrl fci crad eff', 'pre ctrl fci crad cpl', \n",
    "            'post ctrl fci crad cpl', 'pre ctrl fci crad mod', 'post ctrl fci crad mod', \n",
    "            'delta phys fci crad mod', 'delta phys fci crad cpl', 'delta phys fci crad eff',\n",
    "            'delta ctrl fci crad mod', 'delta ctrl fci crad cpl', 'delta ctrl fci crad eff']"
   ]
  },
  {
   "cell_type": "code",
   "execution_count": null,
   "metadata": {},
   "outputs": [],
   "source": [
    "outcomes = ['pre phys fci shen eff', 'post phys fci shen eff', 'pre phys fci shen cpl', \n",
    "            'post phys fci shen cpl', 'pre phys fci shen mod', 'post phys fci shen mod',\n",
    "            'delta phys fci shen mod', 'delta phys fci shen cpl', 'delta phys fci shen eff']"
   ]
  },
  {
   "cell_type": "code",
   "execution_count": null,
   "metadata": {},
   "outputs": [],
   "source": [
    "outcomes = ['pre phys fci shen eff', 'post phys fci shen eff', 'pre phys fci shen cpl', \n",
    "            'post phys fci shen cpl', 'pre phys fci shen mod', 'post phys fci shen mod',\n",
    "            'pre ctrl fci shen eff', 'post ctrl fci shen eff', 'pre ctrl fci shen cpl', \n",
    "            'post ctrl fci shen cpl', 'pre ctrl fci shen mod', 'post ctrl fci shen mod', \n",
    "            'delta phys fci shen mod', 'delta phys fci shen cpl', 'delta phys fci shen eff',\n",
    "            'delta ctrl fci shen mod', 'delta ctrl fci shen cpl', 'delta ctrl fci shen eff']"
   ]
  },
  {
   "cell_type": "code",
   "execution_count": null,
   "metadata": {},
   "outputs": [],
   "source": [
    "index = pd.MultiIndex.from_product((sessions, iqs))\n",
    "brainXIQ_df = pd.DataFrame(index=index, columns=['F-statistic', 'Prob (F-statistic)', \n",
    "                                                     'AIC', 'BIC', 'IQ_pval', 'IQXClass_pval'])\n",
    "all_outcome_mc,_ = liji_sidak_mc(all_df[outcomes], 0.05)\n",
    "for i in np.arange(0,len(outcomes)):\n",
    "    for iq_meas in iqs:\n",
    "        y = all_df[outcomes[i]]\n",
    "        if outcomes[0][:-9][-4:] != 'rest':\n",
    "            x = all_df[['{0}1'.format(iq_meas), '{0} fd'.format(outcomes[i][:-9])] + covariates]\n",
    "                        #'{0}1XSex'.format(iq_meas), \n",
    "                        #'{0}1XClass'.format(iq_meas),\n",
    "                        #'{0}1XClassXSex'.format(iq_meas), \n",
    "                        \n",
    "        else:\n",
    "            x = all_df[['{0}1'.format(iq_meas)] \n",
    "                        #'{0}1XSex'.format(iq_meas), \n",
    "                        #'{0}1XClass'.format(iq_meas),\n",
    "                        #'{0}1XClassXSex'.format(iq_meas)] \n",
    "                        + covariates]\n",
    "            \n",
    "        x = sm.add_constant(x)\n",
    "        reg1 = sm.OLS(endog=y, \n",
    "                      exog=x, \n",
    "                      missing='drop')\n",
    "        brain_on_pre_iq = reg1.fit()\n",
    "        brainXIQ_df.at[('pre', iq_meas), 'F-statistic'] = brain_on_pre_iq.fvalue\n",
    "        brainXIQ_df.at[('pre', iq_meas), 'Prob (F-statistic)'] = brain_on_pre_iq.f_pvalue\n",
    "        brainXIQ_df.at[('pre', iq_meas), 'AIC'] = brain_on_pre_iq.aic\n",
    "        brainXIQ_df.at[('pre', iq_meas), 'BIC'] = brain_on_pre_iq.bic\n",
    "        brainXIQ_df.at[('pre', iq_meas), '{0}_IQ_pval'.format(iq_meas)] = brain_on_pre_iq.pvalues[1]\n",
    "        brainXIQ_df.at[('pre', iq_meas), '{0}_IQXClass_pval'.format(iq_meas)] = brain_on_pre_iq.pvalues[2]\n",
    "        if brain_on_pre_iq.f_pvalue < all_mc_alpha and brain_on_pre_iq.pvalues['{0}1'.format(iq_meas)] < 0.05:\n",
    "            print(brain_on_pre_iq.summary())\n",
    "        #print('Course grade regressed on pre IQ, female students\\n', grade_on_iq.summary())\n",
    "        if outcomes[0][:-9][-4:] != 'rest':\n",
    "            x = all_df[['{0}2'.format(iq_meas), \n",
    "                        '{0}2XSex'.format(iq_meas), \n",
    "                        '{0}2XClass'.format(iq_meas),\n",
    "                        '{0}2XClassXSex'.format(iq_meas), \n",
    "                        '{0} fd'.format(outcomes[i][:-9])] + covariates]\n",
    "        else:\n",
    "            x = all_df[['{0}2'.format(iq_meas), \n",
    "                        '{0}2XSex'.format(iq_meas), \n",
    "                        '{0}2XClass'.format(iq_meas),\n",
    "                        '{0}2XClassXSex'.format(iq_meas)] + covariates]\n",
    "        x = sm.add_constant(x)\n",
    "        reg1 = sm.OLS(endog=y, \n",
    "                      exog=x, \n",
    "                      missing='drop')\n",
    "        brain_on_post_iq = reg1.fit()\n",
    "        brainXIQ_df.at[('post', iq_meas), 'F-statistic'] = brain_on_post_iq.fvalue\n",
    "        brainXIQ_df.at[('post', iq_meas), 'Prob (F-statistic)'] = brain_on_post_iq.f_pvalue\n",
    "        brainXIQ_df.at[('post', iq_meas), 'AIC'] = brain_on_post_iq.aic\n",
    "        brainXIQ_df.at[('post', iq_meas), 'BIC'] = brain_on_post_iq.bic\n",
    "        brainXIQ_df.at[('post', iq_meas), '{0}_IQ_pval'.format(outcomes[i])] = brain_on_post_iq.pvalues[1]\n",
    "        brainXIQ_df.at[('post', iq_meas), '{0}_IQXClass_pval'.format(outcomes[i])] = brain_on_post_iq.pvalues[2]\n",
    "        if brain_on_post_iq.f_pvalue < all_mc_alpha and brain_on_post_iq.pvalues['{0}2'.format(iq_meas)] < 0.05:\n",
    "            print(brain_on_post_iq.summary())\n",
    "        #print('Course grade regressed on post IQ, female students\\n', grade_on_iq.summary())\n",
    "        \n",
    "        if outcomes[0][:-9][-4:] != 'rest':\n",
    "            x = all_df[['delta{0}'.format(iq_meas), \n",
    "                        #'delta{0}XSex'.format(iq_meas), \n",
    "                        #'delta{0}XClass'.format(iq_meas), \n",
    "                        #'delta{0}XClassXSex'.format(iq_meas), \n",
    "                        '{0} fd'.format(outcomes[i][:-9])] + covariates\n",
    "                      ]\n",
    "        else:\n",
    "            x = all_df[['delta{0}'.format(iq_meas), \n",
    "                        #'delta{0}XSex'.format(iq_meas), \n",
    "                        #'delta{0}XClass'.format(iq_meas),\n",
    "                        '#delta{0}XClassXSex'.format(iq_meas)] + covariates\n",
    "                      ]\n",
    "        x = sm.add_constant(x)\n",
    "        reg1 = sm.OLS(endog=y, \n",
    "                      exog=x, \n",
    "                      missing='drop')\n",
    "        brain_on_delta_iq = reg1.fit()\n",
    "        brainXIQ_df.at[('delta', iq_meas), 'F-statistic'] = brain_on_delta_iq.fvalue\n",
    "        brainXIQ_df.at[('delta', iq_meas), 'Prob (F-statistic)'] = brain_on_delta_iq.f_pvalue\n",
    "        brainXIQ_df.at[('delta', iq_meas), 'AIC'] = brain_on_delta_iq.aic\n",
    "        brainXIQ_df.at[('delta', iq_meas), 'BIC'] = brain_on_delta_iq.bic\n",
    "        brainXIQ_df.at[('delta', iq_meas), '{0}_IQ_pval'.format(outcomes[i])] = brain_on_delta_iq.pvalues[1]\n",
    "        brainXIQ_df.at[('delta', iq_meas), '{0}_IQXClass_pval'.format(outcomes[i])] = brain_on_delta_iq.pvalues[2]\n",
    "        if brain_on_delta_iq.f_pvalue < all_mc_alpha and brain_on_delta_iq.pvalues['delta{0}'.format(iq_meas)] < 0.05:\n",
    "            print(brain_on_delta_iq.summary())\n",
    "    brainXIQ_df.to_csv(join(data_dir, 'rescored', 'iqX{0}_all.csv'.format(outcomes[i])))"
   ]
  },
  {
   "cell_type": "markdown",
   "metadata": {},
   "source": [
    "# Significant Results\n",
    "## Resting state\n",
    "None.\n",
    "## Retrieval\n",
    "### Physics\n",
    "Post Full Scale IQ & Post Charpath, Efficiency: IQ, Sex, Class, and all interactions.<br>\n",
    "Post Perceptual Reasoning & Post Charpath: IQXSex, IQXSexXClass, SexXClass<br>\n",
    "Delta Perceptual Reasoning & Post Charpath ($\\alpha$ < 0.05): IQXSec, IQXSexXClass, SexXClass.\n",
    "### General\n",
    "Delta Perceptual Reasoning & Post Charpath, Efficiency: IQXSexXClass.\n",
    "\n",
    "## Reasoning\n",
    "### Transitive Inference\n",
    "Delta Perceptual Reasoning & Pre Charpath, Efficiency: Class, SexXClass.<br>\n",
    "Pre Working Memory & Delta Charpath, Efficiency: IQ, Sex, Class, and all interactions.<br>\n",
    "### Baseline\n",
    "Pre Verbal Comprehension & Pre Charpath, Efficiency (not all $\\alpha$ < 0.01): IQ, Sex, Class, and all interactions.<br>\n",
    "Pre Full Scale IQ & Pre Charpath, Efficiency (not all $\\alpha$ < 0.01): IQ, IQxSex, Sex.<br>\n",
    "Pre Full Scale IQ & Post Charpath, Efficiency ($\\alpha$ < 0.05): IQXSex, IQXClass, IQXSexXClass, Sex, Class (eff only), SexXClass (chl only).<br>\n",
    "\n",
    "## Force Concept Inventory\n",
    "### FCI Questions\n",
    "Post Full Scale IQ & Post Efficiency: IQ, Sex, Class, and all the interactions.<br>\n",
    "Post Full Scale IQ & Post Charpath: IQXSex, IQXClass•, IQXSexXClass, Sex•, SexXClass.<br>\n",
    "Delta Full Scale IQ & Post Efficiency: IQ, IQXSex, IQXClass•, IQXSexXClass.<br>\n",
    "Post Pereptual Reasoning & Post Efficiency: IQXSex•, IQXSexXClass, Sex•, SexXClass•.<br>\n",
    "Post Perceptual Reasoning & Post Charpath: IQXSex, IQXClass•, IQXSexXClass, Sex*, SexXClass.<br>\n",
    "Delta Perceptual Reasoning & Post Charpath, Efficiency: IQ, IQXSex, IQXClass, IQXSexXClass.<br>\n",
    "### Baseline Questions\n",
    "Post Full Scale IQ & Post Charpath, Efficiency ($\\alpha$ < 0.05): IQXSex, Sex."
   ]
  },
  {
   "cell_type": "markdown",
   "metadata": {},
   "source": [
    "# time for figures!"
   ]
  },
  {
   "cell_type": "code",
   "execution_count": null,
   "metadata": {},
   "outputs": [],
   "source": [
    "crayons_l = sns.crayon_palette(['Vivid Tangerine', 'Cornflower'])\n",
    "crayons_d = sns.crayon_palette(['Brick Red', 'Midnight Blue'])\n",
    "\n",
    "f = sns.diverging_palette(8.2, 44, s=85, l=50, n=200)\n",
    "m = sns.diverging_palette(243, 278, s=85, l=50, n=200)\n",
    "\n",
    "f_2 = sns.crayon_palette(['Red Orange', 'Vivid Tangerine'])\n",
    "m_2 = sns.crayon_palette(['Cerulean', 'Cornflower'])"
   ]
  },
  {
   "cell_type": "markdown",
   "metadata": {},
   "source": [
    "# Physics Retrieval & PRIQ"
   ]
  },
  {
   "cell_type": "code",
   "execution_count": null,
   "metadata": {},
   "outputs": [],
   "source": [
    "h = sns.lmplot('PRI2', 'post phys retr shen cpl', data=df_m, hue='Mod', \n",
    "           palette=m_2, legend_out=True, height=10., )\n",
    "\n",
    "h.set_xlabels('Post-instruction perceptual reasoning')\n",
    "h.set_ylabels('Post-instruction characteristic path length')\n",
    "h.savefig(join(fig_dir, 'RETR_phys_post-cplXpost-priq_m.png'), dpi=300)"
   ]
  },
  {
   "cell_type": "code",
   "execution_count": null,
   "metadata": {},
   "outputs": [],
   "source": [
    "h = sns.lmplot('PRI2', 'post phys retr shen cpl', data=df_f, hue='Mod', \n",
    "           palette=f_2, legend_out=True, height=10.)\n",
    "\n",
    "h.set_xlabels('Post-instruction perceptual reasoning')\n",
    "h.set_ylabels('Post-instruction characteristic path length')\n",
    "h.savefig(join(fig_dir, 'RETR_phys_post-cplXpost-priq_f.png'), dpi=300)"
   ]
  },
  {
   "cell_type": "markdown",
   "metadata": {},
   "source": [
    "# General retrieval and deltaPRIQ"
   ]
  },
  {
   "cell_type": "code",
   "execution_count": null,
   "metadata": {},
   "outputs": [],
   "source": [
    "h = sns.lmplot('deltaPRI', 'post gen retr shen mod', data=df_m, hue='Mod', \n",
    "           palette=m_2, legend_out=True, height=10.)\n",
    "\n",
    "h.set_xlabels('Change in perceptual reasoning')\n",
    "h.set_ylabels('Post-instruction network modularity')\n",
    "h.savefig(join(fig_dir, 'RETR_gen_post-modXdelta-priq_m.png'), dpi=300)"
   ]
  },
  {
   "cell_type": "code",
   "execution_count": null,
   "metadata": {},
   "outputs": [],
   "source": [
    "h = sns.lmplot('deltaPRI', 'post gen retr shen mod', data=df_f, hue='Mod', \n",
    "           palette=f_2, legend_out=True, height=10.)\n",
    "\n",
    "h.set_xlabels('Change in perceptual reasoning')\n",
    "h.set_ylabels('Post-instruction network modularity')\n",
    "h.savefig(join(fig_dir, 'RETR_gen_post-modXdelta-priq_f.png'), dpi=300)"
   ]
  },
  {
   "cell_type": "markdown",
   "metadata": {},
   "source": [
    "# Physics Retrieval & FSIQ"
   ]
  },
  {
   "cell_type": "code",
   "execution_count": null,
   "metadata": {},
   "outputs": [],
   "source": [
    "h = sns.lmplot('FSIQ2', 'post phys retr shen cpl', data=df_m, hue='Mod', \n",
    "           palette=m_2, legend_out=True, height=10.)\n",
    "\n",
    "h.set_xlabels('Post-instruction full-scale IQ')\n",
    "h.set_ylabels('Post-instruction network efficiency')\n",
    "h.savefig(join(fig_dir, 'RETR_phys_post-cplXpost-fsiq_m.png'), dpi=300)"
   ]
  },
  {
   "cell_type": "code",
   "execution_count": null,
   "metadata": {},
   "outputs": [],
   "source": [
    "h = sns.lmplot('FSIQ2', 'post phys retr shen cpl', data=df_m, hue='Mod', \n",
    "           palette=m_2, legend_out=True, height=10.)\n",
    "\n",
    "h.set_xlabels('Post-instruction full-scale IQ')\n",
    "h.set_ylabels('Post-instruction characteristic path length')\n",
    "#h.savefig(join(fig_dir, 'pre_prXpre_eff_inf-m.png'), dpi=300)"
   ]
  },
  {
   "cell_type": "code",
   "execution_count": null,
   "metadata": {},
   "outputs": [],
   "source": [
    "h = sns.lmplot('FSIQ2', 'post phys retr shen cpl', data=df_f, hue='Mod', \n",
    "           palette=f_2, legend_out=True, height=10.)\n",
    "\n",
    "h.set_xlabels('Post-instruction full-scale IQ')\n",
    "h.set_ylabels('Post-instruction network-efficiency')\n",
    "h.savefig(join(fig_dir, 'RETR_phys_post-cplXpost-fsiq_f.png'), dpi=300)"
   ]
  },
  {
   "cell_type": "code",
   "execution_count": null,
   "metadata": {},
   "outputs": [],
   "source": [
    "h = sns.lmplot('FSIQ2', 'post phys retr shen cpl', data=df_f, hue='Mod', \n",
    "           palette=f_2, legend_out=True, height=10.)\n",
    "\n",
    "h.set_xlabels('Post-instruction full-scale IQ')\n",
    "h.set_ylabels('Post-instruction characteristic path length')\n",
    "#h.savefig(join(fig_dir, 'pre_prXpre_eff_inf-m.png'), dpi=300)"
   ]
  },
  {
   "cell_type": "markdown",
   "metadata": {},
   "source": [
    "# FCI and PRIQ"
   ]
  },
  {
   "cell_type": "code",
   "execution_count": null,
   "metadata": {},
   "outputs": [],
   "source": [
    "h = sns.lmplot('PRI2', 'post phys fci shen cpl', data=df_f, hue='Mod', \n",
    "           palette=f_2, legend_out=True, height=10.)\n",
    "\n",
    "h.set_xlabels('Post-instruction perceptual reasoning')\n",
    "h.set_ylabels('Post-instruction characteristic path length')\n",
    "h.savefig(join(fig_dir, 'FCI_phys_post-cplXpost-priq_f.png'), dpi=300)"
   ]
  },
  {
   "cell_type": "code",
   "execution_count": null,
   "metadata": {},
   "outputs": [],
   "source": [
    "h = sns.lmplot('PRI2', 'post phys fci shen cpl', data=df_m, hue='Mod', \n",
    "           palette=m_2, legend_out=True, height=10.)\n",
    "\n",
    "h.set_xlabels('Post-instruction perceptual reasoning')\n",
    "h.set_ylabels('Post-instruction characteristic path length')\n",
    "h.savefig(join(fig_dir, 'FCI_phys_post-cplXpost-priq_m.png'), dpi=300)"
   ]
  },
  {
   "cell_type": "markdown",
   "metadata": {},
   "source": [
    "# FCI and FSIQ"
   ]
  },
  {
   "cell_type": "code",
   "execution_count": null,
   "metadata": {},
   "outputs": [],
   "source": [
    "h = sns.lmplot('FSIQ2', 'post phys fci shen cpl', data=df_m, hue='Mod', \n",
    "           palette=m_2, legend_out=True, height=10.)\n",
    "\n",
    "h.set_xlabels('Post-instruction full-scale IQ')\n",
    "h.set_ylabels('Post-instruction characteristic path length')\n",
    "h.savefig(join(fig_dir, 'FCI_phys_post-cplXpost-fsiq_m.png'), dpi=300)"
   ]
  },
  {
   "cell_type": "code",
   "execution_count": null,
   "metadata": {},
   "outputs": [],
   "source": [
    "h = sns.lmplot('FSIQ2', 'post phys fci shen cpl', data=df_f, hue='Mod', \n",
    "           palette=f_2, legend_out=True, height=10.)\n",
    "\n",
    "h.set_xlabels('Post-instruction full-scale IQ')\n",
    "h.set_ylabels('Post-instruction characteristic path length')\n",
    "h.savefig(join(fig_dir, 'FCI_phys_post-cplXpost-fsiq_f.png'), dpi=300)"
   ]
  },
  {
   "cell_type": "code",
   "execution_count": null,
   "metadata": {},
   "outputs": [],
   "source": [
    "h = sns.lmplot('deltaFSIQ', 'post phys fci shen eff', data=df_m, hue='Mod', \n",
    "           palette=m_2, legend_out=True, height=10.)\n",
    "\n",
    "h.set_xlabels('Change in full-scale IQ')\n",
    "h.set_ylabels('Post-instruction network efficiency')\n",
    "h.savefig(join(fig_dir, 'FCI_phys_post-effXdelta-fsiq_m.png'), dpi=300)"
   ]
  },
  {
   "cell_type": "code",
   "execution_count": null,
   "metadata": {},
   "outputs": [],
   "source": [
    "h = sns.lmplot('deltaPRI', 'post phys fci shen eff', data=df_m, hue='Mod', \n",
    "           palette=m_2, legend_out=True, height=10.)\n",
    "\n",
    "h.set_xlabels('Change in perceptual reasoning')\n",
    "h.set_ylabels('Post-instruction network efficiency')\n",
    "h.savefig(join(fig_dir, 'FCI_phys_post-effXdelta-priq_m.png'), dpi=300)"
   ]
  },
  {
   "cell_type": "code",
   "execution_count": null,
   "metadata": {},
   "outputs": [],
   "source": [
    "h = sns.lmplot('deltaFSIQ', 'post phys fci shen eff', data=df_f, hue='Mod', \n",
    "           palette=f_2, legend_out=True, height=10.)\n",
    "\n",
    "h.set_xlabels('Change in full-scale IQ')\n",
    "h.set_ylabels('Post-instruction network efficiency')\n",
    "h.savefig(join(fig_dir, 'FCI_phys_post-effXdelta-fsiq_f.png'), dpi=300)"
   ]
  },
  {
   "cell_type": "code",
   "execution_count": null,
   "metadata": {},
   "outputs": [],
   "source": [
    "h = sns.lmplot('deltaPRI', 'post phys fci shen eff', data=df_f, hue='Mod', \n",
    "           palette=f_2, legend_out=True, height=10.)\n",
    "\n",
    "h.set_xlabels('Change in perceptual reasoning')\n",
    "h.set_ylabels('Post-instruction network efficiency')\n",
    "h.savefig(join(fig_dir, 'FCI_phys_post-effXdelta-priq_f.png'), dpi=300)"
   ]
  },
  {
   "cell_type": "markdown",
   "metadata": {},
   "source": [
    "# Reasoning and WMIQ"
   ]
  },
  {
   "cell_type": "code",
   "execution_count": null,
   "metadata": {},
   "outputs": [],
   "source": [
    "h = sns.lmplot('WMI1', 'delta infr reas shen eff', data=df_f, hue='Mod', \n",
    "           palette=f_2, legend_out=True, height=10.)\n",
    "\n",
    "h.set_xlabels('Pre-instruction working memory')\n",
    "h.set_ylabels('Change in network efficiency')\n",
    "h.savefig(join(fig_dir, 'REAS_infr_delta-effXpre-wmiq_f.png'), dpi=300)"
   ]
  },
  {
   "cell_type": "code",
   "execution_count": null,
   "metadata": {},
   "outputs": [],
   "source": [
    "h = sns.lmplot('WMI1', 'delta infr reas shen eff', data=df_m, hue='Mod', \n",
    "           palette=m_2, legend_out=True, height=10.)\n",
    "\n",
    "h.set_xlabels('Pre-instruction working memory')\n",
    "h.set_ylabels('Change in network efficiency')\n",
    "h.savefig(join(fig_dir, 'REAS_infr_delta-effXpre-wmiq_m.png'), dpi=300)"
   ]
  },
  {
   "cell_type": "code",
   "execution_count": null,
   "metadata": {},
   "outputs": [],
   "source": [
    "import seaborn as sns\n",
    "sns.set()"
   ]
  },
  {
   "cell_type": "code",
   "execution_count": null,
   "metadata": {},
   "outputs": [],
   "source": []
  }
 ],
 "metadata": {
  "kernelspec": {
   "display_name": "Python 2",
   "language": "python",
   "name": "python2"
  },
  "language_info": {
   "codemirror_mode": {
    "name": "ipython",
    "version": 2
   },
   "file_extension": ".py",
   "mimetype": "text/x-python",
   "name": "python",
   "nbconvert_exporter": "python",
   "pygments_lexer": "ipython2",
   "version": "2.7.11"
  }
 },
 "nbformat": 4,
 "nbformat_minor": 4
}
