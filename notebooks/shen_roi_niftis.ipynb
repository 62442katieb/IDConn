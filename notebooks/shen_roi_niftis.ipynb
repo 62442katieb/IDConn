{
 "cells": [
  {
   "cell_type": "code",
   "execution_count": 2,
   "metadata": {},
   "outputs": [],
   "source": [
    "import numpy as np\n",
    "import nibabel as nib\n",
    "from os.path import join\n",
    "from nilearn import plotting"
   ]
  },
  {
   "cell_type": "code",
   "execution_count": 28,
   "metadata": {},
   "outputs": [],
   "source": [
    "roi_dir = '/Users/katherine/Dropbox/Data/templates/shen2015/'\n",
    "shen_file = '/Users/katherine/Dropbox/Projects/physics-retrieval/shen2015_2mm_268_parcellation.nii.gz'\n",
    "shen = nib.load(shen_file)\n",
    "shen_arr = shen.get_fdata()"
   ]
  },
  {
   "cell_type": "code",
   "execution_count": 29,
   "metadata": {},
   "outputs": [
    {
     "data": {
      "text/plain": [
       "array([[  -2.,   -0.,   -0.,   90.],\n",
       "       [  -0.,    2.,   -0., -126.],\n",
       "       [   0.,    0.,    2.,  -72.],\n",
       "       [   0.,    0.,    0.,    1.]])"
      ]
     },
     "execution_count": 29,
     "metadata": {},
     "output_type": "execute_result"
    }
   ],
   "source": [
    "shen.affine"
   ]
  },
  {
   "cell_type": "code",
   "execution_count": 30,
   "metadata": {},
   "outputs": [],
   "source": [
    "for i in np.arange(1,269):\n",
    "    roi = np.where(shen_arr==i, 1, 0)\n",
    "    roi = nib.Nifti1Image(roi, shen.affine)\n",
    "    roi.to_filename(join(roi_dir, 'roi{0}.nii.gz'.format(i)))"
   ]
  }
 ],
 "metadata": {
  "kernelspec": {
   "display_name": "Python 3",
   "language": "python",
   "name": "python3"
  },
  "language_info": {
   "codemirror_mode": {
    "name": "ipython",
    "version": 3
   },
   "file_extension": ".py",
   "mimetype": "text/x-python",
   "name": "python",
   "nbconvert_exporter": "python",
   "pygments_lexer": "ipython3",
   "version": "3.7.6"
  }
 },
 "nbformat": 4,
 "nbformat_minor": 2
}
