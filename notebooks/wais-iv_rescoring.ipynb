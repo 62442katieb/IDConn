{
 "cells": [
  {
   "cell_type": "code",
   "execution_count": 1,
   "metadata": {},
   "outputs": [],
   "source": [
    "import numpy as np\n",
    "import pandas as pd\n",
    "import seaborn as sns\n",
    "from os.path import join"
   ]
  },
  {
   "cell_type": "code",
   "execution_count": 2,
   "metadata": {},
   "outputs": [],
   "source": [
    "data_dir = '/Users/Katie/Dropbox/Projects/physics-retrieval/data'"
   ]
  },
  {
   "cell_type": "code",
   "execution_count": 3,
   "metadata": {},
   "outputs": [],
   "source": [
    "pre_IQ = pd.read_csv('/Users/Katie/Dropbox/Physics Learning/PhysicsLearning_FullScaleIQ+SCALED.csv', \n",
    "                     index_col=0, header=0)\n",
    "post_IQ = pd.read_csv('/Users/Katie/Dropbox/Physics Learning/PhysicsLearning_FullScaleIQ2+SCALED.csv', \n",
    "                     index_col=0, header=0)"
   ]
  },
  {
   "cell_type": "code",
   "execution_count": 5,
   "metadata": {},
   "outputs": [],
   "source": [
    "pre_IQ['VCI1'] = pre_IQ['Verbal Comprehension Sum_1'].replace({17:76, 18:78, 19:80, 20:81, -29997:np.nan,\n",
    "                                                              21:83, 22:85, 23:87, 24:89, 25:91,\n",
    "                                                              26:93, 27:95, 28:96, 29:98, 30:100,\n",
    "                                                              31:102, 32:103, 33:105, 34:107, 35:108,\n",
    "                                                              36:110, 37:112, 38:114, 39:116, 40:118, \n",
    "                                                              41:120, 42:122, 43:125, 44:127, 45:130,\n",
    "                                                              46:132, 47:134, 48:136, 49:138, 50:141})\n",
    "pre_IQ['PRI1'] = pre_IQ['Perceptual Reasoning Sum_1'].replace({20:81, 21:82, 22:84, 23:86, 24:88, 25:90,\n",
    "                                                              26:92, 27:94, 28:96, 29:98, 30:100, \n",
    "                                                              31:102, 32:104, 33:105, 34:107, 35:109, \n",
    "                                                              36:111, 37:113, 38:115, 39:117, 40:119, \n",
    "                                                              41:121, 42:123, 43:125, 44:127, 45:129,\n",
    "                                                              -19990:np.nan, -9974:np.nan, -9967:np.nan})\n",
    "pre_IQ['WMI1'] = pre_IQ['Working Memory Sum_1'].replace({13:80, 14:83, 15:86, 12:77,\n",
    "                                                        16:89, 17:92, 18:95, 19:97, 20:100,\n",
    "                                                        21:102, 22:105, 23:105, 24:108, 25:114, \n",
    "                                                        26:117, 27:119, 28:122, 29:125, 30:128, \n",
    "                                                         31:131, 32:133, 33:136, 34:139,\n",
    "                                                        -19998:np.nan, -9991:np.nan})\n",
    "pre_IQ['PSI1'] = pre_IQ['Processing Speed Sum_1'].replace({13:81, 14:84, 15:86, 10:74, 11:76, 12:79,\n",
    "                                                          16:89, 17:92, 18:94, 19:97, 20:100,\n",
    "                                                          21:102, 22:105, 23:108, 24:111, 25:114,\n",
    "                                                          26:117, 27:120, 28:122, 29:124, 30:127, \n",
    "                                                          31:129, 32:132, 33:135, -19998:np.nan})"
   ]
  },
  {
   "cell_type": "code",
   "execution_count": 6,
   "metadata": {},
   "outputs": [],
   "source": [
    "pre_IQ['FSIQ1'] = pre_IQ['Full Scale IQ_1'].replace({70:79, 71:80, 72:80, 73:81, 74:82, 75:82, \n",
    "                                                         76:83, 77:84, 78:84, 79:85, 80:86,\n",
    "                                                         81:86, 82:87, 83:88, 84:89, 85:89,\n",
    "                                                         86:90, 87:91, 88:92, 89:92, 90:93, \n",
    "                                                         91:94, 92:94, 93:95, 94:96, 95:96, \n",
    "                                                         96:97, 97:98, 98:98, 99:99, 100:100,\n",
    "                                                         101:100, 102:101, 103:102, 104:102, 105:103,\n",
    "                                                         106:104, 107:104, 108:105, 109:106, 110:106,\n",
    "                                                         111:107, 112:108, 113:108, 114:109, 115:110,\n",
    "                                                         116:110, 117:111, 118:112, 119:112, 120:113, \n",
    "                                                         121:114, 122:115, 123:115, 124:116, 125:117, \n",
    "                                                         126:117, 127:118, 128:119, 129:120, 130:121,\n",
    "                                                         131:121, 132:122, 133:123, 134:124, \n",
    "                                                         -89983:np.nan, -9923:np.nan, -9879:np.nan, -9862:np.nan})"
   ]
  },
  {
   "cell_type": "code",
   "execution_count": 7,
   "metadata": {},
   "outputs": [],
   "source": [
    "post_IQ['VCI2'] = post_IQ['Verbal Comprehension Sum_2'].replace({17:76, 18:78, 19:80, 20:81, -29997:np.nan,\n",
    "                                                              21:83, 22:85, 23:87, 24:89, 25:91,\n",
    "                                                              26:93, 27:95, 28:96, 29:98, 30:100,\n",
    "                                                              31:102, 32:103, 33:105, 34:107, 35:108,\n",
    "                                                              36:110, 37:112, 38:114, 39:116, 40:118, \n",
    "                                                              41:120, 42:122, 43:125, 44:127, 45:130,\n",
    "                                                              46:132, 47:134, 48:136, 49:138, 50:141})\n",
    "post_IQ['PRI2'] = post_IQ['Perceptual Reasoning Sum_2'].replace({17:75, 18:77, 19:79,\n",
    "                                                                 20:81, 21:82, 22:84, 23:86, 24:88, 25:90,\n",
    "                                                                26:92, 27:94, 28:96, 29:98, 30:100, \n",
    "                                                                31:102, 32:104, 33:105, 34:107, 35:109,\n",
    "                                                                36:111, 37:113, 38:115, 39:117, 40:119,\n",
    "                                                                41:121, 42:123, 43:125, 44:127, 45:129, \n",
    "                                                                46:131, 47:133, 48:135, 49:136, 50:138,\n",
    "                                                                51:140, 52:142, 53:144, 54:146, 55:148, \n",
    "                                                                56: 149, -29997:np.nan})\n",
    "post_IQ['WMI2'] = post_IQ['Working Memory Sum_2'].replace({13:80, 14:83, 15:86, 12:77, 11:74, 10:71,\n",
    "                                                          16:89, 17:92, 18:95, 19:97, 20:100, 9:69,\n",
    "                                                          21:102, 22:105, 23:105, 24:108, 25:114,\n",
    "                                                          26:117, 27:119, 28:122, 29:125, 30:128, \n",
    "                                                          31:131, 32:133, -19998:np.nan, -9991:np.nan})\n",
    "post_IQ['PSI2'] = post_IQ['Processing Speed Sum_2'].replace({13:81, 14:84, 15:86,  10:74, 11:76, 12:79,\n",
    "                                                            16:89, 17:92, 18:94, 19:97, 20:100, 9:71,\n",
    "                                                            21:102, 22:105, 23:108, 24:111, 25:114,\n",
    "                                                            26:117, 27:120, 28:122, 29:124, 30:127,\n",
    "                                                            31:129, 32:132, 33:135, 34: 137, 35:140, \n",
    "                                                            36: 143, 37:146, -19998:np.nan})\n",
    "post_IQ['FSIQ2'] = post_IQ['Full Scale IQ_2'].replace({70:79, 71:80, 72:80, 73:81, 74:82, 75:82, \n",
    "                                                         76:83, 77:84, 78:84, 79:85, 80:86,\n",
    "                                                         81:86, 82:87, 83:88, 84:89, 85:89,\n",
    "                                                         86:90, 87:91, 88:92, 89:92, 90:93, \n",
    "                                                         91:94, 92:94, 93:95, 94:96, 95:96, \n",
    "                                                         96:97, 97:98, 98:98, 99:99, 100:100,\n",
    "                                                         101:100, 102:101, 103:102, 104:102, 105:103,\n",
    "                                                         106:104, 107:104, 108:105, 109:106, 110:106,\n",
    "                                                         111:107, 112:108, 113:108, 114:109, 115:110,\n",
    "                                                         116:110, 117:111, 118:112, 119:112, 120:113, \n",
    "                                                         121:114, 122:115, 123:115, 124:116, 125:117, \n",
    "                                                         126:117, 127:118, 128:119, 129:120, 130:121,\n",
    "                                                         131:121, 132:122, 133:123, 134:124, 135:125, \n",
    "                                                           136:126, 137:126, 138:127, 139:128, 140:129, \n",
    "                                                           141:130, 142:130, 143:131, 144:132, 145:133, \n",
    "                                                           146:133, 147:134, 148:135, 149:136, 150:136, \n",
    "                                                           151:137, 152:138, 153:139, 154:139, 155:140, \n",
    "                                                           156:141, -99990:np.nan})"
   ]
  },
  {
   "cell_type": "code",
   "execution_count": 8,
   "metadata": {},
   "outputs": [],
   "source": [
    "scaled_IQ = pd.concat([pre_IQ, post_IQ], axis=1)"
   ]
  },
  {
   "cell_type": "code",
   "execution_count": 9,
   "metadata": {},
   "outputs": [],
   "source": [
    "scaled_IQ['deltaVCI'] = scaled_IQ['VCI2'] - scaled_IQ['VCI1']\n",
    "scaled_IQ['deltaWMI'] = scaled_IQ['WMI2'] - scaled_IQ['WMI1']\n",
    "scaled_IQ['deltaPSI'] = scaled_IQ['PSI2'] - scaled_IQ['PSI1']\n",
    "scaled_IQ['deltaPRI'] = scaled_IQ['PRI2'] - scaled_IQ['PRI1']\n",
    "\n",
    "scaled_IQ['deltaFSIQ'] = scaled_IQ['FSIQ2'] - scaled_IQ['FSIQ1']"
   ]
  },
  {
   "cell_type": "code",
   "execution_count": 10,
   "metadata": {},
   "outputs": [],
   "source": [
    "scaled_IQ.drop(['Unnamed: 11', 'Unnamed: 12', 'Unnamed: 13', 'Unnamed: 14',\n",
    "                'VCI', 'PRI', 'WMI', 'PSI', 'FS-Scaled'], axis=1, inplace=True)\n"
   ]
  },
  {
   "cell_type": "code",
   "execution_count": 11,
   "metadata": {},
   "outputs": [],
   "source": [
    "from scipy.stats import ttest_ind, spearmanr, pearsonr, ttest_rel,  wilcoxon, mannwhitneyu"
   ]
  },
  {
   "cell_type": "code",
   "execution_count": 12,
   "metadata": {},
   "outputs": [
    {
     "name": "stdout",
     "output_type": "stream",
     "text": [
      "Verbal Comprehension:\n",
      " Ttest_relResult(statistic=2.452696072208642, pvalue=0.015764965318947315) \n",
      "Perceptual Reasoning:\n",
      " Ttest_relResult(statistic=6.0237373026743555, pvalue=2.4470247277988993e-08) \n",
      "Working Memory:\n",
      " Ttest_relResult(statistic=2.2308429221304045, pvalue=0.02775833265972842) \n",
      "Processing Speed:\n",
      " Ttest_relResult(statistic=6.974497573003799, pvalue=2.486372271470839e-10) \n",
      "\n",
      "Full Scale IQ:\n",
      " Ttest_relResult(statistic=8.983606607219501, pvalue=1.0843759585643286e-14)\n"
     ]
    }
   ],
   "source": [
    "print('Verbal Comprehension:\\n',ttest_rel(scaled_IQ['VCI2'], scaled_IQ['VCI1'], nan_policy='omit'),\n",
    "      '\\nPerceptual Reasoning:\\n',ttest_rel(scaled_IQ['PRI2'], scaled_IQ['PRI1'], nan_policy='omit'),\n",
    "      '\\nWorking Memory:\\n',ttest_rel(scaled_IQ['WMI2'], scaled_IQ['WMI1'], nan_policy='omit'),\n",
    "      '\\nProcessing Speed:\\n',ttest_rel(scaled_IQ['PSI2'], scaled_IQ['PSI1'], nan_policy='omit'),\n",
    "      '\\n\\nFull Scale IQ:\\n', ttest_rel(scaled_IQ['FSIQ2'], scaled_IQ['FSIQ1'], nan_policy='omit'))"
   ]
  },
  {
   "cell_type": "code",
   "execution_count": 13,
   "metadata": {},
   "outputs": [
    {
     "name": "stderr",
     "output_type": "stream",
     "text": [
      "/Library/Frameworks/Python.framework/Versions/3.7/lib/python3.7/site-packages/ipykernel_launcher.py:1: RuntimeWarning: invalid value encountered in less\n",
      "  \"\"\"Entry point for launching an IPython kernel.\n"
     ]
    }
   ],
   "source": [
    "scaled_IQ[scaled_IQ.values < 0] = np.nan"
   ]
  },
  {
   "cell_type": "code",
   "execution_count": 14,
   "metadata": {},
   "outputs": [],
   "source": [
    "scaled_IQ.to_csv(join(data_dir, 'wais-iv_rescored.csv'))"
   ]
  },
  {
   "cell_type": "code",
   "execution_count": 16,
   "metadata": {},
   "outputs": [
    {
     "data": {
      "text/plain": [
       "Verbal Comprehension Sum_1     49.0\n",
       "Perceptual Reasoning Sum_1     45.0\n",
       "Working Memory Sum_1           34.0\n",
       "Processing Speed Sum_1         33.0\n",
       "Full Scale IQ_1               134.0\n",
       "VCI1                          138.0\n",
       "PRI1                          129.0\n",
       "WMI1                          139.0\n",
       "PSI1                          135.0\n",
       "FSIQ1                         124.0\n",
       "Verbal Comprehension Sum_2     49.0\n",
       "Perceptual Reasoning Sum_2     56.0\n",
       "Working Memory Sum_2           32.0\n",
       "Processing Speed Sum_2         37.0\n",
       "Full Scale IQ_2               156.0\n",
       "VCI2                          138.0\n",
       "PRI2                          149.0\n",
       "WMI2                          133.0\n",
       "PSI2                          146.0\n",
       "FSIQ2                         141.0\n",
       "deltaVCI                       20.0\n",
       "deltaWMI                       23.0\n",
       "deltaPSI                       61.0\n",
       "deltaPRI                       38.0\n",
       "deltaFSIQ                      22.0\n",
       "dtype: float64"
      ]
     },
     "execution_count": 16,
     "metadata": {},
     "output_type": "execute_result"
    }
   ],
   "source": [
    "scaled_IQ.max()"
   ]
  },
  {
   "cell_type": "code",
   "execution_count": null,
   "metadata": {},
   "outputs": [],
   "source": []
  }
 ],
 "metadata": {
  "kernelspec": {
   "display_name": "Python 3",
   "language": "python",
   "name": "python3"
  },
  "language_info": {
   "codemirror_mode": {
    "name": "ipython",
    "version": 3
   },
   "file_extension": ".py",
   "mimetype": "text/x-python",
   "name": "python",
   "nbconvert_exporter": "python",
   "pygments_lexer": "ipython3",
   "version": "3.7.0"
  }
 },
 "nbformat": 4,
 "nbformat_minor": 2
}
