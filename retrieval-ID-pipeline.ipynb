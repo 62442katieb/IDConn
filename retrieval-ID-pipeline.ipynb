{
 "cells": [
  {
   "cell_type": "code",
   "execution_count": 1,
   "metadata": {},
   "outputs": [],
   "source": [
    "from __future__ import division\n",
    "from os.path import join, basename, exists\n",
    "from os import makedirs\n",
    "from glob import glob\n",
    "\n",
    "import matplotlib.pyplot as plt\n",
    "%matplotlib inline\n",
    "\n",
    "from nilearn import input_data, datasets, plotting, regions\n",
    "from nilearn.image import concat_imgs\n",
    "from nilearn.input_data import NiftiLabelsMasker\n",
    "from nilearn.connectome import ConnectivityMeasure\n",
    "from scipy.stats import pearsonr\n",
    "\n",
    "import nipype.pipeline.engine as pe\n",
    "import nipype.interfaces.io as nio\n",
    "import nipype.interfaces.utility as util\n",
    "from nipype.interfaces.fsl import InvWarp\n",
    "\n",
    "import bct\n",
    "import json\n",
    "import numpy as np\n",
    "import pandas as pd"
   ]
  },
  {
   "cell_type": "markdown",
   "metadata": {},
   "source": [
    "## Preprocessing \n",
    "Largely following the Westphal et al. (2017) paper, but taking into account the things that Dani Bassett does in her papers (which I still need to look into).\n",
    "### Preprocessing methods per Westphal et al., 2017\n",
    "Whole-brain MRI was administered on a 3.0 Tesla Siemens TIM Trio scanner at the UCLA Staglin Center for Cognitive Neuroscience. Functional images were ac- quired using a T2*-weighted echoplanar imaging sequence (TR   2.0 s; TE   30 ms; flip angle   75°; FOV   19.2 cm; voxel resolution   3.0   3.0   3.7 mm; 33 interleaved axial slices). The first three volumes of each 239-volume run were discarded to ensure T1 stabilization.<br>Preprocessing was done in SPM8.\n",
    "1. Slice timing correction\n",
    "2. Motion correction\n",
    "3. Unwarping\n",
    "4. Coregistration to subject's T1\n",
    "5. Anatomical segmentation\n",
    "6. Spatial normalization to MNI template\n",
    "7. Spatial smoothing (6mm FWHM)\n",
    "8. High-pass filtering (236_s_)\n",
    "9. Timecourse per voxel demeaned\n",
    "<br>\n",
    "### Alterations made below\n",
    "Preprocessing was done with FSL tools in Nipype.\n",
    "3. No fieldmaps, so no unwarping... (look into this)\n",
    "7. No smoothing\n",
    "8. High pass filtering (??)\n",
    "9. Demeaning???"
   ]
  },
  {
   "cell_type": "code",
   "execution_count": 44,
   "metadata": {
    "collapsed": true
   },
   "outputs": [],
   "source": [
    "def preproc(data_dir, sink_dir, subject, run, highpass, masks, mask_names):\n",
    "    from nipype.interfaces.fsl import MCFLIRT, FLIRT, FNIRT, ExtractROI, ApplyWarp, MotionOutliers\n",
    "    from nipype.interfaces.utility import Function\n",
    "    from nilearn.plotting import plot_roi\n",
    "    from nilearn import input_data\n",
    "    \n",
    "    #WRITE A DARA GRABBER\n",
    "    def get_niftis(subject_id, data_dir, run):\n",
    "        from os.path import join, exists\n",
    "        t1 = join(data_dir, subject_id, 'session-1', 'anatomical', 'anatomical-0', 'anatomical.nii.gz')\n",
    "        #t1_brain_mask = join(data_dir, subject, 'session-1', 'anatomical', 'anatomical-0', 'fsl', 'anatomical-bet.nii.gz')\n",
    "        epi = join(data_dir, subject_id, 'session-1', 'retr', 'retr-{0}'.format(run), 'retr.nii.gz')\n",
    "        assert exists(t1), \"t1 does not exist\"\n",
    "        assert exists(epi), \"epi does not exist\"\n",
    "        standard = '/home/applications/fsl/5.0.8/data/standard/MNI152_T1_2mm.nii.gz'\n",
    "        return t1, epi, standard\n",
    "    \n",
    "    data = Function(function=get_niftis, input_names=[\"subject_id\", \"data_dir\", \"run\"],\n",
    "                            output_names=[\"t1\", \"bold\", \"standard\"])\n
    "    data.inputs.data_dir = data_dir\n",
    "    data.inputs.subject_id = subject\n",
    "    data.inputs.run = run\n",
    "    \n",
    "    grabber = data.run()\n",
    "    \n",
    "    qa1 = join(sink_dir, 'qa', '{0}_mni_flirt_{1}.png'.format(subject, run))\n",
    "    qa2 = join(sink_dir, 'qa', '{0}_mni_fnirt_{1}.png'.format(subject, run))\n",
    "    confound_file = join(data_dir, subject, 'session-1', 'retr', 'mni', 'confounds-{0}.csv'.format(run))\n",
    "    \n",
    "    #run motion correction\n",
    "    mcflirt = MCFLIRT(ref_vol=144, save_plots=True, output_type='NIFTI_GZ')\n",
    "    mcflirt.inputs.in_file = grabber.outputs.bold\n",
    "    mcflirt.inputs.out_file = join(data_dir, subject,'session-1', 'retr', 'mni', 'mcf-func-{0}.nii.gz'.format(run))\n",
    "    flirty = mcflirt.run()\n",
    "    \n",
    "    #motion outliers\n",
    "    mout = MotionOutliers(metric='fd')\n",
    "    mout.inputs.in_file = grabber.outputs.bold\n",
    "    moutliers = mout.run()\n",
    "    \n",
    "    #concatenate motion parameters and motion outliers to form confounds file\n",
    "    motion = np.genfromtxt(flirty.outputs.par_file)\n",
    "    outliers = np.genfromtxt(moutliers.outputs.out_file)\n",
    "    conf = np.hstack((motion, outliers))\n",
    "    np.savetxt(confound_file, conf, delimiter=',')\n",
    "    \n",
    "    #extract an example volume for normalization\n",
    "    ex_fun = ExtractROI(t_min=144, t_size=1)\n",
    "    ex_fun.inputs.in_file = flirty.outputs.out_file\n",
    "    ex_fun.inputs.roi_file = join(data_dir, subject,'session-1', 'retr', 'mni', 'example-func-{0}.nii.gz'.format(run))\n",
    "    fun = ex_fun.run()\n",
    "    \n",
    "    #two-step normalization with flirt and fnirt, outputting qa pix\n",
    "    flit = FLIRT(cost_func=\"corratio\", dof=7)\n",
    "    flit.inputs.reference = fun.outputs.roi_file\n",
    "    flit.inputs.in_file = grabber.outputs.t1\n",
    "    flit.inputs.out_file = join(data_dir, subject, 'session-1', 'retr', 'mni', 't1-flirt-func-{0}.nii.gz'.format(run))\n",
    "    flit.inputs.out_matrix_file = join(data_dir, subject, 'session-1', 'retr', 'mni', 't1-to-func-{0}.mat'.format(run))\n"
,    
    "    reg1 = flit.run()\n",
    "    #plot flirted t1 overlaid on example_func\n",
    "    plot_roi(reg1.outputs.out_file, bg_img=fun.outputs.roi_file, colorbar=True, draw_cross=False, output_file=qa1)\n",
    "    \n",
    "    perf = FNIRT(output_type='NIFTI_GZ')\n",
    "    perf.inputs.warped_file = join(data_dir, subject, 'session-1', 'retr', 'mni', 'mni-fnirt-t1-{0}.nii.gz'.format(run))\n",
    "    #perf.inputs.affine_file = reg1.outputs.out_matrix_file\n",
    "    perf.inputs.in_file = grabber.outputs.standard\n",
    "    perf.inputs.ref_file = grabber.outputs.t1\n",
    "    perf.inputs.fieldcoeff_file = join(data_dir, subject, 'session-1', 'retr', 'mni', 'mni-to-t1-warpcoeff-{0}.nii.gz'.format(run))\n",
    "    reg2 = perf.run()\n",
    "    #plot fnirted MNI overlaid on t1\n",
    "    plot_roi(reg2.outputs.warped_file, bg_img=grabber.outputs.t1, colorbar=True, draw_cross=False, output_file=qa2)\n",
    "    \n",
    "    xfmd_ntwks = []\n",
    "    for i in np.arange(0, len(masks)):\n",
    "        warp = ApplyWarp(interp=\"nn\", abswarp=True)\n",
    "        warp.inputs.in_file = masks[i]\n",
    "        warp.inputs.premat = reg1.outputs.out_matrix_file\n",
    "        warp.inputs.ref_file = grabber.outputs.t1\n",
    "        warp.inputs.field_file = reg2.outputs.field_file\n",
    "        net_warp = warp.run()\n",
    "        xfmd_ntwks.append(net_warp.outputs.out_file)\n",
    "        \n",
    "        qa_file = join(sink_dir, 'qa', '{0}_ntwk_qa_{1}-{2}.png'.format(subject, mask_names[i], run))\n",
    "\n",
    "        plotting.plot_roi(net_warp.outputs.out_file, bg_img=fun.outputs.roi_file, \n",
    "                          colorbar=True, vmin=0, vmax=18, draw_cross=False, output_file=qa_file)\n",
    "    \n",
    "    ntwk_masker = input_data.NiftiLabelsMasker(xfmd_ntwks[0], standardize=True, high_pass=highpass, t_r=2.0)\n",
    "    hippo_masker = input_data.NiftiLabelsMasker(xfmd_ntwks[1], standardize=True, high_pass=highpass, t_r=2.0)\n",
    "    \n",
    "    return flirty.outputs.out_file, confound_file, ntwk_masker, hippo_masker"
   ]
  },
  {
   "cell_type": "code",
   "execution_count": 28,
   "metadata": {
    "collapsed": false
   },
   "outputs": [
    {
     "name": "stdout",
     "output_type": "stream",
     "text": [
      "fnirt --aff=/Users/Katie/Dropbox/Data/hypothalamus/HIP007/H-tract-2016/struc2diff.mat --in=/Users/Katie/Dropbox/Data/templates/Colin27_T1_seg_MNI-152.nii.gz --logout=/Users/Katie/Dropbox/Projects/physics-retrieval/scripts/idconn-retrieval/Colin27_T1_seg_MNI-152_log.txt --ref=/Users/Katie/Dropbox/Data/hypothalamus/HIP007/H-tract-2016/nodif.nii.gz --iout=/Users/Katie/Dropbox/Data/hypothalamus/HIP007/H-tract-2016/struc2diff.nii.gz\n",
      "applywarp --in=/Users/Katie/Dropbox/Projects/physics-retrieval/18-networks-5.14.nii.gz --ref=/Users/Katie/Dropbox/Data/hypothalamus/HIP007/H-tract-2016/nodif.nii.gz --out=/Users/Katie/Dropbox/Projects/physics-retrieval/scripts/idconn-retrieval/18-networks-5.14_warp.nii.gz --warp=/Users/Katie/Dropbox/Data/habenula/output/HIP002/reg/HIP002_anat2std_warp.nii.gz --interp=nn\n"
     ]
    }
   ],
   "source": [
    "from nipype.interfaces.fsl import MCFLIRT, FLIRT, FNIRT, ExtractROI, ApplyWarp, MotionOutliers\n",
    "standard = '/Users/Katie/Dropbox/Data/templates/Colin27_T1_seg_MNI-152.nii.gz'\n",
    "perf = FNIRT(output_type='NIFTI_GZ')\n",
    "perf.inputs.warped_file = '/Users/Katie/Dropbox/Data/hypothalamus/HIP007/H-tract-2016/struc2diff.nii.gz'\n",
    "perf.inputs.affine_file = '/Users/Katie/Dropbox/Data/hypothalamus/HIP007/H-tract-2016/struc2diff.mat'\n",
    "perf.inputs.in_file = standard\n",
    "perf.inputs.ref_file = '/Users/Katie/Dropbox/Data/hypothalamus/HIP007/H-tract-2016/nodif.nii.gz'\n",
    "#perf.inputs.fieldcoeff_file = join(data_dir, '101', 'session-1', 'retr', 'mni', 'mni-fnirt-func-1-coeff.nii.gz')\n",
    "print perf.cmdline\n",
    "\n",
    "warp = ApplyWarp(interp='nn')\n",
    "warp.inputs.in_file = masks[0]\n",
    "warp.inputs.ref_file = '/Users/Katie/Dropbox/Data/hypothalamus/HIP007/H-tract-2016/nodif.nii.gz'\n",
    "warp.inputs.field_file = '/Users/Katie/Dropbox/Data/habenula/output/HIP002/reg/HIP002_anat2std_warp.nii.gz'\n",
    "print warp.cmdline"
   ]
  },
  {
   "cell_type": "markdown",
   "metadata": {
    "collapsed": true
   },
   "source": [
    "#data grabbing function\n",
    "def get_niftis(data_dir, subject_id, session, task):\n",
    "    from os.path import join, exists\n",
    "    t1 = join(data_dir, subject_id, 'T1W', 'anat.nii.gz')\n",
    "    epi1 = join(data_dir, subject_id, 'session-{0}'.format(session-1), task, '{0}-0'.format(task), '{0}-5mm.feat'.format(task), 'filtered_func_data.nii.gz')\n",
    "    epi2 = join(data_dir, subject_id, 'session-{0}'.format(session-1), task, '{0}-1'.format(task), '{0}-5mm.feat'.format(task), 'filtered_func_data.nii.gz')\n",
    "\n",
    "    assert exists(t1), \"t1 does not exist\"\n",
    "    assert exists(epi1), \"epi does not exist\"\n",
    "    assert exists(epi2), \"epi does not exist\"\n",
    "    standard = '/home/applications/fsl/5.0.8/data/standard/MNI152_T1_2mm_brain.nii.gz'\n",
    "    return t1, epi1, epi2, standard"
   ]
  },
  {
   "cell_type": "code",
   "execution_count": 6,
   "metadata": {
    "collapsed": true
   },
   "outputs": [],
   "source": [
    "def mni_to_epi(data_dir, sink_dir, subject, run, masks, mask_names):\n",
    "    from nipype.interfaces.fsl import InvWarp, ApplyWarp\n",
    "    from nilearn import plotting\n",
    "    \n",
    "    example_func = join(data_dir, subject, 'session-1', 'retr', 'retr-{0}'.format(run), 'retr-5mm.feat', 'reg', 'example_func.nii.gz')\n",
    "    func_to_mni = join(data_dir, subject, 'session-1', 'retr', 'retr-{0}'.format(run), 'retr-5mm.feat', 'reg', 'example_func2standard_warp.nii.gz')\n",
    "    \n",
    "    \n",
    "    invwarp = InvWarp(output_type=\"NIFTI_GZ\")\n",
    "    invwarp.inputs.warp = func_to_mni\n",
    "    invwarp.inputs.reference = example_func\n",
    "    mni_warp = invwarp.run()\n",
    "    \n",
    "    xfmd_ntwks = []\n",
    "    \n",
    "    for i in np.arange(0, len(masks)):\n",
    "        applywarp = ApplyWarp(interp=\"nn\", abswarp=True)\n",
    "        applywarp.inputs.in_file = masks[i]\n",
    "        applywarp.inputs.ref_file = join(data_dir, subject, 'session-1', 'retr', 'retr-{0}'.format(run), 'retr-5mm.feat', 'reg', 'example_func.nii.gz')\n",
    "        applywarp.inputs.field_file = mni_warp.outputs.inverse_warp\n",
    "        network_warp = applywarp.run()\n",
    "        xfmd_ntwks.append(network_warp.outputs.out_file) \n",
    "        \n",
    "        qa_file = join(sink_dir, 'qa', '{0}_ntwk_qa_{1}.png'.format(subject, mask_names[i], run))\n",
    "\n",
    "        plotting.plot_roi(xfmd_ntwks, bg_img=example_func, cut_coords=(-2, 5, 40), \n",
    "                          colorbar=True, vmin=0, vmax=18, draw_cross=False, \n",
    "                          output_file=qa_file)\n",
    "    \n",
    "    return xfmd_ntwks"
   ]
  },
  {
   "cell_type": "code",
   "execution_count": 31,
   "metadata": {
    "collapsed": true
   },
   "outputs": [],
   "source": [
    "#choose your atlas and either fetch it from Nilearn using one of the the 'datasets' functions\n",
    "laird_2011_icns = '/home/data/nbc/physics-learning/retrieval-graphtheory/18-networks-5.14.nii.gz'\n",
    "#laird_2011_icns = '/Users/Katie/Dropbox/Projects/physics-retrieval/18-networks-5.14.nii.gz'\n",
    "#add labels for the parcellation\n",
    "labels = ['limbic', 'orbitofrontal', 'basal ganglia', 'salience', 'hunger', \n",
    "          'motor learning', 'frontoparietal', 'hand', 'motor execution', 'higher order visual', \n",
    "          'lateral visual', 'medial visual', 'default mode',' cerebellum', 'left central executive', \n",
    "          'auditory', 'mouth', 'right central executive']\n",
    "\n",
    "harvox_hippo = '/home/data/nbc/physics-learning/retrieval-graphtheory/harvox-hippo-prob50-2mm.nii.gz'\n",
    "masks = [laird_2011_icns, harvox_hippo]\n",
    "mask_names = ['18_icn', 'hippo']"
   ]
  },
  {
   "cell_type": "code",
   "execution_count": 8,
   "metadata": {
    "collapsed": false,
    "scrolled": true
   },
   "outputs": [
    {
     "data": {
      "image/png": "iVBORw0KGgoAAAANSUhEUgAAAxsAAAEyCAYAAACS4s0eAAAABHNCSVQICAgIfAhkiAAAAAlwSFlz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\n",
      "text/plain": [
       "<matplotlib.figure.Figure at 0x2b6c29f3aad0>"
      ]
     },
     "metadata": {},
     "output_type": "display_data"
    }
   ],
   "source": [
    "plotting.plot_roi(harvox_hippo, cut_coords=(-25, -10, -6), colorbar=True, vmin=0, vmax=2, draw_cross=False)\n",
    "plotting.show()"
   ]
  },
  {
   "cell_type": "code",
   "execution_count": null,
   "metadata": {
    "collapsed": true
   },
   "outputs": [],
   "source": [
    "plotting.plot_roi(laird_2011_icns, cut_coords=(-20, -10, 0, 10, 20, 30, 40, 50, 60, 70), \n",
    "                  display_mode='z', colorbar=True, vmin=0, vmax=20, draw_cross=False)"
   ]
  },
  {
   "cell_type": "code",
   "execution_count": null,
   "metadata": {
    "collapsed": true
   },
   "outputs": [],
   "source": [
    "#create your masker objects \n",
    "#(this is how to pull timeseries from niftis into arrays, based on your parcellations scheme)\n",
    "#one masker to pull out one signal per network (average of voxelwise signals across the network)\n",
    "#high and low-pass options are in Hertz\n",
    "\n",
    "network_masker = input_data.NiftiLabelsMasker(laird_2011_icns, standardize=True, high_pass=)\n",
    "hippo_masker = input_data.NiftiLabelsMasker(harvox_hippo, standardize=True)\n",
    "#one masker to pull out one signal per region (if applicable)\n",
    "#region_masker = input_data.NiftiLabelsMasker('/Users/Katie/Dropbox/Data/salience-anxiety-graph-theory/relabeled_yeo_atlas7_gt100.nii.gz', standardize=True)"
   ]
  },
  {
   "cell_type": "code",
   "execution_count": 4,
   "metadata": {
    "collapsed": true
   },
   "outputs": [],
   "source": [
    "#only want post subjects\n",
    "subjects = ['101', '102', '103', '104', '106', '107', '108', '110', '212',\n",
    "            '214', '215', '216', '217', '218', '219', '320', '321', '323',\n",
    "            '324', '325', '327', '328', '330', '331', '333', '334',\n",
    "            '335', '336', '337', '338', '339', '340', '341', '342', '343', '344',\n",
    "            '345', '346', '347', '348', '349', '350', '451', '453', '455',\n",
    "            '458', '459', '460', '462', '463', '464', '465', '467',\n",
    "            '468', '469', '470', '502', '503', '571', '572', '573', '574',\n",
    "            '577', '578', '581', '582', '584', '585', '586', '587',\n",
    "            '588', '589', '591', '592', '593', '594', '595', '596', '597',\n",
    "            '598', '604', '605', '606', '607', '608', '609', '610', '612',\n",
    "            '613', '614', '615', '617', '618', '619', '620', '621', '622',\n",
    "            '623', '624', '625', '626', '627', '629', '630', '631', '633',\n",
    "            '634']\n",
    "#all subjects 102 103 101 104 106 107 108 110 212 X213 214 215 216 217 218 219 320 321 X322 323 324 325 \n",
    "#327 328 X329 330 331 X332 333 334 335 336 337 338 339 340 341 342 343 344 345 346 347 348 349 350 451 \n",
    "#X452 453 455 X456 X457 458 459 460 462 463 464 465 467 468 469 470 502 503 571 572 573 574 X575 577 578 \n",
    "#X579 X580 581 582 584 585 586 587 588 589 X590 591 592 593 594 595 596 597 598 604 605 606 607 608 609 \n",
    "#610 X611 612 613 614 615 X616 617 618 619 620 621 622 623 624 625 626 627 X628 629 630 631 633 634\n",
    "#errors in fnirt-to-mni: 213, 322, 329, 332, 452, 456, 457, 575, 579, 580, 590, 611, 616, 628\n",
    "#subjects without post-IQ measure: 452, 461, 501, 575, 576, 579, 583, 611, 616, 628, 105, 109, 211, 213, 322, 326, 329, 332\n",
    "subjects = ['101', '102']"
   ]
  },
  {
   "cell_type": "code",
   "execution_count": 10,
   "metadata": {
    "collapsed": true
   },
   "outputs": [],
   "source": [
    "data_dir = '/home/data/nbc/physics-learning/data/pre-processed'\n",
    "sink_dir = '/home/data/nbc/physics-learning/retrieval-graphtheory/output'\n",
    "#sink_dir = '/Users/Katie/Dropbox/Projects/physics-retrieval/data/out'\n",
    "\n",
    "runs = [0, 1]\n",
    "connectivity_metric = 'correlation'\n",
    "networks = [12, 14, 17]\n",
    "conditions = ['phy', 'gen']\n",
    "thresh_range = np.arange(0.1, 1, 0.1)\n",
    "highpass = 1/55."
   ]
  },
  {
   "cell_type": "code",
   "execution_count": 6,
   "metadata": {
    "collapsed": true
   },
   "outputs": [],
   "source": [
    "#gen_timing = np.genfromtxt('/home/data/nbc/physics-learning/physics-learning/RETRconditionGeneralSess1.txt', \n",
    "#                           delimiter='\\t')\n",
    "gen_timing = np.genfromtxt('/home/data/nbc/physics-learning/retrieval-graphtheory/RETRconditionGeneralSess1.txt', \n",
    "                           delimiter='\\t', dtype=int)\n",
    "\n",
    "gen_timing = (gen_timing/2)-1\n",
    "gen_timing = gen_timing[:,0:2]\n",
    "\n",
    "#phy_timing = np.genfromtxt('/home/data/nbc/physics-learning/physics-learning/RETRconditionPhysicsSess1.txt', \n",
    "#                           delimiter='\\t')\n",
    "phy_timing = np.genfromtxt('/home/data/nbc/physics-learning/retrieval-graphtheory/RETRconditionPhysicsSess1.txt', \n",
    "                           delimiter='\\t')\n",
    "phy_timing = (phy_timing/2)-1\n",
    "phy_timing = phy_timing[:,0:2]\n",
    "timing = {}\n",
    "timing['phy'] = phy_timing\n",
    "timing['gen'] = gen_timing"
   ]
  },
  {
   "cell_type": "code",
   "execution_count": 7,
   "metadata": {
    "collapsed": true
   },
   "outputs": [],
   "source": [
    "df = pd.DataFrame({'global efficiency phy': np.empty([len(subjects),], dtype=float),\n",
    "                   'fc default mode-left central executive phy': np.empty([len(subjects),], dtype=float),\n",
    "                   'fc default mode-right central executive phy': np.empty([len(subjects),], dtype=float),\n",
    "                   'fc left central executive-right central executive phy': np.empty([len(subjects),], dtype=float),\n",
    "                   'fc hippo-default mode phy': np.empty([len(subjects),], dtype=float),\n",
    "                   'fc hippo-left central executive phy': np.empty([len(subjects),], dtype=float),\n",
    "                   'fc hippo-right central executive phy': np.empty([len(subjects),], dtype=float),\n",
    "                   'le default mode phy': np.empty([len(subjects),], dtype=float),\n",
    "                   'le right central executive phy': np.empty([len(subjects),], dtype=float),\n",
    "                   'le left central executive phy': np.empty([len(subjects),], dtype=float),\n",
    "                   'global efficiency gen': np.empty([len(subjects),], dtype=float),\n",
    "                   'fc default mode-left central executive gen': np.empty([len(subjects),], dtype=float),\n",
    "                   'fc default mode-right central executive gen': np.empty([len(subjects),], dtype=float),\n",
    "                   'fc left central executive-right central executive gen': np.empty([len(subjects),], dtype=float),\n",
    "                   'fc hippo-default mode gen': np.empty([len(subjects),], dtype=float),\n",
    "                   'fc hippo-left central executive gen': np.empty([len(subjects),], dtype=float),\n",
    "                   'fc hippo-right central executive gen': np.empty([len(subjects),], dtype=float),\n",
    "                   'le default mode gen': np.empty([len(subjects),], dtype=float),\n",
    "                   'le right central executive gen': np.empty([len(subjects),], dtype=float),\n",
    "                   'le left central executive gen': np.empty([len(subjects),], dtype=float)},\n",
    "                  index=subjects)"
   ]
  },
  {
   "cell_type": "code",
   "execution_count": 45,
   "metadata": {
    "collapsed": false
   },
   "outputs": [
    {
     "ename": "KeyboardInterrupt",
     "evalue": "",
     "output_type": "error",
     "traceback": [
      "\u001b[0;31m---------------------------------------------------------------------------\u001b[0m",
      "\u001b[0;31mKeyboardInterrupt\u001b[0m                         Traceback (most recent call last)",
      "\u001b[0;32m<ipython-input-45-c8bfad85b2ee>\u001b[0m in \u001b[0;36m<module>\u001b[0;34m()\u001b[0m\n\u001b[1;32m     10\u001b[0m             \u001b[0;31m#xfm laird 2011 maps to subject's epi space & define masker\u001b[0m\u001b[0;34m\u001b[0m\u001b[0;34m\u001b[0m\u001b[0m\n\u001b[1;32m     11\u001b[0m             epi_masks = preproc(data_dir=data_dir, sink_dir=sink_dir, subject=subject, \n\u001b[0;32m---> 12\u001b[0;31m                                 run=i, highpass=highpass, masks=masks, mask_names=mask_names)\n\u001b[0m\u001b[1;32m     13\u001b[0m             \u001b[0mnetwork_masker\u001b[0m \u001b[0;34m=\u001b[0m \u001b[0mepi_masks\u001b[0m\u001b[0;34m[\u001b[0m\u001b[0;36m2\u001b[0m\u001b[0;34m]\u001b[0m\u001b[0;34m\u001b[0m\u001b[0m\n\u001b[1;32m     14\u001b[0m             \u001b[0mhippo_masker\u001b[0m \u001b[0;34m=\u001b[0m \u001b[0mepi_masks\u001b[0m\u001b[0;34m[\u001b[0m\u001b[0;36m3\u001b[0m\u001b[0;34m]\u001b[0m\u001b[0;34m\u001b[0m\u001b[0m\n",
      "\u001b[0;32m<ipython-input-44-a4af368403fa>\u001b[0m in \u001b[0;36mpreproc\u001b[0;34m(data_dir, sink_dir, subject, run, highpass, masks, mask_names)\u001b[0m\n\u001b[1;32m     67\u001b[0m     \u001b[0mperf\u001b[0m\u001b[0;34m.\u001b[0m\u001b[0minputs\u001b[0m\u001b[0;34m.\u001b[0m\u001b[0mref_file\u001b[0m \u001b[0;34m=\u001b[0m \u001b[0mgrabber\u001b[0m\u001b[0;34m.\u001b[0m\u001b[0moutputs\u001b[0m\u001b[0;34m.\u001b[0m\u001b[0mt1\u001b[0m\u001b[0;34m\u001b[0m\u001b[0m\n\u001b[1;32m     68\u001b[0m     \u001b[0mperf\u001b[0m\u001b[0;34m.\u001b[0m\u001b[0minputs\u001b[0m\u001b[0;34m.\u001b[0m\u001b[0mfieldcoeff_file\u001b[0m \u001b[0;34m=\u001b[0m \u001b[0mjoin\u001b[0m\u001b[0;34m(\u001b[0m\u001b[0mdata_dir\u001b[0m\u001b[0;34m,\u001b[0m \u001b[0msubject\u001b[0m\u001b[0;34m,\u001b[0m \u001b[0;34m'session-1'\u001b[0m\u001b[0;34m,\u001b[0m \u001b[0;34m'retr'\u001b[0m\u001b[0;34m,\u001b[0m \u001b[0;34m'mni'\u001b[0m\u001b[0;34m,\u001b[0m \u001b[0;34m'mni-to-t1-warpcoeff-{0}.nii.gz'\u001b[0m\u001b[0;34m.\u001b[0m\u001b[0mformat\u001b[0m\u001b[0;34m(\u001b[0m\u001b[0mrun\u001b[0m\u001b[0;34m)\u001b[0m\u001b[0;34m)\u001b[0m\u001b[0;34m\u001b[0m\u001b[0m\n\u001b[0;32m---> 69\u001b[0;31m     \u001b[0mreg2\u001b[0m \u001b[0;34m=\u001b[0m \u001b[0mperf\u001b[0m\u001b[0;34m.\u001b[0m\u001b[0mrun\u001b[0m\u001b[0;34m(\u001b[0m\u001b[0;34m)\u001b[0m\u001b[0;34m\u001b[0m\u001b[0m\n\u001b[0m\u001b[1;32m     70\u001b[0m     \u001b[0;31m#plot fnirted MNI overlaid on t1\u001b[0m\u001b[0;34m\u001b[0m\u001b[0;34m\u001b[0m\u001b[0m\n\u001b[1;32m     71\u001b[0m     \u001b[0mplot_roi\u001b[0m\u001b[0;34m(\u001b[0m\u001b[0mreg2\u001b[0m\u001b[0;34m.\u001b[0m\u001b[0moutputs\u001b[0m\u001b[0;34m.\u001b[0m\u001b[0mwarped_file\u001b[0m\u001b[0;34m,\u001b[0m \u001b[0mbg_img\u001b[0m\u001b[0;34m=\u001b[0m\u001b[0mgrabber\u001b[0m\u001b[0;34m.\u001b[0m\u001b[0moutputs\u001b[0m\u001b[0;34m.\u001b[0m\u001b[0mt1\u001b[0m\u001b[0;34m,\u001b[0m \u001b[0mcolorbar\u001b[0m\u001b[0;34m=\u001b[0m\u001b[0mTrue\u001b[0m\u001b[0;34m,\u001b[0m \u001b[0mdraw_cross\u001b[0m\u001b[0;34m=\u001b[0m\u001b[0mFalse\u001b[0m\u001b[0;34m,\u001b[0m \u001b[0moutput_file\u001b[0m\u001b[0;34m=\u001b[0m\u001b[0mqa2\u001b[0m\u001b[0;34m)\u001b[0m\u001b[0;34m\u001b[0m\u001b[0m\n",
      "\u001b[0;32m/home/applications/anaconda2/4.3.1/lib/python2.7/site-packages/nipype/interfaces/base.py\u001b[0m in \u001b[0;36mrun\u001b[0;34m(self, **inputs)\u001b[0m\n\u001b[1;32m   1083\u001b[0m                         version=self.version)\n\u001b[1;32m   1084\u001b[0m         \u001b[0;32mtry\u001b[0m\u001b[0;34m:\u001b[0m\u001b[0;34m\u001b[0m\u001b[0m\n\u001b[0;32m-> 1085\u001b[0;31m             \u001b[0mruntime\u001b[0m \u001b[0;34m=\u001b[0m \u001b[0mself\u001b[0m\u001b[0;34m.\u001b[0m\u001b[0m_run_wrapper\u001b[0m\u001b[0;34m(\u001b[0m\u001b[0mruntime\u001b[0m\u001b[0;34m)\u001b[0m\u001b[0;34m\u001b[0m\u001b[0m\n\u001b[0m\u001b[1;32m   1086\u001b[0m             \u001b[0moutputs\u001b[0m \u001b[0;34m=\u001b[0m \u001b[0mself\u001b[0m\u001b[0;34m.\u001b[0m\u001b[0maggregate_outputs\u001b[0m\u001b[0;34m(\u001b[0m\u001b[0mruntime\u001b[0m\u001b[0;34m)\u001b[0m\u001b[0;34m\u001b[0m\u001b[0m\n\u001b[1;32m   1087\u001b[0m             \u001b[0mruntime\u001b[0m\u001b[0;34m.\u001b[0m\u001b[0mendTime\u001b[0m \u001b[0;34m=\u001b[0m \u001b[0mdt\u001b[0m\u001b[0;34m.\u001b[0m\u001b[0misoformat\u001b[0m\u001b[0;34m(\u001b[0m\u001b[0mdt\u001b[0m\u001b[0;34m.\u001b[0m\u001b[0mutcnow\u001b[0m\u001b[0;34m(\u001b[0m\u001b[0;34m)\u001b[0m\u001b[0;34m)\u001b[0m\u001b[0;34m\u001b[0m\u001b[0m\n",
      "\u001b[0;32m/home/applications/anaconda2/4.3.1/lib/python2.7/site-packages/nipype/interfaces/base.py\u001b[0m in \u001b[0;36m_run_wrapper\u001b[0;34m(self, runtime)\u001b[0m\n\u001b[1;32m   1726\u001b[0m \u001b[0;34m\u001b[0m\u001b[0m\n\u001b[1;32m   1727\u001b[0m     \u001b[0;32mdef\u001b[0m \u001b[0m_run_wrapper\u001b[0m\u001b[0;34m(\u001b[0m\u001b[0mself\u001b[0m\u001b[0;34m,\u001b[0m \u001b[0mruntime\u001b[0m\u001b[0;34m)\u001b[0m\u001b[0;34m:\u001b[0m\u001b[0;34m\u001b[0m\u001b[0m\n\u001b[0;32m-> 1728\u001b[0;31m         \u001b[0mruntime\u001b[0m \u001b[0;34m=\u001b[0m \u001b[0mself\u001b[0m\u001b[0;34m.\u001b[0m\u001b[0m_run_interface\u001b[0m\u001b[0;34m(\u001b[0m\u001b[0mruntime\u001b[0m\u001b[0;34m)\u001b[0m\u001b[0;34m\u001b[0m\u001b[0m\n\u001b[0m\u001b[1;32m   1729\u001b[0m         \u001b[0;32mreturn\u001b[0m \u001b[0mruntime\u001b[0m\u001b[0;34m\u001b[0m\u001b[0m\n\u001b[1;32m   1730\u001b[0m \u001b[0;34m\u001b[0m\u001b[0m\n",
      "\u001b[0;32m/home/applications/anaconda2/4.3.1/lib/python2.7/site-packages/nipype/interfaces/base.py\u001b[0m in \u001b[0;36m_run_interface\u001b[0;34m(self, runtime, correct_return_codes)\u001b[0m\n\u001b[1;32m   1757\u001b[0m                                                           runtime.environ))\n\u001b[1;32m   1758\u001b[0m         runtime = run_command(runtime, output=self.inputs.terminal_output,\n\u001b[0;32m-> 1759\u001b[0;31m                               redirect_x=self._redirect_x)\n\u001b[0m\u001b[1;32m   1760\u001b[0m         \u001b[0;32mif\u001b[0m \u001b[0mruntime\u001b[0m\u001b[0;34m.\u001b[0m\u001b[0mreturncode\u001b[0m \u001b[0;32mis\u001b[0m \u001b[0mNone\u001b[0m \u001b[0;32mor\u001b[0m\u001b[0;31m \u001b[0m\u001b[0;31m\\\u001b[0m\u001b[0;34m\u001b[0m\u001b[0m\n\u001b[1;32m   1761\u001b[0m                 \u001b[0mruntime\u001b[0m\u001b[0;34m.\u001b[0m\u001b[0mreturncode\u001b[0m \u001b[0;32mnot\u001b[0m \u001b[0;32min\u001b[0m \u001b[0mcorrect_return_codes\u001b[0m\u001b[0;34m:\u001b[0m\u001b[0;34m\u001b[0m\u001b[0m\n",
      "\u001b[0;32m/home/applications/anaconda2/4.3.1/lib/python2.7/site-packages/nipype/interfaces/base.py\u001b[0m in \u001b[0;36mrun_command\u001b[0;34m(runtime, output, timeout, redirect_x)\u001b[0m\n\u001b[1;32m   1490\u001b[0m             \u001b[0mproc\u001b[0m\u001b[0;34m.\u001b[0m\u001b[0mpoll\u001b[0m\u001b[0;34m(\u001b[0m\u001b[0;34m)\u001b[0m\u001b[0;34m\u001b[0m\u001b[0m\n\u001b[1;32m   1491\u001b[0m             \u001b[0m_process\u001b[0m\u001b[0;34m(\u001b[0m\u001b[0;34m)\u001b[0m\u001b[0;34m\u001b[0m\u001b[0m\n\u001b[0;32m-> 1492\u001b[0;31m             \u001b[0mtime\u001b[0m\u001b[0;34m.\u001b[0m\u001b[0msleep\u001b[0m\u001b[0;34m(\u001b[0m\u001b[0minterval\u001b[0m\u001b[0;34m)\u001b[0m\u001b[0;34m\u001b[0m\u001b[0m\n\u001b[0m\u001b[1;32m   1493\u001b[0m         \u001b[0m_process\u001b[0m\u001b[0;34m(\u001b[0m\u001b[0mdrain\u001b[0m\u001b[0;34m=\u001b[0m\u001b[0;36m1\u001b[0m\u001b[0;34m)\u001b[0m\u001b[0;34m\u001b[0m\u001b[0m\n\u001b[1;32m   1494\u001b[0m \u001b[0;34m\u001b[0m\u001b[0m\n",
      "\u001b[0;31mKeyboardInterrupt\u001b[0m: "
     ]
    }
   ],
   "source": [
    "for subject in subjects:\n",
    "    #print subject\n",
    "    if not exists(join(sink_dir, subject)):\n",
    "            makedirs(join(sink_dir, subject))\n",
    "    timeseries = {}\n",
    "    corrmats = {}\n",
    "    hippo = {}\n",
    "    for condition in conditions:\n",
    "        for i in np.arange(0, len(runs)): \n",
    "            #xfm laird 2011 maps to subject's epi space & define masker\n",
    "            epi_masks = preproc(data_dir=data_dir, sink_dir=sink_dir, subject=subject, \n",
    "                                run=i, highpass=highpass, masks=masks, mask_names=mask_names)\n",
    "            network_masker = epi_masks[2]\n",
    "            hippo_masker = epi_masks[3]\n",
    "            plotting.plot_roi(laird_2011_icns, bg_img=example_func, cut_coords=(-2, 5, 40), \n",
    "                          colorbar=True, vmin=0, vmax=18, draw_cross=False, \n",
    "                          output_file=qa_file)\n",
    "            \n",
    "            \n",
    "            #extract network-wise timeseries from nifti into array\n",
    "            run = join(data_dir, subject, 'session-1', 'retr', 'mni', '{0}_filtered_func_data_{1}.nii.gz'.format(subject, i))\n",
    "            ts = network_masker.fit_transform(run)\n",
    "            hippo_ts = hippo_masker.fit_transform(run)\n",
    "\n",
    "            #separate into different conditions\n",
    "            timeseries['{0} {1}'.format(condition, i)] = np.vstack((ts[timing[condition][0,0].astype(int):(timing[condition][0,0]+timing[condition][0,1]+1).astype(int), :], ts[timing[condition][1,0].astype(int):(timing[condition][1,0]+timing[condition][1,1]+1).astype(int), :], ts[timing[condition][2,0].astype(int):(timing[condition][2,0]+timing[condition][2,1]+1).astype(int), :]))\n",
    "            \n",
    "            #FOR SOME REASON, THIS CAUSES THEM TO BE HSTACKED? IDK WHAT'S GOING ON\n",
    "            hippo['{0} {1}'.format(condition, i)] = np.vstack((hippo_ts[timing[condition][0,0].astype(int):(timing[condition][0,0]+timing[condition][0,1]+1).astype(int)], hippo_ts[timing[condition][1,0].astype(int):(timing[condition][1,0]+timing[condition][1,1]+1).astype(int)], hippo_ts[timing[condition][2,0].astype(int):(timing[condition][2,0]+timing[condition][2,1]+1).astype(int)]))\n",
    "            #print 'ts has shape {0}'.format(hippo['{0} {1}'.format(condition, i)].shape)\n",
    "        #splice runs together\n",
    "        timeseries[condition] = np.vstack((timeseries['{0} 0'.format(condition)], timeseries['{0} 1'.format(condition)]))\n",
    "        #print 'ts {0} = {1}'.format(condition, timeseries[condition].shape)\n",
    "\n",
    "        #compute correlation matrices per condition per run\n",
    "        correlation_measure = ConnectivityMeasure(kind=connectivity_metric)\n",
    "        corrmats[condition] = correlation_measure.fit_transform([timeseries[condition]])[0]\n",
    "        np.savetxt(join(sink_dir, subject, '{0}-{1}-corrmat.csv'.format(subject, condition)), corrmats[condition])\n",
    "    \n",
    "        #populate df with network FC measures\n",
    "        hippo[condition] = np.vstack((hippo['{0} 0'.format(condition)], hippo['{0} 1'.format(condition)]))\n",
    "        #print 'fc default mode-left central executive {0}'.format(condition), corrmats[condition][12,14]\n",
    "        df.at[subject, 'fc default mode-left central executive {0}'.format(condition)] = corrmats[condition][12,14]\n",
    "        df.at[subject, 'fc default mode-right central executive {0}'.format(condition)] = corrmats[condition][12,17]\n",
    "        df.at[subject, 'fc left central executive-right central executive {0}'.format(condition)] = corrmats[condition][14,17]\n",
    "        \n",
    "        #and since we're here, calculate graph theory measures & populate df\n",
    "        ge = []\n",
    "        le = {}\n",
    "        loceff = {}\n",
    "        loceff['default mode'] = []\n",
    "        loceff['left central executive'] = []\n",
    "        loceff['right central executive'] = []\n",
    "        for p in thresh_range:\n",
    "            corrmat_thresh = bct.threshold_proportional(corrmats[condition], p, copy=True)\n",
    "            #measures of interest here\n",
    "            #global efficiency\n",
    "            geff = bct.efficiency_wei(corrmat_thresh)\n",
    "            ge.append(geff)\n",
    "\n",
    "            #local efficiency\n",
    "            leff = bct.efficiency_wei(corrmat_thresh, local=True)\n",
    "            #print leff[2]\n",
    "            for network in networks:\n",
    "                #print network\n",
    "                loceff[labels[network]].append(leff[network])\n",
    "                #loceff['{0}, {1}'.format(labels[network], condition)].append(leff[network])\n",
    "            #print loceff\n",
    "            le['{0}, {1}'.format(p, condition)] = loceff\n",
    "        \n",
    "        #print 'global efficiency is {0}'.format(ge)\n",
    "        df.at[subject, 'global efficiency {0}'.format(condition)] = np.trapz(ge, dx=0.1)\n",
    "        \n",
    "        #populate df with hippo-FCs and local efficiencies per network\n",
    "        for network in networks:\n",
    "            df.at[subject, 'le {0} {1}'.format(labels[network], condition)] = np.trapz(loceff[labels[network]], dx=0.1)\n",
    "            #calculate hippocampus-network correlations (FC) per network & populate df \n",
    "            network_ts = np.reshape(timeseries[condition][:,network], (84,1))\n",
    "            #print(network_ts.shape)\n",
    "            df.at[subject, 'fc hippo-{0} {1}'.format(labels[network], condition)] = pearsonr(hippo[condition], network_ts)[0]\n",
    "df.to_csv(join(sink_dir, 'out.csv'), sep=',')"
   ]
  },
  {
   "cell_type": "code",
   "execution_count": 42,
   "metadata": {
    "collapsed": false
   },
   "outputs": [
    {
     "data": {
      "text/plain": [
       "NiftiLabelsMasker(background_label=0, detrend=False,\n",
       "         high_pass=0.0181818181818,\n",
       "         labels_img=u'/home/kbott006/physics-retrieval/idconn-retrieval/18-networks-5.14_warp.nii.gz',\n",
       "         low_pass=None, mask_img=None, memory=Memory(cachedir=None),\n",
       "         memory_level=1, resampling_target='data', smoothing_fwhm=None,\n",
       "         standardize=True, t_r=2.0, verbose=0)"
      ]
     },
     "execution_count": 42,
     "metadata": {},
     "output_type": "execute_result"
    }
   ],
   "source": [
    "epi_masks[2]"
   ]
  },
  {
   "cell_type": "code",
   "execution_count": null,
   "metadata": {
    "collapsed": true
   },
   "outputs": [],
   "source": [
    "local_dir = '/Users/Katie/Dropbox/Projects/physics-retrieval/data/out/'\n",
    "phy = np.zeros((18, 18))\n",
    "gen = np.zeros((18, 18))\n",
    "\n",
    "for subject in subjects:\n",
    "    phy += np.genfromtxt(join(local_dir, subject, '{0}-phy-corrmat.csv'.format(subject)), delimiter=' ')\n",
    "    gen += np.genfromtxt(join(local_dir, subject, '{0}-gen-corrmat.csv'.format(subject)), delimiter=' ')\n",
    "phy_corrmat = phy / len(subjects)\n",
    "gen_corrmat = gen / len(subjects)\n",
    "\n",
    "dif_corrmat = phy_corrmat - gen_corrmat\n",
    "\n",
    "phy_corr_df = pd.DataFrame(phy_corrmat, index=labels, columns=labels)\n",
    "gen_corr_df = pd.DataFrame(gen_corrmat, index=labels, columns=labels)\n",
    "dif_corr_df = pd.DataFrame(dif_corrmat, index=labels, columns=labels)\n",
    "\n",
    "#np.savetxt(join(local_dir, 'avg_phys_corrmat.csv'), phy_corrmat, delimiter=',')\n",
    "#np.savetxt(join(local_dir, 'avg_gen_corrmat.csv'), gen_corrmat, delimiter=',')\n",
    "\n",
    "phy_corr_df.to_csv(join(local_dir, 'avg_phys_corrmat.csv'), sep=',')\n",
    "gen_corr_df.to_csv(join(local_dir, 'avg_gen_corrmat.csv'), sep=',')\n",
    "dif_corr_df.to_csv(join(local_dir, 'avg_dif_corrmat.csv'), sep=',')"
   ]
  },
  {
   "cell_type": "code",
   "execution_count": null,
   "metadata": {
    "collapsed": true
   },
   "outputs": [],
   "source": []
  },
  {
   "cell_type": "code",
   "execution_count": null,
   "metadata": {
    "collapsed": true
   },
   "outputs": [],
   "source": [
    "def adj_to_list(input_filename,output_filename,delimiter):\n",
    "    import pandas as pd\n",
    "    import numpy as np\n",
    "    import networkx as nx\n",
    "    import csv\n",
    "    '''https://github.com/jermainkaminski/Adjacency-Matrix-to-Edge-List/blob/master/adjacencymatrix_to_edgelist.ipynb'''\n",
    "    '''Takes the adjacency matrix on file input_filename into a list of edges and saves it into output_filename'''\n",
    "    A=pd.read_csv(input_filename,delimiter=delimiter,index_col=0)\n",
    "    List=[('Source','Target','Weight')]\n",
    "    for source in A.index.values:\n",
    "        for target in A.index.values:\n",
    "            List.append((target,source,A[source][target]))\n",
    "    with open(output_filename, \"wb\") as f:\n",
    "        writer = csv.writer(f)\n",
    "        writer.writerows(List)\n",
    "    return List"
   ]
  },
  {
   "cell_type": "code",
   "execution_count": null,
   "metadata": {
    "collapsed": true
   },
   "outputs": [],
   "source": [
    "phy_list = adj_to_list(join(local_dir, 'avg_phys_corrmat.csv'), join(local_dir, 'avg_phys_edges.csv'), ',')\n",
    "gen_list = adj_to_list(join(local_dir, 'avg_gen_corrmat.csv'), join(local_dir, 'avg_gen_edges.csv'), ',')\n",
    "dif_list = adj_to_list(join(local_dir, 'avg_dif_corrmat.csv'), join(local_dir, 'avg_dif_edges.csv'), ',')"
   ]
  },
  {
   "cell_type": "code",
   "execution_count": null,
   "metadata": {
    "collapsed": true
   },
   "outputs": [],
   "source": [
    "phy_list"
   ]
  },
  {
   "cell_type": "code",
   "execution_count": null,
   "metadata": {
    "collapsed": true
   },
   "outputs": [],
   "source": []
  }
 ],
 "metadata": {
  "anaconda-cloud": {},
  "kernelspec": {
   "display_name": "Python 2",
   "language": "python",
   "name": "python2"
  },
  "language_info": {
   "codemirror_mode": {
    "name": "ipython",
    "version": 2
   },
   "file_extension": ".py",
   "mimetype": "text/x-python",
   "name": "python",
   "nbconvert_exporter": "python",
   "pygments_lexer": "ipython2",
   "version": "2.7.13"
  }
 },
 "nbformat": 4,
 "nbformat_minor": 2
}
